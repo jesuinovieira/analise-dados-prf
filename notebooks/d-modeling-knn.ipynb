{
 "cells": [
  {
   "cell_type": "code",
   "execution_count": null,
   "metadata": {},
   "outputs": [],
   "source": [
    "# MODELING\n",
    "# --------------------------------------------------------------------------------------\n",
    "\n",
    "# Select modeling techniques: Determine which algorithms to try (e.g. regression, neural\n",
    "# net).\n",
    "# \n",
    "# Generate test design: Pending your modeling approach, you might need to split the data\n",
    "# into training, test, and validation sets.\n",
    "# \n",
    "# Build model: As glamorous as this might sound, this might just be executing a few\n",
    "# lines of code like “reg = LinearRegression().fit(X, y)”.\n",
    "# \n",
    "# Assess model: Generally, multiple models are competing against each other, and the\n",
    "# data scientist needs to interpret the model results based on domain knowledge, the\n",
    "# pre-defined success criteria, and the test design."
   ]
  },
  {
   "cell_type": "code",
   "execution_count": null,
   "metadata": {},
   "outputs": [],
   "source": [
    "# CONCLUSIONS\n",
    "# --------------------------------------------------------------------------------------\n",
    "\n",
    "# - ..."
   ]
  },
  {
   "cell_type": "code",
   "execution_count": 1,
   "metadata": {},
   "outputs": [],
   "source": [
    "import os\n",
    "import shutil\n",
    "\n",
    "import numpy as np\n",
    "import pandas as pd\n",
    "import plotly.graph_objects as go\n",
    "import plotly.subplots as sp\n",
    "from sklearn import metrics\n",
    "from sklearn.cluster import KMeans\n",
    "from sklearn.metrics import silhouette_score\n",
    "\n",
    "pd.set_option(\"display.max_columns\", None)\n",
    "YEAR = \"2021\"\n",
    "\n",
    "shutil.rmtree(f\"../output/d-modeling\")\n",
    "os.makedirs(f\"../output/d-modeling\", exist_ok=True)\n",
    "os.makedirs(f\"../data/d-modeling\", exist_ok=True)\n",
    "\n",
    "file = f\"../data/c-data-preparation/{YEAR}-raw.csv\"\n",
    "raw = pd.read_csv(file)\n",
    "\n",
    "file = f\"../data/c-data-preparation/{YEAR}-preprocessed.csv\"\n",
    "preprocessed = pd.read_csv(file)\n",
    "\n",
    "pd.set_option(\"display.expand_frame_repr\", False)"
   ]
  },
  {
   "cell_type": "code",
   "execution_count": 2,
   "metadata": {},
   "outputs": [
    {
     "name": "stdout",
     "output_type": "stream",
     "text": [
      "    dia_semana  uf     br     km              municipio                                     causa_acidente              tipo_acidente classificacao_acidente     fase_dia  sentido_via condicao_metereologica tipo_pista    tracado_via uso_solo  pessoas  mortos  feridos_leves  feridos_graves  ilesos  ignorados  feridos  veiculos   latitude  longitude regional delegacia             uop   ano  mes  dia  hora  minuto\n",
      "0  sexta-feira  PR  277.0   51.3   SAO JOSE DOS PINHAIS                                 Pista Escorregadia  Saída de leito carroçável    Com Vítimas Feridas    Pleno dia  Decrescente         Garoa/Chuvisco      Dupla          Curva      Não        4       0              1               0       3          0        1         3 -25.595160 -48.907008  SPRF-PR  DEL01-PR  UOP05-DEL01-PR  2021    1    1    15      45\n",
      "1  sexta-feira  SC  470.0   79.1                INDAIAL                             Transitar na contramão            Colisão frontal     Com Vítimas Fatais    Pleno dia    Crescente                Nublado    Simples           Reta      Não        9       2              5               1       0          1        6         3 -26.951565 -49.306534  SPRF-SC  DEL04-SC  UOP01-DEL04-SC  2021    1    1    17      10\n",
      "2  sexta-feira  SC  470.0  130.0                LONTRAS  Acessar a via sem observar a presença dos outr...        Colisão transversal    Com Vítimas Feridas  Plena Noite  Decrescente                Nublado    Simples  Não Informado      Sim        4       0              0               2       2          0        2         2 -27.160376 -49.556580  SPRF-SC  DEL04-SC  UOP02-DEL04-SC  2021    1    1    19      50\n",
      "3  sexta-feira  PR  116.0   59.0  CAMPINA GRANDE DO SUL                      Entrada inopinada do pedestre  Atropelamento de Pedestre     Com Vítimas Fatais  Plena Noite    Crescente                  Chuva      Dupla  Não Informado      Sim        2       1              0               0       1          0        0         1 -25.303357 -48.943789  SPRF-PR  DEL01-PR  UOP02-DEL01-PR  2021    1    1    20      40\n",
      "4       sábado  SC  101.0  112.0                 ITAJAI  Trafegar com motocicleta (ou similar) entre as...           Colisão traseira    Com Vítimas Feridas    Pleno dia  Decrescente                    Sol      Dupla  Não Informado      Não        4       0              1               1       2          0        2         3 -26.845890 -48.721313  SPRF-SC  DEL04-SC  UOP04-DEL04-SC  2021    1    2     9      25\n"
     ]
    }
   ],
   "source": [
    "print(raw.head())"
   ]
  },
  {
   "cell_type": "code",
   "execution_count": 3,
   "metadata": {},
   "outputs": [
    {
     "name": "stdout",
     "output_type": "stream",
     "text": [
      "   dia_semana   uf        br        km  municipio  causa_acidente  tipo_acidente  classificacao_acidente  fase_dia  sentido_via  condicao_metereologica  tipo_pista  tracado_via  uso_solo   pessoas    mortos  feridos_leves  feridos_graves    ilesos  ignorados   feridos  veiculos  latitude  longitude  regional  delegacia       uop  ano  mes       dia      hora    minuto\n",
      "0    0.666667  0.0  0.214286  0.070178   0.842825        0.735294         0.9375                     0.5  1.000000          1.0                0.222222         0.0     0.000000       0.0  0.056604  0.000000       0.029412        0.000000  0.065217   0.000000  0.027778  0.181818  0.741768   0.955800       0.0   0.000000  0.956044  0.0  0.0  0.000000  0.652174  0.762712\n",
      "1    0.666667  1.0  0.785714  0.108208   0.412301        0.941176         0.2500                     0.0  1.000000          0.0                0.777778         1.0     0.555556       0.0  0.150943  0.105263       0.147059        0.066667  0.000000   0.166667  0.166667  0.181818  0.617471   0.911375       1.0   0.392857  0.120879  0.0  0.0  0.000000  0.739130  0.169492\n",
      "2    0.666667  1.0  0.785714  0.177839   0.492027        0.000000         0.5000                     0.5  0.666667          1.0                0.777778         1.0     0.333333       1.0  0.056604  0.000000       0.000000        0.133333  0.043478   0.000000  0.055556  0.090909  0.598337   0.883571       1.0   0.392857  0.439560  0.0  0.0  0.000000  0.826087  0.847458\n",
      "3    0.666667  0.0  0.035714  0.080711   0.152620        0.397059         0.0625                     0.0  0.666667          0.0                0.000000         0.0     0.333333       1.0  0.018868  0.052632       0.000000        0.000000  0.021739   0.000000  0.000000  0.000000  0.768508   0.951710       0.0   0.000000  0.318681  0.0  0.0  0.000000  0.869565  0.677966\n",
      "4    0.833333  1.0  0.000000  0.153215   0.432802        0.911765         0.5625                     0.5  1.000000          1.0                0.888889         0.0     0.333333       0.0  0.056604  0.000000       0.029412        0.066667  0.043478   0.000000  0.055556  0.181818  0.627155   0.976448       1.0   0.392857  0.879121  0.0  0.0  0.033333  0.391304  0.423729\n"
     ]
    }
   ],
   "source": [
    "print(preprocessed.head())"
   ]
  },
  {
   "cell_type": "code",
   "execution_count": 7,
   "metadata": {},
   "outputs": [],
   "source": [
    "# Plotting clusters on a map\n",
    "# --------------------------------------------------------------------------------------\n",
    "\n",
    "def plot(df, labels, dst, title):\n",
    "    num_clusters = len(np.unique(labels))\n",
    "    color_scale = [\"hsl(\" + str(h) + \",50%\" + \",50%)\" for h in np.linspace(0, 360, num_clusters)]\n",
    "\n",
    "    fig = go.Figure()\n",
    "\n",
    "    for cluster_label, color in zip(np.unique(labels), color_scale):\n",
    "        # Skip noise\n",
    "        if cluster_label == -1:\n",
    "            continue\n",
    "\n",
    "        cluster_mask = labels == cluster_label\n",
    "        cluster_data = df[cluster_mask]\n",
    "\n",
    "        scatter = go.Scattermapbox(\n",
    "            lat=cluster_data.latitude,\n",
    "            lon=cluster_data.longitude,\n",
    "            mode=\"markers\",\n",
    "            marker=dict(size=7.5, color=color),\n",
    "            # text=f\"({cluster_label}) {cluster_data.causa_acidente}\",\n",
    "            text=f\"{cluster_label}\",\n",
    "            showlegend=False,\n",
    "        )\n",
    "\n",
    "        fig.add_trace(scatter)\n",
    "\n",
    "    fig.update_layout(\n",
    "        title=title,\n",
    "        title_x=0.95,\n",
    "        title_y=0.1,\n",
    "        mapbox_style=\"open-street-map\",\n",
    "        mapbox=dict(center=dict(lat=-28, lon=-52), zoom=5.5),\n",
    "        margin={\"l\": 0, \"r\": 0, \"t\": 0, \"b\": 0},\n",
    "    )\n",
    "\n",
    "    # fig.show()\n",
    "    fig.write_html(f\"{dst}.html\")"
   ]
  },
  {
   "cell_type": "code",
   "execution_count": null,
   "metadata": {},
   "outputs": [],
   "source": [
    "# Elbow method to determine the optimal number of clusters\n",
    "# --------------------------------------------------------------------------------------\n",
    "\n",
    "length = len(preprocessed)\n",
    "kmax = int(np.sqrt(length))\n",
    "kmin = 2\n",
    "ks = range(kmin, kmax)\n",
    "columns = [\"latitude\", \"longitude\"]\n",
    "X = preprocessed[columns]\n",
    "\n",
    "inertia = []\n",
    "silhouette = []\n",
    "\n",
    "for i, k in enumerate(ks):\n",
    "    print(f\"[{i + 1}] n_clusters: {k}\")\n",
    "\n",
    "    model = KMeans(n_clusters=k, random_state=42)\n",
    "    model.fit(X)\n",
    "    \n",
    "    inertia.append(model.inertia_)\n",
    "    silhouette.append(silhouette_score(X, model.labels_))"
   ]
  },
  {
   "cell_type": "code",
   "execution_count": null,
   "metadata": {},
   "outputs": [],
   "source": [
    "# Elbow method to determine the optimal number of clusters (plot)\n",
    "# --------------------------------------------------------------------------------------\n",
    "\n",
    "# Create subplots using make_subplots\n",
    "titles = (\"Inertia vs Number of Clusters\", \"Silhouette Score vs Number of Clusters\")\n",
    "fig = sp.make_subplots(rows=1, cols=2, subplot_titles=titles)\n",
    "\n",
    "# Plotting inertia values\n",
    "trace = go.Scatter(x=list(ks), y=inertia, mode=\"lines+markers\", name=\"Inertia\")\n",
    "fig.add_trace(trace, row=1, col=1)\n",
    "\n",
    "# Plotting silhouette scores\n",
    "trace = go.Scatter(x=list(ks), y=silhouette, mode=\"lines+markers\", name=\"Silhouette Score\")\n",
    "fig.add_trace(trace, row=1, col=2)\n",
    "\n",
    "fig.update_xaxes(title_text=\"Number of Clusters\", row=1, col=1)\n",
    "fig.update_yaxes(title_text=\"Inertia\", row=1, col=1)\n",
    "fig.update_xaxes(title_text=\"Number of Clusters\", row=1, col=2)\n",
    "fig.update_yaxes(title_text=\"Silhouette Score\", row=1, col=2)\n",
    "fig.update_layout(title=\"K-Means Clustering Evaluation: Elbow Method\", showlegend=False)\n",
    "\n",
    "fig.show()"
   ]
  },
  {
   "cell_type": "code",
   "execution_count": 8,
   "metadata": {},
   "outputs": [
    {
     "name": "stdout",
     "output_type": "stream",
     "text": [
      "k: 48\n",
      "-----\n",
      "Columns: ['latitude', 'longitude']\n",
      "Silhouette coefficient: 0.572\n",
      "\n",
      "k: 57\n",
      "-----\n",
      "Columns: ['latitude', 'longitude']\n",
      "Silhouette coefficient: 0.575\n",
      "\n",
      "k: 70\n",
      "-----\n",
      "Columns: ['latitude', 'longitude']\n",
      "Silhouette coefficient: 0.579\n",
      "\n"
     ]
    }
   ],
   "source": [
    "# Build top 3 models according to silhouette score\n",
    "# --------------------------------------------------------------------------------------\n",
    "\n",
    "ks = [48, 57, 70]\n",
    "for i, k in enumerate(ks):\n",
    "    header = f\"k: {k}\"\n",
    "    print(header)\n",
    "    print(\"-\" * len(header))\n",
    "    print(f\"Columns: {columns}\")\n",
    "\n",
    "    X = preprocessed[columns].values\n",
    "\n",
    "    model = KMeans(n_clusters=k, random_state=42)\n",
    "    model.fit(X)\n",
    "\n",
    "    # Number of clusters in labels\n",
    "    labels = model.labels_\n",
    "    score = metrics.silhouette_score(X, labels)\n",
    "\n",
    "    dst = f\"../output/d-modeling/{YEAR}-kmeans-{k}-{i}\"\n",
    "    title = (\n",
    "        f\"k: {k}, score: {score:.3f}<br>\"\n",
    "        f\"columns: {columns}\"\n",
    "    )\n",
    "\n",
    "    print(f\"Silhouette coefficient: {score:.3f}\\n\")\n",
    "    plot(raw, labels, dst, title)"
   ]
  },
  {
   "cell_type": "code",
   "execution_count": 11,
   "metadata": {},
   "outputs": [
    {
     "name": "stdout",
     "output_type": "stream",
     "text": [
      "k: 48\n",
      "-----\n",
      "Columns: ['latitude', 'longitude']\n",
      "Silhouette coefficient: 0.572\n",
      "\n"
     ]
    }
   ],
   "source": [
    "# Build final model: regioes\n",
    "# --------------------------------------------------------------------------------------\n",
    "\n",
    "k = 48\n",
    "columns = [\"latitude\", \"longitude\"]\n",
    "\n",
    "header = f\"k: {k}\"\n",
    "print(header)\n",
    "print(\"-\" * len(header))\n",
    "print(f\"Columns: {columns}\")\n",
    "\n",
    "X = preprocessed[columns].values\n",
    "\n",
    "model = KMeans(n_clusters=k, random_state=42)\n",
    "model.fit(X)\n",
    "\n",
    "# Number of clusters in labels\n",
    "labels = model.labels_\n",
    "score = metrics.silhouette_score(X, labels)\n",
    "\n",
    "print(f\"Silhouette coefficient: {score:.3f}\\n\")\n",
    "\n",
    "# Save dataset with cluster column to csv\n",
    "# --------------------------------------------------------------------------------------\n",
    "\n",
    "raw[\"cluster\"] = model.labels_\n",
    "raw.to_csv(f\"../data/d-modeling/{YEAR}-regioes.csv\", index=False)"
   ]
  }
 ],
 "metadata": {
  "kernelspec": {
   "display_name": ".venv",
   "language": "python",
   "name": "python3"
  },
  "language_info": {
   "codemirror_mode": {
    "name": "ipython",
    "version": 3
   },
   "file_extension": ".py",
   "mimetype": "text/x-python",
   "name": "python",
   "nbconvert_exporter": "python",
   "pygments_lexer": "ipython3",
   "version": "3.10.12"
  },
  "orig_nbformat": 4
 },
 "nbformat": 4,
 "nbformat_minor": 2
}
