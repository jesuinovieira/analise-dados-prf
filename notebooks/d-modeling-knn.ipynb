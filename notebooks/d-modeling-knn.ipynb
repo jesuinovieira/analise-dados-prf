{
 "cells": [
  {
   "cell_type": "code",
   "execution_count": null,
   "metadata": {},
   "outputs": [],
   "source": [
    "# MODELING\n",
    "# --------------------------------------------------------------------------------------\n",
    "\n",
    "# Select modeling techniques: Determine which algorithms to try (e.g. regression, neural\n",
    "# net).\n",
    "# \n",
    "# Generate test design: Pending your modeling approach, you might need to split the data\n",
    "# into training, test, and validation sets.\n",
    "# \n",
    "# Build model: As glamorous as this might sound, this might just be executing a few\n",
    "# lines of code like “reg = LinearRegression().fit(X, y)”.\n",
    "# \n",
    "# Assess model: Generally, multiple models are competing against each other, and the\n",
    "# data scientist needs to interpret the model results based on domain knowledge, the\n",
    "# pre-defined success criteria, and the test design."
   ]
  },
  {
   "cell_type": "code",
   "execution_count": null,
   "metadata": {},
   "outputs": [],
   "source": [
    "# CONCLUSIONS\n",
    "# --------------------------------------------------------------------------------------\n",
    "\n",
    "# ..."
   ]
  },
  {
   "cell_type": "code",
   "execution_count": 1,
   "metadata": {},
   "outputs": [],
   "source": [
    "import os\n",
    "\n",
    "import numpy as np\n",
    "import pandas as pd\n",
    "import plotly.graph_objects as go\n",
    "import plotly.subplots as sp\n",
    "from sklearn import metrics\n",
    "from sklearn.cluster import KMeans\n",
    "from sklearn.metrics import silhouette_score\n",
    "\n",
    "import utils\n",
    "\n",
    "pd.set_option(\"display.max_columns\", None)\n",
    "pd.set_option(\"display.expand_frame_repr\", False)\n",
    "\n",
    "os.makedirs(f\"../output/d-modeling\", exist_ok=True)\n",
    "os.makedirs(f\"../data/d-modeling\", exist_ok=True)\n",
    "\n",
    "YEAR = \"2022\"\n",
    "\n",
    "file = f\"../data/c-data-preparation/{YEAR}-raw.csv\"\n",
    "raw = pd.read_csv(file)\n",
    "\n",
    "file = f\"../data/c-data-preparation/{YEAR}-preprocessed.csv\"\n",
    "preprocessed = pd.read_csv(file)"
   ]
  },
  {
   "cell_type": "code",
   "execution_count": null,
   "metadata": {},
   "outputs": [],
   "source": [
    "print(raw.head())"
   ]
  },
  {
   "cell_type": "code",
   "execution_count": null,
   "metadata": {},
   "outputs": [],
   "source": [
    "print(preprocessed.head())"
   ]
  },
  {
   "cell_type": "code",
   "execution_count": null,
   "metadata": {},
   "outputs": [],
   "source": [
    "# Elbow method to determine the optimal number of clusters\n",
    "# --------------------------------------------------------------------------------------\n",
    "\n",
    "length = len(preprocessed)\n",
    "kmax = int(np.sqrt(length))\n",
    "kmin = 2\n",
    "ks = range(kmin, kmax)\n",
    "columns = [\"latitude\", \"longitude\"]\n",
    "X = preprocessed[columns]\n",
    "\n",
    "inertia = []\n",
    "silhouette = []\n",
    "\n",
    "for i, k in enumerate(ks):\n",
    "    print(f\"[{i + 1}] n_clusters: {k}\")\n",
    "\n",
    "    model = KMeans(n_clusters=k, random_state=42)\n",
    "    model.fit(X)\n",
    "    \n",
    "    inertia.append(model.inertia_)\n",
    "    silhouette.append(silhouette_score(X, model.labels_))"
   ]
  },
  {
   "cell_type": "code",
   "execution_count": null,
   "metadata": {},
   "outputs": [],
   "source": [
    "# Elbow method to determine the optimal number of clusters (plot)\n",
    "# --------------------------------------------------------------------------------------\n",
    "\n",
    "# Create subplots using make_subplots\n",
    "titles = (\"Inertia vs Number of Clusters\", \"Silhouette Score vs Number of Clusters\")\n",
    "fig = sp.make_subplots(rows=1, cols=2, subplot_titles=titles)\n",
    "\n",
    "# Plotting inertia values\n",
    "trace = go.Scatter(x=list(ks), y=inertia, mode=\"lines+markers\", name=\"Inertia\")\n",
    "fig.add_trace(trace, row=1, col=1)\n",
    "\n",
    "# Plotting silhouette scores\n",
    "trace = go.Scatter(x=list(ks), y=silhouette, mode=\"lines+markers\", name=\"Silhouette Score\")\n",
    "fig.add_trace(trace, row=1, col=2)\n",
    "\n",
    "fig.update_xaxes(title_text=\"Number of Clusters\", row=1, col=1)\n",
    "fig.update_yaxes(title_text=\"Inertia\", row=1, col=1)\n",
    "fig.update_xaxes(title_text=\"Number of Clusters\", row=1, col=2)\n",
    "fig.update_yaxes(title_text=\"Silhouette Score\", row=1, col=2)\n",
    "fig.update_layout(title=\"K-Means Clustering Evaluation: Elbow Method\", showlegend=False)\n",
    "\n",
    "fig.show()"
   ]
  },
  {
   "cell_type": "code",
   "execution_count": null,
   "metadata": {},
   "outputs": [],
   "source": [
    "# Build top 3 models according to silhouette score\n",
    "# --------------------------------------------------------------------------------------\n",
    "\n",
    "ks = [48, 57, 70]\n",
    "for i, k in enumerate(ks):\n",
    "    header = f\"k: {k}\"\n",
    "    print(header)\n",
    "    print(\"-\" * len(header))\n",
    "    print(f\"Columns: {columns}\")\n",
    "\n",
    "    X = preprocessed[columns].values\n",
    "\n",
    "    model = KMeans(n_clusters=k, random_state=42)\n",
    "    model.fit(X)\n",
    "\n",
    "    # Number of clusters in labels\n",
    "    labels = model.labels_\n",
    "    score = metrics.silhouette_score(X, labels)\n",
    "\n",
    "    dst = f\"../output/d-modeling/{YEAR}-kmeans-{k}-{i}\"\n",
    "    title = (\n",
    "        f\"k: {k}, score: {score:.3f}<br>\"\n",
    "        f\"columns: {columns}\"\n",
    "    )\n",
    "\n",
    "    print(f\"Silhouette coefficient: {score:.3f}\\n\")\n",
    "    utils.plot_map(raw, labels, dst, title)"
   ]
  },
  {
   "cell_type": "code",
   "execution_count": 7,
   "metadata": {},
   "outputs": [
    {
     "name": "stdout",
     "output_type": "stream",
     "text": [
      "k: 48\n",
      "-----\n",
      "Columns: ['latitude', 'longitude']\n",
      "Silhouette coefficient: 0.557\n",
      "\n"
     ]
    }
   ],
   "source": [
    "# Build final model: regioes\n",
    "# --------------------------------------------------------------------------------------\n",
    "\n",
    "k = 48\n",
    "columns = [\"latitude\", \"longitude\"]\n",
    "\n",
    "header = f\"k: {k}\"\n",
    "print(header)\n",
    "print(\"-\" * len(header))\n",
    "print(f\"Columns: {columns}\")\n",
    "\n",
    "X = preprocessed[columns].values\n",
    "\n",
    "model = KMeans(n_clusters=k, random_state=42)\n",
    "model.fit(X)\n",
    "\n",
    "# Number of clusters in labels\n",
    "labels = model.labels_\n",
    "score = metrics.silhouette_score(X, labels)\n",
    "\n",
    "print(f\"Silhouette coefficient: {score:.3f}\\n\")\n",
    "\n",
    "# Save dataset with cluster column to csv\n",
    "# --------------------------------------------------------------------------------------\n",
    "\n",
    "raw[\"cluster\"] = model.labels_\n",
    "raw.to_csv(f\"../data/d-modeling/{YEAR}-regioes.csv\", index=False)"
   ]
  }
 ],
 "metadata": {
  "kernelspec": {
   "display_name": ".venv",
   "language": "python",
   "name": "python3"
  },
  "language_info": {
   "codemirror_mode": {
    "name": "ipython",
    "version": 3
   },
   "file_extension": ".py",
   "mimetype": "text/x-python",
   "name": "python",
   "nbconvert_exporter": "python",
   "pygments_lexer": "ipython3",
   "version": "3.10.12"
  },
  "orig_nbformat": 4
 },
 "nbformat": 4,
 "nbformat_minor": 2
}
