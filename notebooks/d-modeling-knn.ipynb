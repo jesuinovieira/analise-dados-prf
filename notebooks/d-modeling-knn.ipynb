{
 "cells": [
  {
   "cell_type": "code",
   "execution_count": null,
   "metadata": {},
   "outputs": [],
   "source": [
    "# MODELING\n",
    "# --------------------------------------------------------------------------------------\n",
    "\n",
    "# Select modeling techniques: Determine which algorithms to try (e.g. regression, neural\n",
    "# net).\n",
    "# \n",
    "# Generate test design: Pending your modeling approach, you might need to split the data\n",
    "# into training, test, and validation sets.\n",
    "# \n",
    "# Build model: As glamorous as this might sound, this might just be executing a few\n",
    "# lines of code like “reg = LinearRegression().fit(X, y)”.\n",
    "# \n",
    "# Assess model: Generally, multiple models are competing against each other, and the\n",
    "# data scientist needs to interpret the model results based on domain knowledge, the\n",
    "# pre-defined success criteria, and the test design."
   ]
  },
  {
   "cell_type": "code",
   "execution_count": null,
   "metadata": {},
   "outputs": [],
   "source": [
    "# CONCLUSIONS\n",
    "# --------------------------------------------------------------------------------------\n",
    "\n",
    "# - ..."
   ]
  },
  {
   "cell_type": "code",
   "execution_count": 2,
   "metadata": {},
   "outputs": [],
   "source": [
    "import os\n",
    "import itertools\n",
    "import shutil\n",
    "\n",
    "import numpy as np\n",
    "import pandas as pd\n",
    "import plotly.graph_objects as go\n",
    "from sklearn import metrics\n",
    "from sklearn.cluster import DBSCAN\n",
    "\n",
    "pd.set_option(\"display.max_columns\", None)\n",
    "YEAR = \"2021\"\n",
    "\n",
    "shutil.rmtree(f\"../output/d-modeling\")\n",
    "os.makedirs(f\"../output/d-modeling\", exist_ok=True)\n",
    "os.makedirs(f\"../data/d-modeling\", exist_ok=True)\n",
    "\n",
    "file = f\"../data/c-data-preparation/{YEAR}-raw.csv\"\n",
    "raw = pd.read_csv(file)\n",
    "\n",
    "file = f\"../data/c-data-preparation/{YEAR}-preprocessed.csv\"\n",
    "preprocessed = pd.read_csv(file)"
   ]
  },
  {
   "cell_type": "code",
   "execution_count": 28,
   "metadata": {},
   "outputs": [],
   "source": [
    "# Plotting clusters on a map\n",
    "# --------------------------------------------------------------------------------------\n",
    "\n",
    "def plot(df, labels, dst, title):\n",
    "    num_clusters = len(np.unique(labels))\n",
    "    color_scale = [\"hsl(\" + str(h) + \",50%\" + \",50%)\" for h in np.linspace(0, 360, num_clusters)]\n",
    "\n",
    "    fig = go.Figure()\n",
    "\n",
    "    for cluster_label, color in zip(np.unique(labels), color_scale):\n",
    "        # Skip noise\n",
    "        if cluster_label == -1:\n",
    "            continue\n",
    "\n",
    "        cluster_mask = labels == cluster_label\n",
    "        cluster_data = df[cluster_mask]\n",
    "\n",
    "        scatter = go.Scattermapbox(\n",
    "            lat=cluster_data.latitude,\n",
    "            lon=cluster_data.longitude,\n",
    "            mode=\"markers\",\n",
    "            marker=dict(size=7.5, color=color),\n",
    "            # text=f\"({cluster_label}) {cluster_data.causa_acidente}\",\n",
    "            text=f\"{cluster_label}\",\n",
    "            showlegend=False,\n",
    "        )\n",
    "\n",
    "        fig.add_trace(scatter)\n",
    "\n",
    "    fig.update_layout(\n",
    "        title=title,\n",
    "        title_x=0.95,\n",
    "        title_y=0.1,\n",
    "        mapbox_style=\"open-street-map\",\n",
    "        mapbox=dict(center=dict(lat=-28, lon=-52), zoom=5.5),\n",
    "        margin={\"l\": 0, \"r\": 0, \"t\": 0, \"b\": 0},\n",
    "    )\n",
    "\n",
    "    # fig.show()\n",
    "    fig.write_html(f\"{dst}.html\")"
   ]
  },
  {
   "cell_type": "code",
   "execution_count": 11,
   "metadata": {},
   "outputs": [
    {
     "name": "stdout",
     "output_type": "stream",
     "text": [
      "[1] n_clusters: 2\n",
      "[2] n_clusters: 3\n",
      "[3] n_clusters: 4\n",
      "[4] n_clusters: 5\n",
      "[5] n_clusters: 6\n",
      "[6] n_clusters: 7\n",
      "[7] n_clusters: 8\n",
      "[8] n_clusters: 9\n",
      "[9] n_clusters: 10\n",
      "[10] n_clusters: 11\n",
      "[11] n_clusters: 12\n",
      "[12] n_clusters: 13\n",
      "[13] n_clusters: 14\n",
      "[14] n_clusters: 15\n",
      "[15] n_clusters: 16\n",
      "[16] n_clusters: 17\n",
      "[17] n_clusters: 18\n",
      "[18] n_clusters: 19\n",
      "[19] n_clusters: 20\n",
      "[20] n_clusters: 21\n",
      "[21] n_clusters: 22\n",
      "[22] n_clusters: 23\n",
      "[23] n_clusters: 24\n",
      "[24] n_clusters: 25\n",
      "[25] n_clusters: 26\n",
      "[26] n_clusters: 27\n",
      "[27] n_clusters: 28\n",
      "[28] n_clusters: 29\n",
      "[29] n_clusters: 30\n",
      "[30] n_clusters: 31\n",
      "[31] n_clusters: 32\n",
      "[32] n_clusters: 33\n",
      "[33] n_clusters: 34\n",
      "[34] n_clusters: 35\n",
      "[35] n_clusters: 36\n",
      "[36] n_clusters: 37\n",
      "[37] n_clusters: 38\n",
      "[38] n_clusters: 39\n",
      "[39] n_clusters: 40\n",
      "[40] n_clusters: 41\n",
      "[41] n_clusters: 42\n",
      "[42] n_clusters: 43\n",
      "[43] n_clusters: 44\n",
      "[44] n_clusters: 45\n",
      "[45] n_clusters: 46\n",
      "[46] n_clusters: 47\n",
      "[47] n_clusters: 48\n",
      "[48] n_clusters: 49\n",
      "[49] n_clusters: 50\n",
      "[50] n_clusters: 51\n",
      "[51] n_clusters: 52\n",
      "[52] n_clusters: 53\n",
      "[53] n_clusters: 54\n",
      "[54] n_clusters: 55\n",
      "[55] n_clusters: 56\n",
      "[56] n_clusters: 57\n",
      "[57] n_clusters: 58\n",
      "[58] n_clusters: 59\n",
      "[59] n_clusters: 60\n",
      "[60] n_clusters: 61\n",
      "[61] n_clusters: 62\n",
      "[62] n_clusters: 63\n",
      "[63] n_clusters: 64\n",
      "[64] n_clusters: 65\n",
      "[65] n_clusters: 66\n",
      "[66] n_clusters: 67\n",
      "[67] n_clusters: 68\n",
      "[68] n_clusters: 69\n",
      "[69] n_clusters: 70\n",
      "[70] n_clusters: 71\n",
      "[71] n_clusters: 72\n",
      "[72] n_clusters: 73\n",
      "[73] n_clusters: 74\n",
      "[74] n_clusters: 75\n",
      "[75] n_clusters: 76\n",
      "[76] n_clusters: 77\n",
      "[77] n_clusters: 78\n",
      "[78] n_clusters: 79\n",
      "[79] n_clusters: 80\n",
      "[80] n_clusters: 81\n",
      "[81] n_clusters: 82\n",
      "[82] n_clusters: 83\n",
      "[83] n_clusters: 84\n",
      "[84] n_clusters: 85\n",
      "[85] n_clusters: 86\n",
      "[86] n_clusters: 87\n",
      "[87] n_clusters: 88\n",
      "[88] n_clusters: 89\n",
      "[89] n_clusters: 90\n",
      "[90] n_clusters: 91\n",
      "[91] n_clusters: 92\n",
      "[92] n_clusters: 93\n",
      "[93] n_clusters: 94\n",
      "[94] n_clusters: 95\n",
      "[95] n_clusters: 96\n",
      "[96] n_clusters: 97\n",
      "[97] n_clusters: 98\n",
      "[98] n_clusters: 99\n",
      "[99] n_clusters: 100\n",
      "[100] n_clusters: 101\n",
      "[101] n_clusters: 102\n",
      "[102] n_clusters: 103\n",
      "[103] n_clusters: 104\n",
      "[104] n_clusters: 105\n",
      "[105] n_clusters: 106\n",
      "[106] n_clusters: 107\n",
      "[107] n_clusters: 108\n",
      "[108] n_clusters: 109\n",
      "[109] n_clusters: 110\n",
      "[110] n_clusters: 111\n",
      "[111] n_clusters: 112\n",
      "[112] n_clusters: 113\n",
      "[113] n_clusters: 114\n",
      "[114] n_clusters: 115\n",
      "[115] n_clusters: 116\n",
      "[116] n_clusters: 117\n",
      "[117] n_clusters: 118\n",
      "[118] n_clusters: 119\n",
      "[119] n_clusters: 120\n",
      "[120] n_clusters: 121\n",
      "[121] n_clusters: 122\n",
      "[122] n_clusters: 123\n",
      "[123] n_clusters: 124\n",
      "[124] n_clusters: 125\n",
      "[125] n_clusters: 126\n",
      "[126] n_clusters: 127\n",
      "[127] n_clusters: 128\n",
      "[128] n_clusters: 129\n",
      "[129] n_clusters: 130\n",
      "[130] n_clusters: 131\n",
      "[131] n_clusters: 132\n",
      "[132] n_clusters: 133\n",
      "[133] n_clusters: 134\n",
      "[134] n_clusters: 135\n",
      "[135] n_clusters: 136\n",
      "[136] n_clusters: 137\n",
      "[137] n_clusters: 138\n",
      "[138] n_clusters: 139\n"
     ]
    },
    {
     "data": {
      "application/vnd.plotly.v1+json": {
       "config": {
        "plotlyServerURL": "https://plot.ly"
       },
       "data": [
        {
         "mode": "lines+markers",
         "name": "Inertia",
         "type": "scatter",
         "x": [
          2,
          3,
          4,
          5,
          6,
          7,
          8,
          9,
          10,
          11,
          12,
          13,
          14,
          15,
          16,
          17,
          18,
          19,
          20,
          21,
          22,
          23,
          24,
          25,
          26,
          27,
          28,
          29,
          30,
          31,
          32,
          33,
          34,
          35,
          36,
          37,
          38,
          39,
          40,
          41,
          42,
          43,
          44,
          45,
          46,
          47,
          48,
          49,
          50,
          51,
          52,
          53,
          54,
          55,
          56,
          57,
          58,
          59,
          60,
          61,
          62,
          63,
          64,
          65,
          66,
          67,
          68,
          69,
          70,
          71,
          72,
          73,
          74,
          75,
          76,
          77,
          78,
          79,
          80,
          81,
          82,
          83,
          84,
          85,
          86,
          87,
          88,
          89,
          90,
          91,
          92,
          93,
          94,
          95,
          96,
          97,
          98,
          99,
          100,
          101,
          102,
          103,
          104,
          105,
          106,
          107,
          108,
          109,
          110,
          111,
          112,
          113,
          114,
          115,
          116,
          117,
          118,
          119,
          120,
          121,
          122,
          123,
          124,
          125,
          126,
          127,
          128,
          129,
          130,
          131,
          132,
          133,
          134,
          135,
          136,
          137,
          138,
          139
         ],
         "xaxis": "x",
         "y": [
          782.388010131099,
          437.89694497368055,
          327.1880763756381,
          257.86098155181855,
          192.56453283332667,
          159.7358409512888,
          135.10160232076268,
          116.4780167238186,
          102.269445509574,
          91.50437521325252,
          83.34545154887917,
          77.4793802163318,
          69.2599795034161,
          63.16802522410773,
          59.16748719595176,
          55.04124568702621,
          50.522866248762696,
          47.90313550681724,
          44.53754884772364,
          42.17552486119274,
          39.30928436364693,
          37.11858635932997,
          34.71110382839265,
          33.71164406311907,
          30.93322599771277,
          30.038196847569115,
          28.28627386495065,
          26.719220151543595,
          25.283016578373726,
          23.711797539934878,
          22.881766480702723,
          21.80431414083285,
          21.14152921446255,
          20.502311555240095,
          19.99761164918905,
          19.258673420230657,
          18.778062041948758,
          17.868747984935812,
          17.532878738392544,
          16.78767348922635,
          15.863741261338646,
          15.872772783460418,
          15.609789733181577,
          14.952191615327733,
          14.72546595763637,
          14.120644733428778,
          13.437215732815227,
          13.556826428580157,
          12.74650275473039,
          12.61917119365079,
          12.328713506948672,
          11.890735417311797,
          11.50413280352884,
          11.306191492647702,
          11.170082389951043,
          10.762063664932837,
          10.465369654761226,
          10.277804926406894,
          9.849347047421288,
          9.645465032155283,
          9.366794877825146,
          9.246387873400387,
          8.973400940315598,
          8.772646007416206,
          8.541556688191054,
          8.445028190421077,
          8.161097972049308,
          7.927009652178917,
          7.745616732442552,
          7.683465479452284,
          7.24336298512162,
          7.1539241820854516,
          6.969256769251792,
          6.797825245541318,
          6.809472939001552,
          6.669033437295464,
          6.3855736257265505,
          6.41433429194597,
          6.135206246784109,
          6.007291823325726,
          5.9711733967630725,
          5.945187072764712,
          5.692870069819899,
          5.565036866529051,
          5.521853067460319,
          5.358270126067291,
          5.32351596143009,
          5.292395823988652,
          5.085556495074045,
          5.0454342404915575,
          4.875959655816695,
          4.88211707622146,
          4.79282873463265,
          4.753469759695927,
          4.68621895673445,
          4.561729661943065,
          4.503646356719539,
          4.439890748080193,
          4.374910806799106,
          4.3100343440083035,
          4.304922134418261,
          4.198805541909244,
          4.1018547838871555,
          4.125297748788604,
          3.938688927888808,
          3.9732057487802113,
          3.879553313010797,
          3.8583080647961925,
          3.7990729269950227,
          3.739239817288881,
          3.6890336447166288,
          3.6393521188565785,
          3.568333050374636,
          3.5064993543371266,
          3.4582501263853014,
          3.38823765088301,
          3.425843149484102,
          3.3178468387833613,
          3.2906528008161575,
          3.27048385430706,
          3.1953079291572704,
          3.163473816539459,
          3.153504683249574,
          3.1003429195108576,
          3.0417134237997736,
          2.986298201547547,
          2.979088137325608,
          2.951280495649181,
          2.808287765422146,
          2.833304713699799,
          2.815653560547851,
          2.7852861109054503,
          2.7750985578841494,
          2.6993778173601424,
          2.724703643699444,
          2.648153972928929,
          2.6348798378168468,
          2.5836633973721947
         ],
         "yaxis": "y"
        },
        {
         "mode": "lines+markers",
         "name": "Silhouette Score",
         "type": "scatter",
         "x": [
          2,
          3,
          4,
          5,
          6,
          7,
          8,
          9,
          10,
          11,
          12,
          13,
          14,
          15,
          16,
          17,
          18,
          19,
          20,
          21,
          22,
          23,
          24,
          25,
          26,
          27,
          28,
          29,
          30,
          31,
          32,
          33,
          34,
          35,
          36,
          37,
          38,
          39,
          40,
          41,
          42,
          43,
          44,
          45,
          46,
          47,
          48,
          49,
          50,
          51,
          52,
          53,
          54,
          55,
          56,
          57,
          58,
          59,
          60,
          61,
          62,
          63,
          64,
          65,
          66,
          67,
          68,
          69,
          70,
          71,
          72,
          73,
          74,
          75,
          76,
          77,
          78,
          79,
          80,
          81,
          82,
          83,
          84,
          85,
          86,
          87,
          88,
          89,
          90,
          91,
          92,
          93,
          94,
          95,
          96,
          97,
          98,
          99,
          100,
          101,
          102,
          103,
          104,
          105,
          106,
          107,
          108,
          109,
          110,
          111,
          112,
          113,
          114,
          115,
          116,
          117,
          118,
          119,
          120,
          121,
          122,
          123,
          124,
          125,
          126,
          127,
          128,
          129,
          130,
          131,
          132,
          133,
          134,
          135,
          136,
          137,
          138,
          139
         ],
         "xaxis": "x2",
         "y": [
          0.4866152320302027,
          0.5391490642349632,
          0.5245245055315081,
          0.4670700698024369,
          0.4871451040790528,
          0.4939364803494665,
          0.4977121256335519,
          0.5073873057264862,
          0.5083269070664437,
          0.5199905821549734,
          0.5224382481273127,
          0.504718468575393,
          0.5259922899692253,
          0.5229152448611757,
          0.505349393166243,
          0.5088298454317415,
          0.527516470072074,
          0.5045057484632849,
          0.5138199867388482,
          0.5004830984537117,
          0.5028279838962504,
          0.5058586097889282,
          0.5011506586763912,
          0.5240432720756804,
          0.5219192442565621,
          0.5249607859112123,
          0.5363881046671897,
          0.5294112867985293,
          0.5345209459746345,
          0.5500117957364121,
          0.5500084407337109,
          0.5508492659865429,
          0.5523210496251184,
          0.5542085225925952,
          0.555308948911245,
          0.5503685584934435,
          0.5561984456706865,
          0.5499639499735887,
          0.5566629994939797,
          0.5572935708212801,
          0.5649324063667476,
          0.5609397538660339,
          0.5626222736806493,
          0.5605138079457103,
          0.5661043637904275,
          0.5706599535319336,
          0.5720218052181528,
          0.5638889443359685,
          0.570856113131499,
          0.5594541734733333,
          0.5382555677914378,
          0.5656171885850012,
          0.5301865153525641,
          0.5669059572227608,
          0.5467978799048799,
          0.5749313657483069,
          0.562109379856527,
          0.5387872571886945,
          0.5508300049783923,
          0.5690751914733452,
          0.5622524255923175,
          0.5518717976172745,
          0.5442910902198538,
          0.5556520437703832,
          0.5677013054513438,
          0.5421719685262997,
          0.567855435642673,
          0.5472550127907811,
          0.5794846482471634,
          0.5582126372769912,
          0.5292515681464396,
          0.5568089548352699,
          0.5649951352535125,
          0.5475727582664063,
          0.5471305800521773,
          0.5569373664237779,
          0.5449791541598554,
          0.5262808191777493,
          0.5496478824909092,
          0.5580118979219211,
          0.5503023567236515,
          0.5489393671528471,
          0.5618722936343648,
          0.5501784965567753,
          0.5491903558581673,
          0.5312424379037605,
          0.5633879040116008,
          0.5485700110695174,
          0.5567767953923978,
          0.5334761598538988,
          0.5305524124073587,
          0.5643945832950326,
          0.5429140187471584,
          0.5547001083015743,
          0.5427524465564201,
          0.5637951061190142,
          0.560307375992509,
          0.5346054230469907,
          0.5549852077144413,
          0.540653571946557,
          0.5317868868360183,
          0.5443257997932023,
          0.567341284973256,
          0.540177422791218,
          0.571618693880598,
          0.537180563007261,
          0.5682842888663355,
          0.560721240325431,
          0.5605503607053343,
          0.5348959469208143,
          0.5464515112528999,
          0.5385117335839319,
          0.538983021013947,
          0.567599750328596,
          0.548401180048776,
          0.5426977996994083,
          0.5496996347660562,
          0.5501905073700936,
          0.5683392412746048,
          0.5454350483339132,
          0.5349965077105865,
          0.5456988167855018,
          0.5450286390539077,
          0.5422647820352348,
          0.5579137531641825,
          0.5479027882456267,
          0.548551657023852,
          0.5512079312316668,
          0.5537220886868666,
          0.5516469687758445,
          0.5457713009033617,
          0.5537185100139081,
          0.5437555990237616,
          0.551153788327193,
          0.5509787209705359,
          0.548740527404925,
          0.547541388473902,
          0.5451009693943225
         ],
         "yaxis": "y2"
        }
       ],
       "layout": {
        "annotations": [
         {
          "font": {
           "size": 16
          },
          "showarrow": false,
          "text": "Inertia vs Number of Clusters",
          "x": 0.225,
          "xanchor": "center",
          "xref": "paper",
          "y": 1,
          "yanchor": "bottom",
          "yref": "paper"
         },
         {
          "font": {
           "size": 16
          },
          "showarrow": false,
          "text": "Silhouette Score vs Number of Clusters",
          "x": 0.775,
          "xanchor": "center",
          "xref": "paper",
          "y": 1,
          "yanchor": "bottom",
          "yref": "paper"
         }
        ],
        "showlegend": false,
        "template": {
         "data": {
          "bar": [
           {
            "error_x": {
             "color": "#2a3f5f"
            },
            "error_y": {
             "color": "#2a3f5f"
            },
            "marker": {
             "line": {
              "color": "#E5ECF6",
              "width": 0.5
             },
             "pattern": {
              "fillmode": "overlay",
              "size": 10,
              "solidity": 0.2
             }
            },
            "type": "bar"
           }
          ],
          "barpolar": [
           {
            "marker": {
             "line": {
              "color": "#E5ECF6",
              "width": 0.5
             },
             "pattern": {
              "fillmode": "overlay",
              "size": 10,
              "solidity": 0.2
             }
            },
            "type": "barpolar"
           }
          ],
          "carpet": [
           {
            "aaxis": {
             "endlinecolor": "#2a3f5f",
             "gridcolor": "white",
             "linecolor": "white",
             "minorgridcolor": "white",
             "startlinecolor": "#2a3f5f"
            },
            "baxis": {
             "endlinecolor": "#2a3f5f",
             "gridcolor": "white",
             "linecolor": "white",
             "minorgridcolor": "white",
             "startlinecolor": "#2a3f5f"
            },
            "type": "carpet"
           }
          ],
          "choropleth": [
           {
            "colorbar": {
             "outlinewidth": 0,
             "ticks": ""
            },
            "type": "choropleth"
           }
          ],
          "contour": [
           {
            "colorbar": {
             "outlinewidth": 0,
             "ticks": ""
            },
            "colorscale": [
             [
              0,
              "#0d0887"
             ],
             [
              0.1111111111111111,
              "#46039f"
             ],
             [
              0.2222222222222222,
              "#7201a8"
             ],
             [
              0.3333333333333333,
              "#9c179e"
             ],
             [
              0.4444444444444444,
              "#bd3786"
             ],
             [
              0.5555555555555556,
              "#d8576b"
             ],
             [
              0.6666666666666666,
              "#ed7953"
             ],
             [
              0.7777777777777778,
              "#fb9f3a"
             ],
             [
              0.8888888888888888,
              "#fdca26"
             ],
             [
              1,
              "#f0f921"
             ]
            ],
            "type": "contour"
           }
          ],
          "contourcarpet": [
           {
            "colorbar": {
             "outlinewidth": 0,
             "ticks": ""
            },
            "type": "contourcarpet"
           }
          ],
          "heatmap": [
           {
            "colorbar": {
             "outlinewidth": 0,
             "ticks": ""
            },
            "colorscale": [
             [
              0,
              "#0d0887"
             ],
             [
              0.1111111111111111,
              "#46039f"
             ],
             [
              0.2222222222222222,
              "#7201a8"
             ],
             [
              0.3333333333333333,
              "#9c179e"
             ],
             [
              0.4444444444444444,
              "#bd3786"
             ],
             [
              0.5555555555555556,
              "#d8576b"
             ],
             [
              0.6666666666666666,
              "#ed7953"
             ],
             [
              0.7777777777777778,
              "#fb9f3a"
             ],
             [
              0.8888888888888888,
              "#fdca26"
             ],
             [
              1,
              "#f0f921"
             ]
            ],
            "type": "heatmap"
           }
          ],
          "heatmapgl": [
           {
            "colorbar": {
             "outlinewidth": 0,
             "ticks": ""
            },
            "colorscale": [
             [
              0,
              "#0d0887"
             ],
             [
              0.1111111111111111,
              "#46039f"
             ],
             [
              0.2222222222222222,
              "#7201a8"
             ],
             [
              0.3333333333333333,
              "#9c179e"
             ],
             [
              0.4444444444444444,
              "#bd3786"
             ],
             [
              0.5555555555555556,
              "#d8576b"
             ],
             [
              0.6666666666666666,
              "#ed7953"
             ],
             [
              0.7777777777777778,
              "#fb9f3a"
             ],
             [
              0.8888888888888888,
              "#fdca26"
             ],
             [
              1,
              "#f0f921"
             ]
            ],
            "type": "heatmapgl"
           }
          ],
          "histogram": [
           {
            "marker": {
             "pattern": {
              "fillmode": "overlay",
              "size": 10,
              "solidity": 0.2
             }
            },
            "type": "histogram"
           }
          ],
          "histogram2d": [
           {
            "colorbar": {
             "outlinewidth": 0,
             "ticks": ""
            },
            "colorscale": [
             [
              0,
              "#0d0887"
             ],
             [
              0.1111111111111111,
              "#46039f"
             ],
             [
              0.2222222222222222,
              "#7201a8"
             ],
             [
              0.3333333333333333,
              "#9c179e"
             ],
             [
              0.4444444444444444,
              "#bd3786"
             ],
             [
              0.5555555555555556,
              "#d8576b"
             ],
             [
              0.6666666666666666,
              "#ed7953"
             ],
             [
              0.7777777777777778,
              "#fb9f3a"
             ],
             [
              0.8888888888888888,
              "#fdca26"
             ],
             [
              1,
              "#f0f921"
             ]
            ],
            "type": "histogram2d"
           }
          ],
          "histogram2dcontour": [
           {
            "colorbar": {
             "outlinewidth": 0,
             "ticks": ""
            },
            "colorscale": [
             [
              0,
              "#0d0887"
             ],
             [
              0.1111111111111111,
              "#46039f"
             ],
             [
              0.2222222222222222,
              "#7201a8"
             ],
             [
              0.3333333333333333,
              "#9c179e"
             ],
             [
              0.4444444444444444,
              "#bd3786"
             ],
             [
              0.5555555555555556,
              "#d8576b"
             ],
             [
              0.6666666666666666,
              "#ed7953"
             ],
             [
              0.7777777777777778,
              "#fb9f3a"
             ],
             [
              0.8888888888888888,
              "#fdca26"
             ],
             [
              1,
              "#f0f921"
             ]
            ],
            "type": "histogram2dcontour"
           }
          ],
          "mesh3d": [
           {
            "colorbar": {
             "outlinewidth": 0,
             "ticks": ""
            },
            "type": "mesh3d"
           }
          ],
          "parcoords": [
           {
            "line": {
             "colorbar": {
              "outlinewidth": 0,
              "ticks": ""
             }
            },
            "type": "parcoords"
           }
          ],
          "pie": [
           {
            "automargin": true,
            "type": "pie"
           }
          ],
          "scatter": [
           {
            "fillpattern": {
             "fillmode": "overlay",
             "size": 10,
             "solidity": 0.2
            },
            "type": "scatter"
           }
          ],
          "scatter3d": [
           {
            "line": {
             "colorbar": {
              "outlinewidth": 0,
              "ticks": ""
             }
            },
            "marker": {
             "colorbar": {
              "outlinewidth": 0,
              "ticks": ""
             }
            },
            "type": "scatter3d"
           }
          ],
          "scattercarpet": [
           {
            "marker": {
             "colorbar": {
              "outlinewidth": 0,
              "ticks": ""
             }
            },
            "type": "scattercarpet"
           }
          ],
          "scattergeo": [
           {
            "marker": {
             "colorbar": {
              "outlinewidth": 0,
              "ticks": ""
             }
            },
            "type": "scattergeo"
           }
          ],
          "scattergl": [
           {
            "marker": {
             "colorbar": {
              "outlinewidth": 0,
              "ticks": ""
             }
            },
            "type": "scattergl"
           }
          ],
          "scattermapbox": [
           {
            "marker": {
             "colorbar": {
              "outlinewidth": 0,
              "ticks": ""
             }
            },
            "type": "scattermapbox"
           }
          ],
          "scatterpolar": [
           {
            "marker": {
             "colorbar": {
              "outlinewidth": 0,
              "ticks": ""
             }
            },
            "type": "scatterpolar"
           }
          ],
          "scatterpolargl": [
           {
            "marker": {
             "colorbar": {
              "outlinewidth": 0,
              "ticks": ""
             }
            },
            "type": "scatterpolargl"
           }
          ],
          "scatterternary": [
           {
            "marker": {
             "colorbar": {
              "outlinewidth": 0,
              "ticks": ""
             }
            },
            "type": "scatterternary"
           }
          ],
          "surface": [
           {
            "colorbar": {
             "outlinewidth": 0,
             "ticks": ""
            },
            "colorscale": [
             [
              0,
              "#0d0887"
             ],
             [
              0.1111111111111111,
              "#46039f"
             ],
             [
              0.2222222222222222,
              "#7201a8"
             ],
             [
              0.3333333333333333,
              "#9c179e"
             ],
             [
              0.4444444444444444,
              "#bd3786"
             ],
             [
              0.5555555555555556,
              "#d8576b"
             ],
             [
              0.6666666666666666,
              "#ed7953"
             ],
             [
              0.7777777777777778,
              "#fb9f3a"
             ],
             [
              0.8888888888888888,
              "#fdca26"
             ],
             [
              1,
              "#f0f921"
             ]
            ],
            "type": "surface"
           }
          ],
          "table": [
           {
            "cells": {
             "fill": {
              "color": "#EBF0F8"
             },
             "line": {
              "color": "white"
             }
            },
            "header": {
             "fill": {
              "color": "#C8D4E3"
             },
             "line": {
              "color": "white"
             }
            },
            "type": "table"
           }
          ]
         },
         "layout": {
          "annotationdefaults": {
           "arrowcolor": "#2a3f5f",
           "arrowhead": 0,
           "arrowwidth": 1
          },
          "autotypenumbers": "strict",
          "coloraxis": {
           "colorbar": {
            "outlinewidth": 0,
            "ticks": ""
           }
          },
          "colorscale": {
           "diverging": [
            [
             0,
             "#8e0152"
            ],
            [
             0.1,
             "#c51b7d"
            ],
            [
             0.2,
             "#de77ae"
            ],
            [
             0.3,
             "#f1b6da"
            ],
            [
             0.4,
             "#fde0ef"
            ],
            [
             0.5,
             "#f7f7f7"
            ],
            [
             0.6,
             "#e6f5d0"
            ],
            [
             0.7,
             "#b8e186"
            ],
            [
             0.8,
             "#7fbc41"
            ],
            [
             0.9,
             "#4d9221"
            ],
            [
             1,
             "#276419"
            ]
           ],
           "sequential": [
            [
             0,
             "#0d0887"
            ],
            [
             0.1111111111111111,
             "#46039f"
            ],
            [
             0.2222222222222222,
             "#7201a8"
            ],
            [
             0.3333333333333333,
             "#9c179e"
            ],
            [
             0.4444444444444444,
             "#bd3786"
            ],
            [
             0.5555555555555556,
             "#d8576b"
            ],
            [
             0.6666666666666666,
             "#ed7953"
            ],
            [
             0.7777777777777778,
             "#fb9f3a"
            ],
            [
             0.8888888888888888,
             "#fdca26"
            ],
            [
             1,
             "#f0f921"
            ]
           ],
           "sequentialminus": [
            [
             0,
             "#0d0887"
            ],
            [
             0.1111111111111111,
             "#46039f"
            ],
            [
             0.2222222222222222,
             "#7201a8"
            ],
            [
             0.3333333333333333,
             "#9c179e"
            ],
            [
             0.4444444444444444,
             "#bd3786"
            ],
            [
             0.5555555555555556,
             "#d8576b"
            ],
            [
             0.6666666666666666,
             "#ed7953"
            ],
            [
             0.7777777777777778,
             "#fb9f3a"
            ],
            [
             0.8888888888888888,
             "#fdca26"
            ],
            [
             1,
             "#f0f921"
            ]
           ]
          },
          "colorway": [
           "#636efa",
           "#EF553B",
           "#00cc96",
           "#ab63fa",
           "#FFA15A",
           "#19d3f3",
           "#FF6692",
           "#B6E880",
           "#FF97FF",
           "#FECB52"
          ],
          "font": {
           "color": "#2a3f5f"
          },
          "geo": {
           "bgcolor": "white",
           "lakecolor": "white",
           "landcolor": "#E5ECF6",
           "showlakes": true,
           "showland": true,
           "subunitcolor": "white"
          },
          "hoverlabel": {
           "align": "left"
          },
          "hovermode": "closest",
          "mapbox": {
           "style": "light"
          },
          "paper_bgcolor": "white",
          "plot_bgcolor": "#E5ECF6",
          "polar": {
           "angularaxis": {
            "gridcolor": "white",
            "linecolor": "white",
            "ticks": ""
           },
           "bgcolor": "#E5ECF6",
           "radialaxis": {
            "gridcolor": "white",
            "linecolor": "white",
            "ticks": ""
           }
          },
          "scene": {
           "xaxis": {
            "backgroundcolor": "#E5ECF6",
            "gridcolor": "white",
            "gridwidth": 2,
            "linecolor": "white",
            "showbackground": true,
            "ticks": "",
            "zerolinecolor": "white"
           },
           "yaxis": {
            "backgroundcolor": "#E5ECF6",
            "gridcolor": "white",
            "gridwidth": 2,
            "linecolor": "white",
            "showbackground": true,
            "ticks": "",
            "zerolinecolor": "white"
           },
           "zaxis": {
            "backgroundcolor": "#E5ECF6",
            "gridcolor": "white",
            "gridwidth": 2,
            "linecolor": "white",
            "showbackground": true,
            "ticks": "",
            "zerolinecolor": "white"
           }
          },
          "shapedefaults": {
           "line": {
            "color": "#2a3f5f"
           }
          },
          "ternary": {
           "aaxis": {
            "gridcolor": "white",
            "linecolor": "white",
            "ticks": ""
           },
           "baxis": {
            "gridcolor": "white",
            "linecolor": "white",
            "ticks": ""
           },
           "bgcolor": "#E5ECF6",
           "caxis": {
            "gridcolor": "white",
            "linecolor": "white",
            "ticks": ""
           }
          },
          "title": {
           "x": 0.05
          },
          "xaxis": {
           "automargin": true,
           "gridcolor": "white",
           "linecolor": "white",
           "ticks": "",
           "title": {
            "standoff": 15
           },
           "zerolinecolor": "white",
           "zerolinewidth": 2
          },
          "yaxis": {
           "automargin": true,
           "gridcolor": "white",
           "linecolor": "white",
           "ticks": "",
           "title": {
            "standoff": 15
           },
           "zerolinecolor": "white",
           "zerolinewidth": 2
          }
         }
        },
        "title": {
         "text": "K-Means Clustering Evaluation: Elbow Method"
        },
        "xaxis": {
         "anchor": "y",
         "domain": [
          0,
          0.45
         ],
         "title": {
          "text": "Number of Clusters"
         }
        },
        "xaxis2": {
         "anchor": "y2",
         "domain": [
          0.55,
          1
         ],
         "title": {
          "text": "Number of Clusters"
         }
        },
        "yaxis": {
         "anchor": "x",
         "domain": [
          0,
          1
         ],
         "title": {
          "text": "Inertia"
         }
        },
        "yaxis2": {
         "anchor": "x2",
         "domain": [
          0,
          1
         ],
         "title": {
          "text": "Silhouette Score"
         }
        }
       }
      }
     },
     "metadata": {},
     "output_type": "display_data"
    }
   ],
   "source": [
    "# Elbow method to determine the optimal number of clusters\n",
    "# --------------------------------------------------------------------------------------\n",
    "\n",
    "import plotly.graph_objects as go\n",
    "import plotly.subplots as sp\n",
    "from sklearn.cluster import KMeans\n",
    "from sklearn.datasets import make_blobs\n",
    "from sklearn.metrics import silhouette_score\n",
    "\n",
    "length = len(preprocessed)\n",
    "kmax = int(np.sqrt(length))\n",
    "kmin = 2\n",
    "ks = range(kmin, kmax)\n",
    "columns = [\"latitude\", \"longitude\"]\n",
    "X = preprocessed[columns]\n",
    "\n",
    "inertia = []\n",
    "silhouette = []\n",
    "\n",
    "for i, k in enumerate(ks):\n",
    "    print(f\"[{i + 1}] n_clusters: {k}\")\n",
    "\n",
    "    model = KMeans(n_clusters=k, random_state=42)\n",
    "    model.fit(X)\n",
    "    \n",
    "    inertia.append(model.inertia_)\n",
    "    silhouette.append(silhouette_score(X, model.labels_))"
   ]
  },
  {
   "cell_type": "code",
   "execution_count": 27,
   "metadata": {},
   "outputs": [
    {
     "data": {
      "application/vnd.plotly.v1+json": {
       "config": {
        "plotlyServerURL": "https://plot.ly"
       },
       "data": [
        {
         "mode": "lines+markers",
         "name": "Inertia",
         "type": "scatter",
         "x": [
          48,
          57,
          70
         ],
         "xaxis": "x",
         "y": [
          782.388010131099,
          437.89694497368055,
          327.1880763756381,
          257.86098155181855,
          192.56453283332667,
          159.7358409512888,
          135.10160232076268,
          116.4780167238186,
          102.269445509574,
          91.50437521325252,
          83.34545154887917,
          77.4793802163318,
          69.2599795034161,
          63.16802522410773,
          59.16748719595176,
          55.04124568702621,
          50.522866248762696,
          47.90313550681724,
          44.53754884772364,
          42.17552486119274,
          39.30928436364693,
          37.11858635932997,
          34.71110382839265,
          33.71164406311907,
          30.93322599771277,
          30.038196847569115,
          28.28627386495065,
          26.719220151543595,
          25.283016578373726,
          23.711797539934878,
          22.881766480702723,
          21.80431414083285,
          21.14152921446255,
          20.502311555240095,
          19.99761164918905,
          19.258673420230657,
          18.778062041948758,
          17.868747984935812,
          17.532878738392544,
          16.78767348922635,
          15.863741261338646,
          15.872772783460418,
          15.609789733181577,
          14.952191615327733,
          14.72546595763637,
          14.120644733428778,
          13.437215732815227,
          13.556826428580157,
          12.74650275473039,
          12.61917119365079,
          12.328713506948672,
          11.890735417311797,
          11.50413280352884,
          11.306191492647702,
          11.170082389951043,
          10.762063664932837,
          10.465369654761226,
          10.277804926406894,
          9.849347047421288,
          9.645465032155283,
          9.366794877825146,
          9.246387873400387,
          8.973400940315598,
          8.772646007416206,
          8.541556688191054,
          8.445028190421077,
          8.161097972049308,
          7.927009652178917,
          7.745616732442552,
          7.683465479452284,
          7.24336298512162,
          7.1539241820854516,
          6.969256769251792,
          6.797825245541318,
          6.809472939001552,
          6.669033437295464,
          6.3855736257265505,
          6.41433429194597,
          6.135206246784109,
          6.007291823325726,
          5.9711733967630725,
          5.945187072764712,
          5.692870069819899,
          5.565036866529051,
          5.521853067460319,
          5.358270126067291,
          5.32351596143009,
          5.292395823988652,
          5.085556495074045,
          5.0454342404915575,
          4.875959655816695,
          4.88211707622146,
          4.79282873463265,
          4.753469759695927,
          4.68621895673445,
          4.561729661943065,
          4.503646356719539,
          4.439890748080193,
          4.374910806799106,
          4.3100343440083035,
          4.304922134418261,
          4.198805541909244,
          4.1018547838871555,
          4.125297748788604,
          3.938688927888808,
          3.9732057487802113,
          3.879553313010797,
          3.8583080647961925,
          3.7990729269950227,
          3.739239817288881,
          3.6890336447166288,
          3.6393521188565785,
          3.568333050374636,
          3.5064993543371266,
          3.4582501263853014,
          3.38823765088301,
          3.425843149484102,
          3.3178468387833613,
          3.2906528008161575,
          3.27048385430706,
          3.1953079291572704,
          3.163473816539459,
          3.153504683249574,
          3.1003429195108576,
          3.0417134237997736,
          2.986298201547547,
          2.979088137325608,
          2.951280495649181,
          2.808287765422146,
          2.833304713699799,
          2.815653560547851,
          2.7852861109054503,
          2.7750985578841494,
          2.6993778173601424,
          2.724703643699444,
          2.648153972928929,
          2.6348798378168468,
          2.5836633973721947
         ],
         "yaxis": "y"
        },
        {
         "mode": "lines+markers",
         "name": "Silhouette Score",
         "type": "scatter",
         "x": [
          48,
          57,
          70
         ],
         "xaxis": "x2",
         "y": [
          0.4866152320302027,
          0.5391490642349632,
          0.5245245055315081,
          0.4670700698024369,
          0.4871451040790528,
          0.4939364803494665,
          0.4977121256335519,
          0.5073873057264862,
          0.5083269070664437,
          0.5199905821549734,
          0.5224382481273127,
          0.504718468575393,
          0.5259922899692253,
          0.5229152448611757,
          0.505349393166243,
          0.5088298454317415,
          0.527516470072074,
          0.5045057484632849,
          0.5138199867388482,
          0.5004830984537117,
          0.5028279838962504,
          0.5058586097889282,
          0.5011506586763912,
          0.5240432720756804,
          0.5219192442565621,
          0.5249607859112123,
          0.5363881046671897,
          0.5294112867985293,
          0.5345209459746345,
          0.5500117957364121,
          0.5500084407337109,
          0.5508492659865429,
          0.5523210496251184,
          0.5542085225925952,
          0.555308948911245,
          0.5503685584934435,
          0.5561984456706865,
          0.5499639499735887,
          0.5566629994939797,
          0.5572935708212801,
          0.5649324063667476,
          0.5609397538660339,
          0.5626222736806493,
          0.5605138079457103,
          0.5661043637904275,
          0.5706599535319336,
          0.5720218052181528,
          0.5638889443359685,
          0.570856113131499,
          0.5594541734733333,
          0.5382555677914378,
          0.5656171885850012,
          0.5301865153525641,
          0.5669059572227608,
          0.5467978799048799,
          0.5749313657483069,
          0.562109379856527,
          0.5387872571886945,
          0.5508300049783923,
          0.5690751914733452,
          0.5622524255923175,
          0.5518717976172745,
          0.5442910902198538,
          0.5556520437703832,
          0.5677013054513438,
          0.5421719685262997,
          0.567855435642673,
          0.5472550127907811,
          0.5794846482471634,
          0.5582126372769912,
          0.5292515681464396,
          0.5568089548352699,
          0.5649951352535125,
          0.5475727582664063,
          0.5471305800521773,
          0.5569373664237779,
          0.5449791541598554,
          0.5262808191777493,
          0.5496478824909092,
          0.5580118979219211,
          0.5503023567236515,
          0.5489393671528471,
          0.5618722936343648,
          0.5501784965567753,
          0.5491903558581673,
          0.5312424379037605,
          0.5633879040116008,
          0.5485700110695174,
          0.5567767953923978,
          0.5334761598538988,
          0.5305524124073587,
          0.5643945832950326,
          0.5429140187471584,
          0.5547001083015743,
          0.5427524465564201,
          0.5637951061190142,
          0.560307375992509,
          0.5346054230469907,
          0.5549852077144413,
          0.540653571946557,
          0.5317868868360183,
          0.5443257997932023,
          0.567341284973256,
          0.540177422791218,
          0.571618693880598,
          0.537180563007261,
          0.5682842888663355,
          0.560721240325431,
          0.5605503607053343,
          0.5348959469208143,
          0.5464515112528999,
          0.5385117335839319,
          0.538983021013947,
          0.567599750328596,
          0.548401180048776,
          0.5426977996994083,
          0.5496996347660562,
          0.5501905073700936,
          0.5683392412746048,
          0.5454350483339132,
          0.5349965077105865,
          0.5456988167855018,
          0.5450286390539077,
          0.5422647820352348,
          0.5579137531641825,
          0.5479027882456267,
          0.548551657023852,
          0.5512079312316668,
          0.5537220886868666,
          0.5516469687758445,
          0.5457713009033617,
          0.5537185100139081,
          0.5437555990237616,
          0.551153788327193,
          0.5509787209705359,
          0.548740527404925,
          0.547541388473902,
          0.5451009693943225
         ],
         "yaxis": "y2"
        }
       ],
       "layout": {
        "annotations": [
         {
          "font": {
           "size": 16
          },
          "showarrow": false,
          "text": "Inertia vs Number of Clusters",
          "x": 0.225,
          "xanchor": "center",
          "xref": "paper",
          "y": 1,
          "yanchor": "bottom",
          "yref": "paper"
         },
         {
          "font": {
           "size": 16
          },
          "showarrow": false,
          "text": "Silhouette Score vs Number of Clusters",
          "x": 0.775,
          "xanchor": "center",
          "xref": "paper",
          "y": 1,
          "yanchor": "bottom",
          "yref": "paper"
         }
        ],
        "showlegend": false,
        "template": {
         "data": {
          "bar": [
           {
            "error_x": {
             "color": "#2a3f5f"
            },
            "error_y": {
             "color": "#2a3f5f"
            },
            "marker": {
             "line": {
              "color": "#E5ECF6",
              "width": 0.5
             },
             "pattern": {
              "fillmode": "overlay",
              "size": 10,
              "solidity": 0.2
             }
            },
            "type": "bar"
           }
          ],
          "barpolar": [
           {
            "marker": {
             "line": {
              "color": "#E5ECF6",
              "width": 0.5
             },
             "pattern": {
              "fillmode": "overlay",
              "size": 10,
              "solidity": 0.2
             }
            },
            "type": "barpolar"
           }
          ],
          "carpet": [
           {
            "aaxis": {
             "endlinecolor": "#2a3f5f",
             "gridcolor": "white",
             "linecolor": "white",
             "minorgridcolor": "white",
             "startlinecolor": "#2a3f5f"
            },
            "baxis": {
             "endlinecolor": "#2a3f5f",
             "gridcolor": "white",
             "linecolor": "white",
             "minorgridcolor": "white",
             "startlinecolor": "#2a3f5f"
            },
            "type": "carpet"
           }
          ],
          "choropleth": [
           {
            "colorbar": {
             "outlinewidth": 0,
             "ticks": ""
            },
            "type": "choropleth"
           }
          ],
          "contour": [
           {
            "colorbar": {
             "outlinewidth": 0,
             "ticks": ""
            },
            "colorscale": [
             [
              0,
              "#0d0887"
             ],
             [
              0.1111111111111111,
              "#46039f"
             ],
             [
              0.2222222222222222,
              "#7201a8"
             ],
             [
              0.3333333333333333,
              "#9c179e"
             ],
             [
              0.4444444444444444,
              "#bd3786"
             ],
             [
              0.5555555555555556,
              "#d8576b"
             ],
             [
              0.6666666666666666,
              "#ed7953"
             ],
             [
              0.7777777777777778,
              "#fb9f3a"
             ],
             [
              0.8888888888888888,
              "#fdca26"
             ],
             [
              1,
              "#f0f921"
             ]
            ],
            "type": "contour"
           }
          ],
          "contourcarpet": [
           {
            "colorbar": {
             "outlinewidth": 0,
             "ticks": ""
            },
            "type": "contourcarpet"
           }
          ],
          "heatmap": [
           {
            "colorbar": {
             "outlinewidth": 0,
             "ticks": ""
            },
            "colorscale": [
             [
              0,
              "#0d0887"
             ],
             [
              0.1111111111111111,
              "#46039f"
             ],
             [
              0.2222222222222222,
              "#7201a8"
             ],
             [
              0.3333333333333333,
              "#9c179e"
             ],
             [
              0.4444444444444444,
              "#bd3786"
             ],
             [
              0.5555555555555556,
              "#d8576b"
             ],
             [
              0.6666666666666666,
              "#ed7953"
             ],
             [
              0.7777777777777778,
              "#fb9f3a"
             ],
             [
              0.8888888888888888,
              "#fdca26"
             ],
             [
              1,
              "#f0f921"
             ]
            ],
            "type": "heatmap"
           }
          ],
          "heatmapgl": [
           {
            "colorbar": {
             "outlinewidth": 0,
             "ticks": ""
            },
            "colorscale": [
             [
              0,
              "#0d0887"
             ],
             [
              0.1111111111111111,
              "#46039f"
             ],
             [
              0.2222222222222222,
              "#7201a8"
             ],
             [
              0.3333333333333333,
              "#9c179e"
             ],
             [
              0.4444444444444444,
              "#bd3786"
             ],
             [
              0.5555555555555556,
              "#d8576b"
             ],
             [
              0.6666666666666666,
              "#ed7953"
             ],
             [
              0.7777777777777778,
              "#fb9f3a"
             ],
             [
              0.8888888888888888,
              "#fdca26"
             ],
             [
              1,
              "#f0f921"
             ]
            ],
            "type": "heatmapgl"
           }
          ],
          "histogram": [
           {
            "marker": {
             "pattern": {
              "fillmode": "overlay",
              "size": 10,
              "solidity": 0.2
             }
            },
            "type": "histogram"
           }
          ],
          "histogram2d": [
           {
            "colorbar": {
             "outlinewidth": 0,
             "ticks": ""
            },
            "colorscale": [
             [
              0,
              "#0d0887"
             ],
             [
              0.1111111111111111,
              "#46039f"
             ],
             [
              0.2222222222222222,
              "#7201a8"
             ],
             [
              0.3333333333333333,
              "#9c179e"
             ],
             [
              0.4444444444444444,
              "#bd3786"
             ],
             [
              0.5555555555555556,
              "#d8576b"
             ],
             [
              0.6666666666666666,
              "#ed7953"
             ],
             [
              0.7777777777777778,
              "#fb9f3a"
             ],
             [
              0.8888888888888888,
              "#fdca26"
             ],
             [
              1,
              "#f0f921"
             ]
            ],
            "type": "histogram2d"
           }
          ],
          "histogram2dcontour": [
           {
            "colorbar": {
             "outlinewidth": 0,
             "ticks": ""
            },
            "colorscale": [
             [
              0,
              "#0d0887"
             ],
             [
              0.1111111111111111,
              "#46039f"
             ],
             [
              0.2222222222222222,
              "#7201a8"
             ],
             [
              0.3333333333333333,
              "#9c179e"
             ],
             [
              0.4444444444444444,
              "#bd3786"
             ],
             [
              0.5555555555555556,
              "#d8576b"
             ],
             [
              0.6666666666666666,
              "#ed7953"
             ],
             [
              0.7777777777777778,
              "#fb9f3a"
             ],
             [
              0.8888888888888888,
              "#fdca26"
             ],
             [
              1,
              "#f0f921"
             ]
            ],
            "type": "histogram2dcontour"
           }
          ],
          "mesh3d": [
           {
            "colorbar": {
             "outlinewidth": 0,
             "ticks": ""
            },
            "type": "mesh3d"
           }
          ],
          "parcoords": [
           {
            "line": {
             "colorbar": {
              "outlinewidth": 0,
              "ticks": ""
             }
            },
            "type": "parcoords"
           }
          ],
          "pie": [
           {
            "automargin": true,
            "type": "pie"
           }
          ],
          "scatter": [
           {
            "fillpattern": {
             "fillmode": "overlay",
             "size": 10,
             "solidity": 0.2
            },
            "type": "scatter"
           }
          ],
          "scatter3d": [
           {
            "line": {
             "colorbar": {
              "outlinewidth": 0,
              "ticks": ""
             }
            },
            "marker": {
             "colorbar": {
              "outlinewidth": 0,
              "ticks": ""
             }
            },
            "type": "scatter3d"
           }
          ],
          "scattercarpet": [
           {
            "marker": {
             "colorbar": {
              "outlinewidth": 0,
              "ticks": ""
             }
            },
            "type": "scattercarpet"
           }
          ],
          "scattergeo": [
           {
            "marker": {
             "colorbar": {
              "outlinewidth": 0,
              "ticks": ""
             }
            },
            "type": "scattergeo"
           }
          ],
          "scattergl": [
           {
            "marker": {
             "colorbar": {
              "outlinewidth": 0,
              "ticks": ""
             }
            },
            "type": "scattergl"
           }
          ],
          "scattermapbox": [
           {
            "marker": {
             "colorbar": {
              "outlinewidth": 0,
              "ticks": ""
             }
            },
            "type": "scattermapbox"
           }
          ],
          "scatterpolar": [
           {
            "marker": {
             "colorbar": {
              "outlinewidth": 0,
              "ticks": ""
             }
            },
            "type": "scatterpolar"
           }
          ],
          "scatterpolargl": [
           {
            "marker": {
             "colorbar": {
              "outlinewidth": 0,
              "ticks": ""
             }
            },
            "type": "scatterpolargl"
           }
          ],
          "scatterternary": [
           {
            "marker": {
             "colorbar": {
              "outlinewidth": 0,
              "ticks": ""
             }
            },
            "type": "scatterternary"
           }
          ],
          "surface": [
           {
            "colorbar": {
             "outlinewidth": 0,
             "ticks": ""
            },
            "colorscale": [
             [
              0,
              "#0d0887"
             ],
             [
              0.1111111111111111,
              "#46039f"
             ],
             [
              0.2222222222222222,
              "#7201a8"
             ],
             [
              0.3333333333333333,
              "#9c179e"
             ],
             [
              0.4444444444444444,
              "#bd3786"
             ],
             [
              0.5555555555555556,
              "#d8576b"
             ],
             [
              0.6666666666666666,
              "#ed7953"
             ],
             [
              0.7777777777777778,
              "#fb9f3a"
             ],
             [
              0.8888888888888888,
              "#fdca26"
             ],
             [
              1,
              "#f0f921"
             ]
            ],
            "type": "surface"
           }
          ],
          "table": [
           {
            "cells": {
             "fill": {
              "color": "#EBF0F8"
             },
             "line": {
              "color": "white"
             }
            },
            "header": {
             "fill": {
              "color": "#C8D4E3"
             },
             "line": {
              "color": "white"
             }
            },
            "type": "table"
           }
          ]
         },
         "layout": {
          "annotationdefaults": {
           "arrowcolor": "#2a3f5f",
           "arrowhead": 0,
           "arrowwidth": 1
          },
          "autotypenumbers": "strict",
          "coloraxis": {
           "colorbar": {
            "outlinewidth": 0,
            "ticks": ""
           }
          },
          "colorscale": {
           "diverging": [
            [
             0,
             "#8e0152"
            ],
            [
             0.1,
             "#c51b7d"
            ],
            [
             0.2,
             "#de77ae"
            ],
            [
             0.3,
             "#f1b6da"
            ],
            [
             0.4,
             "#fde0ef"
            ],
            [
             0.5,
             "#f7f7f7"
            ],
            [
             0.6,
             "#e6f5d0"
            ],
            [
             0.7,
             "#b8e186"
            ],
            [
             0.8,
             "#7fbc41"
            ],
            [
             0.9,
             "#4d9221"
            ],
            [
             1,
             "#276419"
            ]
           ],
           "sequential": [
            [
             0,
             "#0d0887"
            ],
            [
             0.1111111111111111,
             "#46039f"
            ],
            [
             0.2222222222222222,
             "#7201a8"
            ],
            [
             0.3333333333333333,
             "#9c179e"
            ],
            [
             0.4444444444444444,
             "#bd3786"
            ],
            [
             0.5555555555555556,
             "#d8576b"
            ],
            [
             0.6666666666666666,
             "#ed7953"
            ],
            [
             0.7777777777777778,
             "#fb9f3a"
            ],
            [
             0.8888888888888888,
             "#fdca26"
            ],
            [
             1,
             "#f0f921"
            ]
           ],
           "sequentialminus": [
            [
             0,
             "#0d0887"
            ],
            [
             0.1111111111111111,
             "#46039f"
            ],
            [
             0.2222222222222222,
             "#7201a8"
            ],
            [
             0.3333333333333333,
             "#9c179e"
            ],
            [
             0.4444444444444444,
             "#bd3786"
            ],
            [
             0.5555555555555556,
             "#d8576b"
            ],
            [
             0.6666666666666666,
             "#ed7953"
            ],
            [
             0.7777777777777778,
             "#fb9f3a"
            ],
            [
             0.8888888888888888,
             "#fdca26"
            ],
            [
             1,
             "#f0f921"
            ]
           ]
          },
          "colorway": [
           "#636efa",
           "#EF553B",
           "#00cc96",
           "#ab63fa",
           "#FFA15A",
           "#19d3f3",
           "#FF6692",
           "#B6E880",
           "#FF97FF",
           "#FECB52"
          ],
          "font": {
           "color": "#2a3f5f"
          },
          "geo": {
           "bgcolor": "white",
           "lakecolor": "white",
           "landcolor": "#E5ECF6",
           "showlakes": true,
           "showland": true,
           "subunitcolor": "white"
          },
          "hoverlabel": {
           "align": "left"
          },
          "hovermode": "closest",
          "mapbox": {
           "style": "light"
          },
          "paper_bgcolor": "white",
          "plot_bgcolor": "#E5ECF6",
          "polar": {
           "angularaxis": {
            "gridcolor": "white",
            "linecolor": "white",
            "ticks": ""
           },
           "bgcolor": "#E5ECF6",
           "radialaxis": {
            "gridcolor": "white",
            "linecolor": "white",
            "ticks": ""
           }
          },
          "scene": {
           "xaxis": {
            "backgroundcolor": "#E5ECF6",
            "gridcolor": "white",
            "gridwidth": 2,
            "linecolor": "white",
            "showbackground": true,
            "ticks": "",
            "zerolinecolor": "white"
           },
           "yaxis": {
            "backgroundcolor": "#E5ECF6",
            "gridcolor": "white",
            "gridwidth": 2,
            "linecolor": "white",
            "showbackground": true,
            "ticks": "",
            "zerolinecolor": "white"
           },
           "zaxis": {
            "backgroundcolor": "#E5ECF6",
            "gridcolor": "white",
            "gridwidth": 2,
            "linecolor": "white",
            "showbackground": true,
            "ticks": "",
            "zerolinecolor": "white"
           }
          },
          "shapedefaults": {
           "line": {
            "color": "#2a3f5f"
           }
          },
          "ternary": {
           "aaxis": {
            "gridcolor": "white",
            "linecolor": "white",
            "ticks": ""
           },
           "baxis": {
            "gridcolor": "white",
            "linecolor": "white",
            "ticks": ""
           },
           "bgcolor": "#E5ECF6",
           "caxis": {
            "gridcolor": "white",
            "linecolor": "white",
            "ticks": ""
           }
          },
          "title": {
           "x": 0.05
          },
          "xaxis": {
           "automargin": true,
           "gridcolor": "white",
           "linecolor": "white",
           "ticks": "",
           "title": {
            "standoff": 15
           },
           "zerolinecolor": "white",
           "zerolinewidth": 2
          },
          "yaxis": {
           "automargin": true,
           "gridcolor": "white",
           "linecolor": "white",
           "ticks": "",
           "title": {
            "standoff": 15
           },
           "zerolinecolor": "white",
           "zerolinewidth": 2
          }
         }
        },
        "title": {
         "text": "K-Means Clustering Evaluation: Elbow Method"
        },
        "xaxis": {
         "anchor": "y",
         "domain": [
          0,
          0.45
         ],
         "title": {
          "text": "Number of Clusters"
         }
        },
        "xaxis2": {
         "anchor": "y2",
         "domain": [
          0.55,
          1
         ],
         "title": {
          "text": "Number of Clusters"
         }
        },
        "yaxis": {
         "anchor": "x",
         "domain": [
          0,
          1
         ],
         "title": {
          "text": "Inertia"
         }
        },
        "yaxis2": {
         "anchor": "x2",
         "domain": [
          0,
          1
         ],
         "title": {
          "text": "Silhouette Score"
         }
        }
       }
      }
     },
     "metadata": {},
     "output_type": "display_data"
    }
   ],
   "source": [
    "# Elbow method to determine the optimal number of clusters\n",
    "# --------------------------------------------------------------------------------------\n",
    "\n",
    "# Create subplots using make_subplots\n",
    "titles = (\"Inertia vs Number of Clusters\", \"Silhouette Score vs Number of Clusters\")\n",
    "fig = sp.make_subplots(rows=1, cols=2, subplot_titles=titles)\n",
    "\n",
    "# Plotting inertia values\n",
    "trace = go.Scatter(x=list(ks), y=inertia, mode=\"lines+markers\", name=\"Inertia\")\n",
    "fig.add_trace(trace, row=1, col=1)\n",
    "\n",
    "# Plotting silhouette scores\n",
    "trace = go.Scatter(x=list(ks), y=silhouette, mode=\"lines+markers\", name=\"Silhouette Score\")\n",
    "fig.add_trace(trace, row=1, col=2)\n",
    "\n",
    "fig.update_xaxes(title_text=\"Number of Clusters\", row=1, col=1)\n",
    "fig.update_yaxes(title_text=\"Inertia\", row=1, col=1)\n",
    "fig.update_xaxes(title_text=\"Number of Clusters\", row=1, col=2)\n",
    "fig.update_yaxes(title_text=\"Silhouette Score\", row=1, col=2)\n",
    "fig.update_layout(title=\"K-Means Clustering Evaluation: Elbow Method\", showlegend=False)\n",
    "\n",
    "fig.show()"
   ]
  },
  {
   "cell_type": "code",
   "execution_count": 25,
   "metadata": {},
   "outputs": [
    {
     "name": "stdout",
     "output_type": "stream",
     "text": [
      "k: 48\n",
      "-----\n",
      "Columns: ['latitude', 'longitude']\n",
      "Silhouette coefficient: 0.572\n",
      "\n",
      "k: 57\n",
      "-----\n",
      "Columns: ['latitude', 'longitude']\n",
      "Silhouette coefficient: 0.575\n",
      "\n",
      "k: 70\n",
      "-----\n",
      "Columns: ['latitude', 'longitude']\n",
      "Silhouette coefficient: 0.579\n",
      "\n"
     ]
    }
   ],
   "source": [
    "# Build top 3 models according to silhouette score\n",
    "# --------------------------------------------------------------------------------------\n",
    "\n",
    "ks = [48, 57, 70]\n",
    "for i, k in enumerate(ks):\n",
    "    header = f\"k: {k}\"\n",
    "    print(header)\n",
    "    print(\"-\" * len(header))\n",
    "    print(f\"Columns: {columns}\")\n",
    "\n",
    "    X = preprocessed[columns].values\n",
    "\n",
    "    model = KMeans(n_clusters=k, random_state=42)\n",
    "    model.fit(X)\n",
    "\n",
    "    # Number of clusters in labels, ignoring noise if present.\n",
    "    labels = model.labels_\n",
    "    score = metrics.silhouette_score(X, labels)\n",
    "\n",
    "    dst = f\"../output/d-modeling/knn-{k}-{i}\"\n",
    "    title = (\n",
    "        f\"k: {k}, score: {score:.3f}<br>\"\n",
    "        f\"columns: {columns}\"\n",
    "    )\n",
    "\n",
    "    print(f\"Silhouette coefficient: {score:.3f}\\n\")\n",
    "    plot(raw, labels, dst, title)"
   ]
  },
  {
   "cell_type": "code",
   "execution_count": null,
   "metadata": {},
   "outputs": [],
   "source": [
    "# TODO: Build final model: regioes\n",
    "# --------------------------------------------------------------------------------------\n",
    "\n",
    "EPS = None\n",
    "MIN_SAMPLES = None\n",
    "COLUMNS = None\n",
    "METRIC = \"euclidean\"\n",
    "\n",
    "length = len(preprocessed)\n",
    "\n",
    "header = f\"metric: {METRIC}, eps: {EPS}, min_samples: {MIN_SAMPLES}\"\n",
    "print(header)\n",
    "print(\"-\" * len(header))\n",
    "\n",
    "X_train = preprocessed[COLUMNS].values\n",
    "\n",
    "model = DBSCAN(eps=EPS, min_samples=MIN_SAMPLES, metric=METRIC)\n",
    "model.fit(X_train)\n",
    "\n",
    "# Number of clusters in labels, ignoring noise if present\n",
    "labels = model.labels_\n",
    "n_clusters = len(set(labels)) - (1 if -1 in labels else 0)\n",
    "n_noise = list(labels).count(-1)\n",
    "score = metrics.silhouette_score(X_train, labels)\n",
    "\n",
    "title = f\"n_clusters: {n_clusters}, n_noise: {n_noise}, score: {score:.3f}\"\n",
    "\n",
    "print(f\"Columns: {columns}\")\n",
    "print(f\"Estimated number of clusters: {n_clusters}\")\n",
    "print(f\"Estimated number of noise points: {n_noise}\")\n",
    "print(f\"Silhouette coefficient: {score:.3f}\\n\")\n",
    "\n",
    "# Save dataset with cluster column to csv\n",
    "# --------------------------------------------------------------------------------------\n",
    "\n",
    "raw[\"cluster\"] = model.labels_\n",
    "raw.to_csv(f\"../data/d-modeling/{YEAR}-regioes.csv\", index=False)"
   ]
  }
 ],
 "metadata": {
  "kernelspec": {
   "display_name": ".venv",
   "language": "python",
   "name": "python3"
  },
  "language_info": {
   "codemirror_mode": {
    "name": "ipython",
    "version": 3
   },
   "file_extension": ".py",
   "mimetype": "text/x-python",
   "name": "python",
   "nbconvert_exporter": "python",
   "pygments_lexer": "ipython3",
   "version": "3.10.12"
  },
  "orig_nbformat": 4
 },
 "nbformat": 4,
 "nbformat_minor": 2
}
