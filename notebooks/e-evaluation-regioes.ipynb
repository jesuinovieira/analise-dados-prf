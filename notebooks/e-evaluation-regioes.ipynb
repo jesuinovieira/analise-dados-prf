{
 "cells": [
  {
   "cell_type": "code",
   "execution_count": null,
   "metadata": {},
   "outputs": [],
   "source": [
    "# EVALUATION\n",
    "# --------------------------------------------------------------------------------------\n",
    "\n",
    "# Evaluate results: Do the models meet the business success criteria? Which one(s)\n",
    "# should we approve for the business?\n",
    "# \n",
    "# Review process: Review the work accomplished. Was anything overlooked? Were all steps\n",
    "# properly executed? Summarize findings and correct anything if needed.\n",
    "# \n",
    "# Determine next steps: Based on the previous three tasks, determine whether to proceed\n",
    "# to deployment, iterate further, or initiate new projects."
   ]
  },
  {
   "cell_type": "code",
   "execution_count": null,
   "metadata": {},
   "outputs": [],
   "source": [
    "# CONCLUSIONS\n",
    "# --------------------------------------------------------------------------------------\n",
    "\n",
    "# - ..."
   ]
  },
  {
   "cell_type": "code",
   "execution_count": 38,
   "metadata": {},
   "outputs": [],
   "source": [
    "import os\n",
    "\n",
    "import matplotlib.pyplot as plt\n",
    "import numpy as np\n",
    "import pandas as pd\n",
    "\n",
    "YEAR = \"2021\"\n",
    "\n",
    "os.makedirs(f\"../output/e-evaluation\", exist_ok=True)\n",
    "os.makedirs(f\"../data/e-evaluation\", exist_ok=True)\n",
    "\n",
    "pd.set_option(\"display.max_columns\", None)\n",
    "pd.set_option(\"display.expand_frame_repr\", False)"
   ]
  },
  {
   "cell_type": "code",
   "execution_count": 39,
   "metadata": {},
   "outputs": [
    {
     "name": "stdout",
     "output_type": "stream",
     "text": [
      "    dia_semana  uf     br     km              municipio                                     causa_acidente              tipo_acidente classificacao_acidente     fase_dia  sentido_via condicao_metereologica tipo_pista    tracado_via uso_solo  pessoas  mortos  feridos_leves  feridos_graves  ilesos  ignorados  feridos  veiculos   latitude  longitude regional delegacia             uop   ano  mes  dia  hora  minuto  cluster\n",
      "0  sexta-feira  PR  277.0   51.3   SAO JOSE DOS PINHAIS                                 Pista Escorregadia  Saída de leito carroçável    Com Vítimas Feridas    Pleno dia  Decrescente         Garoa/Chuvisco      Dupla          Curva      Não        4       0              1               0       3          0        1         3 -25.595160 -48.907008  SPRF-PR  DEL01-PR  UOP05-DEL01-PR  2021    1    1    15      45       30\n",
      "1  sexta-feira  SC  470.0   79.1                INDAIAL                             Transitar na contramão            Colisão frontal     Com Vítimas Fatais    Pleno dia    Crescente                Nublado    Simples           Reta      Não        9       2              5               1       0          1        6         3 -26.951565 -49.306534  SPRF-SC  DEL04-SC  UOP01-DEL04-SC  2021    1    1    17      10       46\n",
      "2  sexta-feira  SC  470.0  130.0                LONTRAS  Acessar a via sem observar a presença dos outr...        Colisão transversal    Com Vítimas Feridas  Plena Noite  Decrescente                Nublado    Simples  Não Informado      Sim        4       0              0               2       2          0        2         2 -27.160376 -49.556580  SPRF-SC  DEL04-SC  UOP02-DEL04-SC  2021    1    1    19      50       22\n",
      "3  sexta-feira  PR  116.0   59.0  CAMPINA GRANDE DO SUL                      Entrada inopinada do pedestre  Atropelamento de Pedestre     Com Vítimas Fatais  Plena Noite    Crescente                  Chuva      Dupla  Não Informado      Sim        2       1              0               0       1          0        0         1 -25.303357 -48.943789  SPRF-PR  DEL01-PR  UOP02-DEL01-PR  2021    1    1    20      40       30\n",
      "4       sábado  SC  101.0  112.0                 ITAJAI  Trafegar com motocicleta (ou similar) entre as...           Colisão traseira    Com Vítimas Feridas    Pleno dia  Decrescente                    Sol      Dupla  Não Informado      Não        4       0              1               1       2          0        2         3 -26.845890 -48.721313  SPRF-SC  DEL04-SC  UOP04-DEL04-SC  2021    1    2     9      25        9\n"
     ]
    }
   ],
   "source": [
    "# Read data and convert to the appropriate types\n",
    "# --------------------------------------------------------------------------------------\n",
    "\n",
    "file = f\"../data/d-modeling/{YEAR}-regioes.csv\"\n",
    "\n",
    "dtypes = {\n",
    "    # \"id\": \"Int64\",\n",
    "    # \"data_inversa\": \"datetime64[ns]\",\n",
    "    \"dia_semana\": \"category\",\n",
    "    # \"horario\": \"datetime64[ns]\",\n",
    "    \"uf\": \"category\",\n",
    "    \"br\": \"category\",\n",
    "    \"km\": \"float64\",\n",
    "    \"municipio\": \"category\",\n",
    "    \"causa_acidente\": \"category\",\n",
    "    \"tipo_acidente\": \"category\",\n",
    "    \"classificacao_acidente\": \"category\",\n",
    "    \"fase_dia\": \"category\",\n",
    "    \"sentido_via\": \"category\",\n",
    "    \"condicao_metereologica\": \"category\",\n",
    "    \"tipo_pista\": \"category\",\n",
    "    \"tracado_via\": \"category\",\n",
    "    \"uso_solo\": \"category\",\n",
    "    \"pessoas\": \"Int64\",\n",
    "    \"mortos\": \"Int64\",\n",
    "    \"feridos_leves\": \"Int64\",\n",
    "    \"feridos_graves\": \"Int64\",\n",
    "    \"ilesos\": \"Int64\",\n",
    "    \"ignorados\": \"Int64\",\n",
    "    \"feridos\": \"Int64\",\n",
    "    \"veiculos\": \"Int64\",\n",
    "    \"latitude\": \"float64\",\n",
    "    \"longitude\": \"float64\",\n",
    "    \"regional\": \"category\",\n",
    "    \"delegacia\": \"category\",\n",
    "    \"uop\": \"category\",\n",
    "    \"ano\": \"Int64\",\n",
    "    \"dia\": \"Int64\",\n",
    "    \"mes\": \"Int64\",\n",
    "    \"hora\": \"Int64\",\n",
    "    \"minuto\": \"Int64\",\n",
    "}\n",
    "\n",
    "df = pd.read_csv(file)\n",
    "df = df.astype(dtypes)\n",
    "\n",
    "print(df.head())"
   ]
  },
  {
   "cell_type": "code",
   "execution_count": 40,
   "metadata": {},
   "outputs": [
    {
     "data": {
      "text/plain": [
       "3     10999\n",
       "7      3832\n",
       "1      3739\n",
       "13     1061\n",
       "Name: severidade, dtype: int64"
      ]
     },
     "execution_count": 40,
     "metadata": {},
     "output_type": "execute_result"
    }
   ],
   "source": [
    "# Compute severity of each row\n",
    "# --------------------------------------------------------------------------------------\n",
    "\n",
    "# TODO: add this to preprocessing\n",
    "\n",
    "# Define a function to determine the severity based on the given conditions\n",
    "def get_severity(row):\n",
    "    if row.mortos > 0:\n",
    "        return 13\n",
    "    elif row.feridos_graves > 0:\n",
    "        return 7\n",
    "    elif row.feridos_leves > 0:\n",
    "        return 3\n",
    "    elif row.ilesos > 0:\n",
    "        return 1\n",
    "    if row.classificacao_acidente == \"Com Vítimas Fatais\":\n",
    "        return 13\n",
    "    elif row.classificacao_acidente == \"Com Vítimas Feridas\":\n",
    "        return 5\n",
    "    elif row.classificacao_acidente == \"Sem Vítimas\":\n",
    "        return 1\n",
    "    else:\n",
    "        return 0\n",
    "\n",
    "# Apply the function to create the \"severidade\" column\n",
    "df[\"severidade\"] = df.apply(get_severity, axis=1)\n",
    "df.severidade.value_counts()"
   ]
  },
  {
   "cell_type": "code",
   "execution_count": 61,
   "metadata": {},
   "outputs": [
    {
     "name": "stdout",
     "output_type": "stream",
     "text": [
      "    cluster       mes        dia       hora  severidade  size  kilometers     ratio   dia_semana condicao_metereologica tipo_pista   fase_dia tracado_via                                     causa_acidente              tipo_acidente\n",
      "29       29  6.520408  14.908163  13.081633    4.367347    98       111.0  0.039345  sexta-feira              Céu Claro      Dupla  Pleno dia        Reta           Reação tardia ou ineficiente do condutor  Saída de leito carroçável\n",
      "15       15  6.335593  14.715254  13.015254    3.976271   590       110.5  0.035984       sábado              Céu Claro      Dupla  Pleno dia        Reta           Reação tardia ou ineficiente do condutor           Colisão traseira\n",
      "46       46  6.239787  15.596803  13.420959    4.172291   563       124.1  0.033620  sexta-feira              Céu Claro    Simples  Pleno dia        Reta                     Ausência de reação do condutor        Colisão transversal\n",
      "47       47  6.635514  16.495327  12.757009    4.214953   107       137.7  0.030610       sábado              Céu Claro    Simples  Pleno dia        Reta  Acessar a via sem observar a presença dos outr...  Saída de leito carroçável\n",
      "19       19  6.820225  15.329588  13.853933    3.659176   267       126.2  0.028995       sábado              Céu Claro    Simples  Pleno dia        Reta  Acessar a via sem observar a presença dos outr...        Colisão transversal\n",
      "23       23  6.538071  15.304569  12.588832    3.923858   197       137.3  0.028579       sábado              Céu Claro      Dupla  Pleno dia        Reta           Reação tardia ou ineficiente do condutor  Saída de leito carroçável\n",
      "38       38   6.66537  15.533074  13.342412    3.521401   257       131.9  0.026698       sábado              Céu Claro    Simples  Pleno dia       Curva                            Velocidade Incompatível        Colisão transversal\n",
      "35       35  6.134615  14.576923  12.534615    3.961538   260       148.5  0.026677       sábado              Céu Claro    Simples  Pleno dia        Reta  Acessar a via sem observar a presença dos outr...  Saída de leito carroçável\n",
      "22       22  6.539256  15.516529      12.75    3.950413   484       161.7  0.024431       sábado              Céu Claro    Simples  Pleno dia        Reta                            Velocidade Incompatível        Colisão transversal\n",
      "34       34   6.42069  15.172414  12.268966    4.034483   145       170.9  0.023607      domingo              Céu Claro    Simples  Pleno dia        Reta           Reação tardia ou ineficiente do condutor  Saída de leito carroçável\n"
     ]
    }
   ],
   "source": [
    "# Compute cluster metrics\n",
    "# --------------------------------------------------------------------------------------\n",
    "\n",
    "# Separate columns by data type\n",
    "numericals = df._get_numeric_data().columns\n",
    "categoricals = set(df.columns) - set(numericals)\n",
    "\n",
    "# Define aggregation functions based on column type\n",
    "aggregation = {col: \"mean\" for col in numericals if col != \"cluster\"}\n",
    "aggregation.update({col: lambda x: x.mode().iloc[0] for col in categoricals})\n",
    "\n",
    "# Apply aggregation functions\n",
    "clusters = df.groupby(\"cluster\")\n",
    "metrics = clusters.agg(aggregation).reset_index()\n",
    "\n",
    "metrics[\"size\"] = clusters.size().reset_index(name=\"size\")[\"size\"]\n",
    "\n",
    "# Drop columns that won't be investigated\n",
    "to_drop = [\"latitude\", \"longitude\", \"ano\", \"km\", \"br\", \"municipio\", \"sentido_via\", \"uso_solo\", \"regional\", \"delegacia\", \"uop\", \"pessoas\", \"mortos\", \"feridos_leves\", \"feridos_graves\", \"ilesos\", \"ignorados\", \"feridos\", \"veiculos\", \"minuto\", \"uf\", \"classificacao_acidente\"]\n",
    "metrics = metrics.drop(columns=to_drop)\n",
    "\n",
    "# Sort metrics\n",
    "# ======================================================================================\n",
    "# NOTE: normalize by severidade / kilometers\n",
    "kms = (\n",
    "    df.groupby([\"cluster\", \"br\"])[\"km\"]\n",
    "    .apply(lambda x: abs(x.max() - x.min()))\n",
    "    .groupby(\"cluster\")\n",
    "    .sum()\n",
    "    .reset_index(name=\"kilometers\")\n",
    ")\n",
    "\n",
    "metrics[\"kilometers\"] = kms.sort_values(by=\"kilometers\", ascending=False).kilometers\n",
    "metrics = metrics.assign(ratio=lambda x: x.severidade / x.kilometers)\n",
    "metrics = metrics.sort_values(by=\"ratio\", ascending=False)\n",
    "\n",
    "# NOTE: normalize by severidade\n",
    "# metrics = metrics.sort_values(by=\"severidade\", ascending=False)\n",
    "# ======================================================================================\n",
    "\n",
    "# Sort the columns: numericals first, categoricals later\n",
    "numericals = metrics._get_numeric_data().columns\n",
    "categoricals = set(metrics.columns) - set(numericals)\n",
    "columns = list(numericals) + list(categoricals)\n",
    "metrics = metrics[columns]\n",
    "\n",
    "top3 = metrics.cluster.head(3).to_list()\n",
    "top6 = metrics.cluster.head(6).to_list()\n",
    "\n",
    "print(metrics.head(10))"
   ]
  },
  {
   "cell_type": "code",
   "execution_count": 52,
   "metadata": {},
   "outputs": [
    {
     "name": "stdout",
     "output_type": "stream",
     "text": [
      "    cluster       mes        dia       hora  severidade  size  kilometers     ratio   dia_semana condicao_metereologica tipo_pista   fase_dia tracado_via                                     causa_acidente              tipo_acidente\n",
      "29       29  6.520408  14.908163  13.081633    4.367347    98       111.0  0.039345  sexta-feira              Céu Claro      Dupla  Pleno dia        Reta           Reação tardia ou ineficiente do condutor  Saída de leito carroçável\n",
      "15       15  6.335593  14.715254  13.015254    3.976271   590       110.5  0.035984       sábado              Céu Claro      Dupla  Pleno dia        Reta           Reação tardia ou ineficiente do condutor           Colisão traseira\n",
      "46       46  6.239787  15.596803  13.420959    4.172291   563       124.1  0.033620  sexta-feira              Céu Claro    Simples  Pleno dia        Reta                     Ausência de reação do condutor        Colisão transversal\n",
      "47       47  6.635514  16.495327  12.757009    4.214953   107       137.7  0.030610       sábado              Céu Claro    Simples  Pleno dia        Reta  Acessar a via sem observar a presença dos outr...  Saída de leito carroçável\n",
      "19       19  6.820225  15.329588  13.853933    3.659176   267       126.2  0.028995       sábado              Céu Claro    Simples  Pleno dia        Reta  Acessar a via sem observar a presença dos outr...        Colisão transversal\n",
      "23       23  6.538071  15.304569  12.588832    3.923858   197       137.3  0.028579       sábado              Céu Claro      Dupla  Pleno dia        Reta           Reação tardia ou ineficiente do condutor  Saída de leito carroçável\n",
      "38       38   6.66537  15.533074  13.342412    3.521401   257       131.9  0.026698       sábado              Céu Claro    Simples  Pleno dia       Curva                            Velocidade Incompatível        Colisão transversal\n",
      "35       35  6.134615  14.576923  12.534615    3.961538   260       148.5  0.026677       sábado              Céu Claro    Simples  Pleno dia        Reta  Acessar a via sem observar a presença dos outr...  Saída de leito carroçável\n",
      "22       22  6.539256  15.516529      12.75    3.950413   484       161.7  0.024431       sábado              Céu Claro    Simples  Pleno dia        Reta                            Velocidade Incompatível        Colisão transversal\n",
      "34       34   6.42069  15.172414  12.268966    4.034483   145       170.9  0.023607      domingo              Céu Claro    Simples  Pleno dia        Reta           Reação tardia ou ineficiente do condutor  Saída de leito carroçável\n"
     ]
    }
   ],
   "source": [
    "# Sort metrics\n",
    "# --------------------------------------------------------------------------------------\n",
    "\n",
    "# NOTE: normalize by severidade / kilometers\n",
    "# ======================================================================================\n",
    "kms = (\n",
    "    # Group by \"cluster\" and \"br\" and selects the \"km\" column for further operations\n",
    "    df.groupby([\"cluster\", \"br\"])[\"km\"]\n",
    "    # Within each group (combination of \"cluster\" and \"br\"), compute the absolute \n",
    "    # difference between the maximum and minimum values of the \"km\" column\n",
    "    .apply(lambda x: abs(x.max() - x.min()))\n",
    "    # Group the resulting data by the \"cluster\" column alone and calculates the sum of\n",
    "    # the kilometers within each cluster\n",
    "    .groupby(\"cluster\")\n",
    "    .sum()\n",
    "    .reset_index(name=\"kilometers\")\n",
    ")\n",
    "\n",
    "metrics[\"kilometers\"] = kms.sort_values(by=\"kilometers\", ascending=False).kilometers\n",
    "metrics = metrics.assign(ratio=lambda x: x.severidade / x.kilometers)\n",
    "metrics = metrics.sort_values(by=\"ratio\", ascending=False)\n",
    "\n",
    "# NOTE: normalize by severidade\n",
    "# ======================================================================================\n",
    "# metrics = metrics.sort_values(by=\"severidade\", ascending=False)\n",
    "\n",
    "# Sort the columns and concatenate them\n",
    "sorted_columns = list(numericals) + list(categoricals)\n",
    "metrics = metrics[sorted_columns]\n",
    "\n",
    "top3 = metrics.cluster.head(3).to_list()\n",
    "top6 = metrics.cluster.head(6).to_list()\n",
    "\n",
    "print(metrics.head(10))"
   ]
  },
  {
   "cell_type": "code",
   "execution_count": null,
   "metadata": {},
   "outputs": [],
   "source": [
    "# OVERVIEW\n",
    "# --------------------------------------------------------------------------------------\n",
    "\n",
    "# - This table provides an overview of the high risk areas\n",
    "# - We can see that the conditions in which accidents occurs are similar\n",
    "# - From now on, top 3 clusters will be investigate in more detail"
   ]
  },
  {
   "cell_type": "code",
   "execution_count": 65,
   "metadata": {},
   "outputs": [
    {
     "data": {
      "application/vnd.plotly.v1+json": {
       "config": {
        "plotlyServerURL": "https://plot.ly"
       },
       "data": [
        {
         "lat": [
          -23.11487553,
          -22.99527855,
          -23.2034458,
          -23.23306496,
          -23.211239,
          -22.90587281,
          -23.14400328,
          -22.93977297,
          -23.04143749,
          -23.01926068,
          -23.16113812,
          -22.99751013,
          -22.859974,
          -22.99951,
          -23.241383,
          -22.92459,
          -23.19499451,
          -23.16113812,
          -23.22308103,
          -23.144151,
          -22.93186168,
          -23.11770767,
          -23.21631106,
          -23.09299653,
          -23.09860856,
          -23.19499451,
          -22.84503931,
          -23.07492893,
          -23.14972357,
          -22.95236778,
          -22.77715998,
          -23.07492893,
          -23.018194,
          -23.22308103,
          -23.14972357,
          -23.23251286,
          -23.240108,
          -23.21631106,
          -23.2314935,
          -23.13246724,
          -23.07213342,
          -23.247355,
          -23.04207745,
          -22.99612578,
          -23.135335,
          -23.19499451,
          -23.04907,
          -23.17504848,
          -23.14400328,
          -23.14400328,
          -23.09343108,
          -23.025883,
          -23.2036233,
          -22.95601934,
          -23.14400328,
          -22.982305,
          -23.19499451,
          -22.7872968,
          -23.008203,
          -23.09343108,
          -23.02280298,
          -22.99527855,
          -22.946144,
          -23.07492893,
          -23.05157684,
          -22.95601934,
          -23.01892218,
          -22.99527855,
          -23.14400328,
          -23.08978348,
          -23.09207,
          -23.0482793,
          -22.99527855,
          -23.174285,
          -23.06315623,
          -22.95601934,
          -23.24847,
          -22.86039784,
          -22.88689174,
          -22.79675583,
          -23.16113812,
          -23.11770767,
          -23.11371919,
          -23.21631106,
          -23.06897758,
          -22.93362262,
          -23.15542233,
          -23.17504848,
          -23.07229937,
          -23.12167316,
          -23.0148928,
          -23.20979042,
          -22.99751013,
          -22.93638517,
          -23.06551806,
          -23.00236363,
          -23.05093759,
          -22.793033
         ],
         "lon": [
          -52.32774138,
          -52.58495389,
          -52.19572306,
          -52.17505932,
          -52.191032,
          -52.90109587,
          -52.2818582,
          -52.73038499,
          -52.47358046,
          -52.50214436,
          -52.25908808,
          -52.57548503,
          -52.966373,
          -52.56714,
          -52.171261,
          -52.86518,
          -52.20268041,
          -52.25908808,
          -52.17896705,
          -52.28177,
          -52.75719397,
          -52.32130785,
          -52.18536405,
          -52.38452911,
          -52.36548988,
          -52.20268041,
          -52.98017934,
          -52.41720594,
          -52.27427368,
          -52.70561192,
          -52.98647228,
          -52.41720594,
          -52.504509,
          -52.17896705,
          -52.27427368,
          -52.17578888,
          -52.171955,
          -52.18536405,
          -52.17536125,
          -52.29801178,
          -52.41999865,
          -52.169231,
          -52.47288644,
          -52.58151054,
          -52.293443,
          -52.20268041,
          -52.453364,
          -52.23423918,
          -52.2818582,
          -52.2818582,
          -52.38419702,
          -52.487039,
          -52.19621658,
          -52.69687272,
          -52.2818582,
          -52.602947,
          -52.20268041,
          -52.98975731,
          -52.542839,
          -52.38419702,
          -52.49397599,
          -52.58495389,
          -52.718338,
          -52.41720594,
          -52.44672491,
          -52.69687272,
          -52.50280209,
          -52.58495389,
          -52.2818582,
          -52.39306536,
          -52.388527,
          -52.4557511,
          -52.58495389,
          -52.235722,
          -52.43184719,
          -52.69687272,
          -52.168648,
          -52.9661715,
          -52.9325369,
          -52.99598694,
          -52.25908808,
          -52.32130785,
          -52.33007409,
          -52.18536405,
          -52.42454766,
          -52.74798689,
          -52.26667625,
          -52.23423918,
          -52.4202776,
          -52.31252808,
          -52.53093995,
          -52.19209929,
          -52.57548503,
          -52.73905105,
          -52.4281311,
          -52.5566649,
          -52.44705677,
          -52.994057
         ],
         "marker": {
          "color": "hsl(0.0,50%,50%)",
          "size": 7.5
         },
         "mode": "markers",
         "showlegend": false,
         "text": "29",
         "type": "scattermapbox"
        },
        {
         "lat": [
          -28.36912427,
          -28.58391877,
          -28.60489869,
          -28.4266481,
          -28.34625432,
          -28.54565997,
          -28.741853,
          -28.67774003,
          -28.47533085,
          -28.61553148,
          -28.1359275,
          -28.43553444,
          -28.4280767,
          -28.42491971,
          -28.14644701,
          -28.42800492,
          -28.46929491,
          -28.6770859,
          -28.15478103,
          -28.31353989,
          -28.09417595,
          -28.129852,
          -28.61806302,
          -28.128132,
          -28.48722253,
          -28.47311347,
          -28.16300604,
          -28.62845265,
          -28.41679416,
          -28.6957326,
          -28.15478103,
          -28.278057,
          -28.46630107,
          -28.67821759,
          -28.50248832,
          -28.14644701,
          -28.44106804,
          -28.38437001,
          -28.50999405,
          -28.41679416,
          -28.18793595,
          -28.46927473,
          -28.62930081,
          -28.70403682,
          -28.74706262,
          -28.72736111,
          -28.138086,
          -28.71462389,
          -28.35387609,
          -28.3430649,
          -28.44043981,
          -28.289745,
          -28.47801624,
          -28.58988203,
          -28.47801624,
          -28.150553,
          -28.501444,
          -28.36149723,
          -28.36912427,
          -28.46927473,
          -28.71686155,
          -28.54565997,
          -28.42491971,
          -28.47726932,
          -28.6718745,
          -28.67656343,
          -28.69145778,
          -28.19626005,
          -28.26202477,
          -28.24598003,
          -28.26153485,
          -28.63201229,
          -28.42789556,
          -28.46766798,
          -28.24598003,
          -28.468704,
          -28.31353989,
          -28.38437001,
          -28.51837923,
          -28.08561143,
          -28.42516271,
          -28.46927473,
          -28.46916464,
          -28.47801624,
          -28.5820168,
          -28.47311347,
          -28.622,
          -28.32102597,
          -28.468,
          -28.47801624,
          -28.37288798,
          -28.4252221,
          -28.36149723,
          -28.67634681,
          -28.26202477,
          -28.664227,
          -28.44122326,
          -28.43544953,
          -28.71505496,
          -28.635168,
          -28.44061948,
          -28.55587761,
          -28.694473,
          -28.65823109,
          -28.40755485,
          -28.23766496,
          -28.46730446,
          -28.54565997,
          -28.21515,
          -28.11506391,
          -28.18793595,
          -28.44404822,
          -28.69145778,
          -28.485725,
          -28.4816134,
          -28.47801624,
          -28.32102597,
          -28.65057609,
          -28.39199505,
          -28.635168,
          -28.4266481,
          -28.386294,
          -28.43648094,
          -28.397281,
          -28.1015411,
          -28.72736111,
          -28.44305185,
          -28.52765702,
          -28.21285498,
          -28.42708421,
          -28.4258694,
          -28.30204319,
          -28.43029392,
          -28.69775604,
          -28.46016431,
          -28.4698437,
          -28.433701,
          -28.69956788,
          -28.42531311,
          -28.43152473,
          -28.59507285,
          -28.48636795,
          -28.12382408,
          -28.433701,
          -28.464688,
          -28.65057609,
          -28.45115639,
          -28.73214104,
          -28.43023306,
          -28.42904239,
          -28.46549914,
          -28.42748656,
          -28.61806302,
          -28.70403682,
          -28.39442061,
          -28.46630107,
          -28.4266481,
          -28.151297,
          -28.70052584,
          -28.56402604,
          -28.47882022,
          -28.41679416,
          -28.53647889,
          -28.17962805,
          -28.4292622,
          -28.43917696,
          -28.15478103,
          -28.72736111,
          -28.43023306,
          -28.74524626,
          -28.21108786,
          -28.49351117,
          -28.4404376,
          -28.51727111,
          -28.465,
          -28.469581,
          -28.68718511,
          -28.4266481,
          -28.32102597,
          -28.46537136,
          -28.46808768,
          -28.61232036,
          -28.67634681,
          -28.43483718,
          -28.42478807,
          -28.65835736,
          -28.58683929,
          -28.43023306,
          -28.14644701,
          -28.46927473,
          -28.61806302,
          -28.49351117,
          -28.5820168,
          -28.50999405,
          -28.560234,
          -28.69775604,
          -28.43937419,
          -28.69145778,
          -28.465768,
          -28.46630107,
          -28.635168,
          -28.46927473,
          -28.49351117,
          -28.433701,
          -28.485725,
          -28.17962805,
          -28.70403682,
          -28.433701,
          -28.67821759,
          -28.62930081,
          -28.43023306,
          -28.09045764,
          -28.4000267,
          -28.70127869,
          -28.45567521,
          -28.45115639,
          -28.64378624,
          -28.21285498,
          -28.20942388,
          -28.29220304,
          -28.46630107,
          -28.45567521,
          -28.40755485,
          -28.45567521,
          -28.11780197,
          -28.43023306,
          -28.7132671,
          -28.43023306,
          -28.47801624,
          -28.42642982,
          -28.46764528,
          -28.45262768,
          -28.6973929,
          -28.43920438,
          -28.67821759,
          -28.138086,
          -28.24130675,
          -28.69775604,
          -28.11780197,
          -28.18715704,
          -28.708495,
          -28.60057409,
          -28.16300604,
          -28.26202477,
          -28.43648094,
          -28.46730446,
          -28.17131302,
          -28.42629949,
          -28.433701,
          -28.42708421,
          -28.36225584,
          -28.703038,
          -28.49455102,
          -28.49351117,
          -28.43648094,
          -28.69841782,
          -28.46630107,
          -28.68915708,
          -28.15478103,
          -28.44404822,
          -28.69686501,
          -28.53858888,
          -28.44404822,
          -28.44104731,
          -28.46630107,
          -28.6957326,
          -28.138086,
          -28.45567521,
          -28.15478103,
          -28.52300266,
          -28.44048313,
          -28.38437001,
          -28.42491971,
          -28.42789556,
          -28.69698735,
          -28.46630107,
          -28.635168,
          -28.61806302,
          -28.1960002,
          -28.42491971,
          -28.49082555,
          -28.7345708,
          -28.45115639,
          -28.433701,
          -28.29854333,
          -28.42978736,
          -28.46325862,
          -28.44404822,
          -28.741853,
          -28.43023306,
          -28.664474,
          -28.34487788,
          -28.58988203,
          -28.66765,
          -28.46630107,
          -28.47311347,
          -28.46730446,
          -28.741853,
          -28.4629568,
          -28.29854333,
          -28.22947996,
          -28.09417595,
          -28.1662888,
          -28.44001571,
          -28.46630107,
          -28.62930081,
          -28.46730446,
          -28.18068771,
          -28.47801624,
          -28.74294424,
          -28.6434352,
          -28.21495035,
          -28.7132671,
          -28.08880882,
          -28.41679416,
          -28.099151,
          -28.485725,
          -28.62122,
          -28.741853,
          -28.53538852,
          -28.43286446,
          -28.61754875,
          -28.44404822,
          -28.46657862,
          -28.43023306,
          -28.21503544,
          -28.21164139,
          -28.41326255,
          -28.22947996,
          -28.6048793,
          -28.6957326,
          -28.741853,
          -28.279544,
          -28.42516271,
          -28.38437001,
          -28.71534412,
          -28.71534412,
          -28.51875992,
          -28.43936476,
          -28.42890047,
          -28.6957326,
          -28.69261201,
          -28.38437001,
          -28.47311347,
          -28.46730446,
          -28.40755485,
          -28.50999405,
          -28.23766496,
          -28.43583045,
          -28.16472299,
          -28.4689931,
          -28.138086,
          -28.67136197,
          -28.47311347,
          -28.42904239,
          -28.42582596,
          -28.45567521,
          -28.72014713,
          -28.46927473,
          -28.1298396,
          -28.39211769,
          -28.71016196,
          -28.138086,
          -28.2040408,
          -28.485725,
          -28.26980586,
          -28.72736111,
          -28.47311347,
          -28.5539316,
          -28.53647889,
          -28.43023306,
          -28.64093909,
          -28.20505152,
          -28.43648094,
          -28.7132671,
          -28.40063605,
          -28.660287,
          -28.426097,
          -28.15478103,
          -28.6853485,
          -28.45115639,
          -28.44078458,
          -28.44695893,
          -28.61806302,
          -28.60489869,
          -28.46630107,
          -28.602186,
          -28.11011972,
          -28.17962805,
          -28.46697475,
          -28.42516271,
          -28.485725,
          -28.42890047,
          -28.45567521,
          -28.45567521,
          -28.42532339,
          -28.26202477,
          -28.42532339,
          -28.55485199,
          -28.46730446,
          -28.69359932,
          -28.53647889,
          -28.2778716,
          -28.727773,
          -28.15478103,
          -28.465771,
          -28.16017926,
          -28.19951508,
          -28.50999405,
          -28.46927473,
          -28.452,
          -28.44404822,
          -28.426439,
          -28.69841782,
          -28.17962805,
          -28.20457404,
          -28.42491971,
          -28.66584041,
          -28.43458156,
          -28.66584041,
          -28.62380715,
          -28.388333,
          -28.4363175,
          -28.24598003,
          -28.70241311,
          -28.68290284,
          -28.19406863,
          -28.44116665,
          -28.39199505,
          -28.1015411,
          -28.425698,
          -28.64794441,
          -28.67821759,
          -28.53647889,
          -28.53647889,
          -28.45115639,
          -28.42890047,
          -28.642765,
          -28.43648094,
          -28.50999405,
          -28.41527,
          -28.45567521,
          -28.18793595,
          -28.49351117,
          -28.48468588,
          -28.62380715,
          -28.46730446,
          -28.17962805,
          -28.55485199,
          -28.29220304,
          -28.43023306,
          -28.43939745,
          -28.55806388,
          -28.138086,
          -28.68718511,
          -28.14644701,
          -28.146765,
          -28.53647889,
          -28.428863,
          -28.16300604,
          -28.12869904,
          -28.2856298,
          -28.46600329,
          -28.62380715,
          -28.45567521,
          -28.42491971,
          -28.51202037,
          -28.42909053,
          -28.19365257,
          -28.61116128,
          -28.56411359,
          -28.45567521,
          -28.44938329,
          -28.46927473,
          -28.29220304,
          -28.42516271,
          -28.7345708,
          -28.47311347,
          -28.43023306,
          -28.244008,
          -28.138086,
          -28.64799,
          -28.43023306,
          -28.49351117,
          -28.47311347,
          -28.43648094,
          -28.46016431,
          -28.47311347,
          -28.72314674,
          -28.39199505,
          -28.49351117,
          -28.42978736,
          -28.20018641,
          -28.19626005,
          -28.45239244,
          -28.19626005,
          -28.46630107,
          -28.6359108,
          -28.46730446,
          -28.47801624,
          -28.45567521,
          -28.501444,
          -28.42914714,
          -28.25395282,
          -28.16300604,
          -28.55225885,
          -28.67821759,
          -28.5977641,
          -28.5814367,
          -28.46822488,
          -28.47079022,
          -28.46730446,
          -28.51875992,
          -28.49351117,
          -28.3463509,
          -28.66584041,
          -28.44244966,
          -28.44176099,
          -28.44404822,
          -28.56402604,
          -28.39199505,
          -28.49351117,
          -28.71063245,
          -28.46630107,
          -28.45567521,
          -28.4852894,
          -28.42580709,
          -28.43427966,
          -28.09430555,
          -28.433701,
          -28.18793595,
          -28.6976816,
          -28.43023306,
          -28.735001,
          -28.440206,
          -28.53647889,
          -28.42612789,
          -28.46993978,
          -28.47311347,
          -28.70864509,
          -28.14644701,
          -28.485725,
          -28.138086,
          -28.42524483,
          -28.635168,
          -28.49351117,
          -28.51875992,
          -28.46718225,
          -28.53340914,
          -28.70403682,
          -28.46927473,
          -28.38437001,
          -28.399616,
          -28.42306138,
          -28.42524483,
          -28.69764612,
          -28.17458536,
          -28.42461823,
          -28.37674574,
          -28.197856,
          -28.34625432,
          -28.17962805,
          -28.53647889,
          -28.47311347,
          -28.32320511,
          -28.17800852,
          -28.138086,
          -28.23766496,
          -28.43023306,
          -28.2856298,
          -28.412747,
          -28.50701388,
          -28.57999948,
          -28.6957326,
          -28.71534412,
          -28.26202477,
          -28.650546,
          -28.42524483,
          -28.53917751,
          -28.68290284,
          -28.399616,
          -28.399616,
          -28.50727787,
          -28.47646255,
          -28.167983,
          -28.354962,
          -28.69992355,
          -28.65823109,
          -28.4257203,
          -28.43648094
         ],
         "lon": [
          -48.75686871,
          -49.04983521,
          -49.05593332,
          -48.86160099,
          -48.73549064,
          -49.05345334,
          -49.251657,
          -49.13622379,
          -49.02854919,
          -49.06665802,
          -48.69226456,
          -48.95896196,
          -48.86721432,
          -48.90238108,
          -48.69204746,
          -48.88171497,
          -49.01618958,
          -49.1340838,
          -48.69265474,
          -48.7240982,
          -48.70917593,
          -48.69322,
          -49.07013199,
          -48.693999,
          -49.03844118,
          -49.02437375,
          -48.6939345,
          -49.08532619,
          -48.79529064,
          -49.17347228,
          -48.69265474,
          -48.700386,
          -48.99653096,
          -49.13926425,
          -49.04743195,
          -48.69204746,
          -48.82235706,
          -48.77113299,
          -49.05070686,
          -48.79529064,
          -48.69652041,
          -49.01557908,
          -49.08665412,
          -49.2008731,
          -49.26215887,
          -49.24066084,
          -48.69218292,
          -49.22435045,
          -48.7426239,
          -48.73432159,
          -48.82497095,
          -48.708095,
          -49.03246283,
          -49.04517307,
          -49.03246283,
          -48.691981,
          -49.04690399,
          -48.74974275,
          -48.75686871,
          -49.01557908,
          -49.23141003,
          -49.05345334,
          -48.90238108,
          -49.03148353,
          -49.1226356,
          -49.13076282,
          -49.16484911,
          -48.69739859,
          -48.70403355,
          -48.70010284,
          -48.70406996,
          -49.09092665,
          -48.91248313,
          -49.00373876,
          -48.70010284,
          -49.012786,
          -48.7240982,
          -48.77113299,
          -49.054057,
          -48.71063232,
          -48.93259193,
          -49.01557908,
          -49.01595354,
          -49.03246283,
          -49.05059372,
          -49.02437375,
          -49.076,
          -48.72829906,
          -49.009,
          -49.03246283,
          -48.76032385,
          -48.93585205,
          -48.74974275,
          -49.12963202,
          -48.70403355,
          -49.111359,
          -48.82564545,
          -48.80749226,
          -49.22415733,
          -49.09467,
          -48.82457256,
          -49.05464172,
          -49.171465,
          -49.10991486,
          -48.79169438,
          -48.70059767,
          -49.00604302,
          -49.05345334,
          -48.699881,
          -48.7005043,
          -48.69652041,
          -48.96611372,
          -49.16484911,
          -49.03726,
          -49.03452851,
          -49.03246283,
          -48.72829906,
          -49.10516385,
          -48.77826295,
          -49.09467,
          -48.86160099,
          -48.773106,
          -48.95989307,
          -48.783351,
          -48.70410641,
          -49.24066084,
          -48.96535814,
          -49.05615309,
          -48.69962617,
          -48.85211624,
          -48.8008718,
          -48.719464,
          -48.84925073,
          -49.182934,
          -48.98968873,
          -49.01488066,
          -48.806344,
          -49.19239904,
          -48.80068884,
          -48.84796143,
          -49.04708862,
          -49.03769888,
          -48.69625015,
          -48.806344,
          -48.99437249,
          -49.10516385,
          -48.97286879,
          -49.24415588,
          -48.95205197,
          -48.84257464,
          -48.99569213,
          -48.85148048,
          -49.07013199,
          -49.2008731,
          -48.78032684,
          -48.99653096,
          -48.86160099,
          -48.692254,
          -49.19471741,
          -49.05410532,
          -49.0336132,
          -48.79529064,
          -49.0531826,
          -48.6956297,
          -48.9172222,
          -48.96242738,
          -48.69265474,
          -49.24066084,
          -48.95205197,
          -49.25712705,
          -48.69934559,
          -49.04178985,
          -48.81403409,
          -49.05292511,
          -48.994,
          -49.014928,
          -49.15621795,
          -48.86160099,
          -48.72829906,
          -48.99580479,
          -49.01138306,
          -49.06197674,
          -49.12963202,
          -48.84369504,
          -48.94194603,
          -49.11008835,
          -49.04736757,
          -48.95205197,
          -48.69204746,
          -49.01557908,
          -49.07013199,
          -49.04178985,
          -49.05059372,
          -49.05070686,
          -49.054395,
          -49.182934,
          -48.96254539,
          -49.16484911,
          -48.995367,
          -48.99653096,
          -49.09467,
          -49.01557908,
          -49.04178985,
          -48.806344,
          -49.03726,
          -48.6956297,
          -49.2008731,
          -48.806344,
          -49.13926425,
          -49.08665412,
          -48.95205197,
          -48.70960236,
          -48.78612041,
          -49.19514656,
          -48.9812689,
          -48.97286879,
          -49.10026073,
          -48.69962617,
          -48.69930267,
          -48.71018095,
          -48.99653096,
          -48.9812689,
          -48.79169438,
          -48.9812689,
          -48.69928995,
          -48.95205197,
          -49.21763596,
          -48.95205197,
          -49.03246283,
          -48.85242462,
          -49.00311112,
          -48.97537775,
          -49.17902112,
          -48.96200895,
          -49.13926425,
          -48.69218292,
          -48.70000072,
          -49.182934,
          -48.69928995,
          -48.69623791,
          -49.209008,
          -49.05215263,
          -48.6939345,
          -48.70403355,
          -48.95989307,
          -49.00604302,
          -48.69463482,
          -48.80094767,
          -48.806344,
          -48.85211624,
          -48.75049531,
          -49.198526,
          -49.04329062,
          -49.04178985,
          -48.95989307,
          -49.18544769,
          -48.99653096,
          -49.16055679,
          -48.69265474,
          -48.96611372,
          -49.17580247,
          -49.05287683,
          -48.96611372,
          -48.81588382,
          -48.99653096,
          -49.17347228,
          -48.69218292,
          -48.9812689,
          -48.69265474,
          -49.05532837,
          -48.81299799,
          -48.77113299,
          -48.90238108,
          -48.91248313,
          -49.17617798,
          -48.99653096,
          -49.09467,
          -49.07013199,
          -48.6973715,
          -48.90238108,
          -49.03992545,
          -49.24624124,
          -48.97286879,
          -48.806344,
          -48.71633767,
          -48.87148792,
          -48.99524689,
          -48.96611372,
          -49.251657,
          -48.95205197,
          -49.113218,
          -48.73414993,
          -49.04517307,
          -49.11775029,
          -48.99653096,
          -49.02437375,
          -49.00604302,
          -49.251657,
          -48.99250031,
          -48.71633767,
          -48.70163526,
          -48.70917593,
          -48.69369686,
          -48.96357536,
          -48.99653096,
          -49.08665412,
          -49.00604302,
          -48.69606256,
          -49.03246283,
          -49.25321102,
          -49.09949899,
          -48.70016282,
          -49.21763596,
          -48.71033818,
          -48.79529064,
          -48.704749,
          -49.03726,
          -49.07455444,
          -49.251657,
          -49.05340791,
          -48.83773685,
          -49.0698123,
          -48.96611372,
          -48.99559021,
          -48.95205197,
          -48.6995942,
          -48.69975865,
          -48.79361451,
          -48.70163526,
          -49.0558625,
          -49.17347228,
          -49.251657,
          -48.700837,
          -48.93259193,
          -48.77113299,
          -49.22723198,
          -49.22723198,
          -49.05388322,
          -48.96203041,
          -48.92285509,
          -49.17347228,
          -49.16747689,
          -48.77113299,
          -49.02437375,
          -49.00604302,
          -48.79169438,
          -49.05070686,
          -48.70059767,
          -48.95924091,
          -48.69386315,
          -49.01721954,
          -48.69218292,
          -49.12225505,
          -49.02437375,
          -48.84257464,
          -48.93104553,
          -48.9812689,
          -49.23508784,
          -49.01557908,
          -48.6929745,
          -48.77822399,
          -49.21016693,
          -48.69218292,
          -48.6985276,
          -49.03726,
          -48.70081551,
          -49.24066084,
          -49.02437375,
          -49.05412674,
          -49.0531826,
          -48.95205197,
          -49.0989089,
          -48.69902557,
          -48.95989307,
          -49.21763596,
          -48.78656387,
          -49.1111709,
          -48.800888,
          -48.69265474,
          -49.15246,
          -48.97286879,
          -48.82478714,
          -48.96812439,
          -49.07013199,
          -49.05593332,
          -48.99653096,
          -49.053403,
          -48.70211279,
          -48.6956297,
          -48.99758577,
          -48.93259193,
          -49.03726,
          -48.92285509,
          -48.9812689,
          -48.9812689,
          -48.8919091,
          -48.70403355,
          -48.8919091,
          -49.0540891,
          -49.00604302,
          -49.16862488,
          -49.0531826,
          -48.70016098,
          -49.240589,
          -48.69265474,
          -48.995973,
          -48.69306352,
          -48.69844437,
          -49.05070686,
          -49.01557908,
          -48.975,
          -48.96611372,
          -48.888725,
          -49.18441772,
          -48.6956297,
          -48.6984006,
          -48.90238108,
          -49.1146566,
          -48.95816803,
          -49.1146566,
          -49.07828489,
          -48.775167,
          -48.84015083,
          -48.70010284,
          -49.19822037,
          -49.14759308,
          -48.69730711,
          -48.82190108,
          -48.77826295,
          -48.70410641,
          -48.943285,
          -49.10403728,
          -49.13926425,
          -49.0531826,
          -49.0531826,
          -48.97286879,
          -48.92285509,
          -49.100403,
          -48.95989307,
          -49.05070686,
          -48.794878,
          -48.9812689,
          -48.69652041,
          -49.04178985,
          -49.03575897,
          -49.07828489,
          -49.00604302,
          -48.6956297,
          -49.0540891,
          -48.71018095,
          -48.95205197,
          -48.96239124,
          -49.0544486,
          -48.69218292,
          -49.15621795,
          -48.69204746,
          -48.69176215,
          -49.0531826,
          -48.879132,
          -48.6939345,
          -48.69356275,
          -48.70438133,
          -48.99560094,
          -49.07828489,
          -48.9812689,
          -48.90238108,
          -49.05132343,
          -48.94987464,
          -48.69758606,
          -49.06046748,
          -49.05412674,
          -48.9812689,
          -48.97050619,
          -49.01557908,
          -48.71018095,
          -48.93259193,
          -49.24624124,
          -49.02437375,
          -48.95205197,
          -48.699934,
          -48.69218292,
          -49.104019,
          -48.95205197,
          -49.04178985,
          -49.02437375,
          -48.95989307,
          -48.98968873,
          -49.02437375,
          -49.23750401,
          -48.77826295,
          -49.04178985,
          -48.87148792,
          -48.69802594,
          -48.69739859,
          -48.97499084,
          -48.69739859,
          -48.99653096,
          -49.09549713,
          -49.00604302,
          -49.03246283,
          -48.9812689,
          -49.04690399,
          -48.87748718,
          -48.70289554,
          -48.6939345,
          -49.05395508,
          -49.13926425,
          -49.04943589,
          -49.05123532,
          -49.01184976,
          -49.01879132,
          -49.00604302,
          -49.05388322,
          -49.04178985,
          -48.73553395,
          -49.1146566,
          -48.96443367,
          -48.96455169,
          -48.96611372,
          -49.05410532,
          -48.77826295,
          -49.04178985,
          -49.21215177,
          -48.99653096,
          -48.9812689,
          -49.03747559,
          -48.94327641,
          -48.84487152,
          -48.70886391,
          -48.806344,
          -48.69652041,
          -49.1825368,
          -48.95205197,
          -49.2460227,
          -48.812416,
          -49.0531826,
          -48.9320755,
          -49.01503086,
          -49.02437375,
          -49.20924696,
          -48.69204746,
          -49.03726,
          -48.69218292,
          -48.94302707,
          -49.09467,
          -49.04178985,
          -49.05388322,
          -48.99593353,
          -49.05412674,
          -49.2008731,
          -49.01557908,
          -48.77113299,
          -48.7854,
          -48.79932761,
          -48.94302707,
          -49.18262601,
          -48.69509214,
          -48.93859863,
          -48.76400229,
          -48.697839,
          -48.73549064,
          -48.6956297,
          -49.0531826,
          -49.02437375,
          -48.72963309,
          -48.69566744,
          -48.69218292,
          -48.70059767,
          -48.95205197,
          -48.70438133,
          -48.793484,
          -49.04914856,
          -49.05183077,
          -49.17347228,
          -49.22723198,
          -48.70403355,
          -49.104671,
          -48.94302707,
          -49.05309677,
          -49.14759308,
          -48.7854,
          -48.7854,
          -49.04923439,
          -49.02975082,
          -48.694194,
          -48.74354839,
          -49.19403076,
          -49.10991486,
          -48.94329424,
          -48.95989307
         ],
         "marker": {
          "color": "hsl(72.0,50%,50%)",
          "size": 7.5
         },
         "mode": "markers",
         "showlegend": false,
         "text": "15",
         "type": "scattermapbox"
        },
        {
         "lat": [
          -26.951565,
          -27.06135,
          -26.88138,
          -26.88138,
          -26.87932947,
          -26.872158,
          -26.88138,
          -26.875719,
          -26.867064,
          -26.88013,
          -26.872158,
          -26.874519,
          -26.870411,
          -26.869867,
          -26.94883263,
          -26.906223,
          -26.88414,
          -27.01656407,
          -26.40198057,
          -26.867064,
          -26.859768,
          -26.875719,
          -26.889374,
          -27.035289,
          -27.045143,
          -26.867121,
          -26.901793,
          -26.867121,
          -26.969337,
          -26.875601,
          -26.949951,
          -26.948483,
          -26.88138,
          -26.880428,
          -26.870407,
          -26.882812,
          -26.407423,
          -26.949951,
          -26.877615,
          -26.864044,
          -26.882812,
          -26.8721664,
          -26.867064,
          -26.87946413,
          -26.44412189,
          -26.89089933,
          -26.870407,
          -26.97162908,
          -26.87000888,
          -26.87058,
          -26.407423,
          -26.98592,
          -26.40198057,
          -26.908962,
          -26.959075,
          -26.862286,
          -26.877615,
          -26.97769,
          -26.96438013,
          -26.87303854,
          -26.88138,
          -26.41486124,
          -26.874521,
          -26.98009761,
          -26.39604541,
          -26.39198268,
          -26.44412189,
          -26.904108,
          -27.02105238,
          -26.951565,
          -26.96184389,
          -26.877615,
          -26.914745,
          -26.867064,
          -26.874521,
          -26.86984185,
          -26.39826146,
          -26.880428,
          -27.045143,
          -27.032537,
          -26.859823,
          -26.88456466,
          -27.032537,
          -26.88138,
          -26.883745,
          -26.87047758,
          -26.914196,
          -26.93055471,
          -26.948805,
          -26.87208566,
          -26.871065,
          -27.045143,
          -26.87674,
          -26.94861087,
          -26.97417387,
          -26.916288,
          -27.064796,
          -26.882812,
          -26.912857,
          -26.870411,
          -26.861778,
          -26.872396,
          -26.871065,
          -26.870411,
          -26.874521,
          -26.906223,
          -26.969337,
          -26.87177941,
          -26.45514314,
          -26.880428,
          -26.994484,
          -26.872396,
          -26.877615,
          -26.44412189,
          -26.933308,
          -26.97769,
          -26.880428,
          -26.916288,
          -26.949951,
          -26.38583849,
          -26.873266,
          -26.897341,
          -26.875601,
          -26.860388,
          -26.88138,
          -26.88138,
          -26.87404117,
          -26.44057489,
          -26.897341,
          -26.87319581,
          -26.407423,
          -26.877615,
          -26.40198057,
          -26.87211253,
          -26.862286,
          -26.862339,
          -26.86998757,
          -26.961573,
          -26.880428,
          -26.951565,
          -26.877615,
          -26.901793,
          -26.869867,
          -26.871065,
          -26.889374,
          -26.874519,
          -26.882948,
          -26.904108,
          -26.872158,
          -26.875601,
          -26.88049562,
          -26.45514314,
          -26.860662,
          -26.895243,
          -26.87674,
          -26.86226609,
          -26.912727,
          -26.43589072,
          -26.906223,
          -26.906223,
          -26.895243,
          -26.916288,
          -26.880428,
          -26.862286,
          -26.870407,
          -26.872396,
          -26.901979,
          -26.906223,
          -26.870407,
          -26.867121,
          -26.86230437,
          -26.877615,
          -26.88830184,
          -26.875601,
          -26.950367,
          -26.889374,
          -27.064796,
          -26.872396,
          -26.88877,
          -26.910646,
          -26.88031583,
          -26.871065,
          -26.871065,
          -26.901979,
          -26.88138,
          -26.871065,
          -26.88138,
          -27.022933,
          -26.86682186,
          -26.45019273,
          -26.87674,
          -26.875719,
          -26.3833143,
          -26.41222834,
          -26.8771494,
          -26.860662,
          -26.97769,
          -26.860662,
          -26.875601,
          -26.882812,
          -26.89860189,
          -26.87041607,
          -26.86010376,
          -26.870407,
          -27.037956,
          -26.895243,
          -26.867064,
          -26.871065,
          -26.872158,
          -26.88073689,
          -26.90619868,
          -27.003345,
          -26.871065,
          -27.045143,
          -26.88138,
          -26.906223,
          -26.9198271,
          -26.8824436,
          -26.878952,
          -26.880428,
          -27.045143,
          -26.88138,
          -26.88138,
          -26.877615,
          -26.91939856,
          -26.87116144,
          -26.89463107,
          -26.877615,
          -26.889374,
          -26.87976079,
          -26.862794,
          -26.860662,
          -26.871065,
          -26.894687,
          -26.901793,
          -26.88052202,
          -26.872158,
          -26.44657315,
          -26.870547,
          -26.880428,
          -26.87825483,
          -26.955355,
          -26.867121,
          -26.87774202,
          -26.883745,
          -26.872158,
          -26.875601,
          -26.87647835,
          -26.880428,
          -26.86071555,
          -26.44009491,
          -26.872396,
          -26.88138,
          -26.912727,
          -26.870411,
          -26.877615,
          -26.870407,
          -26.879568,
          -26.87854984,
          -26.87644143,
          -26.883879,
          -26.871065,
          -26.877615,
          -26.883879,
          -26.897341,
          -26.904654,
          -26.87327419,
          -26.878952,
          -26.872158,
          -26.924833,
          -26.961573,
          -26.874521,
          -26.867121,
          -26.914196,
          -26.882812,
          -26.87837318,
          -26.889374,
          -27.032537,
          -26.96137,
          -26.889374,
          -26.872396,
          -26.878952,
          -26.901793,
          -26.89009692,
          -26.870665,
          -26.43797588,
          -26.870411,
          -26.958838,
          -26.969337,
          -26.90835,
          -26.87674,
          -26.88138,
          -26.88069861,
          -26.4572226,
          -26.87634003,
          -26.862339,
          -26.955355,
          -26.949951,
          -26.93187,
          -26.901793,
          -26.88809827,
          -26.88413982,
          -26.870411,
          -26.871065,
          -26.44412189,
          -26.39962904,
          -26.87640868,
          -26.98592,
          -26.87161237,
          -26.880428,
          -26.88104312,
          -26.872158,
          -26.88138,
          -26.880428,
          -26.904108,
          -26.872158,
          -26.912857,
          -26.874519,
          -26.44312314,
          -26.958838,
          -26.955355,
          -26.867121,
          -26.924833,
          -26.875601,
          -26.889374,
          -26.882812,
          -26.870411,
          -26.87743534,
          -26.87674,
          -26.88391753,
          -26.87771776,
          -26.870665,
          -26.877615,
          -26.883745,
          -26.880428,
          -26.867121,
          -26.908962,
          -26.871065,
          -27.053085,
          -26.86971037,
          -26.901793,
          -26.862286,
          -26.889374,
          -26.872158,
          -26.880428,
          -26.870411,
          -27.01413815,
          -26.87318943,
          -26.867121,
          -26.870407,
          -26.875719,
          -26.882812,
          -26.860662,
          -26.89018257,
          -26.94904,
          -26.87986389,
          -26.872158,
          -26.877615,
          -26.86106012,
          -26.867064,
          -27.064796,
          -26.883879,
          -26.91322039,
          -26.906223,
          -27.045143,
          -26.889574,
          -26.859823,
          -26.880428,
          -26.870407,
          -26.880428,
          -26.869867,
          -26.97142,
          -26.87674,
          -26.878952,
          -26.87674,
          -26.87674,
          -26.883745,
          -26.872396,
          -26.889374,
          -26.901793,
          -26.880428,
          -26.889374,
          -26.955355,
          -26.955355,
          -26.872158,
          -26.43471548,
          -26.940817,
          -26.889374,
          -26.96290198,
          -26.867064,
          -26.883879,
          -26.895243,
          -26.87674,
          -26.872396,
          -26.880428,
          -26.895243,
          -26.877615,
          -26.906223,
          -26.882812,
          -26.889374,
          -26.870407,
          -26.889374,
          -26.870407,
          -26.872158,
          -26.86996103,
          -26.87674,
          -26.912857,
          -26.948805,
          -26.870407,
          -26.38583849,
          -26.89602109,
          -26.87097413,
          -26.407423,
          -26.955355,
          -26.94858761,
          -26.89130645,
          -26.90777372,
          -26.87240028,
          -26.870407,
          -26.87641614,
          -27.026621,
          -26.8806699,
          -26.869867,
          -26.889374,
          -27.064796,
          -26.889374,
          -26.87674,
          -26.889374,
          -27.020767,
          -26.89973356,
          -26.870411,
          -26.44412189,
          -26.87710983,
          -26.889374,
          -26.89285,
          -26.870411,
          -26.87116079,
          -26.883879,
          -26.859823,
          -26.8721314,
          -26.94446928,
          -26.43610849,
          -26.901793,
          -26.44057489,
          -26.871065,
          -26.872396,
          -26.862286,
          -26.872396,
          -26.994484,
          -26.883745,
          -26.8840142,
          -26.87227,
          -26.877615,
          -26.91447926,
          -26.889374,
          -26.872158,
          -26.880428,
          -26.880428,
          -26.89727192,
          -26.889574,
          -26.95488909,
          -26.87674,
          -26.878952,
          -26.882343,
          -27.020767,
          -26.87294265,
          -26.8703087,
          -26.87674,
          -26.869867,
          -26.862339,
          -26.8597288,
          -26.867064,
          -26.9198328,
          -26.9276028,
          -26.39475643,
          -27.026621,
          -26.86125154,
          -26.874519,
          -26.88310961,
          -26.870407,
          -26.948483,
          -26.882812,
          -26.872396,
          -26.908962,
          -26.933308,
          -26.889374,
          -26.97769,
          -26.870411,
          -26.895243,
          -26.870407,
          -26.956114,
          -26.859768,
          -26.870407,
          -26.87798605,
          -27.05836143,
          -26.871065,
          -26.874521,
          -26.91150847,
          -26.872396,
          -26.88581412,
          -26.9056825,
          -26.872158,
          -26.870407,
          -26.859768,
          -26.3833143,
          -26.877615,
          -26.96137,
          -26.91304874,
          -26.88409576,
          -26.860662,
          -26.864044,
          -26.8781435,
          -26.889374,
          -26.889374,
          -26.961573,
          -26.877615,
          -26.87103965,
          -26.874521,
          -26.98592,
          -26.871065,
          -26.877615,
          -26.875719,
          -26.867121,
          -26.948805,
          -26.882812,
          -26.862286,
          -26.88138,
          -26.991677,
          -26.869867,
          -26.883879,
          -26.878952,
          -26.859768,
          -26.875719,
          -26.86967232,
          -26.875601,
          -26.870411,
          -26.87832077,
          -26.98592,
          -27.064796,
          -26.940817,
          -26.933308,
          -26.906223,
          -26.889374,
          -26.872396,
          -26.41552007,
          -26.872396,
          -26.889374,
          -26.87737883,
          -26.859823,
          -26.994484,
          -26.8688969,
          -26.875601,
          -27.064796,
          -26.98592,
          -26.949951,
          -26.862286,
          -26.3833143,
          -26.87412047,
          -26.87321495,
          -27.058,
          -26.871065,
          -26.862286,
          -26.87183593
         ],
         "lon": [
          -49.306534,
          -49.410408,
          -49.164543,
          -49.164543,
          -49.17332524,
          -49.23127,
          -49.164543,
          -49.003746,
          -49.031109,
          -49.169151,
          -49.23127,
          -49.013454,
          -49.211864,
          -49.201859,
          -49.31579232,
          -48.940575,
          -49.147075,
          -49.37094927,
          -49.29053774,
          -49.031109,
          -49.074493,
          -49.003746,
          -49.254478,
          -49.389591,
          -49.394142,
          -49.102066,
          -48.931812,
          -49.102066,
          -49.367718,
          -49.117992,
          -49.357296,
          -49.366833,
          -49.164543,
          -49.136532,
          -49.221844,
          -49.1548,
          -49.283504,
          -49.357296,
          -49.239231,
          -49.046516,
          -49.1548,
          -49.1930899,
          -49.031109,
          -49.17249799,
          -49.20975187,
          -49.25657988,
          -49.221844,
          -49.36679261,
          -49.22488689,
          -49.21413,
          -49.283504,
          -49.373047,
          -49.29053774,
          -49.275089,
          -49.32492256,
          -49.093903,
          -49.239231,
          -49.369198,
          -49.3692372,
          -49.23310583,
          -49.164543,
          -49.25826967,
          -49.182938,
          -49.37077945,
          -49.29448485,
          -49.30187441,
          -49.20975187,
          -48.980164,
          -49.40952368,
          -49.306534,
          -49.34049195,
          -49.239231,
          -49.280188,
          -49.031109,
          -49.182938,
          -49.22466343,
          -49.29613709,
          -49.136532,
          -49.394142,
          -49.385468,
          -49.055393,
          -49.24827576,
          -49.385468,
          -49.164543,
          -49.246704,
          -49.21297223,
          -48.968948,
          -49.28630948,
          -49.316097,
          -49.19369817,
          -49.110374,
          -49.394142,
          -49.127743,
          -49.29677747,
          -49.36745167,
          -49.280807,
          -49.401424,
          -49.1548,
          -48.958965,
          -49.211864,
          -49.041872,
          -49.19228,
          -49.110374,
          -49.211864,
          -49.182938,
          -48.940575,
          -49.367718,
          -49.23056245,
          -49.18726132,
          -49.136532,
          -49.375908,
          -49.19228,
          -49.239231,
          -49.20975187,
          -49.287426,
          -49.369198,
          -49.136532,
          -49.280807,
          -49.357296,
          -49.30283476,
          -49.11436,
          -48.986881,
          -49.117992,
          -49.037617,
          -49.164543,
          -49.164543,
          -49.11509871,
          -49.217056,
          -48.986881,
          -49.11420822,
          -49.283504,
          -49.239231,
          -49.29053774,
          -49.19366406,
          -49.093903,
          -49.084038,
          -49.1058782,
          -49.371918,
          -49.136532,
          -49.306534,
          -49.239231,
          -48.931812,
          -49.201859,
          -49.110374,
          -49.254478,
          -49.013454,
          -49.156003,
          -48.980164,
          -49.23127,
          -49.117992,
          -49.16767228,
          -49.18726132,
          -49.065159,
          -49.262104,
          -49.127743,
          -49.09182787,
          -48.978043,
          -49.24351466,
          -48.940575,
          -48.940575,
          -49.262104,
          -49.280807,
          -49.136532,
          -49.093903,
          -49.221844,
          -49.19228,
          -49.268745,
          -48.940575,
          -49.221844,
          -49.102066,
          -49.08200026,
          -49.239231,
          -49.25327724,
          -49.117992,
          -49.325638,
          -49.254478,
          -49.401424,
          -49.19228,
          -49.253673,
          -48.949341,
          -49.24295425,
          -49.110374,
          -49.110374,
          -49.268745,
          -49.164543,
          -49.110374,
          -49.164543,
          -49.372043,
          -49.03132796,
          -49.1935729,
          -49.127743,
          -49.003746,
          -49.31223107,
          -49.27628914,
          -49.12989724,
          -49.065159,
          -49.369198,
          -49.065159,
          -49.117992,
          -49.1548,
          -49.26578522,
          -49.2216379,
          -49.07841957,
          -49.221844,
          -49.393417,
          -49.262104,
          -49.031109,
          -49.110374,
          -49.23127,
          -49.16707993,
          -48.94088387,
          -49.374668,
          -49.110374,
          -49.394142,
          -49.164543,
          -48.940575,
          -48.95923203,
          -49.1418944,
          -49.17421,
          -49.136532,
          -49.394142,
          -49.164543,
          -49.164543,
          -49.239231,
          -48.9592275,
          -49.22925966,
          -49.26128983,
          -49.239231,
          -49.254478,
          -49.24201012,
          -49.090391,
          -49.065159,
          -49.110374,
          -49.261394,
          -48.931812,
          -49.16762894,
          -49.23127,
          -49.20157809,
          -49.228216,
          -49.136532,
          -49.24007784,
          -49.373169,
          -49.102066,
          -49.23949039,
          -49.246704,
          -49.23127,
          -49.117992,
          -49.12576318,
          -49.136532,
          -49.06507015,
          -49.22605498,
          -49.19228,
          -49.164543,
          -48.978043,
          -49.211864,
          -49.239231,
          -49.221844,
          -49.24193,
          -49.13348241,
          -49.12019491,
          -49.145622,
          -49.110374,
          -49.239231,
          -49.145622,
          -48.986881,
          -49.271233,
          -49.2334904,
          -49.17421,
          -49.23127,
          -49.284004,
          -49.371918,
          -49.182938,
          -49.102066,
          -48.968948,
          -49.1548,
          -49.13313389,
          -49.254478,
          -49.385468,
          -49.342415,
          -49.254478,
          -49.19228,
          -49.17421,
          -48.931812,
          -49.25539,
          -49.021896,
          -49.23478097,
          -49.211864,
          -49.324978,
          -49.367718,
          -48.94395,
          -49.127743,
          -49.164543,
          -49.16707993,
          -49.18423533,
          -49.12333125,
          -49.084038,
          -49.373169,
          -49.357296,
          -48.959316,
          -48.931812,
          -49.25274524,
          -49.14705038,
          -49.211864,
          -49.110374,
          -49.20975187,
          -49.29783103,
          -49.12276321,
          -49.373047,
          -49.11187118,
          -49.136532,
          -49.13744688,
          -49.23127,
          -49.164543,
          -49.136532,
          -48.980164,
          -49.23127,
          -48.958965,
          -49.013454,
          -49.21044588,
          -49.324978,
          -49.373169,
          -49.102066,
          -49.284004,
          -49.117992,
          -49.254478,
          -49.1548,
          -49.211864,
          -49.12999034,
          -49.127743,
          -49.24700305,
          -49.23899812,
          -49.021896,
          -49.239231,
          -49.246704,
          -49.136532,
          -49.102066,
          -49.275089,
          -49.110374,
          -49.390018,
          -49.22518986,
          -48.931812,
          -49.093903,
          -49.254478,
          -49.23127,
          -49.136532,
          -49.211864,
          -49.37152045,
          -49.11418421,
          -49.102066,
          -49.221844,
          -49.003746,
          -49.1548,
          -49.065159,
          -48.99017215,
          -49.29753,
          -49.17002591,
          -49.23127,
          -49.239231,
          -49.06630397,
          -49.031109,
          -49.401424,
          -49.145622,
          -48.9776631,
          -48.940575,
          -49.394142,
          -48.99094,
          -49.055393,
          -49.136532,
          -49.221844,
          -49.136532,
          -49.201859,
          -49.36687,
          -49.127743,
          -49.17421,
          -49.127743,
          -49.127743,
          -49.246704,
          -49.19228,
          -49.254478,
          -48.931812,
          -49.136532,
          -49.254478,
          -49.373169,
          -49.373169,
          -49.23127,
          -49.24842596,
          -49.29287,
          -49.254478,
          -49.37003346,
          -49.031109,
          -49.145622,
          -49.262104,
          -49.127743,
          -49.19228,
          -49.136532,
          -49.262104,
          -49.239231,
          -48.940575,
          -49.1548,
          -49.254478,
          -49.221844,
          -49.254478,
          -49.221844,
          -49.23127,
          -49.20718431,
          -49.127743,
          -48.958965,
          -49.316097,
          -49.221844,
          -49.30283476,
          -48.98769471,
          -49.21760457,
          -49.283504,
          -49.373169,
          -49.32055541,
          -49.2570967,
          -48.94358492,
          -49.23175693,
          -49.221844,
          -49.12289858,
          -49.378124,
          -49.16702628,
          -49.201859,
          -49.254478,
          -49.401424,
          -49.254478,
          -49.127743,
          -49.254478,
          -49.371342,
          -48.98465849,
          -49.211864,
          -49.20975187,
          -49.12910775,
          -49.254478,
          -49.25917,
          -49.211864,
          -49.11094228,
          -49.145622,
          -49.055393,
          -49.1928707,
          -49.29422292,
          -49.24316883,
          -48.931812,
          -49.217056,
          -49.110374,
          -49.19228,
          -49.093903,
          -49.19228,
          -49.375908,
          -49.246704,
          -49.15113483,
          -49.01517,
          -49.239231,
          -48.97427201,
          -49.254478,
          -49.23127,
          -49.136532,
          -49.136532,
          -48.98803711,
          -48.99094,
          -49.35166546,
          -49.127743,
          -49.17421,
          -48.996975,
          -49.371342,
          -49.19135392,
          -49.22782882,
          -49.127743,
          -49.201859,
          -49.084038,
          -49.06231437,
          -49.031109,
          -48.95923529,
          -49.285155,
          -49.29569721,
          -49.378124,
          -49.05244231,
          -49.013454,
          -49.14299311,
          -49.221844,
          -49.366833,
          -49.1548,
          -49.19228,
          -49.275089,
          -49.287426,
          -49.254478,
          -49.369198,
          -49.211864,
          -49.262104,
          -49.221844,
          -49.350414,
          -49.074493,
          -49.221844,
          -49.13195556,
          -49.38972473,
          -49.110374,
          -49.182938,
          -49.27745819,
          -49.19228,
          -49.24995661,
          -48.940015,
          -49.23127,
          -49.221844,
          -49.074493,
          -49.31223107,
          -49.239231,
          -49.342415,
          -48.95984173,
          -49.14660062,
          -49.065159,
          -49.046516,
          -49.23993945,
          -49.254478,
          -49.254478,
          -49.371918,
          -49.239231,
          -49.10734713,
          -49.182938,
          -49.373047,
          -49.110374,
          -49.239231,
          -49.003746,
          -49.102066,
          -49.316097,
          -49.1548,
          -49.093903,
          -49.164543,
          -49.375137,
          -49.201859,
          -49.145622,
          -49.17421,
          -49.074493,
          -49.003746,
          -49.22542589,
          -49.117992,
          -49.211864,
          -49.24004112,
          -49.373047,
          -49.401424,
          -49.29287,
          -49.287426,
          -48.940575,
          -49.254478,
          -49.19228,
          -49.26717599,
          -49.19228,
          -49.254478,
          -49.12991575,
          -49.055393,
          -49.375908,
          -49.10477422,
          -49.117992,
          -49.401424,
          -49.373047,
          -49.357296,
          -49.093903,
          -49.31223107,
          -49.11439214,
          -49.11419749,
          -49.39,
          -49.110374,
          -49.093903,
          -49.01604122
         ],
         "marker": {
          "color": "hsl(144.0,50%,50%)",
          "size": 7.5
         },
         "mode": "markers",
         "showlegend": false,
         "text": "46",
         "type": "scattermapbox"
        },
        {
         "lat": [
          -24.56040958,
          -24.35318399,
          -24.07783483,
          -24.106023,
          -24.568102,
          -24.31513923,
          -24.55143816,
          -24.57864514,
          -24.52360956,
          -24.0728016,
          -24.65580065,
          -24.60929314,
          -24.55143816,
          -24.21375699,
          -24.52343637,
          -24.36979005,
          -24.19975361,
          -24.10769504,
          -24.2137569917,
          -24.52360956,
          -24.40412517,
          -24.21375699,
          -24.568102,
          -24.54325405,
          -24.25557276,
          -24.57864514,
          -24.61251383,
          -24.568102,
          -24.06574623,
          -24.568102,
          -24.568102,
          -24.6606297,
          -24.57864514,
          -24.60094197,
          -24.53507184,
          -24.30956598,
          -24.08447467,
          -24.21375699,
          -24.57864514,
          -24.5706955,
          -24.55962092,
          -24.06580328,
          -24.07783483,
          -24.46018799,
          -24.60909125,
          -24.08347738,
          -24.53507184,
          -24.08413076,
          -24.568102,
          -24.46973602,
          -24.2137569917,
          -24.30956598,
          -24.08413076,
          -24.568102,
          -24.55143816,
          -24.119203,
          -24.55143816,
          -24.52350744,
          -24.568102,
          -24.53507184,
          -24.12732862,
          -24.07549218,
          -24.61424382,
          -24.08395803,
          -24.09647349,
          -24.29305216,
          -24.21375699,
          -24.523408,
          -24.51981158,
          -24.56844605,
          -24.51672062,
          -24.10645499,
          -24.08095,
          -24.57864514,
          -24.55143816,
          -24.6435030719,
          -24.568102,
          -24.61478139,
          -24.67131206,
          -24.14205427,
          -24.568102,
          -24.568102,
          -24.61125308,
          -24.30097516,
          -24.31854694,
          -24.6606297,
          -24.06976446,
          -24.568102,
          -24.5195803759,
          -24.62158398,
          -24.08413076,
          -24.084195,
          -24.62347722,
          -24.6193261,
          -24.56445426,
          -24.52321278,
          -24.11551502,
          -24.51953166,
          -24.240319,
          -24.08104209,
          -24.6606297,
          -24.57864514,
          -24.568102,
          -24.52360956,
          -24.61362399,
          -24.568102,
          -24.568102
         ],
         "lon": [
          -54.03322399,
          -54.14934204,
          -54.05928409,
          -54.238248,
          -54.034168,
          -54.15809155,
          -54.0412003,
          -53.99236214,
          -54.06210088,
          -53.99483896,
          -53.82690684,
          -53.96231174,
          -54.0412003,
          -54.19958751,
          -54.05805957,
          -54.14957685,
          -54.20172664,
          -54.23912644,
          -54.1995875086,
          -54.06210088,
          -54.15783796,
          -54.19958751,
          -54.034168,
          -54.04536607,
          -54.19821739,
          -53.99236214,
          -53.94478198,
          -54.034168,
          -53.85125201,
          -54.034168,
          -54.034168,
          -53.8185818,
          -53.99236214,
          -53.98016768,
          -54.04952168,
          -54.1588218,
          -54.1812031,
          -54.19958751,
          -53.99236214,
          -53.997974,
          -54.03702984,
          -53.84977698,
          -54.05928409,
          -54.15563689,
          -53.96412507,
          -54.17145489,
          -54.04952168,
          -54.1051081,
          -54.034168,
          -54.1495809,
          -54.1995875086,
          -54.1588218,
          -54.1051081,
          -54.034168,
          -54.0412003,
          -54.239691,
          -54.0412003,
          -54.05832812,
          -54.034168,
          -54.04952168,
          -54.24053192,
          -53.96573202,
          -53.93732613,
          -54.08657001,
          -54.20729189,
          -54.16626627,
          -54.19958751,
          -54.05870698,
          -54.07083999,
          -54.03007876,
          -54.0848602,
          -54.25865695,
          -54.152461,
          -53.99236214,
          -54.0412003,
          -53.853195043,
          -54.034168,
          -53.93524012,
          -53.80266304,
          -54.24053192,
          -54.034168,
          -54.034168,
          -53.95455801,
          -54.16154728,
          -54.15781765,
          -53.8185818,
          -54.04206999,
          -54.034168,
          -54.1089750438,
          -53.91729899,
          -54.1051081,
          -54.177986333,
          -53.90764804,
          -53.92676003,
          -54.03466702,
          -54.06299852,
          -54.23966473,
          -54.099115,
          -54.199365,
          -54.15315986,
          -53.8185818,
          -53.99236214,
          -54.034168,
          -54.06210088,
          -53.93875122,
          -54.034168,
          -54.034168
         ],
         "marker": {
          "color": "hsl(216.0,50%,50%)",
          "size": 7.5
         },
         "mode": "markers",
         "showlegend": false,
         "text": "47",
         "type": "scattermapbox"
        },
        {
         "lat": [
          -29.0515999,
          -28.78243906,
          -29.49668307,
          -28.80000398,
          -28.78874508,
          -29.15887096,
          -28.76260104,
          -29.12453775,
          -29.10894598,
          -28.80000398,
          -28.83381495,
          -29.21556004,
          -28.84766792,
          -29.27319032,
          -29.0090907,
          -28.76744045,
          -29.01200957,
          -29.29809,
          -29.25603698,
          -29.05030203,
          -29.06787347,
          -29.00751109,
          -29.17148513,
          -29.21657705,
          -29.21759706,
          -29.23579206,
          -29.12453775,
          -29.48208787,
          -28.84169703,
          -28.817015,
          -29.12453775,
          -29.19154283,
          -29.05030203,
          -29.49668307,
          -29.28412075,
          -29.12453775,
          -29.17909489,
          -29.17909489,
          -29.21556004,
          -29.21596577,
          -28.86454223,
          -29.52219898,
          -29.05097073,
          -29.00751109,
          -29.18554428,
          -29.28759509,
          -29.25786101,
          -29.21249203,
          -29.247256,
          -29.52994989,
          -29.01620401,
          -29.22351564,
          -28.81066741,
          -29.27679937,
          -29.0629582,
          -29.24249327,
          -29.138703,
          -29.27794957,
          -28.94753484,
          -29.32448694,
          -29.377859,
          -28.7867183,
          -29.20372835,
          -29.150635,
          -28.93896517,
          -28.94753484,
          -29.17503555,
          -29.30632426,
          -29.17368235,
          -28.94753484,
          -29.17292214,
          -29.06796411,
          -29.42,
          -29.16462512,
          -29.227299,
          -29.15887096,
          -29.23550931,
          -28.79507068,
          -29.15711354,
          -28.77711311,
          -29.26938542,
          -29.16462512,
          -29.06129202,
          -29.0090907,
          -29.14408811,
          -29.16014756,
          -29.05370409,
          -28.93479629,
          -29.02312304,
          -29.26653716,
          -29.12453775,
          -29.22068477,
          -29.138703,
          -29.14950022,
          -29.27852466,
          -29.20372835,
          -29.2145400297,
          -29.33645966,
          -28.9294441,
          -29.21351804,
          -29.37509783,
          -29.138703,
          -29.28072807,
          -29.05030203,
          -29.1311721,
          -29.29809,
          -29.21657705,
          -29.22732643,
          -29.15999927,
          -29.22008862,
          -28.85711814,
          -29.45160832,
          -28.929109,
          -29.14852149,
          -29.38089429,
          -28.94753484,
          -29.1311721,
          -29.150635,
          -29.25081111,
          -29.18273978,
          -28.75410814,
          -29.15378313,
          -29.00751109,
          -29.43209959,
          -29.18233275,
          -29.18196231,
          -28.817015,
          -29.21249203,
          -29.22673656,
          -29.20372835,
          -28.78243906,
          -29.385815,
          -28.92668852,
          -28.94753484,
          -28.817015,
          -29.00634714,
          -28.77133,
          -29.21351804,
          -29.05030203,
          -29.25458456,
          -29.25486425,
          -29.21454003,
          -29.26689593,
          -29.22153841,
          -29.138703,
          -28.95614928,
          -29.172923,
          -29.17292214,
          -29.05097073,
          -28.96481707,
          -28.85711814,
          -29.12453775,
          -29.26860496,
          -29.0072396,
          -28.79887793,
          -29.0507769,
          -29.26092027,
          -29.113881,
          -29.05071124,
          -28.94753484,
          -29.33794,
          -29.20372835,
          -29.18897377,
          -29.19516365,
          -28.96031398,
          -29.138703,
          -29.04900776,
          -29.21351804,
          -29.04890129,
          -29.21759706,
          -29.19516365,
          -29.08303999,
          -29.21759706,
          -29.15887096,
          -29.138703,
          -29.17503555,
          -29.21759706,
          -28.791687,
          -29.14814881,
          -29.42219027,
          -29.569662,
          -29.1750398,
          -29.24604124,
          -28.850615,
          -29.27727489,
          -29.15887096,
          -29.14408811,
          -29.22202263,
          -29.50979454,
          -28.79507068,
          -29.44071,
          -28.82755543,
          -29.259553,
          -28.96481707,
          -29.25496054,
          -29.04507912,
          -29.34560555,
          -29.12372087,
          -29.150635,
          -29.168848,
          -29.14408811,
          -29.067986,
          -29.16462512,
          -29.21454003,
          -29.38753177,
          -29.14673178,
          -28.76601798,
          -28.82207304,
          -28.79507068,
          -29.07245097,
          -29.17615031,
          -29.15664932,
          -28.95614928,
          -29.17292214,
          -29.138703,
          -29.55013,
          -29.26905635,
          -28.91426441,
          -28.83381495,
          -29.06736768,
          -29.17292214,
          -29.13506934,
          -28.94753484,
          -29.21657705,
          -28.87750412,
          -29.42177378,
          -29.21556004,
          -29.008926,
          -29.094876,
          -29.36751735,
          -29.150635,
          -29.20372835,
          -29.32448694,
          -29.02312304,
          -29.19807087,
          -29.15887096,
          -29.17502765,
          -29.20372835,
          -29.37593098,
          -29.26865547,
          -29.138703,
          -28.96827407,
          -29.275031,
          -28.93175124,
          -28.91926201,
          -29.10086692,
          -29.07702548,
          -29.17909489,
          -29.31235085,
          -29.28220575,
          -28.84169703,
          -29.2218434,
          -29.1312027,
          -29.16024433,
          -28.82878563,
          -29.14802633,
          -28.91926201,
          -28.91371839,
          -29.05764849,
          -29.05030203,
          -28.84766792,
          -29.3514449,
          -29.23579206,
          -29.17292214,
          -29.09848896,
          -29.11884198,
          -29.21759706
         ],
         "lon": [
          -51.58084005,
          -51.61511825,
          -51.49151692,
          -51.61054097,
          -51.61532195,
          -51.53142395,
          -51.62540697,
          -51.54360394,
          -51.54542236,
          -51.61054097,
          -51.57472392,
          -51.51743821,
          -51.57122398,
          -51.49575418,
          -51.56456778,
          -51.6223821,
          -51.56194255,
          -51.48162,
          -51.5114218,
          -51.57387285,
          -51.57737732,
          -51.55777697,
          -51.52442163,
          -51.51722624,
          -51.51703722,
          -51.51193423,
          -51.54360394,
          -51.4832229,
          -51.57429796,
          -51.594917,
          -51.54360394,
          -51.52229011,
          -51.57387285,
          -51.49151692,
          -51.4915592,
          -51.54360394,
          -51.51855675,
          -51.51855675,
          -51.51743821,
          -51.51731914,
          -51.55299051,
          -51.48649805,
          -51.58205288,
          -51.55777697,
          -51.52107608,
          -51.48927748,
          -51.50990551,
          -51.51794436,
          -51.515561,
          -51.48554846,
          -51.56173297,
          -51.5162015,
          -51.60061401,
          -51.49322771,
          -51.58054016,
          -51.51776791,
          -51.542708,
          -51.49292361,
          -51.55413312,
          -51.49862424,
          -51.497571,
          -51.6140498,
          -51.51786908,
          -51.530241,
          -51.54507279,
          -51.55413312,
          -51.52294105,
          -51.48598021,
          -51.5243591,
          -51.55413312,
          -51.52424936,
          -51.5817368,
          -51.518,
          -51.52551964,
          -51.516199,
          -51.53142395,
          -51.51658773,
          -51.61584453,
          -51.53093403,
          -51.61126545,
          -51.4990813,
          -51.52551964,
          -51.5815904,
          -51.56456778,
          -51.53555411,
          -51.52872607,
          -51.59589806,
          -51.54253006,
          -51.56485893,
          -51.50004745,
          -51.54360394,
          -51.51693463,
          -51.542708,
          -51.53025627,
          -51.49262136,
          -51.51786908,
          -51.5176261668,
          -51.50178563,
          -51.54286265,
          -51.51780626,
          -51.50086999,
          -51.542708,
          -51.49184704,
          -51.57387285,
          -51.54412793,
          -51.48162,
          -51.51722624,
          -51.51616931,
          -51.52975386,
          -51.51652336,
          -51.55698016,
          -51.5008611,
          -51.54315,
          -51.53089464,
          -51.49351001,
          -51.55413312,
          -51.54412793,
          -51.530241,
          -51.51373571,
          -51.5200881,
          -51.62937821,
          -51.52957667,
          -51.55777697,
          -51.50861805,
          -51.52009791,
          -51.52005315,
          -51.594917,
          -51.51794436,
          -51.51615858,
          -51.51786908,
          -51.61511825,
          -51.49171,
          -51.54157704,
          -51.55413312,
          -51.594917,
          -51.54974121,
          -51.61788,
          -51.51780626,
          -51.57387285,
          -51.51153445,
          -51.51140755,
          -51.51762617,
          -51.50000095,
          -51.51619613,
          -51.542708,
          -51.56242466,
          -51.524232,
          -51.52424936,
          -51.58205288,
          -51.56355732,
          -51.55698016,
          -51.54360394,
          -51.49925287,
          -51.54793739,
          -51.61170959,
          -51.58237696,
          -51.50716966,
          -51.543803,
          -51.5742445,
          -51.55413312,
          -51.504517,
          -51.51786908,
          -51.5220291,
          -51.51950463,
          -51.56394482,
          -51.542708,
          -51.59206912,
          -51.51780626,
          -51.59140303,
          -51.51703722,
          -51.51950463,
          -51.56096429,
          -51.51703722,
          -51.53142395,
          -51.542708,
          -51.52312344,
          -51.51703722,
          -51.616686,
          -51.53127107,
          -51.52057555,
          -51.485398,
          -51.52310014,
          -51.51610494,
          -51.562645,
          -51.4932096,
          -51.53142395,
          -51.53555411,
          -51.5164501,
          -51.4885444,
          -51.61584453,
          -51.50798,
          -51.58058532,
          -51.508573,
          -51.56355732,
          -51.51140034,
          -51.56926298,
          -51.50870204,
          -51.54377829,
          -51.530241,
          -51.525961,
          -51.53555411,
          -51.5817976,
          -51.52551964,
          -51.51762617,
          -51.49545193,
          -51.53192108,
          -51.62412822,
          -51.58755803,
          -51.61584453,
          -51.58569103,
          -51.52137464,
          -51.53065324,
          -51.56242466,
          -51.52424936,
          -51.542708,
          -51.48059,
          -51.49904788,
          -51.54056132,
          -51.57472392,
          -51.57996108,
          -51.52424936,
          -51.5454483,
          -51.55413312,
          -51.51722624,
          -51.54875278,
          -51.52044123,
          -51.51743821,
          -51.564772,
          -51.54889,
          -51.51081606,
          -51.530241,
          -51.51786908,
          -51.49862424,
          -51.56485893,
          -51.51854575,
          -51.53142395,
          -51.52301615,
          -51.51786908,
          -51.49908082,
          -51.49921775,
          -51.542708,
          -51.5622282,
          -51.493932,
          -51.5415985,
          -51.53914905,
          -51.54406862,
          -51.58141136,
          -51.51855675,
          -51.48694723,
          -51.49147337,
          -51.57429796,
          -51.51652705,
          -51.54397141,
          -51.52871316,
          -51.57879674,
          -51.53139537,
          -51.53914905,
          -51.54111754,
          -51.58750672,
          -51.57387285,
          -51.57122398,
          -51.51380192,
          -51.51193423,
          -51.52424936,
          -51.54380771,
          -51.54231733,
          -51.51703722
         ],
         "marker": {
          "color": "hsl(288.0,50%,50%)",
          "size": 7.5
         },
         "mode": "markers",
         "showlegend": false,
         "text": "19",
         "type": "scattermapbox"
        },
        {
         "lat": [
          -29.723881,
          -29.881359,
          -29.4735831,
          -29.5514739848,
          -29.8754149,
          -29.69621105,
          -29.571215,
          -29.59966133,
          -29.6073248,
          -29.69184792,
          -29.5843029,
          -29.5028698,
          -29.86832721,
          -29.8754149,
          -29.724619,
          -29.569855,
          -29.886322,
          -29.75,
          -29.86529419,
          -29.8754149,
          -29.61499714,
          -29.891388,
          -29.50900276,
          -29.867395,
          -29.88893206,
          -29.86499,
          -29.65733491,
          -29.88918,
          -29.57664003,
          -29.8263459,
          -29.50900276,
          -29.507396,
          -29.62267366,
          -29.57664003,
          -29.61499714,
          -29.8754149,
          -29.883719,
          -29.884756,
          -29.867395,
          -29.88022,
          -29.87875,
          -29.887197,
          -29.888767,
          -29.81058704,
          -29.5028698,
          -29.888996,
          -29.819419,
          -29.8263459,
          -29.721962,
          -29.884407,
          -29.87781,
          -29.884756,
          -29.887197,
          -29.879417,
          -29.52220183,
          -29.885011,
          -29.885714,
          -29.70445551,
          -29.885529,
          -29.888767,
          -29.885197,
          -29.8861,
          -29.886535,
          -29.625474,
          -29.896878,
          -29.884407,
          -29.898134,
          -29.883583,
          -29.69621105,
          -29.871126,
          -29.72504,
          -29.897158,
          -29.76213,
          -29.880203,
          -29.88625,
          -29.860072,
          -29.889887,
          -29.88050774,
          -29.759604,
          -29.50785675,
          -29.884407,
          -29.83475603,
          -29.51719812,
          -29.887197,
          -29.84322488,
          -29.867395,
          -29.882362,
          -29.748863,
          -29.891388,
          -29.884407,
          -29.65200649,
          -29.88487173,
          -29.88389732,
          -29.906633,
          -29.882647,
          -29.88560195,
          -29.676002,
          -29.88149021,
          -29.793781,
          -29.883911,
          -29.89157883,
          -29.891388,
          -29.889339,
          -29.891388,
          -29.883143,
          -29.56369612,
          -29.7653103,
          -29.50900276,
          -29.891537,
          -29.883583,
          -29.897913,
          -29.902617,
          -29.897289,
          -29.885357,
          -29.61499714,
          -29.686133,
          -29.885529,
          -29.886311,
          -29.66374619,
          -29.78050987,
          -29.89732,
          -29.84322488,
          -29.78748091,
          -29.867801,
          -29.883427,
          -29.883221,
          -29.78748091,
          -29.89323,
          -29.886262,
          -29.886494,
          -29.884407,
          -29.829181,
          -29.882519,
          -29.63731772,
          -29.88149021,
          -29.56369612,
          -29.66374619,
          -29.70091773,
          -29.52220183,
          -29.46628752,
          -29.882015,
          -29.889786,
          -29.898134,
          -29.55147398,
          -29.881359,
          -29.5843029,
          -29.55749023,
          -29.759604,
          -29.889887,
          -29.881359,
          -29.885437,
          -29.891388,
          -29.892271,
          -29.890265,
          -29.891388,
          -29.869128,
          -29.886173,
          -29.764879,
          -29.891584,
          -29.898211,
          -29.8986,
          -29.65200649,
          -29.784359,
          -29.906633,
          -29.69184792,
          -29.46628752,
          -29.881359,
          -29.84322488,
          -29.85169301,
          -29.894957,
          -29.61499714,
          -29.49424084,
          -29.86499,
          -29.891388,
          -29.8986,
          -29.599252,
          -29.890028,
          -29.880135,
          -29.759604,
          -29.5843029,
          -29.79575708,
          -29.888996,
          -29.81058704,
          -29.880203,
          -29.897158,
          -29.887197,
          -29.880135,
          -29.759604,
          -29.750034,
          -29.76314247,
          -29.889887,
          -29.69621105,
          -29.889786,
          -29.78050987,
          -29.66374619,
          -29.884407,
          -29.8263459
         ],
         "lon": [
          -50.197732,
          -50.524544,
          -49.95929681,
          -50.0328960178,
          -50.25734711,
          -50.16781159,
          -50.057872,
          -50.08022057,
          -50.08588627,
          -50.15876509,
          -50.06892213,
          -49.97956231,
          -50.2517237,
          -50.25734711,
          -50.198845,
          -50.056385,
          -50.637886,
          -50.2122,
          -50.40495526,
          -50.25734711,
          -50.0915338,
          -50.373714,
          -49.98702728,
          -50.401199,
          -50.65682173,
          -50.410789,
          -50.12800604,
          -50.27878,
          -50.06327396,
          -50.2482636,
          -49.98702728,
          -49.98545,
          -50.09718947,
          -50.06327396,
          -50.0915338,
          -50.25734711,
          -50.548499,
          -50.61729,
          -50.401199,
          -50.509884,
          -50.512439,
          -50.668839,
          -50.679028,
          -50.24122892,
          -49.97956231,
          -50.383354,
          -50.245871,
          -50.2482636,
          -50.198347,
          -50.444893,
          -50.259799,
          -50.61729,
          -50.668839,
          -50.260942,
          -49.99975009,
          -50.270759,
          -50.448848,
          -50.19584656,
          -50.62759,
          -50.679028,
          -50.446372,
          -50.591786,
          -50.451436,
          -50.09928703,
          -50.302031,
          -50.444893,
          -50.31419,
          -50.555428,
          -50.16781159,
          -50.418049,
          -50.199377,
          -50.323845,
          -50.169421,
          -50.503971,
          -50.648232,
          -50.24883801,
          -50.699654,
          -50.50287768,
          -50.21723,
          -49.98592723,
          -50.444893,
          -50.24628662,
          -49.99124485,
          -50.668839,
          -50.24558869,
          -50.401199,
          -50.531228,
          -50.212245,
          -50.373714,
          -50.444893,
          -50.11956673,
          -50.44189632,
          -50.48855871,
          -50.757706,
          -50.534782,
          -50.3881073,
          -50.142523,
          -50.26433789,
          -50.230806,
          -50.565765,
          -50.28118556,
          -50.373714,
          -50.68275,
          -50.373714,
          -50.536584,
          -50.04844448,
          -50.21740458,
          -49.98702728,
          -50.720207,
          -50.555428,
          -50.317288,
          -50.748444,
          -50.344341,
          -50.484364,
          -50.0915338,
          -50.150704,
          -50.62759,
          -50.635484,
          -50.13510373,
          -50.22493416,
          -50.342324,
          -50.24558869,
          -50.23072015,
          -50.400866,
          -50.548154,
          -50.26708,
          -50.23072015,
          -50.353348,
          -50.657795,
          -50.662855,
          -50.444893,
          -50.247632,
          -50.390564,
          -50.10297775,
          -50.26433789,
          -50.04844448,
          -50.13510373,
          -50.17594859,
          -49.99975009,
          -49.95379023,
          -50.493973,
          -50.464596,
          -50.31419,
          -50.03289602,
          -50.524544,
          -50.06892213,
          -50.0407578,
          -50.21723,
          -50.699654,
          -50.524544,
          -50.485053,
          -50.373714,
          -50.356305,
          -50.702609,
          -50.373714,
          -50.41562,
          -50.658577,
          -50.169738,
          -50.363377,
          -50.315056,
          -50.739178,
          -50.11956673,
          -50.228235,
          -50.757706,
          -50.15876509,
          -49.95379023,
          -50.524544,
          -50.24558869,
          -50.24642896,
          -50.286026,
          -50.0915338,
          -49.97664153,
          -50.410789,
          -50.373714,
          -50.739178,
          -50.080044,
          -50.278638,
          -50.514297,
          -50.21723,
          -50.06892213,
          -50.23116587,
          -50.383354,
          -50.24122892,
          -50.503971,
          -50.323845,
          -50.668839,
          -50.514297,
          -50.21723,
          -50.21252,
          -50.21814477,
          -50.699654,
          -50.16781159,
          -50.464596,
          -50.22493416,
          -50.13510373,
          -50.444893,
          -50.2482636
         ],
         "marker": {
          "color": "hsl(360.0,50%,50%)",
          "size": 7.5
         },
         "mode": "markers",
         "showlegend": false,
         "text": "23",
         "type": "scattermapbox"
        }
       ],
       "layout": {
        "mapbox": {
         "center": {
          "lat": -28,
          "lon": -52
         },
         "style": "open-street-map",
         "zoom": 4.5
        },
        "margin": {
         "b": 0,
         "l": 0,
         "r": 0,
         "t": 0
        },
        "template": {
         "data": {
          "bar": [
           {
            "error_x": {
             "color": "#2a3f5f"
            },
            "error_y": {
             "color": "#2a3f5f"
            },
            "marker": {
             "line": {
              "color": "#E5ECF6",
              "width": 0.5
             },
             "pattern": {
              "fillmode": "overlay",
              "size": 10,
              "solidity": 0.2
             }
            },
            "type": "bar"
           }
          ],
          "barpolar": [
           {
            "marker": {
             "line": {
              "color": "#E5ECF6",
              "width": 0.5
             },
             "pattern": {
              "fillmode": "overlay",
              "size": 10,
              "solidity": 0.2
             }
            },
            "type": "barpolar"
           }
          ],
          "carpet": [
           {
            "aaxis": {
             "endlinecolor": "#2a3f5f",
             "gridcolor": "white",
             "linecolor": "white",
             "minorgridcolor": "white",
             "startlinecolor": "#2a3f5f"
            },
            "baxis": {
             "endlinecolor": "#2a3f5f",
             "gridcolor": "white",
             "linecolor": "white",
             "minorgridcolor": "white",
             "startlinecolor": "#2a3f5f"
            },
            "type": "carpet"
           }
          ],
          "choropleth": [
           {
            "colorbar": {
             "outlinewidth": 0,
             "ticks": ""
            },
            "type": "choropleth"
           }
          ],
          "contour": [
           {
            "colorbar": {
             "outlinewidth": 0,
             "ticks": ""
            },
            "colorscale": [
             [
              0,
              "#0d0887"
             ],
             [
              0.1111111111111111,
              "#46039f"
             ],
             [
              0.2222222222222222,
              "#7201a8"
             ],
             [
              0.3333333333333333,
              "#9c179e"
             ],
             [
              0.4444444444444444,
              "#bd3786"
             ],
             [
              0.5555555555555556,
              "#d8576b"
             ],
             [
              0.6666666666666666,
              "#ed7953"
             ],
             [
              0.7777777777777778,
              "#fb9f3a"
             ],
             [
              0.8888888888888888,
              "#fdca26"
             ],
             [
              1,
              "#f0f921"
             ]
            ],
            "type": "contour"
           }
          ],
          "contourcarpet": [
           {
            "colorbar": {
             "outlinewidth": 0,
             "ticks": ""
            },
            "type": "contourcarpet"
           }
          ],
          "heatmap": [
           {
            "colorbar": {
             "outlinewidth": 0,
             "ticks": ""
            },
            "colorscale": [
             [
              0,
              "#0d0887"
             ],
             [
              0.1111111111111111,
              "#46039f"
             ],
             [
              0.2222222222222222,
              "#7201a8"
             ],
             [
              0.3333333333333333,
              "#9c179e"
             ],
             [
              0.4444444444444444,
              "#bd3786"
             ],
             [
              0.5555555555555556,
              "#d8576b"
             ],
             [
              0.6666666666666666,
              "#ed7953"
             ],
             [
              0.7777777777777778,
              "#fb9f3a"
             ],
             [
              0.8888888888888888,
              "#fdca26"
             ],
             [
              1,
              "#f0f921"
             ]
            ],
            "type": "heatmap"
           }
          ],
          "heatmapgl": [
           {
            "colorbar": {
             "outlinewidth": 0,
             "ticks": ""
            },
            "colorscale": [
             [
              0,
              "#0d0887"
             ],
             [
              0.1111111111111111,
              "#46039f"
             ],
             [
              0.2222222222222222,
              "#7201a8"
             ],
             [
              0.3333333333333333,
              "#9c179e"
             ],
             [
              0.4444444444444444,
              "#bd3786"
             ],
             [
              0.5555555555555556,
              "#d8576b"
             ],
             [
              0.6666666666666666,
              "#ed7953"
             ],
             [
              0.7777777777777778,
              "#fb9f3a"
             ],
             [
              0.8888888888888888,
              "#fdca26"
             ],
             [
              1,
              "#f0f921"
             ]
            ],
            "type": "heatmapgl"
           }
          ],
          "histogram": [
           {
            "marker": {
             "pattern": {
              "fillmode": "overlay",
              "size": 10,
              "solidity": 0.2
             }
            },
            "type": "histogram"
           }
          ],
          "histogram2d": [
           {
            "colorbar": {
             "outlinewidth": 0,
             "ticks": ""
            },
            "colorscale": [
             [
              0,
              "#0d0887"
             ],
             [
              0.1111111111111111,
              "#46039f"
             ],
             [
              0.2222222222222222,
              "#7201a8"
             ],
             [
              0.3333333333333333,
              "#9c179e"
             ],
             [
              0.4444444444444444,
              "#bd3786"
             ],
             [
              0.5555555555555556,
              "#d8576b"
             ],
             [
              0.6666666666666666,
              "#ed7953"
             ],
             [
              0.7777777777777778,
              "#fb9f3a"
             ],
             [
              0.8888888888888888,
              "#fdca26"
             ],
             [
              1,
              "#f0f921"
             ]
            ],
            "type": "histogram2d"
           }
          ],
          "histogram2dcontour": [
           {
            "colorbar": {
             "outlinewidth": 0,
             "ticks": ""
            },
            "colorscale": [
             [
              0,
              "#0d0887"
             ],
             [
              0.1111111111111111,
              "#46039f"
             ],
             [
              0.2222222222222222,
              "#7201a8"
             ],
             [
              0.3333333333333333,
              "#9c179e"
             ],
             [
              0.4444444444444444,
              "#bd3786"
             ],
             [
              0.5555555555555556,
              "#d8576b"
             ],
             [
              0.6666666666666666,
              "#ed7953"
             ],
             [
              0.7777777777777778,
              "#fb9f3a"
             ],
             [
              0.8888888888888888,
              "#fdca26"
             ],
             [
              1,
              "#f0f921"
             ]
            ],
            "type": "histogram2dcontour"
           }
          ],
          "mesh3d": [
           {
            "colorbar": {
             "outlinewidth": 0,
             "ticks": ""
            },
            "type": "mesh3d"
           }
          ],
          "parcoords": [
           {
            "line": {
             "colorbar": {
              "outlinewidth": 0,
              "ticks": ""
             }
            },
            "type": "parcoords"
           }
          ],
          "pie": [
           {
            "automargin": true,
            "type": "pie"
           }
          ],
          "scatter": [
           {
            "fillpattern": {
             "fillmode": "overlay",
             "size": 10,
             "solidity": 0.2
            },
            "type": "scatter"
           }
          ],
          "scatter3d": [
           {
            "line": {
             "colorbar": {
              "outlinewidth": 0,
              "ticks": ""
             }
            },
            "marker": {
             "colorbar": {
              "outlinewidth": 0,
              "ticks": ""
             }
            },
            "type": "scatter3d"
           }
          ],
          "scattercarpet": [
           {
            "marker": {
             "colorbar": {
              "outlinewidth": 0,
              "ticks": ""
             }
            },
            "type": "scattercarpet"
           }
          ],
          "scattergeo": [
           {
            "marker": {
             "colorbar": {
              "outlinewidth": 0,
              "ticks": ""
             }
            },
            "type": "scattergeo"
           }
          ],
          "scattergl": [
           {
            "marker": {
             "colorbar": {
              "outlinewidth": 0,
              "ticks": ""
             }
            },
            "type": "scattergl"
           }
          ],
          "scattermapbox": [
           {
            "marker": {
             "colorbar": {
              "outlinewidth": 0,
              "ticks": ""
             }
            },
            "type": "scattermapbox"
           }
          ],
          "scatterpolar": [
           {
            "marker": {
             "colorbar": {
              "outlinewidth": 0,
              "ticks": ""
             }
            },
            "type": "scatterpolar"
           }
          ],
          "scatterpolargl": [
           {
            "marker": {
             "colorbar": {
              "outlinewidth": 0,
              "ticks": ""
             }
            },
            "type": "scatterpolargl"
           }
          ],
          "scatterternary": [
           {
            "marker": {
             "colorbar": {
              "outlinewidth": 0,
              "ticks": ""
             }
            },
            "type": "scatterternary"
           }
          ],
          "surface": [
           {
            "colorbar": {
             "outlinewidth": 0,
             "ticks": ""
            },
            "colorscale": [
             [
              0,
              "#0d0887"
             ],
             [
              0.1111111111111111,
              "#46039f"
             ],
             [
              0.2222222222222222,
              "#7201a8"
             ],
             [
              0.3333333333333333,
              "#9c179e"
             ],
             [
              0.4444444444444444,
              "#bd3786"
             ],
             [
              0.5555555555555556,
              "#d8576b"
             ],
             [
              0.6666666666666666,
              "#ed7953"
             ],
             [
              0.7777777777777778,
              "#fb9f3a"
             ],
             [
              0.8888888888888888,
              "#fdca26"
             ],
             [
              1,
              "#f0f921"
             ]
            ],
            "type": "surface"
           }
          ],
          "table": [
           {
            "cells": {
             "fill": {
              "color": "#EBF0F8"
             },
             "line": {
              "color": "white"
             }
            },
            "header": {
             "fill": {
              "color": "#C8D4E3"
             },
             "line": {
              "color": "white"
             }
            },
            "type": "table"
           }
          ]
         },
         "layout": {
          "annotationdefaults": {
           "arrowcolor": "#2a3f5f",
           "arrowhead": 0,
           "arrowwidth": 1
          },
          "autotypenumbers": "strict",
          "coloraxis": {
           "colorbar": {
            "outlinewidth": 0,
            "ticks": ""
           }
          },
          "colorscale": {
           "diverging": [
            [
             0,
             "#8e0152"
            ],
            [
             0.1,
             "#c51b7d"
            ],
            [
             0.2,
             "#de77ae"
            ],
            [
             0.3,
             "#f1b6da"
            ],
            [
             0.4,
             "#fde0ef"
            ],
            [
             0.5,
             "#f7f7f7"
            ],
            [
             0.6,
             "#e6f5d0"
            ],
            [
             0.7,
             "#b8e186"
            ],
            [
             0.8,
             "#7fbc41"
            ],
            [
             0.9,
             "#4d9221"
            ],
            [
             1,
             "#276419"
            ]
           ],
           "sequential": [
            [
             0,
             "#0d0887"
            ],
            [
             0.1111111111111111,
             "#46039f"
            ],
            [
             0.2222222222222222,
             "#7201a8"
            ],
            [
             0.3333333333333333,
             "#9c179e"
            ],
            [
             0.4444444444444444,
             "#bd3786"
            ],
            [
             0.5555555555555556,
             "#d8576b"
            ],
            [
             0.6666666666666666,
             "#ed7953"
            ],
            [
             0.7777777777777778,
             "#fb9f3a"
            ],
            [
             0.8888888888888888,
             "#fdca26"
            ],
            [
             1,
             "#f0f921"
            ]
           ],
           "sequentialminus": [
            [
             0,
             "#0d0887"
            ],
            [
             0.1111111111111111,
             "#46039f"
            ],
            [
             0.2222222222222222,
             "#7201a8"
            ],
            [
             0.3333333333333333,
             "#9c179e"
            ],
            [
             0.4444444444444444,
             "#bd3786"
            ],
            [
             0.5555555555555556,
             "#d8576b"
            ],
            [
             0.6666666666666666,
             "#ed7953"
            ],
            [
             0.7777777777777778,
             "#fb9f3a"
            ],
            [
             0.8888888888888888,
             "#fdca26"
            ],
            [
             1,
             "#f0f921"
            ]
           ]
          },
          "colorway": [
           "#636efa",
           "#EF553B",
           "#00cc96",
           "#ab63fa",
           "#FFA15A",
           "#19d3f3",
           "#FF6692",
           "#B6E880",
           "#FF97FF",
           "#FECB52"
          ],
          "font": {
           "color": "#2a3f5f"
          },
          "geo": {
           "bgcolor": "white",
           "lakecolor": "white",
           "landcolor": "#E5ECF6",
           "showlakes": true,
           "showland": true,
           "subunitcolor": "white"
          },
          "hoverlabel": {
           "align": "left"
          },
          "hovermode": "closest",
          "mapbox": {
           "style": "light"
          },
          "paper_bgcolor": "white",
          "plot_bgcolor": "#E5ECF6",
          "polar": {
           "angularaxis": {
            "gridcolor": "white",
            "linecolor": "white",
            "ticks": ""
           },
           "bgcolor": "#E5ECF6",
           "radialaxis": {
            "gridcolor": "white",
            "linecolor": "white",
            "ticks": ""
           }
          },
          "scene": {
           "xaxis": {
            "backgroundcolor": "#E5ECF6",
            "gridcolor": "white",
            "gridwidth": 2,
            "linecolor": "white",
            "showbackground": true,
            "ticks": "",
            "zerolinecolor": "white"
           },
           "yaxis": {
            "backgroundcolor": "#E5ECF6",
            "gridcolor": "white",
            "gridwidth": 2,
            "linecolor": "white",
            "showbackground": true,
            "ticks": "",
            "zerolinecolor": "white"
           },
           "zaxis": {
            "backgroundcolor": "#E5ECF6",
            "gridcolor": "white",
            "gridwidth": 2,
            "linecolor": "white",
            "showbackground": true,
            "ticks": "",
            "zerolinecolor": "white"
           }
          },
          "shapedefaults": {
           "line": {
            "color": "#2a3f5f"
           }
          },
          "ternary": {
           "aaxis": {
            "gridcolor": "white",
            "linecolor": "white",
            "ticks": ""
           },
           "baxis": {
            "gridcolor": "white",
            "linecolor": "white",
            "ticks": ""
           },
           "bgcolor": "#E5ECF6",
           "caxis": {
            "gridcolor": "white",
            "linecolor": "white",
            "ticks": ""
           }
          },
          "title": {
           "x": 0.05
          },
          "xaxis": {
           "automargin": true,
           "gridcolor": "white",
           "linecolor": "white",
           "ticks": "",
           "title": {
            "standoff": 15
           },
           "zerolinecolor": "white",
           "zerolinewidth": 2
          },
          "yaxis": {
           "automargin": true,
           "gridcolor": "white",
           "linecolor": "white",
           "ticks": "",
           "title": {
            "standoff": 15
           },
           "zerolinecolor": "white",
           "zerolinewidth": 2
          }
         }
        }
       }
      }
     },
     "metadata": {},
     "output_type": "display_data"
    }
   ],
   "source": [
    "# Plotting clusters on a map\n",
    "# --------------------------------------------------------------------------------------\n",
    "\n",
    "import plotly.graph_objects as go\n",
    "\n",
    "cluster_labels = top6\n",
    "num_clusters = len(cluster_labels)\n",
    "\n",
    "labels = df.cluster\n",
    "color_scale = [\"hsl(\" + str(h) + \",50%\" + \",50%)\" for h in np.linspace(0, 360, num_clusters)]\n",
    "fig = go.Figure()\n",
    "\n",
    "for cluster_label, color in zip(cluster_labels, color_scale):\n",
    "    # Skip noise\n",
    "    if cluster_label == -1:\n",
    "        continue\n",
    "\n",
    "    cluster_mask = labels == cluster_label\n",
    "    cluster_data = df[cluster_mask]\n",
    "\n",
    "    scatter = go.Scattermapbox(\n",
    "        lat=cluster_data.latitude,\n",
    "        lon=cluster_data.longitude,\n",
    "        mode=\"markers\",\n",
    "        marker=dict(size=7.5, color=color),\n",
    "        # text=f\"({cluster_label}) {cluster_data.causa_acidente}\",\n",
    "        text=f\"{cluster_label}\",\n",
    "        showlegend=False,\n",
    "    )\n",
    "\n",
    "    fig.add_trace(scatter)\n",
    "\n",
    "fig.update_layout(\n",
    "    mapbox_style=\"open-street-map\",\n",
    "    mapbox=dict(center=dict(lat=-28, lon=-52), zoom=4.5),\n",
    "    margin={\"l\": 0, \"r\": 0, \"t\": 0, \"b\": 0},\n",
    ")\n",
    "\n",
    "fig.show()"
   ]
  },
  {
   "cell_type": "code",
   "execution_count": 68,
   "metadata": {},
   "outputs": [
    {
     "data": {
      "application/vnd.plotly.v1+json": {
       "config": {
        "plotlyServerURL": "https://plot.ly"
       },
       "data": [
        {
         "colorscale": [
          [
           0,
           "#440154"
          ],
          [
           0.1111111111111111,
           "#482878"
          ],
          [
           0.2222222222222222,
           "#3e4989"
          ],
          [
           0.3333333333333333,
           "#31688e"
          ],
          [
           0.4444444444444444,
           "#26828e"
          ],
          [
           0.5555555555555556,
           "#1f9e89"
          ],
          [
           0.6666666666666666,
           "#35b779"
          ],
          [
           0.7777777777777778,
           "#6ece58"
          ],
          [
           0.8888888888888888,
           "#b5de2b"
          ],
          [
           1,
           "#fde725"
          ]
         ],
         "text": [
          [
           0,
           4,
           0,
           0,
           0,
           1
          ],
          [
           0,
           2,
           0,
           0,
           0,
           0
          ],
          [
           7,
           30,
           2,
           0,
           1,
           0
          ],
          [
           7,
           33,
           0,
           1,
           3,
           7
          ]
         ],
         "type": "heatmap",
         "x": [
          "Chuva",
          "Céu Claro",
          "Garoa/Chuvisco",
          "Ignorado",
          "Nublado",
          "Sol"
         ],
         "xaxis": "x",
         "y": [
          "Amanhecer",
          "Anoitecer",
          "Plena Noite",
          "Pleno dia"
         ],
         "yaxis": "y",
         "z": [
          [
           0,
           4,
           0,
           0,
           0,
           1
          ],
          [
           0,
           2,
           0,
           0,
           0,
           0
          ],
          [
           7,
           30,
           2,
           0,
           1,
           0
          ],
          [
           7,
           33,
           0,
           1,
           3,
           7
          ]
         ]
        },
        {
         "colorscale": [
          [
           0,
           "#440154"
          ],
          [
           0.1111111111111111,
           "#482878"
          ],
          [
           0.2222222222222222,
           "#3e4989"
          ],
          [
           0.3333333333333333,
           "#31688e"
          ],
          [
           0.4444444444444444,
           "#26828e"
          ],
          [
           0.5555555555555556,
           "#1f9e89"
          ],
          [
           0.6666666666666666,
           "#35b779"
          ],
          [
           0.7777777777777778,
           "#6ece58"
          ],
          [
           0.8888888888888888,
           "#b5de2b"
          ],
          [
           1,
           "#fde725"
          ]
         ],
         "text": [
          [
           1,
           15,
           2,
           0,
           0,
           1,
           0
          ],
          [
           6,
           11,
           0,
           2,
           0,
           8,
           3
          ],
          [
           20,
           136,
           9,
           6,
           4,
           77,
           0
          ],
          [
           24,
           164,
           7,
           0,
           0,
           52,
           42
          ]
         ],
         "type": "heatmap",
         "x": [
          "Chuva",
          "Céu Claro",
          "Garoa/Chuvisco",
          "Ignorado",
          "Nevoeiro/Neblina",
          "Nublado",
          "Sol"
         ],
         "xaxis": "x2",
         "y": [
          "Amanhecer",
          "Anoitecer",
          "Plena Noite",
          "Pleno dia"
         ],
         "yaxis": "y2",
         "z": [
          [
           1,
           15,
           2,
           0,
           0,
           1,
           0
          ],
          [
           6,
           11,
           0,
           2,
           0,
           8,
           3
          ],
          [
           20,
           136,
           9,
           6,
           4,
           77,
           0
          ],
          [
           24,
           164,
           7,
           0,
           0,
           52,
           42
          ]
         ]
        },
        {
         "colorscale": [
          [
           0,
           "#440154"
          ],
          [
           0.1111111111111111,
           "#482878"
          ],
          [
           0.2222222222222222,
           "#3e4989"
          ],
          [
           0.3333333333333333,
           "#31688e"
          ],
          [
           0.4444444444444444,
           "#26828e"
          ],
          [
           0.5555555555555556,
           "#1f9e89"
          ],
          [
           0.6666666666666666,
           "#35b779"
          ],
          [
           0.7777777777777778,
           "#6ece58"
          ],
          [
           0.8888888888888888,
           "#b5de2b"
          ],
          [
           1,
           "#fde725"
          ]
         ],
         "text": [
          [
           1,
           6,
           3,
           0,
           1,
           8,
           1
          ],
          [
           2,
           13,
           4,
           0,
           0,
           11,
           2
          ],
          [
           21,
           84,
           5,
           2,
           2,
           84,
           0
          ],
          [
           20,
           135,
           8,
           2,
           1,
           90,
           57
          ]
         ],
         "type": "heatmap",
         "x": [
          "Chuva",
          "Céu Claro",
          "Garoa/Chuvisco",
          "Ignorado",
          "Nevoeiro/Neblina",
          "Nublado",
          "Sol"
         ],
         "xaxis": "x3",
         "y": [
          "Amanhecer",
          "Anoitecer",
          "Plena Noite",
          "Pleno dia"
         ],
         "yaxis": "y3",
         "z": [
          [
           1,
           6,
           3,
           0,
           1,
           8,
           1
          ],
          [
           2,
           13,
           4,
           0,
           0,
           11,
           2
          ],
          [
           21,
           84,
           5,
           2,
           2,
           84,
           0
          ],
          [
           20,
           135,
           8,
           2,
           1,
           90,
           57
          ]
         ]
        },
        {
         "colorscale": [
          [
           0,
           "#440154"
          ],
          [
           0.1111111111111111,
           "#482878"
          ],
          [
           0.2222222222222222,
           "#3e4989"
          ],
          [
           0.3333333333333333,
           "#31688e"
          ],
          [
           0.4444444444444444,
           "#26828e"
          ],
          [
           0.5555555555555556,
           "#1f9e89"
          ],
          [
           0.6666666666666666,
           "#35b779"
          ],
          [
           0.7777777777777778,
           "#6ece58"
          ],
          [
           0.8888888888888888,
           "#b5de2b"
          ],
          [
           1,
           "#fde725"
          ]
         ],
         "text": [
          [
           2,
           6,
           0,
           0,
           2,
           0
          ],
          [
           1,
           4,
           0,
           0,
           1,
           0
          ],
          [
           2,
           33,
           1,
           1,
           4,
           0
          ],
          [
           1,
           36,
           2,
           0,
           5,
           6
          ]
         ],
         "type": "heatmap",
         "x": [
          "Chuva",
          "Céu Claro",
          "Garoa/Chuvisco",
          "Ignorado",
          "Nublado",
          "Sol"
         ],
         "xaxis": "x4",
         "y": [
          "Amanhecer",
          "Anoitecer",
          "Plena Noite",
          "Pleno dia"
         ],
         "yaxis": "y4",
         "z": [
          [
           2,
           6,
           0,
           0,
           2,
           0
          ],
          [
           1,
           4,
           0,
           0,
           1,
           0
          ],
          [
           2,
           33,
           1,
           1,
           4,
           0
          ],
          [
           1,
           36,
           2,
           0,
           5,
           6
          ]
         ]
        },
        {
         "colorscale": [
          [
           0,
           "#440154"
          ],
          [
           0.1111111111111111,
           "#482878"
          ],
          [
           0.2222222222222222,
           "#3e4989"
          ],
          [
           0.3333333333333333,
           "#31688e"
          ],
          [
           0.4444444444444444,
           "#26828e"
          ],
          [
           0.5555555555555556,
           "#1f9e89"
          ],
          [
           0.6666666666666666,
           "#35b779"
          ],
          [
           0.7777777777777778,
           "#6ece58"
          ],
          [
           0.8888888888888888,
           "#b5de2b"
          ],
          [
           1,
           "#fde725"
          ]
         ],
         "text": [
          [
           1,
           8,
           0,
           0,
           3,
           1,
           0
          ],
          [
           1,
           19,
           1,
           0,
           0,
           3,
           0
          ],
          [
           8,
           64,
           8,
           1,
           4,
           10,
           0
          ],
          [
           12,
           91,
           4,
           0,
           1,
           21,
           6
          ]
         ],
         "type": "heatmap",
         "x": [
          "Chuva",
          "Céu Claro",
          "Garoa/Chuvisco",
          "Ignorado",
          "Nevoeiro/Neblina",
          "Nublado",
          "Sol"
         ],
         "xaxis": "x5",
         "y": [
          "Amanhecer",
          "Anoitecer",
          "Plena Noite",
          "Pleno dia"
         ],
         "yaxis": "y5",
         "z": [
          [
           1,
           8,
           0,
           0,
           3,
           1,
           0
          ],
          [
           1,
           19,
           1,
           0,
           0,
           3,
           0
          ],
          [
           8,
           64,
           8,
           1,
           4,
           10,
           0
          ],
          [
           12,
           91,
           4,
           0,
           1,
           21,
           6
          ]
         ]
        },
        {
         "colorscale": [
          [
           0,
           "#440154"
          ],
          [
           0.1111111111111111,
           "#482878"
          ],
          [
           0.2222222222222222,
           "#3e4989"
          ],
          [
           0.3333333333333333,
           "#31688e"
          ],
          [
           0.4444444444444444,
           "#26828e"
          ],
          [
           0.5555555555555556,
           "#1f9e89"
          ],
          [
           0.6666666666666666,
           "#35b779"
          ],
          [
           0.7777777777777778,
           "#6ece58"
          ],
          [
           0.8888888888888888,
           "#b5de2b"
          ],
          [
           1,
           "#fde725"
          ]
         ],
         "text": [
          [
           0,
           8,
           0,
           5,
           0
          ],
          [
           2,
           5,
           0,
           3,
           0
          ],
          [
           12,
           38,
           2,
           17,
           0
          ],
          [
           16,
           46,
           4,
           20,
           19
          ]
         ],
         "type": "heatmap",
         "x": [
          "Chuva",
          "Céu Claro",
          "Garoa/Chuvisco",
          "Nublado",
          "Sol"
         ],
         "xaxis": "x6",
         "y": [
          "Amanhecer",
          "Anoitecer",
          "Plena Noite",
          "Pleno dia"
         ],
         "yaxis": "y6",
         "z": [
          [
           0,
           8,
           0,
           5,
           0
          ],
          [
           2,
           5,
           0,
           3,
           0
          ],
          [
           12,
           38,
           2,
           17,
           0
          ],
          [
           16,
           46,
           4,
           20,
           19
          ]
         ]
        }
       ],
       "layout": {
        "annotations": [
         {
          "font": {
           "size": 16
          },
          "showarrow": false,
          "text": "Cluster 29",
          "x": 0.14444444444444446,
          "xanchor": "center",
          "xref": "paper",
          "y": 1,
          "yanchor": "bottom",
          "yref": "paper"
         },
         {
          "font": {
           "size": 16
          },
          "showarrow": false,
          "text": "Cluster 15",
          "x": 0.5,
          "xanchor": "center",
          "xref": "paper",
          "y": 1,
          "yanchor": "bottom",
          "yref": "paper"
         },
         {
          "font": {
           "size": 16
          },
          "showarrow": false,
          "text": "Cluster 46",
          "x": 0.8555555555555556,
          "xanchor": "center",
          "xref": "paper",
          "y": 1,
          "yanchor": "bottom",
          "yref": "paper"
         },
         {
          "font": {
           "size": 16
          },
          "showarrow": false,
          "text": "Cluster 47",
          "x": 0.14444444444444446,
          "xanchor": "center",
          "xref": "paper",
          "y": 0.325,
          "yanchor": "bottom",
          "yref": "paper"
         },
         {
          "font": {
           "size": 16
          },
          "showarrow": false,
          "text": "Cluster 19",
          "x": 0.5,
          "xanchor": "center",
          "xref": "paper",
          "y": 0.325,
          "yanchor": "bottom",
          "yref": "paper"
         },
         {
          "font": {
           "size": 16
          },
          "showarrow": false,
          "text": "Cluster 23",
          "x": 0.8555555555555556,
          "xanchor": "center",
          "xref": "paper",
          "y": 0.325,
          "yanchor": "bottom",
          "yref": "paper"
         }
        ],
        "showlegend": false,
        "template": {
         "data": {
          "bar": [
           {
            "error_x": {
             "color": "#2a3f5f"
            },
            "error_y": {
             "color": "#2a3f5f"
            },
            "marker": {
             "line": {
              "color": "#E5ECF6",
              "width": 0.5
             },
             "pattern": {
              "fillmode": "overlay",
              "size": 10,
              "solidity": 0.2
             }
            },
            "type": "bar"
           }
          ],
          "barpolar": [
           {
            "marker": {
             "line": {
              "color": "#E5ECF6",
              "width": 0.5
             },
             "pattern": {
              "fillmode": "overlay",
              "size": 10,
              "solidity": 0.2
             }
            },
            "type": "barpolar"
           }
          ],
          "carpet": [
           {
            "aaxis": {
             "endlinecolor": "#2a3f5f",
             "gridcolor": "white",
             "linecolor": "white",
             "minorgridcolor": "white",
             "startlinecolor": "#2a3f5f"
            },
            "baxis": {
             "endlinecolor": "#2a3f5f",
             "gridcolor": "white",
             "linecolor": "white",
             "minorgridcolor": "white",
             "startlinecolor": "#2a3f5f"
            },
            "type": "carpet"
           }
          ],
          "choropleth": [
           {
            "colorbar": {
             "outlinewidth": 0,
             "ticks": ""
            },
            "type": "choropleth"
           }
          ],
          "contour": [
           {
            "colorbar": {
             "outlinewidth": 0,
             "ticks": ""
            },
            "colorscale": [
             [
              0,
              "#0d0887"
             ],
             [
              0.1111111111111111,
              "#46039f"
             ],
             [
              0.2222222222222222,
              "#7201a8"
             ],
             [
              0.3333333333333333,
              "#9c179e"
             ],
             [
              0.4444444444444444,
              "#bd3786"
             ],
             [
              0.5555555555555556,
              "#d8576b"
             ],
             [
              0.6666666666666666,
              "#ed7953"
             ],
             [
              0.7777777777777778,
              "#fb9f3a"
             ],
             [
              0.8888888888888888,
              "#fdca26"
             ],
             [
              1,
              "#f0f921"
             ]
            ],
            "type": "contour"
           }
          ],
          "contourcarpet": [
           {
            "colorbar": {
             "outlinewidth": 0,
             "ticks": ""
            },
            "type": "contourcarpet"
           }
          ],
          "heatmap": [
           {
            "colorbar": {
             "outlinewidth": 0,
             "ticks": ""
            },
            "colorscale": [
             [
              0,
              "#0d0887"
             ],
             [
              0.1111111111111111,
              "#46039f"
             ],
             [
              0.2222222222222222,
              "#7201a8"
             ],
             [
              0.3333333333333333,
              "#9c179e"
             ],
             [
              0.4444444444444444,
              "#bd3786"
             ],
             [
              0.5555555555555556,
              "#d8576b"
             ],
             [
              0.6666666666666666,
              "#ed7953"
             ],
             [
              0.7777777777777778,
              "#fb9f3a"
             ],
             [
              0.8888888888888888,
              "#fdca26"
             ],
             [
              1,
              "#f0f921"
             ]
            ],
            "type": "heatmap"
           }
          ],
          "heatmapgl": [
           {
            "colorbar": {
             "outlinewidth": 0,
             "ticks": ""
            },
            "colorscale": [
             [
              0,
              "#0d0887"
             ],
             [
              0.1111111111111111,
              "#46039f"
             ],
             [
              0.2222222222222222,
              "#7201a8"
             ],
             [
              0.3333333333333333,
              "#9c179e"
             ],
             [
              0.4444444444444444,
              "#bd3786"
             ],
             [
              0.5555555555555556,
              "#d8576b"
             ],
             [
              0.6666666666666666,
              "#ed7953"
             ],
             [
              0.7777777777777778,
              "#fb9f3a"
             ],
             [
              0.8888888888888888,
              "#fdca26"
             ],
             [
              1,
              "#f0f921"
             ]
            ],
            "type": "heatmapgl"
           }
          ],
          "histogram": [
           {
            "marker": {
             "pattern": {
              "fillmode": "overlay",
              "size": 10,
              "solidity": 0.2
             }
            },
            "type": "histogram"
           }
          ],
          "histogram2d": [
           {
            "colorbar": {
             "outlinewidth": 0,
             "ticks": ""
            },
            "colorscale": [
             [
              0,
              "#0d0887"
             ],
             [
              0.1111111111111111,
              "#46039f"
             ],
             [
              0.2222222222222222,
              "#7201a8"
             ],
             [
              0.3333333333333333,
              "#9c179e"
             ],
             [
              0.4444444444444444,
              "#bd3786"
             ],
             [
              0.5555555555555556,
              "#d8576b"
             ],
             [
              0.6666666666666666,
              "#ed7953"
             ],
             [
              0.7777777777777778,
              "#fb9f3a"
             ],
             [
              0.8888888888888888,
              "#fdca26"
             ],
             [
              1,
              "#f0f921"
             ]
            ],
            "type": "histogram2d"
           }
          ],
          "histogram2dcontour": [
           {
            "colorbar": {
             "outlinewidth": 0,
             "ticks": ""
            },
            "colorscale": [
             [
              0,
              "#0d0887"
             ],
             [
              0.1111111111111111,
              "#46039f"
             ],
             [
              0.2222222222222222,
              "#7201a8"
             ],
             [
              0.3333333333333333,
              "#9c179e"
             ],
             [
              0.4444444444444444,
              "#bd3786"
             ],
             [
              0.5555555555555556,
              "#d8576b"
             ],
             [
              0.6666666666666666,
              "#ed7953"
             ],
             [
              0.7777777777777778,
              "#fb9f3a"
             ],
             [
              0.8888888888888888,
              "#fdca26"
             ],
             [
              1,
              "#f0f921"
             ]
            ],
            "type": "histogram2dcontour"
           }
          ],
          "mesh3d": [
           {
            "colorbar": {
             "outlinewidth": 0,
             "ticks": ""
            },
            "type": "mesh3d"
           }
          ],
          "parcoords": [
           {
            "line": {
             "colorbar": {
              "outlinewidth": 0,
              "ticks": ""
             }
            },
            "type": "parcoords"
           }
          ],
          "pie": [
           {
            "automargin": true,
            "type": "pie"
           }
          ],
          "scatter": [
           {
            "fillpattern": {
             "fillmode": "overlay",
             "size": 10,
             "solidity": 0.2
            },
            "type": "scatter"
           }
          ],
          "scatter3d": [
           {
            "line": {
             "colorbar": {
              "outlinewidth": 0,
              "ticks": ""
             }
            },
            "marker": {
             "colorbar": {
              "outlinewidth": 0,
              "ticks": ""
             }
            },
            "type": "scatter3d"
           }
          ],
          "scattercarpet": [
           {
            "marker": {
             "colorbar": {
              "outlinewidth": 0,
              "ticks": ""
             }
            },
            "type": "scattercarpet"
           }
          ],
          "scattergeo": [
           {
            "marker": {
             "colorbar": {
              "outlinewidth": 0,
              "ticks": ""
             }
            },
            "type": "scattergeo"
           }
          ],
          "scattergl": [
           {
            "marker": {
             "colorbar": {
              "outlinewidth": 0,
              "ticks": ""
             }
            },
            "type": "scattergl"
           }
          ],
          "scattermapbox": [
           {
            "marker": {
             "colorbar": {
              "outlinewidth": 0,
              "ticks": ""
             }
            },
            "type": "scattermapbox"
           }
          ],
          "scatterpolar": [
           {
            "marker": {
             "colorbar": {
              "outlinewidth": 0,
              "ticks": ""
             }
            },
            "type": "scatterpolar"
           }
          ],
          "scatterpolargl": [
           {
            "marker": {
             "colorbar": {
              "outlinewidth": 0,
              "ticks": ""
             }
            },
            "type": "scatterpolargl"
           }
          ],
          "scatterternary": [
           {
            "marker": {
             "colorbar": {
              "outlinewidth": 0,
              "ticks": ""
             }
            },
            "type": "scatterternary"
           }
          ],
          "surface": [
           {
            "colorbar": {
             "outlinewidth": 0,
             "ticks": ""
            },
            "colorscale": [
             [
              0,
              "#0d0887"
             ],
             [
              0.1111111111111111,
              "#46039f"
             ],
             [
              0.2222222222222222,
              "#7201a8"
             ],
             [
              0.3333333333333333,
              "#9c179e"
             ],
             [
              0.4444444444444444,
              "#bd3786"
             ],
             [
              0.5555555555555556,
              "#d8576b"
             ],
             [
              0.6666666666666666,
              "#ed7953"
             ],
             [
              0.7777777777777778,
              "#fb9f3a"
             ],
             [
              0.8888888888888888,
              "#fdca26"
             ],
             [
              1,
              "#f0f921"
             ]
            ],
            "type": "surface"
           }
          ],
          "table": [
           {
            "cells": {
             "fill": {
              "color": "#EBF0F8"
             },
             "line": {
              "color": "white"
             }
            },
            "header": {
             "fill": {
              "color": "#C8D4E3"
             },
             "line": {
              "color": "white"
             }
            },
            "type": "table"
           }
          ]
         },
         "layout": {
          "annotationdefaults": {
           "arrowcolor": "#2a3f5f",
           "arrowhead": 0,
           "arrowwidth": 1
          },
          "autotypenumbers": "strict",
          "coloraxis": {
           "colorbar": {
            "outlinewidth": 0,
            "ticks": ""
           }
          },
          "colorscale": {
           "diverging": [
            [
             0,
             "#8e0152"
            ],
            [
             0.1,
             "#c51b7d"
            ],
            [
             0.2,
             "#de77ae"
            ],
            [
             0.3,
             "#f1b6da"
            ],
            [
             0.4,
             "#fde0ef"
            ],
            [
             0.5,
             "#f7f7f7"
            ],
            [
             0.6,
             "#e6f5d0"
            ],
            [
             0.7,
             "#b8e186"
            ],
            [
             0.8,
             "#7fbc41"
            ],
            [
             0.9,
             "#4d9221"
            ],
            [
             1,
             "#276419"
            ]
           ],
           "sequential": [
            [
             0,
             "#0d0887"
            ],
            [
             0.1111111111111111,
             "#46039f"
            ],
            [
             0.2222222222222222,
             "#7201a8"
            ],
            [
             0.3333333333333333,
             "#9c179e"
            ],
            [
             0.4444444444444444,
             "#bd3786"
            ],
            [
             0.5555555555555556,
             "#d8576b"
            ],
            [
             0.6666666666666666,
             "#ed7953"
            ],
            [
             0.7777777777777778,
             "#fb9f3a"
            ],
            [
             0.8888888888888888,
             "#fdca26"
            ],
            [
             1,
             "#f0f921"
            ]
           ],
           "sequentialminus": [
            [
             0,
             "#0d0887"
            ],
            [
             0.1111111111111111,
             "#46039f"
            ],
            [
             0.2222222222222222,
             "#7201a8"
            ],
            [
             0.3333333333333333,
             "#9c179e"
            ],
            [
             0.4444444444444444,
             "#bd3786"
            ],
            [
             0.5555555555555556,
             "#d8576b"
            ],
            [
             0.6666666666666666,
             "#ed7953"
            ],
            [
             0.7777777777777778,
             "#fb9f3a"
            ],
            [
             0.8888888888888888,
             "#fdca26"
            ],
            [
             1,
             "#f0f921"
            ]
           ]
          },
          "colorway": [
           "#636efa",
           "#EF553B",
           "#00cc96",
           "#ab63fa",
           "#FFA15A",
           "#19d3f3",
           "#FF6692",
           "#B6E880",
           "#FF97FF",
           "#FECB52"
          ],
          "font": {
           "color": "#2a3f5f"
          },
          "geo": {
           "bgcolor": "white",
           "lakecolor": "white",
           "landcolor": "#E5ECF6",
           "showlakes": true,
           "showland": true,
           "subunitcolor": "white"
          },
          "hoverlabel": {
           "align": "left"
          },
          "hovermode": "closest",
          "mapbox": {
           "style": "light"
          },
          "paper_bgcolor": "white",
          "plot_bgcolor": "#E5ECF6",
          "polar": {
           "angularaxis": {
            "gridcolor": "white",
            "linecolor": "white",
            "ticks": ""
           },
           "bgcolor": "#E5ECF6",
           "radialaxis": {
            "gridcolor": "white",
            "linecolor": "white",
            "ticks": ""
           }
          },
          "scene": {
           "xaxis": {
            "backgroundcolor": "#E5ECF6",
            "gridcolor": "white",
            "gridwidth": 2,
            "linecolor": "white",
            "showbackground": true,
            "ticks": "",
            "zerolinecolor": "white"
           },
           "yaxis": {
            "backgroundcolor": "#E5ECF6",
            "gridcolor": "white",
            "gridwidth": 2,
            "linecolor": "white",
            "showbackground": true,
            "ticks": "",
            "zerolinecolor": "white"
           },
           "zaxis": {
            "backgroundcolor": "#E5ECF6",
            "gridcolor": "white",
            "gridwidth": 2,
            "linecolor": "white",
            "showbackground": true,
            "ticks": "",
            "zerolinecolor": "white"
           }
          },
          "shapedefaults": {
           "line": {
            "color": "#2a3f5f"
           }
          },
          "ternary": {
           "aaxis": {
            "gridcolor": "white",
            "linecolor": "white",
            "ticks": ""
           },
           "baxis": {
            "gridcolor": "white",
            "linecolor": "white",
            "ticks": ""
           },
           "bgcolor": "#E5ECF6",
           "caxis": {
            "gridcolor": "white",
            "linecolor": "white",
            "ticks": ""
           }
          },
          "title": {
           "x": 0.05
          },
          "xaxis": {
           "automargin": true,
           "gridcolor": "white",
           "linecolor": "white",
           "ticks": "",
           "title": {
            "standoff": 15
           },
           "zerolinecolor": "white",
           "zerolinewidth": 2
          },
          "yaxis": {
           "automargin": true,
           "gridcolor": "white",
           "linecolor": "white",
           "ticks": "",
           "title": {
            "standoff": 15
           },
           "zerolinecolor": "white",
           "zerolinewidth": 2
          }
         }
        },
        "title": {
         "text": "Crosstabulation Heatmaps"
        },
        "xaxis": {
         "anchor": "y",
         "domain": [
          0,
          0.2888888888888889
         ]
        },
        "xaxis2": {
         "anchor": "y2",
         "domain": [
          0.35555555555555557,
          0.6444444444444445
         ]
        },
        "xaxis3": {
         "anchor": "y3",
         "domain": [
          0.7111111111111111,
          1
         ]
        },
        "xaxis4": {
         "anchor": "y4",
         "domain": [
          0,
          0.2888888888888889
         ]
        },
        "xaxis5": {
         "anchor": "y5",
         "domain": [
          0.35555555555555557,
          0.6444444444444445
         ]
        },
        "xaxis6": {
         "anchor": "y6",
         "domain": [
          0.7111111111111111,
          1
         ]
        },
        "yaxis": {
         "anchor": "x",
         "domain": [
          0.675,
          1
         ]
        },
        "yaxis2": {
         "anchor": "x2",
         "domain": [
          0.675,
          1
         ]
        },
        "yaxis3": {
         "anchor": "x3",
         "domain": [
          0.675,
          1
         ]
        },
        "yaxis4": {
         "anchor": "x4",
         "domain": [
          0,
          0.325
         ]
        },
        "yaxis5": {
         "anchor": "x5",
         "domain": [
          0,
          0.325
         ]
        },
        "yaxis6": {
         "anchor": "x6",
         "domain": [
          0,
          0.325
         ]
        }
       }
      }
     },
     "metadata": {},
     "output_type": "display_data"
    }
   ],
   "source": [
    "import plotly.graph_objects as go\n",
    "from plotly.subplots import make_subplots\n",
    "\n",
    "titles = [f\"Cluster {cluster_num}\" for cluster_num in top6]\n",
    "fig = make_subplots(rows=2, cols=3, subplot_titles=titles, vertical_spacing = 0.35)\n",
    "\n",
    "for i, cluster_num in enumerate(top6):\n",
    "    cluster = df[df.cluster == cluster_num]\n",
    "    crosstab = pd.crosstab(cluster.fase_dia, cluster.condicao_metereologica)\n",
    "\n",
    "    heatmap = go.Heatmap(\n",
    "        z=crosstab.values,\n",
    "        x=crosstab.columns,\n",
    "        y=crosstab.index,\n",
    "        text=crosstab.values,\n",
    "        colorscale='Viridis'\n",
    "    )\n",
    "    fig.add_trace(heatmap, row=(i // 3) + 1, col=(i % 3) + 1)\n",
    "\n",
    "fig.update_layout(\n",
    "    title=\"Crosstabulation Heatmaps\",\n",
    "    # xaxis=dict(title=\"condicao_metereologica\"),\n",
    "    # yaxis=dict(title=\"fase_dia\"),\n",
    "    showlegend=False,\n",
    ")\n",
    "\n",
    "fig.show()\n"
   ]
  },
  {
   "cell_type": "code",
   "execution_count": 69,
   "metadata": {},
   "outputs": [
    {
     "data": {
      "application/vnd.plotly.v1+json": {
       "config": {
        "plotlyServerURL": "https://plot.ly"
       },
       "data": [
        {
         "marker": {
          "color": "rgb(31, 119, 180)"
         },
         "text": [
          32,
          19,
          10,
          5,
          5
         ],
         "type": "bar",
         "x": [
          "Saída de leito carroçável",
          "Colisão traseira",
          "Colisão transversal",
          "Colisão frontal",
          "Tombamento"
         ],
         "xaxis": "x",
         "y": [
          32,
          19,
          10,
          5,
          5
         ],
         "yaxis": "y"
        },
        {
         "marker": {
          "color": "rgb(31, 119, 180)"
         },
         "text": [
          132,
          129,
          76,
          70,
          48
         ],
         "type": "bar",
         "x": [
          "Colisão traseira",
          "Saída de leito carroçável",
          "Colisão transversal",
          "Colisão com objeto",
          "Colisão lateral mesmo sentido"
         ],
         "xaxis": "x2",
         "y": [
          132,
          129,
          76,
          70,
          48
         ],
         "yaxis": "y2"
        },
        {
         "marker": {
          "color": "rgb(31, 119, 180)"
         },
         "text": [
          177,
          73,
          61,
          61,
          50
         ],
         "type": "bar",
         "x": [
          "Colisão transversal",
          "Colisão traseira",
          "Colisão lateral mesmo sentido",
          "Saída de leito carroçável",
          "Colisão frontal"
         ],
         "xaxis": "x3",
         "y": [
          177,
          73,
          61,
          61,
          50
         ],
         "yaxis": "y3"
        },
        {
         "marker": {
          "color": "rgb(31, 119, 180)"
         },
         "text": [
          29,
          21,
          9,
          8,
          8
         ],
         "type": "bar",
         "x": [
          "Saída de leito carroçável",
          "Colisão transversal",
          "Colisão traseira",
          "Colisão frontal",
          "Queda de ocupante de veículo"
         ],
         "xaxis": "x4",
         "y": [
          29,
          21,
          9,
          8,
          8
         ],
         "yaxis": "y4"
        },
        {
         "marker": {
          "color": "rgb(31, 119, 180)"
         },
         "text": [
          77,
          62,
          27,
          25,
          17
         ],
         "type": "bar",
         "x": [
          "Colisão transversal",
          "Saída de leito carroçável",
          "Colisão traseira",
          "Colisão frontal",
          "Colisão lateral mesmo sentido"
         ],
         "xaxis": "x5",
         "y": [
          77,
          62,
          27,
          25,
          17
         ],
         "yaxis": "y5"
        },
        {
         "marker": {
          "color": "rgb(31, 119, 180)"
         },
         "text": [
          84,
          30,
          14,
          13,
          10
         ],
         "type": "bar",
         "x": [
          "Saída de leito carroçável",
          "Colisão traseira",
          "Tombamento",
          "Incêndio",
          "Colisão com objeto"
         ],
         "xaxis": "x6",
         "y": [
          84,
          30,
          14,
          13,
          10
         ],
         "yaxis": "y6"
        }
       ],
       "layout": {
        "annotations": [
         {
          "font": {
           "size": 16
          },
          "showarrow": false,
          "text": "Cluster 29",
          "x": 0.14444444444444446,
          "xanchor": "center",
          "xref": "paper",
          "y": 1,
          "yanchor": "bottom",
          "yref": "paper"
         },
         {
          "font": {
           "size": 16
          },
          "showarrow": false,
          "text": "Cluster 15",
          "x": 0.5,
          "xanchor": "center",
          "xref": "paper",
          "y": 1,
          "yanchor": "bottom",
          "yref": "paper"
         },
         {
          "font": {
           "size": 16
          },
          "showarrow": false,
          "text": "Cluster 46",
          "x": 0.8555555555555556,
          "xanchor": "center",
          "xref": "paper",
          "y": 1,
          "yanchor": "bottom",
          "yref": "paper"
         },
         {
          "font": {
           "size": 16
          },
          "showarrow": false,
          "text": "Cluster 47",
          "x": 0.14444444444444446,
          "xanchor": "center",
          "xref": "paper",
          "y": 0.25,
          "yanchor": "bottom",
          "yref": "paper"
         },
         {
          "font": {
           "size": 16
          },
          "showarrow": false,
          "text": "Cluster 19",
          "x": 0.5,
          "xanchor": "center",
          "xref": "paper",
          "y": 0.25,
          "yanchor": "bottom",
          "yref": "paper"
         },
         {
          "font": {
           "size": 16
          },
          "showarrow": false,
          "text": "Cluster 23",
          "x": 0.8555555555555556,
          "xanchor": "center",
          "xref": "paper",
          "y": 0.25,
          "yanchor": "bottom",
          "yref": "paper"
         }
        ],
        "showlegend": false,
        "template": {
         "data": {
          "bar": [
           {
            "error_x": {
             "color": "#2a3f5f"
            },
            "error_y": {
             "color": "#2a3f5f"
            },
            "marker": {
             "line": {
              "color": "#E5ECF6",
              "width": 0.5
             },
             "pattern": {
              "fillmode": "overlay",
              "size": 10,
              "solidity": 0.2
             }
            },
            "type": "bar"
           }
          ],
          "barpolar": [
           {
            "marker": {
             "line": {
              "color": "#E5ECF6",
              "width": 0.5
             },
             "pattern": {
              "fillmode": "overlay",
              "size": 10,
              "solidity": 0.2
             }
            },
            "type": "barpolar"
           }
          ],
          "carpet": [
           {
            "aaxis": {
             "endlinecolor": "#2a3f5f",
             "gridcolor": "white",
             "linecolor": "white",
             "minorgridcolor": "white",
             "startlinecolor": "#2a3f5f"
            },
            "baxis": {
             "endlinecolor": "#2a3f5f",
             "gridcolor": "white",
             "linecolor": "white",
             "minorgridcolor": "white",
             "startlinecolor": "#2a3f5f"
            },
            "type": "carpet"
           }
          ],
          "choropleth": [
           {
            "colorbar": {
             "outlinewidth": 0,
             "ticks": ""
            },
            "type": "choropleth"
           }
          ],
          "contour": [
           {
            "colorbar": {
             "outlinewidth": 0,
             "ticks": ""
            },
            "colorscale": [
             [
              0,
              "#0d0887"
             ],
             [
              0.1111111111111111,
              "#46039f"
             ],
             [
              0.2222222222222222,
              "#7201a8"
             ],
             [
              0.3333333333333333,
              "#9c179e"
             ],
             [
              0.4444444444444444,
              "#bd3786"
             ],
             [
              0.5555555555555556,
              "#d8576b"
             ],
             [
              0.6666666666666666,
              "#ed7953"
             ],
             [
              0.7777777777777778,
              "#fb9f3a"
             ],
             [
              0.8888888888888888,
              "#fdca26"
             ],
             [
              1,
              "#f0f921"
             ]
            ],
            "type": "contour"
           }
          ],
          "contourcarpet": [
           {
            "colorbar": {
             "outlinewidth": 0,
             "ticks": ""
            },
            "type": "contourcarpet"
           }
          ],
          "heatmap": [
           {
            "colorbar": {
             "outlinewidth": 0,
             "ticks": ""
            },
            "colorscale": [
             [
              0,
              "#0d0887"
             ],
             [
              0.1111111111111111,
              "#46039f"
             ],
             [
              0.2222222222222222,
              "#7201a8"
             ],
             [
              0.3333333333333333,
              "#9c179e"
             ],
             [
              0.4444444444444444,
              "#bd3786"
             ],
             [
              0.5555555555555556,
              "#d8576b"
             ],
             [
              0.6666666666666666,
              "#ed7953"
             ],
             [
              0.7777777777777778,
              "#fb9f3a"
             ],
             [
              0.8888888888888888,
              "#fdca26"
             ],
             [
              1,
              "#f0f921"
             ]
            ],
            "type": "heatmap"
           }
          ],
          "heatmapgl": [
           {
            "colorbar": {
             "outlinewidth": 0,
             "ticks": ""
            },
            "colorscale": [
             [
              0,
              "#0d0887"
             ],
             [
              0.1111111111111111,
              "#46039f"
             ],
             [
              0.2222222222222222,
              "#7201a8"
             ],
             [
              0.3333333333333333,
              "#9c179e"
             ],
             [
              0.4444444444444444,
              "#bd3786"
             ],
             [
              0.5555555555555556,
              "#d8576b"
             ],
             [
              0.6666666666666666,
              "#ed7953"
             ],
             [
              0.7777777777777778,
              "#fb9f3a"
             ],
             [
              0.8888888888888888,
              "#fdca26"
             ],
             [
              1,
              "#f0f921"
             ]
            ],
            "type": "heatmapgl"
           }
          ],
          "histogram": [
           {
            "marker": {
             "pattern": {
              "fillmode": "overlay",
              "size": 10,
              "solidity": 0.2
             }
            },
            "type": "histogram"
           }
          ],
          "histogram2d": [
           {
            "colorbar": {
             "outlinewidth": 0,
             "ticks": ""
            },
            "colorscale": [
             [
              0,
              "#0d0887"
             ],
             [
              0.1111111111111111,
              "#46039f"
             ],
             [
              0.2222222222222222,
              "#7201a8"
             ],
             [
              0.3333333333333333,
              "#9c179e"
             ],
             [
              0.4444444444444444,
              "#bd3786"
             ],
             [
              0.5555555555555556,
              "#d8576b"
             ],
             [
              0.6666666666666666,
              "#ed7953"
             ],
             [
              0.7777777777777778,
              "#fb9f3a"
             ],
             [
              0.8888888888888888,
              "#fdca26"
             ],
             [
              1,
              "#f0f921"
             ]
            ],
            "type": "histogram2d"
           }
          ],
          "histogram2dcontour": [
           {
            "colorbar": {
             "outlinewidth": 0,
             "ticks": ""
            },
            "colorscale": [
             [
              0,
              "#0d0887"
             ],
             [
              0.1111111111111111,
              "#46039f"
             ],
             [
              0.2222222222222222,
              "#7201a8"
             ],
             [
              0.3333333333333333,
              "#9c179e"
             ],
             [
              0.4444444444444444,
              "#bd3786"
             ],
             [
              0.5555555555555556,
              "#d8576b"
             ],
             [
              0.6666666666666666,
              "#ed7953"
             ],
             [
              0.7777777777777778,
              "#fb9f3a"
             ],
             [
              0.8888888888888888,
              "#fdca26"
             ],
             [
              1,
              "#f0f921"
             ]
            ],
            "type": "histogram2dcontour"
           }
          ],
          "mesh3d": [
           {
            "colorbar": {
             "outlinewidth": 0,
             "ticks": ""
            },
            "type": "mesh3d"
           }
          ],
          "parcoords": [
           {
            "line": {
             "colorbar": {
              "outlinewidth": 0,
              "ticks": ""
             }
            },
            "type": "parcoords"
           }
          ],
          "pie": [
           {
            "automargin": true,
            "type": "pie"
           }
          ],
          "scatter": [
           {
            "fillpattern": {
             "fillmode": "overlay",
             "size": 10,
             "solidity": 0.2
            },
            "type": "scatter"
           }
          ],
          "scatter3d": [
           {
            "line": {
             "colorbar": {
              "outlinewidth": 0,
              "ticks": ""
             }
            },
            "marker": {
             "colorbar": {
              "outlinewidth": 0,
              "ticks": ""
             }
            },
            "type": "scatter3d"
           }
          ],
          "scattercarpet": [
           {
            "marker": {
             "colorbar": {
              "outlinewidth": 0,
              "ticks": ""
             }
            },
            "type": "scattercarpet"
           }
          ],
          "scattergeo": [
           {
            "marker": {
             "colorbar": {
              "outlinewidth": 0,
              "ticks": ""
             }
            },
            "type": "scattergeo"
           }
          ],
          "scattergl": [
           {
            "marker": {
             "colorbar": {
              "outlinewidth": 0,
              "ticks": ""
             }
            },
            "type": "scattergl"
           }
          ],
          "scattermapbox": [
           {
            "marker": {
             "colorbar": {
              "outlinewidth": 0,
              "ticks": ""
             }
            },
            "type": "scattermapbox"
           }
          ],
          "scatterpolar": [
           {
            "marker": {
             "colorbar": {
              "outlinewidth": 0,
              "ticks": ""
             }
            },
            "type": "scatterpolar"
           }
          ],
          "scatterpolargl": [
           {
            "marker": {
             "colorbar": {
              "outlinewidth": 0,
              "ticks": ""
             }
            },
            "type": "scatterpolargl"
           }
          ],
          "scatterternary": [
           {
            "marker": {
             "colorbar": {
              "outlinewidth": 0,
              "ticks": ""
             }
            },
            "type": "scatterternary"
           }
          ],
          "surface": [
           {
            "colorbar": {
             "outlinewidth": 0,
             "ticks": ""
            },
            "colorscale": [
             [
              0,
              "#0d0887"
             ],
             [
              0.1111111111111111,
              "#46039f"
             ],
             [
              0.2222222222222222,
              "#7201a8"
             ],
             [
              0.3333333333333333,
              "#9c179e"
             ],
             [
              0.4444444444444444,
              "#bd3786"
             ],
             [
              0.5555555555555556,
              "#d8576b"
             ],
             [
              0.6666666666666666,
              "#ed7953"
             ],
             [
              0.7777777777777778,
              "#fb9f3a"
             ],
             [
              0.8888888888888888,
              "#fdca26"
             ],
             [
              1,
              "#f0f921"
             ]
            ],
            "type": "surface"
           }
          ],
          "table": [
           {
            "cells": {
             "fill": {
              "color": "#EBF0F8"
             },
             "line": {
              "color": "white"
             }
            },
            "header": {
             "fill": {
              "color": "#C8D4E3"
             },
             "line": {
              "color": "white"
             }
            },
            "type": "table"
           }
          ]
         },
         "layout": {
          "annotationdefaults": {
           "arrowcolor": "#2a3f5f",
           "arrowhead": 0,
           "arrowwidth": 1
          },
          "autotypenumbers": "strict",
          "coloraxis": {
           "colorbar": {
            "outlinewidth": 0,
            "ticks": ""
           }
          },
          "colorscale": {
           "diverging": [
            [
             0,
             "#8e0152"
            ],
            [
             0.1,
             "#c51b7d"
            ],
            [
             0.2,
             "#de77ae"
            ],
            [
             0.3,
             "#f1b6da"
            ],
            [
             0.4,
             "#fde0ef"
            ],
            [
             0.5,
             "#f7f7f7"
            ],
            [
             0.6,
             "#e6f5d0"
            ],
            [
             0.7,
             "#b8e186"
            ],
            [
             0.8,
             "#7fbc41"
            ],
            [
             0.9,
             "#4d9221"
            ],
            [
             1,
             "#276419"
            ]
           ],
           "sequential": [
            [
             0,
             "#0d0887"
            ],
            [
             0.1111111111111111,
             "#46039f"
            ],
            [
             0.2222222222222222,
             "#7201a8"
            ],
            [
             0.3333333333333333,
             "#9c179e"
            ],
            [
             0.4444444444444444,
             "#bd3786"
            ],
            [
             0.5555555555555556,
             "#d8576b"
            ],
            [
             0.6666666666666666,
             "#ed7953"
            ],
            [
             0.7777777777777778,
             "#fb9f3a"
            ],
            [
             0.8888888888888888,
             "#fdca26"
            ],
            [
             1,
             "#f0f921"
            ]
           ],
           "sequentialminus": [
            [
             0,
             "#0d0887"
            ],
            [
             0.1111111111111111,
             "#46039f"
            ],
            [
             0.2222222222222222,
             "#7201a8"
            ],
            [
             0.3333333333333333,
             "#9c179e"
            ],
            [
             0.4444444444444444,
             "#bd3786"
            ],
            [
             0.5555555555555556,
             "#d8576b"
            ],
            [
             0.6666666666666666,
             "#ed7953"
            ],
            [
             0.7777777777777778,
             "#fb9f3a"
            ],
            [
             0.8888888888888888,
             "#fdca26"
            ],
            [
             1,
             "#f0f921"
            ]
           ]
          },
          "colorway": [
           "#636efa",
           "#EF553B",
           "#00cc96",
           "#ab63fa",
           "#FFA15A",
           "#19d3f3",
           "#FF6692",
           "#B6E880",
           "#FF97FF",
           "#FECB52"
          ],
          "font": {
           "color": "#2a3f5f"
          },
          "geo": {
           "bgcolor": "white",
           "lakecolor": "white",
           "landcolor": "#E5ECF6",
           "showlakes": true,
           "showland": true,
           "subunitcolor": "white"
          },
          "hoverlabel": {
           "align": "left"
          },
          "hovermode": "closest",
          "mapbox": {
           "style": "light"
          },
          "paper_bgcolor": "white",
          "plot_bgcolor": "#E5ECF6",
          "polar": {
           "angularaxis": {
            "gridcolor": "white",
            "linecolor": "white",
            "ticks": ""
           },
           "bgcolor": "#E5ECF6",
           "radialaxis": {
            "gridcolor": "white",
            "linecolor": "white",
            "ticks": ""
           }
          },
          "scene": {
           "xaxis": {
            "backgroundcolor": "#E5ECF6",
            "gridcolor": "white",
            "gridwidth": 2,
            "linecolor": "white",
            "showbackground": true,
            "ticks": "",
            "zerolinecolor": "white"
           },
           "yaxis": {
            "backgroundcolor": "#E5ECF6",
            "gridcolor": "white",
            "gridwidth": 2,
            "linecolor": "white",
            "showbackground": true,
            "ticks": "",
            "zerolinecolor": "white"
           },
           "zaxis": {
            "backgroundcolor": "#E5ECF6",
            "gridcolor": "white",
            "gridwidth": 2,
            "linecolor": "white",
            "showbackground": true,
            "ticks": "",
            "zerolinecolor": "white"
           }
          },
          "shapedefaults": {
           "line": {
            "color": "#2a3f5f"
           }
          },
          "ternary": {
           "aaxis": {
            "gridcolor": "white",
            "linecolor": "white",
            "ticks": ""
           },
           "baxis": {
            "gridcolor": "white",
            "linecolor": "white",
            "ticks": ""
           },
           "bgcolor": "#E5ECF6",
           "caxis": {
            "gridcolor": "white",
            "linecolor": "white",
            "ticks": ""
           }
          },
          "title": {
           "x": 0.05
          },
          "xaxis": {
           "automargin": true,
           "gridcolor": "white",
           "linecolor": "white",
           "ticks": "",
           "title": {
            "standoff": 15
           },
           "zerolinecolor": "white",
           "zerolinewidth": 2
          },
          "yaxis": {
           "automargin": true,
           "gridcolor": "white",
           "linecolor": "white",
           "ticks": "",
           "title": {
            "standoff": 15
           },
           "zerolinecolor": "white",
           "zerolinewidth": 2
          }
         }
        },
        "xaxis": {
         "anchor": "y",
         "domain": [
          0,
          0.2888888888888889
         ]
        },
        "xaxis2": {
         "anchor": "y2",
         "domain": [
          0.35555555555555557,
          0.6444444444444445
         ]
        },
        "xaxis3": {
         "anchor": "y3",
         "domain": [
          0.7111111111111111,
          1
         ]
        },
        "xaxis4": {
         "anchor": "y4",
         "domain": [
          0,
          0.2888888888888889
         ]
        },
        "xaxis5": {
         "anchor": "y5",
         "domain": [
          0.35555555555555557,
          0.6444444444444445
         ]
        },
        "xaxis6": {
         "anchor": "y6",
         "domain": [
          0.7111111111111111,
          1
         ]
        },
        "yaxis": {
         "anchor": "x",
         "domain": [
          0.75,
          1
         ]
        },
        "yaxis2": {
         "anchor": "x2",
         "domain": [
          0.75,
          1
         ]
        },
        "yaxis3": {
         "anchor": "x3",
         "domain": [
          0.75,
          1
         ]
        },
        "yaxis4": {
         "anchor": "x4",
         "domain": [
          0,
          0.25
         ]
        },
        "yaxis5": {
         "anchor": "x5",
         "domain": [
          0,
          0.25
         ]
        },
        "yaxis6": {
         "anchor": "x6",
         "domain": [
          0,
          0.25
         ]
        }
       }
      }
     },
     "metadata": {},
     "output_type": "display_data"
    }
   ],
   "source": [
    "titles = [f\"Cluster {cluster_num}\" for cluster_num in top6]\n",
    "fig = make_subplots(rows=2, cols=3, subplot_titles=titles, vertical_spacing = 0.5)\n",
    "\n",
    "color = \"rgb(31, 119, 180)\"\n",
    "\n",
    "for i, cluster_num in enumerate(top6):\n",
    "    cluster = df[df.cluster == cluster_num]\n",
    "    top_acidentes = cluster['tipo_acidente'].value_counts().head(5)  # Get top 5 types of accidents\n",
    "    \n",
    "    bar_plot = go.Bar(\n",
    "        x=top_acidentes.index,\n",
    "        y=top_acidentes.values,\n",
    "        text=top_acidentes.values,\n",
    "        marker_color=color,\n",
    "    )\n",
    "    \n",
    "    fig.add_trace(bar_plot, row=(i // 3) + 1, col=(i % 3) + 1)\n",
    "\n",
    "fig.update_layout(\n",
    "    # title=\"Top 5 Tipo de Acidente\",\n",
    "    # xaxis=dict(title=\"Tipo de Acidente\"),\n",
    "    # yaxis=dict(title=\"Número de Ocorrências\"),\n",
    "    showlegend=False,\n",
    ")\n",
    "\n",
    "fig.show()"
   ]
  },
  {
   "cell_type": "code",
   "execution_count": 55,
   "metadata": {},
   "outputs": [
    {
     "data": {
      "application/vnd.plotly.v1+json": {
       "config": {
        "plotlyServerURL": "https://plot.ly"
       },
       "data": [
        {
         "dimensions": [
          {
           "label": "sepal_length",
           "values": [
            5.1,
            4.9,
            4.7,
            4.6,
            5,
            5.4,
            4.6,
            5,
            4.4,
            4.9,
            5.4,
            4.8,
            4.8,
            4.3,
            5.8,
            5.7,
            5.4,
            5.1,
            5.7,
            5.1,
            5.4,
            5.1,
            4.6,
            5.1,
            4.8,
            5,
            5,
            5.2,
            5.2,
            4.7,
            4.8,
            5.4,
            5.2,
            5.5,
            4.9,
            5,
            5.5,
            4.9,
            4.4,
            5.1,
            5,
            4.5,
            4.4,
            5,
            5.1,
            4.8,
            5.1,
            4.6,
            5.3,
            5,
            7,
            6.4,
            6.9,
            5.5,
            6.5,
            5.7,
            6.3,
            4.9,
            6.6,
            5.2,
            5,
            5.9,
            6,
            6.1,
            5.6,
            6.7,
            5.6,
            5.8,
            6.2,
            5.6,
            5.9,
            6.1,
            6.3,
            6.1,
            6.4,
            6.6,
            6.8,
            6.7,
            6,
            5.7,
            5.5,
            5.5,
            5.8,
            6,
            5.4,
            6,
            6.7,
            6.3,
            5.6,
            5.5,
            5.5,
            6.1,
            5.8,
            5,
            5.6,
            5.7,
            5.7,
            6.2,
            5.1,
            5.7,
            6.3,
            5.8,
            7.1,
            6.3,
            6.5,
            7.6,
            4.9,
            7.3,
            6.7,
            7.2,
            6.5,
            6.4,
            6.8,
            5.7,
            5.8,
            6.4,
            6.5,
            7.7,
            7.7,
            6,
            6.9,
            5.6,
            7.7,
            6.3,
            6.7,
            7.2,
            6.2,
            6.1,
            6.4,
            7.2,
            7.4,
            7.9,
            6.4,
            6.3,
            6.1,
            7.7,
            6.3,
            6.4,
            6,
            6.9,
            6.7,
            6.9,
            5.8,
            6.8,
            6.7,
            6.7,
            6.3,
            6.5,
            6.2,
            5.9
           ]
          },
          {
           "label": "sepal_width",
           "values": [
            3.5,
            3,
            3.2,
            3.1,
            3.6,
            3.9,
            3.4,
            3.4,
            2.9,
            3.1,
            3.7,
            3.4,
            3,
            3,
            4,
            4.4,
            3.9,
            3.5,
            3.8,
            3.8,
            3.4,
            3.7,
            3.6,
            3.3,
            3.4,
            3,
            3.4,
            3.5,
            3.4,
            3.2,
            3.1,
            3.4,
            4.1,
            4.2,
            3.1,
            3.2,
            3.5,
            3.1,
            3,
            3.4,
            3.5,
            2.3,
            3.2,
            3.5,
            3.8,
            3,
            3.8,
            3.2,
            3.7,
            3.3,
            3.2,
            3.2,
            3.1,
            2.3,
            2.8,
            2.8,
            3.3,
            2.4,
            2.9,
            2.7,
            2,
            3,
            2.2,
            2.9,
            2.9,
            3.1,
            3,
            2.7,
            2.2,
            2.5,
            3.2,
            2.8,
            2.5,
            2.8,
            2.9,
            3,
            2.8,
            3,
            2.9,
            2.6,
            2.4,
            2.4,
            2.7,
            2.7,
            3,
            3.4,
            3.1,
            2.3,
            3,
            2.5,
            2.6,
            3,
            2.6,
            2.3,
            2.7,
            3,
            2.9,
            2.9,
            2.5,
            2.8,
            3.3,
            2.7,
            3,
            2.9,
            3,
            3,
            2.5,
            2.9,
            2.5,
            3.6,
            3.2,
            2.7,
            3,
            2.5,
            2.8,
            3.2,
            3,
            3.8,
            2.6,
            2.2,
            3.2,
            2.8,
            2.8,
            2.7,
            3.3,
            3.2,
            2.8,
            3,
            2.8,
            3,
            2.8,
            3.8,
            2.8,
            2.8,
            2.6,
            3,
            3.4,
            3.1,
            3,
            3.1,
            3.1,
            3.1,
            2.7,
            3.2,
            3.3,
            3,
            2.5,
            3,
            3.4,
            3
           ]
          },
          {
           "label": "petal_length",
           "values": [
            1.4,
            1.4,
            1.3,
            1.5,
            1.4,
            1.7,
            1.4,
            1.5,
            1.4,
            1.5,
            1.5,
            1.6,
            1.4,
            1.1,
            1.2,
            1.5,
            1.3,
            1.4,
            1.7,
            1.5,
            1.7,
            1.5,
            1,
            1.7,
            1.9,
            1.6,
            1.6,
            1.5,
            1.4,
            1.6,
            1.6,
            1.5,
            1.5,
            1.4,
            1.5,
            1.2,
            1.3,
            1.5,
            1.3,
            1.5,
            1.3,
            1.3,
            1.3,
            1.6,
            1.9,
            1.4,
            1.6,
            1.4,
            1.5,
            1.4,
            4.7,
            4.5,
            4.9,
            4,
            4.6,
            4.5,
            4.7,
            3.3,
            4.6,
            3.9,
            3.5,
            4.2,
            4,
            4.7,
            3.6,
            4.4,
            4.5,
            4.1,
            4.5,
            3.9,
            4.8,
            4,
            4.9,
            4.7,
            4.3,
            4.4,
            4.8,
            5,
            4.5,
            3.5,
            3.8,
            3.7,
            3.9,
            5.1,
            4.5,
            4.5,
            4.7,
            4.4,
            4.1,
            4,
            4.4,
            4.6,
            4,
            3.3,
            4.2,
            4.2,
            4.2,
            4.3,
            3,
            4.1,
            6,
            5.1,
            5.9,
            5.6,
            5.8,
            6.6,
            4.5,
            6.3,
            5.8,
            6.1,
            5.1,
            5.3,
            5.5,
            5,
            5.1,
            5.3,
            5.5,
            6.7,
            6.9,
            5,
            5.7,
            4.9,
            6.7,
            4.9,
            5.7,
            6,
            4.8,
            4.9,
            5.6,
            5.8,
            6.1,
            6.4,
            5.6,
            5.1,
            5.6,
            6.1,
            5.6,
            5.5,
            4.8,
            5.4,
            5.6,
            5.1,
            5.1,
            5.9,
            5.7,
            5.2,
            5,
            5.2,
            5.4,
            5.1
           ]
          },
          {
           "label": "petal_width",
           "values": [
            0.2,
            0.2,
            0.2,
            0.2,
            0.2,
            0.4,
            0.3,
            0.2,
            0.2,
            0.1,
            0.2,
            0.2,
            0.1,
            0.1,
            0.2,
            0.4,
            0.4,
            0.3,
            0.3,
            0.3,
            0.2,
            0.4,
            0.2,
            0.5,
            0.2,
            0.2,
            0.4,
            0.2,
            0.2,
            0.2,
            0.2,
            0.4,
            0.1,
            0.2,
            0.1,
            0.2,
            0.2,
            0.1,
            0.2,
            0.2,
            0.3,
            0.3,
            0.2,
            0.6,
            0.4,
            0.3,
            0.2,
            0.2,
            0.2,
            0.2,
            1.4,
            1.5,
            1.5,
            1.3,
            1.5,
            1.3,
            1.6,
            1,
            1.3,
            1.4,
            1,
            1.5,
            1,
            1.4,
            1.3,
            1.4,
            1.5,
            1,
            1.5,
            1.1,
            1.8,
            1.3,
            1.5,
            1.2,
            1.3,
            1.4,
            1.4,
            1.7,
            1.5,
            1,
            1.1,
            1,
            1.2,
            1.6,
            1.5,
            1.6,
            1.5,
            1.3,
            1.3,
            1.3,
            1.2,
            1.4,
            1.2,
            1,
            1.3,
            1.2,
            1.3,
            1.3,
            1.1,
            1.3,
            2.5,
            1.9,
            2.1,
            1.8,
            2.2,
            2.1,
            1.7,
            1.8,
            1.8,
            2.5,
            2,
            1.9,
            2.1,
            2,
            2.4,
            2.3,
            1.8,
            2.2,
            2.3,
            1.5,
            2.3,
            2,
            2,
            1.8,
            2.1,
            1.8,
            1.8,
            1.8,
            2.1,
            1.6,
            1.9,
            2,
            2.2,
            1.5,
            1.4,
            2.3,
            2.4,
            1.8,
            1.8,
            2.1,
            2.4,
            2.3,
            1.9,
            2.3,
            2.5,
            2.3,
            1.9,
            2,
            2.3,
            1.8
           ]
          },
          {
           "label": "species_id",
           "values": [
            1,
            1,
            1,
            1,
            1,
            1,
            1,
            1,
            1,
            1,
            1,
            1,
            1,
            1,
            1,
            1,
            1,
            1,
            1,
            1,
            1,
            1,
            1,
            1,
            1,
            1,
            1,
            1,
            1,
            1,
            1,
            1,
            1,
            1,
            1,
            1,
            1,
            1,
            1,
            1,
            1,
            1,
            1,
            1,
            1,
            1,
            1,
            1,
            1,
            1,
            2,
            2,
            2,
            2,
            2,
            2,
            2,
            2,
            2,
            2,
            2,
            2,
            2,
            2,
            2,
            2,
            2,
            2,
            2,
            2,
            2,
            2,
            2,
            2,
            2,
            2,
            2,
            2,
            2,
            2,
            2,
            2,
            2,
            2,
            2,
            2,
            2,
            2,
            2,
            2,
            2,
            2,
            2,
            2,
            2,
            2,
            2,
            2,
            2,
            2,
            3,
            3,
            3,
            3,
            3,
            3,
            3,
            3,
            3,
            3,
            3,
            3,
            3,
            3,
            3,
            3,
            3,
            3,
            3,
            3,
            3,
            3,
            3,
            3,
            3,
            3,
            3,
            3,
            3,
            3,
            3,
            3,
            3,
            3,
            3,
            3,
            3,
            3,
            3,
            3,
            3,
            3,
            3,
            3,
            3,
            3,
            3,
            3,
            3,
            3
           ]
          }
         ],
         "domain": {
          "x": [
           0,
           1
          ],
          "y": [
           0,
           1
          ]
         },
         "line": {
          "color": [
           1,
           1,
           1,
           1,
           1,
           1,
           1,
           1,
           1,
           1,
           1,
           1,
           1,
           1,
           1,
           1,
           1,
           1,
           1,
           1,
           1,
           1,
           1,
           1,
           1,
           1,
           1,
           1,
           1,
           1,
           1,
           1,
           1,
           1,
           1,
           1,
           1,
           1,
           1,
           1,
           1,
           1,
           1,
           1,
           1,
           1,
           1,
           1,
           1,
           1,
           2,
           2,
           2,
           2,
           2,
           2,
           2,
           2,
           2,
           2,
           2,
           2,
           2,
           2,
           2,
           2,
           2,
           2,
           2,
           2,
           2,
           2,
           2,
           2,
           2,
           2,
           2,
           2,
           2,
           2,
           2,
           2,
           2,
           2,
           2,
           2,
           2,
           2,
           2,
           2,
           2,
           2,
           2,
           2,
           2,
           2,
           2,
           2,
           2,
           2,
           3,
           3,
           3,
           3,
           3,
           3,
           3,
           3,
           3,
           3,
           3,
           3,
           3,
           3,
           3,
           3,
           3,
           3,
           3,
           3,
           3,
           3,
           3,
           3,
           3,
           3,
           3,
           3,
           3,
           3,
           3,
           3,
           3,
           3,
           3,
           3,
           3,
           3,
           3,
           3,
           3,
           3,
           3,
           3,
           3,
           3,
           3,
           3,
           3,
           3
          ],
          "coloraxis": "coloraxis"
         },
         "name": "",
         "type": "parcoords"
        }
       ],
       "layout": {
        "coloraxis": {
         "colorbar": {
          "title": {
           "text": "species_id"
          }
         },
         "colorscale": [
          [
           0,
           "red"
          ],
          [
           0.33,
           "red"
          ],
          [
           0.33,
           "green"
          ],
          [
           0.66,
           "green"
          ],
          [
           0.66,
           "blue"
          ],
          [
           1,
           "blue"
          ]
         ]
        },
        "legend": {
         "tracegroupgap": 0
        },
        "margin": {
         "t": 60
        },
        "template": {
         "data": {
          "bar": [
           {
            "error_x": {
             "color": "#2a3f5f"
            },
            "error_y": {
             "color": "#2a3f5f"
            },
            "marker": {
             "line": {
              "color": "#E5ECF6",
              "width": 0.5
             },
             "pattern": {
              "fillmode": "overlay",
              "size": 10,
              "solidity": 0.2
             }
            },
            "type": "bar"
           }
          ],
          "barpolar": [
           {
            "marker": {
             "line": {
              "color": "#E5ECF6",
              "width": 0.5
             },
             "pattern": {
              "fillmode": "overlay",
              "size": 10,
              "solidity": 0.2
             }
            },
            "type": "barpolar"
           }
          ],
          "carpet": [
           {
            "aaxis": {
             "endlinecolor": "#2a3f5f",
             "gridcolor": "white",
             "linecolor": "white",
             "minorgridcolor": "white",
             "startlinecolor": "#2a3f5f"
            },
            "baxis": {
             "endlinecolor": "#2a3f5f",
             "gridcolor": "white",
             "linecolor": "white",
             "minorgridcolor": "white",
             "startlinecolor": "#2a3f5f"
            },
            "type": "carpet"
           }
          ],
          "choropleth": [
           {
            "colorbar": {
             "outlinewidth": 0,
             "ticks": ""
            },
            "type": "choropleth"
           }
          ],
          "contour": [
           {
            "colorbar": {
             "outlinewidth": 0,
             "ticks": ""
            },
            "colorscale": [
             [
              0,
              "#0d0887"
             ],
             [
              0.1111111111111111,
              "#46039f"
             ],
             [
              0.2222222222222222,
              "#7201a8"
             ],
             [
              0.3333333333333333,
              "#9c179e"
             ],
             [
              0.4444444444444444,
              "#bd3786"
             ],
             [
              0.5555555555555556,
              "#d8576b"
             ],
             [
              0.6666666666666666,
              "#ed7953"
             ],
             [
              0.7777777777777778,
              "#fb9f3a"
             ],
             [
              0.8888888888888888,
              "#fdca26"
             ],
             [
              1,
              "#f0f921"
             ]
            ],
            "type": "contour"
           }
          ],
          "contourcarpet": [
           {
            "colorbar": {
             "outlinewidth": 0,
             "ticks": ""
            },
            "type": "contourcarpet"
           }
          ],
          "heatmap": [
           {
            "colorbar": {
             "outlinewidth": 0,
             "ticks": ""
            },
            "colorscale": [
             [
              0,
              "#0d0887"
             ],
             [
              0.1111111111111111,
              "#46039f"
             ],
             [
              0.2222222222222222,
              "#7201a8"
             ],
             [
              0.3333333333333333,
              "#9c179e"
             ],
             [
              0.4444444444444444,
              "#bd3786"
             ],
             [
              0.5555555555555556,
              "#d8576b"
             ],
             [
              0.6666666666666666,
              "#ed7953"
             ],
             [
              0.7777777777777778,
              "#fb9f3a"
             ],
             [
              0.8888888888888888,
              "#fdca26"
             ],
             [
              1,
              "#f0f921"
             ]
            ],
            "type": "heatmap"
           }
          ],
          "heatmapgl": [
           {
            "colorbar": {
             "outlinewidth": 0,
             "ticks": ""
            },
            "colorscale": [
             [
              0,
              "#0d0887"
             ],
             [
              0.1111111111111111,
              "#46039f"
             ],
             [
              0.2222222222222222,
              "#7201a8"
             ],
             [
              0.3333333333333333,
              "#9c179e"
             ],
             [
              0.4444444444444444,
              "#bd3786"
             ],
             [
              0.5555555555555556,
              "#d8576b"
             ],
             [
              0.6666666666666666,
              "#ed7953"
             ],
             [
              0.7777777777777778,
              "#fb9f3a"
             ],
             [
              0.8888888888888888,
              "#fdca26"
             ],
             [
              1,
              "#f0f921"
             ]
            ],
            "type": "heatmapgl"
           }
          ],
          "histogram": [
           {
            "marker": {
             "pattern": {
              "fillmode": "overlay",
              "size": 10,
              "solidity": 0.2
             }
            },
            "type": "histogram"
           }
          ],
          "histogram2d": [
           {
            "colorbar": {
             "outlinewidth": 0,
             "ticks": ""
            },
            "colorscale": [
             [
              0,
              "#0d0887"
             ],
             [
              0.1111111111111111,
              "#46039f"
             ],
             [
              0.2222222222222222,
              "#7201a8"
             ],
             [
              0.3333333333333333,
              "#9c179e"
             ],
             [
              0.4444444444444444,
              "#bd3786"
             ],
             [
              0.5555555555555556,
              "#d8576b"
             ],
             [
              0.6666666666666666,
              "#ed7953"
             ],
             [
              0.7777777777777778,
              "#fb9f3a"
             ],
             [
              0.8888888888888888,
              "#fdca26"
             ],
             [
              1,
              "#f0f921"
             ]
            ],
            "type": "histogram2d"
           }
          ],
          "histogram2dcontour": [
           {
            "colorbar": {
             "outlinewidth": 0,
             "ticks": ""
            },
            "colorscale": [
             [
              0,
              "#0d0887"
             ],
             [
              0.1111111111111111,
              "#46039f"
             ],
             [
              0.2222222222222222,
              "#7201a8"
             ],
             [
              0.3333333333333333,
              "#9c179e"
             ],
             [
              0.4444444444444444,
              "#bd3786"
             ],
             [
              0.5555555555555556,
              "#d8576b"
             ],
             [
              0.6666666666666666,
              "#ed7953"
             ],
             [
              0.7777777777777778,
              "#fb9f3a"
             ],
             [
              0.8888888888888888,
              "#fdca26"
             ],
             [
              1,
              "#f0f921"
             ]
            ],
            "type": "histogram2dcontour"
           }
          ],
          "mesh3d": [
           {
            "colorbar": {
             "outlinewidth": 0,
             "ticks": ""
            },
            "type": "mesh3d"
           }
          ],
          "parcoords": [
           {
            "line": {
             "colorbar": {
              "outlinewidth": 0,
              "ticks": ""
             }
            },
            "type": "parcoords"
           }
          ],
          "pie": [
           {
            "automargin": true,
            "type": "pie"
           }
          ],
          "scatter": [
           {
            "fillpattern": {
             "fillmode": "overlay",
             "size": 10,
             "solidity": 0.2
            },
            "type": "scatter"
           }
          ],
          "scatter3d": [
           {
            "line": {
             "colorbar": {
              "outlinewidth": 0,
              "ticks": ""
             }
            },
            "marker": {
             "colorbar": {
              "outlinewidth": 0,
              "ticks": ""
             }
            },
            "type": "scatter3d"
           }
          ],
          "scattercarpet": [
           {
            "marker": {
             "colorbar": {
              "outlinewidth": 0,
              "ticks": ""
             }
            },
            "type": "scattercarpet"
           }
          ],
          "scattergeo": [
           {
            "marker": {
             "colorbar": {
              "outlinewidth": 0,
              "ticks": ""
             }
            },
            "type": "scattergeo"
           }
          ],
          "scattergl": [
           {
            "marker": {
             "colorbar": {
              "outlinewidth": 0,
              "ticks": ""
             }
            },
            "type": "scattergl"
           }
          ],
          "scattermapbox": [
           {
            "marker": {
             "colorbar": {
              "outlinewidth": 0,
              "ticks": ""
             }
            },
            "type": "scattermapbox"
           }
          ],
          "scatterpolar": [
           {
            "marker": {
             "colorbar": {
              "outlinewidth": 0,
              "ticks": ""
             }
            },
            "type": "scatterpolar"
           }
          ],
          "scatterpolargl": [
           {
            "marker": {
             "colorbar": {
              "outlinewidth": 0,
              "ticks": ""
             }
            },
            "type": "scatterpolargl"
           }
          ],
          "scatterternary": [
           {
            "marker": {
             "colorbar": {
              "outlinewidth": 0,
              "ticks": ""
             }
            },
            "type": "scatterternary"
           }
          ],
          "surface": [
           {
            "colorbar": {
             "outlinewidth": 0,
             "ticks": ""
            },
            "colorscale": [
             [
              0,
              "#0d0887"
             ],
             [
              0.1111111111111111,
              "#46039f"
             ],
             [
              0.2222222222222222,
              "#7201a8"
             ],
             [
              0.3333333333333333,
              "#9c179e"
             ],
             [
              0.4444444444444444,
              "#bd3786"
             ],
             [
              0.5555555555555556,
              "#d8576b"
             ],
             [
              0.6666666666666666,
              "#ed7953"
             ],
             [
              0.7777777777777778,
              "#fb9f3a"
             ],
             [
              0.8888888888888888,
              "#fdca26"
             ],
             [
              1,
              "#f0f921"
             ]
            ],
            "type": "surface"
           }
          ],
          "table": [
           {
            "cells": {
             "fill": {
              "color": "#EBF0F8"
             },
             "line": {
              "color": "white"
             }
            },
            "header": {
             "fill": {
              "color": "#C8D4E3"
             },
             "line": {
              "color": "white"
             }
            },
            "type": "table"
           }
          ]
         },
         "layout": {
          "annotationdefaults": {
           "arrowcolor": "#2a3f5f",
           "arrowhead": 0,
           "arrowwidth": 1
          },
          "autotypenumbers": "strict",
          "coloraxis": {
           "colorbar": {
            "outlinewidth": 0,
            "ticks": ""
           }
          },
          "colorscale": {
           "diverging": [
            [
             0,
             "#8e0152"
            ],
            [
             0.1,
             "#c51b7d"
            ],
            [
             0.2,
             "#de77ae"
            ],
            [
             0.3,
             "#f1b6da"
            ],
            [
             0.4,
             "#fde0ef"
            ],
            [
             0.5,
             "#f7f7f7"
            ],
            [
             0.6,
             "#e6f5d0"
            ],
            [
             0.7,
             "#b8e186"
            ],
            [
             0.8,
             "#7fbc41"
            ],
            [
             0.9,
             "#4d9221"
            ],
            [
             1,
             "#276419"
            ]
           ],
           "sequential": [
            [
             0,
             "#0d0887"
            ],
            [
             0.1111111111111111,
             "#46039f"
            ],
            [
             0.2222222222222222,
             "#7201a8"
            ],
            [
             0.3333333333333333,
             "#9c179e"
            ],
            [
             0.4444444444444444,
             "#bd3786"
            ],
            [
             0.5555555555555556,
             "#d8576b"
            ],
            [
             0.6666666666666666,
             "#ed7953"
            ],
            [
             0.7777777777777778,
             "#fb9f3a"
            ],
            [
             0.8888888888888888,
             "#fdca26"
            ],
            [
             1,
             "#f0f921"
            ]
           ],
           "sequentialminus": [
            [
             0,
             "#0d0887"
            ],
            [
             0.1111111111111111,
             "#46039f"
            ],
            [
             0.2222222222222222,
             "#7201a8"
            ],
            [
             0.3333333333333333,
             "#9c179e"
            ],
            [
             0.4444444444444444,
             "#bd3786"
            ],
            [
             0.5555555555555556,
             "#d8576b"
            ],
            [
             0.6666666666666666,
             "#ed7953"
            ],
            [
             0.7777777777777778,
             "#fb9f3a"
            ],
            [
             0.8888888888888888,
             "#fdca26"
            ],
            [
             1,
             "#f0f921"
            ]
           ]
          },
          "colorway": [
           "#636efa",
           "#EF553B",
           "#00cc96",
           "#ab63fa",
           "#FFA15A",
           "#19d3f3",
           "#FF6692",
           "#B6E880",
           "#FF97FF",
           "#FECB52"
          ],
          "font": {
           "color": "#2a3f5f"
          },
          "geo": {
           "bgcolor": "white",
           "lakecolor": "white",
           "landcolor": "#E5ECF6",
           "showlakes": true,
           "showland": true,
           "subunitcolor": "white"
          },
          "hoverlabel": {
           "align": "left"
          },
          "hovermode": "closest",
          "mapbox": {
           "style": "light"
          },
          "paper_bgcolor": "white",
          "plot_bgcolor": "#E5ECF6",
          "polar": {
           "angularaxis": {
            "gridcolor": "white",
            "linecolor": "white",
            "ticks": ""
           },
           "bgcolor": "#E5ECF6",
           "radialaxis": {
            "gridcolor": "white",
            "linecolor": "white",
            "ticks": ""
           }
          },
          "scene": {
           "xaxis": {
            "backgroundcolor": "#E5ECF6",
            "gridcolor": "white",
            "gridwidth": 2,
            "linecolor": "white",
            "showbackground": true,
            "ticks": "",
            "zerolinecolor": "white"
           },
           "yaxis": {
            "backgroundcolor": "#E5ECF6",
            "gridcolor": "white",
            "gridwidth": 2,
            "linecolor": "white",
            "showbackground": true,
            "ticks": "",
            "zerolinecolor": "white"
           },
           "zaxis": {
            "backgroundcolor": "#E5ECF6",
            "gridcolor": "white",
            "gridwidth": 2,
            "linecolor": "white",
            "showbackground": true,
            "ticks": "",
            "zerolinecolor": "white"
           }
          },
          "shapedefaults": {
           "line": {
            "color": "#2a3f5f"
           }
          },
          "ternary": {
           "aaxis": {
            "gridcolor": "white",
            "linecolor": "white",
            "ticks": ""
           },
           "baxis": {
            "gridcolor": "white",
            "linecolor": "white",
            "ticks": ""
           },
           "bgcolor": "#E5ECF6",
           "caxis": {
            "gridcolor": "white",
            "linecolor": "white",
            "ticks": ""
           }
          },
          "title": {
           "x": 0.05
          },
          "xaxis": {
           "automargin": true,
           "gridcolor": "white",
           "linecolor": "white",
           "ticks": "",
           "title": {
            "standoff": 15
           },
           "zerolinecolor": "white",
           "zerolinewidth": 2
          },
          "yaxis": {
           "automargin": true,
           "gridcolor": "white",
           "linecolor": "white",
           "ticks": "",
           "title": {
            "standoff": 15
           },
           "zerolinecolor": "white",
           "zerolinewidth": 2
          }
         }
        }
       }
      }
     },
     "metadata": {},
     "output_type": "display_data"
    }
   ],
   "source": [
    "# Later\n",
    "# --------------------------------------------------------------------------------------\n",
    "\n",
    "# https://plotly.com/python/colorscales/\n",
    "\n",
    "import plotly.express as px\n",
    "df = px.data.iris()\n",
    "fig = px.parallel_coordinates(df, color=\"species_id\",\n",
    "                             color_continuous_scale=[(0.00, \"red\"),   (0.33, \"red\"),\n",
    "                                                     (0.33, \"green\"), (0.66, \"green\"),\n",
    "                                                     (0.66, \"blue\"),  (1.00, \"blue\")])\n",
    "fig.show()"
   ]
  }
 ],
 "metadata": {
  "kernelspec": {
   "display_name": ".venv",
   "language": "python",
   "name": "python3"
  },
  "language_info": {
   "codemirror_mode": {
    "name": "ipython",
    "version": 3
   },
   "file_extension": ".py",
   "mimetype": "text/x-python",
   "name": "python",
   "nbconvert_exporter": "python",
   "pygments_lexer": "ipython3",
   "version": "3.10.12"
  },
  "orig_nbformat": 4
 },
 "nbformat": 4,
 "nbformat_minor": 2
}
