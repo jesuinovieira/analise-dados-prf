{
 "cells": [
  {
   "cell_type": "code",
   "execution_count": null,
   "metadata": {},
   "outputs": [],
   "source": [
    "# EVALUATION\n",
    "# --------------------------------------------------------------------------------------\n",
    "\n",
    "# Evaluate results: Do the models meet the business success criteria? Which one(s)\n",
    "# should we approve for the business?\n",
    "# \n",
    "# Review process: Review the work accomplished. Was anything overlooked? Were all steps\n",
    "# properly executed? Summarize findings and correct anything if needed.\n",
    "# \n",
    "# Determine next steps: Based on the previous three tasks, determine whether to proceed\n",
    "# to deployment, iterate further, or initiate new projects."
   ]
  },
  {
   "cell_type": "code",
   "execution_count": null,
   "metadata": {},
   "outputs": [],
   "source": [
    "# CONCLUSIONS\n",
    "# --------------------------------------------------------------------------------------\n",
    "\n",
    "# - ..."
   ]
  },
  {
   "cell_type": "code",
   "execution_count": 74,
   "metadata": {},
   "outputs": [],
   "source": [
    "import os\n",
    "\n",
    "import matplotlib.pyplot as plt\n",
    "import numpy as np\n",
    "import pandas as pd\n",
    "import seaborn as sns\n",
    "\n",
    "\n",
    "pd.set_option(\"display.max_columns\", None)\n",
    "YEAR = \"2021\"\n",
    "\n",
    "# os.makedirs(f\"../output/e-evaluation\", exist_ok=True)\n",
    "# os.makedirs(f\"../data/e-evaluation\", exist_ok=True)"
   ]
  },
  {
   "cell_type": "code",
   "execution_count": 102,
   "metadata": {},
   "outputs": [
    {
     "data": {
      "text/html": [
       "<div>\n",
       "<style scoped>\n",
       "    .dataframe tbody tr th:only-of-type {\n",
       "        vertical-align: middle;\n",
       "    }\n",
       "\n",
       "    .dataframe tbody tr th {\n",
       "        vertical-align: top;\n",
       "    }\n",
       "\n",
       "    .dataframe thead th {\n",
       "        text-align: right;\n",
       "    }\n",
       "</style>\n",
       "<table border=\"1\" class=\"dataframe\">\n",
       "  <thead>\n",
       "    <tr style=\"text-align: right;\">\n",
       "      <th></th>\n",
       "      <th>dia_semana</th>\n",
       "      <th>uf</th>\n",
       "      <th>br</th>\n",
       "      <th>km</th>\n",
       "      <th>municipio</th>\n",
       "      <th>causa_acidente</th>\n",
       "      <th>tipo_acidente</th>\n",
       "      <th>classificacao_acidente</th>\n",
       "      <th>fase_dia</th>\n",
       "      <th>sentido_via</th>\n",
       "      <th>condicao_metereologica</th>\n",
       "      <th>tipo_pista</th>\n",
       "      <th>tracado_via</th>\n",
       "      <th>uso_solo</th>\n",
       "      <th>pessoas</th>\n",
       "      <th>mortos</th>\n",
       "      <th>feridos_leves</th>\n",
       "      <th>feridos_graves</th>\n",
       "      <th>ilesos</th>\n",
       "      <th>ignorados</th>\n",
       "      <th>feridos</th>\n",
       "      <th>veiculos</th>\n",
       "      <th>latitude</th>\n",
       "      <th>longitude</th>\n",
       "      <th>regional</th>\n",
       "      <th>delegacia</th>\n",
       "      <th>uop</th>\n",
       "      <th>ano</th>\n",
       "      <th>mes</th>\n",
       "      <th>dia</th>\n",
       "      <th>hora</th>\n",
       "      <th>minuto</th>\n",
       "      <th>cluster</th>\n",
       "    </tr>\n",
       "  </thead>\n",
       "  <tbody>\n",
       "    <tr>\n",
       "      <th>count</th>\n",
       "      <td>19631</td>\n",
       "      <td>19631</td>\n",
       "      <td>19631.0</td>\n",
       "      <td>19631.000000</td>\n",
       "      <td>19631</td>\n",
       "      <td>19631</td>\n",
       "      <td>19631</td>\n",
       "      <td>19631</td>\n",
       "      <td>19631</td>\n",
       "      <td>19631</td>\n",
       "      <td>19631</td>\n",
       "      <td>19631</td>\n",
       "      <td>19631</td>\n",
       "      <td>19631</td>\n",
       "      <td>19631.0</td>\n",
       "      <td>19631.0</td>\n",
       "      <td>19631.0</td>\n",
       "      <td>19631.0</td>\n",
       "      <td>19631.0</td>\n",
       "      <td>19631.0</td>\n",
       "      <td>19631.0</td>\n",
       "      <td>19631.0</td>\n",
       "      <td>19631.000000</td>\n",
       "      <td>19631.000000</td>\n",
       "      <td>19631</td>\n",
       "      <td>19631</td>\n",
       "      <td>19631</td>\n",
       "      <td>19631.0</td>\n",
       "      <td>19631.0</td>\n",
       "      <td>19631.0</td>\n",
       "      <td>19631.0</td>\n",
       "      <td>19631.0</td>\n",
       "      <td>19631.000000</td>\n",
       "    </tr>\n",
       "    <tr>\n",
       "      <th>unique</th>\n",
       "      <td>7</td>\n",
       "      <td>3</td>\n",
       "      <td>29.0</td>\n",
       "      <td>NaN</td>\n",
       "      <td>440</td>\n",
       "      <td>69</td>\n",
       "      <td>17</td>\n",
       "      <td>3</td>\n",
       "      <td>4</td>\n",
       "      <td>2</td>\n",
       "      <td>10</td>\n",
       "      <td>3</td>\n",
       "      <td>10</td>\n",
       "      <td>2</td>\n",
       "      <td>&lt;NA&gt;</td>\n",
       "      <td>&lt;NA&gt;</td>\n",
       "      <td>&lt;NA&gt;</td>\n",
       "      <td>&lt;NA&gt;</td>\n",
       "      <td>&lt;NA&gt;</td>\n",
       "      <td>&lt;NA&gt;</td>\n",
       "      <td>&lt;NA&gt;</td>\n",
       "      <td>&lt;NA&gt;</td>\n",
       "      <td>NaN</td>\n",
       "      <td>NaN</td>\n",
       "      <td>3</td>\n",
       "      <td>29</td>\n",
       "      <td>92</td>\n",
       "      <td>&lt;NA&gt;</td>\n",
       "      <td>&lt;NA&gt;</td>\n",
       "      <td>&lt;NA&gt;</td>\n",
       "      <td>&lt;NA&gt;</td>\n",
       "      <td>&lt;NA&gt;</td>\n",
       "      <td>NaN</td>\n",
       "    </tr>\n",
       "    <tr>\n",
       "      <th>top</th>\n",
       "      <td>sábado</td>\n",
       "      <td>SC</td>\n",
       "      <td>101.0</td>\n",
       "      <td>NaN</td>\n",
       "      <td>CURITIBA</td>\n",
       "      <td>Velocidade Incompatível</td>\n",
       "      <td>Colisão traseira</td>\n",
       "      <td>Com Vítimas Feridas</td>\n",
       "      <td>Pleno dia</td>\n",
       "      <td>Crescente</td>\n",
       "      <td>Céu Claro</td>\n",
       "      <td>Simples</td>\n",
       "      <td>Reta</td>\n",
       "      <td>Não</td>\n",
       "      <td>&lt;NA&gt;</td>\n",
       "      <td>&lt;NA&gt;</td>\n",
       "      <td>&lt;NA&gt;</td>\n",
       "      <td>&lt;NA&gt;</td>\n",
       "      <td>&lt;NA&gt;</td>\n",
       "      <td>&lt;NA&gt;</td>\n",
       "      <td>&lt;NA&gt;</td>\n",
       "      <td>&lt;NA&gt;</td>\n",
       "      <td>NaN</td>\n",
       "      <td>NaN</td>\n",
       "      <td>SPRF-SC</td>\n",
       "      <td>DEL01-PR</td>\n",
       "      <td>UOP01-DEL01-SC</td>\n",
       "      <td>&lt;NA&gt;</td>\n",
       "      <td>&lt;NA&gt;</td>\n",
       "      <td>&lt;NA&gt;</td>\n",
       "      <td>&lt;NA&gt;</td>\n",
       "      <td>&lt;NA&gt;</td>\n",
       "      <td>NaN</td>\n",
       "    </tr>\n",
       "    <tr>\n",
       "      <th>freq</th>\n",
       "      <td>3381</td>\n",
       "      <td>7884</td>\n",
       "      <td>4251.0</td>\n",
       "      <td>NaN</td>\n",
       "      <td>899</td>\n",
       "      <td>2312</td>\n",
       "      <td>3863</td>\n",
       "      <td>14831</td>\n",
       "      <td>10542</td>\n",
       "      <td>10264</td>\n",
       "      <td>10794</td>\n",
       "      <td>9359</td>\n",
       "      <td>11324</td>\n",
       "      <td>10280</td>\n",
       "      <td>&lt;NA&gt;</td>\n",
       "      <td>&lt;NA&gt;</td>\n",
       "      <td>&lt;NA&gt;</td>\n",
       "      <td>&lt;NA&gt;</td>\n",
       "      <td>&lt;NA&gt;</td>\n",
       "      <td>&lt;NA&gt;</td>\n",
       "      <td>&lt;NA&gt;</td>\n",
       "      <td>&lt;NA&gt;</td>\n",
       "      <td>NaN</td>\n",
       "      <td>NaN</td>\n",
       "      <td>7910</td>\n",
       "      <td>3031</td>\n",
       "      <td>1033</td>\n",
       "      <td>&lt;NA&gt;</td>\n",
       "      <td>&lt;NA&gt;</td>\n",
       "      <td>&lt;NA&gt;</td>\n",
       "      <td>&lt;NA&gt;</td>\n",
       "      <td>&lt;NA&gt;</td>\n",
       "      <td>NaN</td>\n",
       "    </tr>\n",
       "    <tr>\n",
       "      <th>mean</th>\n",
       "      <td>NaN</td>\n",
       "      <td>NaN</td>\n",
       "      <td>NaN</td>\n",
       "      <td>221.144007</td>\n",
       "      <td>NaN</td>\n",
       "      <td>NaN</td>\n",
       "      <td>NaN</td>\n",
       "      <td>NaN</td>\n",
       "      <td>NaN</td>\n",
       "      <td>NaN</td>\n",
       "      <td>NaN</td>\n",
       "      <td>NaN</td>\n",
       "      <td>NaN</td>\n",
       "      <td>NaN</td>\n",
       "      <td>2.290001</td>\n",
       "      <td>0.062758</td>\n",
       "      <td>0.83903</td>\n",
       "      <td>0.245072</td>\n",
       "      <td>1.004992</td>\n",
       "      <td>0.138149</td>\n",
       "      <td>1.084102</td>\n",
       "      <td>1.686109</td>\n",
       "      <td>-26.946547</td>\n",
       "      <td>-50.605837</td>\n",
       "      <td>NaN</td>\n",
       "      <td>NaN</td>\n",
       "      <td>NaN</td>\n",
       "      <td>2021.0</td>\n",
       "      <td>6.661301</td>\n",
       "      <td>15.607305</td>\n",
       "      <td>13.046661</td>\n",
       "      <td>25.153685</td>\n",
       "      <td>33.393256</td>\n",
       "    </tr>\n",
       "    <tr>\n",
       "      <th>std</th>\n",
       "      <td>NaN</td>\n",
       "      <td>NaN</td>\n",
       "      <td>NaN</td>\n",
       "      <td>179.648219</td>\n",
       "      <td>NaN</td>\n",
       "      <td>NaN</td>\n",
       "      <td>NaN</td>\n",
       "      <td>NaN</td>\n",
       "      <td>NaN</td>\n",
       "      <td>NaN</td>\n",
       "      <td>NaN</td>\n",
       "      <td>NaN</td>\n",
       "      <td>NaN</td>\n",
       "      <td>NaN</td>\n",
       "      <td>1.641509</td>\n",
       "      <td>0.310348</td>\n",
       "      <td>0.945034</td>\n",
       "      <td>0.56471</td>\n",
       "      <td>1.252232</td>\n",
       "      <td>0.399525</td>\n",
       "      <td>1.047476</td>\n",
       "      <td>0.718995</td>\n",
       "      <td>1.969459</td>\n",
       "      <td>1.858140</td>\n",
       "      <td>NaN</td>\n",
       "      <td>NaN</td>\n",
       "      <td>NaN</td>\n",
       "      <td>0.0</td>\n",
       "      <td>3.456453</td>\n",
       "      <td>8.799509</td>\n",
       "      <td>6.233401</td>\n",
       "      <td>17.423331</td>\n",
       "      <td>34.649628</td>\n",
       "    </tr>\n",
       "    <tr>\n",
       "      <th>min</th>\n",
       "      <td>NaN</td>\n",
       "      <td>NaN</td>\n",
       "      <td>NaN</td>\n",
       "      <td>0.000000</td>\n",
       "      <td>NaN</td>\n",
       "      <td>NaN</td>\n",
       "      <td>NaN</td>\n",
       "      <td>NaN</td>\n",
       "      <td>NaN</td>\n",
       "      <td>NaN</td>\n",
       "      <td>NaN</td>\n",
       "      <td>NaN</td>\n",
       "      <td>NaN</td>\n",
       "      <td>NaN</td>\n",
       "      <td>1.0</td>\n",
       "      <td>0.0</td>\n",
       "      <td>0.0</td>\n",
       "      <td>0.0</td>\n",
       "      <td>0.0</td>\n",
       "      <td>0.0</td>\n",
       "      <td>0.0</td>\n",
       "      <td>1.0</td>\n",
       "      <td>-33.689819</td>\n",
       "      <td>-57.502806</td>\n",
       "      <td>NaN</td>\n",
       "      <td>NaN</td>\n",
       "      <td>NaN</td>\n",
       "      <td>2021.0</td>\n",
       "      <td>1.0</td>\n",
       "      <td>1.0</td>\n",
       "      <td>0.0</td>\n",
       "      <td>0.0</td>\n",
       "      <td>-1.000000</td>\n",
       "    </tr>\n",
       "    <tr>\n",
       "      <th>25%</th>\n",
       "      <td>NaN</td>\n",
       "      <td>NaN</td>\n",
       "      <td>NaN</td>\n",
       "      <td>91.900000</td>\n",
       "      <td>NaN</td>\n",
       "      <td>NaN</td>\n",
       "      <td>NaN</td>\n",
       "      <td>NaN</td>\n",
       "      <td>NaN</td>\n",
       "      <td>NaN</td>\n",
       "      <td>NaN</td>\n",
       "      <td>NaN</td>\n",
       "      <td>NaN</td>\n",
       "      <td>NaN</td>\n",
       "      <td>1.0</td>\n",
       "      <td>0.0</td>\n",
       "      <td>0.0</td>\n",
       "      <td>0.0</td>\n",
       "      <td>0.0</td>\n",
       "      <td>0.0</td>\n",
       "      <td>1.0</td>\n",
       "      <td>1.0</td>\n",
       "      <td>-28.208843</td>\n",
       "      <td>-51.918628</td>\n",
       "      <td>NaN</td>\n",
       "      <td>NaN</td>\n",
       "      <td>NaN</td>\n",
       "      <td>2021.0</td>\n",
       "      <td>4.0</td>\n",
       "      <td>8.0</td>\n",
       "      <td>8.0</td>\n",
       "      <td>10.0</td>\n",
       "      <td>4.000000</td>\n",
       "    </tr>\n",
       "    <tr>\n",
       "      <th>50%</th>\n",
       "      <td>NaN</td>\n",
       "      <td>NaN</td>\n",
       "      <td>NaN</td>\n",
       "      <td>172.000000</td>\n",
       "      <td>NaN</td>\n",
       "      <td>NaN</td>\n",
       "      <td>NaN</td>\n",
       "      <td>NaN</td>\n",
       "      <td>NaN</td>\n",
       "      <td>NaN</td>\n",
       "      <td>NaN</td>\n",
       "      <td>NaN</td>\n",
       "      <td>NaN</td>\n",
       "      <td>NaN</td>\n",
       "      <td>2.0</td>\n",
       "      <td>0.0</td>\n",
       "      <td>1.0</td>\n",
       "      <td>0.0</td>\n",
       "      <td>1.0</td>\n",
       "      <td>0.0</td>\n",
       "      <td>1.0</td>\n",
       "      <td>2.0</td>\n",
       "      <td>-26.882948</td>\n",
       "      <td>-50.133229</td>\n",
       "      <td>NaN</td>\n",
       "      <td>NaN</td>\n",
       "      <td>NaN</td>\n",
       "      <td>2021.0</td>\n",
       "      <td>7.0</td>\n",
       "      <td>15.0</td>\n",
       "      <td>14.0</td>\n",
       "      <td>27.0</td>\n",
       "      <td>21.000000</td>\n",
       "    </tr>\n",
       "    <tr>\n",
       "      <th>75%</th>\n",
       "      <td>NaN</td>\n",
       "      <td>NaN</td>\n",
       "      <td>NaN</td>\n",
       "      <td>312.550000</td>\n",
       "      <td>NaN</td>\n",
       "      <td>NaN</td>\n",
       "      <td>NaN</td>\n",
       "      <td>NaN</td>\n",
       "      <td>NaN</td>\n",
       "      <td>NaN</td>\n",
       "      <td>NaN</td>\n",
       "      <td>NaN</td>\n",
       "      <td>NaN</td>\n",
       "      <td>NaN</td>\n",
       "      <td>3.0</td>\n",
       "      <td>0.0</td>\n",
       "      <td>1.0</td>\n",
       "      <td>0.0</td>\n",
       "      <td>1.0</td>\n",
       "      <td>0.0</td>\n",
       "      <td>1.0</td>\n",
       "      <td>2.0</td>\n",
       "      <td>-25.509377</td>\n",
       "      <td>-48.952052</td>\n",
       "      <td>NaN</td>\n",
       "      <td>NaN</td>\n",
       "      <td>NaN</td>\n",
       "      <td>2021.0</td>\n",
       "      <td>10.0</td>\n",
       "      <td>23.0</td>\n",
       "      <td>18.0</td>\n",
       "      <td>40.0</td>\n",
       "      <td>54.000000</td>\n",
       "    </tr>\n",
       "    <tr>\n",
       "      <th>max</th>\n",
       "      <td>NaN</td>\n",
       "      <td>NaN</td>\n",
       "      <td>NaN</td>\n",
       "      <td>731.000000</td>\n",
       "      <td>NaN</td>\n",
       "      <td>NaN</td>\n",
       "      <td>NaN</td>\n",
       "      <td>NaN</td>\n",
       "      <td>NaN</td>\n",
       "      <td>NaN</td>\n",
       "      <td>NaN</td>\n",
       "      <td>NaN</td>\n",
       "      <td>NaN</td>\n",
       "      <td>NaN</td>\n",
       "      <td>54.0</td>\n",
       "      <td>19.0</td>\n",
       "      <td>34.0</td>\n",
       "      <td>15.0</td>\n",
       "      <td>46.0</td>\n",
       "      <td>6.0</td>\n",
       "      <td>36.0</td>\n",
       "      <td>12.0</td>\n",
       "      <td>-22.777160</td>\n",
       "      <td>-48.509500</td>\n",
       "      <td>NaN</td>\n",
       "      <td>NaN</td>\n",
       "      <td>NaN</td>\n",
       "      <td>2021.0</td>\n",
       "      <td>12.0</td>\n",
       "      <td>31.0</td>\n",
       "      <td>23.0</td>\n",
       "      <td>59.0</td>\n",
       "      <td>127.000000</td>\n",
       "    </tr>\n",
       "    <tr>\n",
       "      <th>nan</th>\n",
       "      <td>0.0</td>\n",
       "      <td>0.0</td>\n",
       "      <td>0.0</td>\n",
       "      <td>0.000000</td>\n",
       "      <td>0.0</td>\n",
       "      <td>0.0</td>\n",
       "      <td>0.0</td>\n",
       "      <td>0.0</td>\n",
       "      <td>0.0</td>\n",
       "      <td>0.0</td>\n",
       "      <td>0.0</td>\n",
       "      <td>0.0</td>\n",
       "      <td>0.0</td>\n",
       "      <td>0.0</td>\n",
       "      <td>0.0</td>\n",
       "      <td>0.0</td>\n",
       "      <td>0.0</td>\n",
       "      <td>0.0</td>\n",
       "      <td>0.0</td>\n",
       "      <td>0.0</td>\n",
       "      <td>0.0</td>\n",
       "      <td>0.0</td>\n",
       "      <td>0.000000</td>\n",
       "      <td>0.000000</td>\n",
       "      <td>0.0</td>\n",
       "      <td>0.0</td>\n",
       "      <td>0.0</td>\n",
       "      <td>0.0</td>\n",
       "      <td>0.0</td>\n",
       "      <td>0.0</td>\n",
       "      <td>0.0</td>\n",
       "      <td>0.0</td>\n",
       "      <td>0.000000</td>\n",
       "    </tr>\n",
       "  </tbody>\n",
       "</table>\n",
       "</div>"
      ],
      "text/plain": [
       "       dia_semana     uf       br            km municipio  \\\n",
       "count       19631  19631  19631.0  19631.000000     19631   \n",
       "unique          7      3     29.0           NaN       440   \n",
       "top        sábado     SC    101.0           NaN  CURITIBA   \n",
       "freq         3381   7884   4251.0           NaN       899   \n",
       "mean          NaN    NaN      NaN    221.144007       NaN   \n",
       "std           NaN    NaN      NaN    179.648219       NaN   \n",
       "min           NaN    NaN      NaN      0.000000       NaN   \n",
       "25%           NaN    NaN      NaN     91.900000       NaN   \n",
       "50%           NaN    NaN      NaN    172.000000       NaN   \n",
       "75%           NaN    NaN      NaN    312.550000       NaN   \n",
       "max           NaN    NaN      NaN    731.000000       NaN   \n",
       "nan           0.0    0.0      0.0      0.000000       0.0   \n",
       "\n",
       "                 causa_acidente     tipo_acidente classificacao_acidente  \\\n",
       "count                     19631             19631                  19631   \n",
       "unique                       69                17                      3   \n",
       "top     Velocidade Incompatível  Colisão traseira    Com Vítimas Feridas   \n",
       "freq                       2312              3863                  14831   \n",
       "mean                        NaN               NaN                    NaN   \n",
       "std                         NaN               NaN                    NaN   \n",
       "min                         NaN               NaN                    NaN   \n",
       "25%                         NaN               NaN                    NaN   \n",
       "50%                         NaN               NaN                    NaN   \n",
       "75%                         NaN               NaN                    NaN   \n",
       "max                         NaN               NaN                    NaN   \n",
       "nan                         0.0               0.0                    0.0   \n",
       "\n",
       "         fase_dia sentido_via condicao_metereologica tipo_pista tracado_via  \\\n",
       "count       19631       19631                  19631      19631       19631   \n",
       "unique          4           2                     10          3          10   \n",
       "top     Pleno dia   Crescente              Céu Claro    Simples        Reta   \n",
       "freq        10542       10264                  10794       9359       11324   \n",
       "mean          NaN         NaN                    NaN        NaN         NaN   \n",
       "std           NaN         NaN                    NaN        NaN         NaN   \n",
       "min           NaN         NaN                    NaN        NaN         NaN   \n",
       "25%           NaN         NaN                    NaN        NaN         NaN   \n",
       "50%           NaN         NaN                    NaN        NaN         NaN   \n",
       "75%           NaN         NaN                    NaN        NaN         NaN   \n",
       "max           NaN         NaN                    NaN        NaN         NaN   \n",
       "nan           0.0         0.0                    0.0        0.0         0.0   \n",
       "\n",
       "       uso_solo   pessoas    mortos  feridos_leves  feridos_graves    ilesos  \\\n",
       "count     19631   19631.0   19631.0        19631.0         19631.0   19631.0   \n",
       "unique        2      <NA>      <NA>           <NA>            <NA>      <NA>   \n",
       "top         Não      <NA>      <NA>           <NA>            <NA>      <NA>   \n",
       "freq      10280      <NA>      <NA>           <NA>            <NA>      <NA>   \n",
       "mean        NaN  2.290001  0.062758        0.83903        0.245072  1.004992   \n",
       "std         NaN  1.641509  0.310348       0.945034         0.56471  1.252232   \n",
       "min         NaN       1.0       0.0            0.0             0.0       0.0   \n",
       "25%         NaN       1.0       0.0            0.0             0.0       0.0   \n",
       "50%         NaN       2.0       0.0            1.0             0.0       1.0   \n",
       "75%         NaN       3.0       0.0            1.0             0.0       1.0   \n",
       "max         NaN      54.0      19.0           34.0            15.0      46.0   \n",
       "nan         0.0       0.0       0.0            0.0             0.0       0.0   \n",
       "\n",
       "        ignorados   feridos  veiculos      latitude     longitude regional  \\\n",
       "count     19631.0   19631.0   19631.0  19631.000000  19631.000000    19631   \n",
       "unique       <NA>      <NA>      <NA>           NaN           NaN        3   \n",
       "top          <NA>      <NA>      <NA>           NaN           NaN  SPRF-SC   \n",
       "freq         <NA>      <NA>      <NA>           NaN           NaN     7910   \n",
       "mean     0.138149  1.084102  1.686109    -26.946547    -50.605837      NaN   \n",
       "std      0.399525  1.047476  0.718995      1.969459      1.858140      NaN   \n",
       "min           0.0       0.0       1.0    -33.689819    -57.502806      NaN   \n",
       "25%           0.0       1.0       1.0    -28.208843    -51.918628      NaN   \n",
       "50%           0.0       1.0       2.0    -26.882948    -50.133229      NaN   \n",
       "75%           0.0       1.0       2.0    -25.509377    -48.952052      NaN   \n",
       "max           6.0      36.0      12.0    -22.777160    -48.509500      NaN   \n",
       "nan           0.0       0.0       0.0      0.000000      0.000000      0.0   \n",
       "\n",
       "       delegacia             uop      ano       mes        dia       hora  \\\n",
       "count      19631           19631  19631.0   19631.0    19631.0    19631.0   \n",
       "unique        29              92     <NA>      <NA>       <NA>       <NA>   \n",
       "top     DEL01-PR  UOP01-DEL01-SC     <NA>      <NA>       <NA>       <NA>   \n",
       "freq        3031            1033     <NA>      <NA>       <NA>       <NA>   \n",
       "mean         NaN             NaN   2021.0  6.661301  15.607305  13.046661   \n",
       "std          NaN             NaN      0.0  3.456453   8.799509   6.233401   \n",
       "min          NaN             NaN   2021.0       1.0        1.0        0.0   \n",
       "25%          NaN             NaN   2021.0       4.0        8.0        8.0   \n",
       "50%          NaN             NaN   2021.0       7.0       15.0       14.0   \n",
       "75%          NaN             NaN   2021.0      10.0       23.0       18.0   \n",
       "max          NaN             NaN   2021.0      12.0       31.0       23.0   \n",
       "nan          0.0             0.0      0.0       0.0        0.0        0.0   \n",
       "\n",
       "           minuto       cluster  \n",
       "count     19631.0  19631.000000  \n",
       "unique       <NA>           NaN  \n",
       "top          <NA>           NaN  \n",
       "freq         <NA>           NaN  \n",
       "mean    25.153685     33.393256  \n",
       "std     17.423331     34.649628  \n",
       "min           0.0     -1.000000  \n",
       "25%          10.0      4.000000  \n",
       "50%          27.0     21.000000  \n",
       "75%          40.0     54.000000  \n",
       "max          59.0    127.000000  \n",
       "nan           0.0      0.000000  "
      ]
     },
     "execution_count": 102,
     "metadata": {},
     "output_type": "execute_result"
    }
   ],
   "source": [
    "# Read data and convert to the appropriate types\n",
    "# --------------------------------------------------------------------------------------\n",
    "\n",
    "file = f\"../data/d-modeling/clustered.csv\"\n",
    "\n",
    "dtypes = {\n",
    "    # \"id\": \"Int64\",\n",
    "    # \"data_inversa\": \"datetime64[ns]\",\n",
    "    \"dia_semana\": \"category\",\n",
    "    # \"horario\": \"datetime64[ns]\",\n",
    "    \"uf\": \"category\",\n",
    "    \"br\": \"category\",\n",
    "    \"km\": \"float64\",\n",
    "    \"municipio\": \"category\",\n",
    "    \"causa_acidente\": \"category\",\n",
    "    \"tipo_acidente\": \"category\",\n",
    "    \"classificacao_acidente\": \"category\",\n",
    "    \"fase_dia\": \"category\",\n",
    "    \"sentido_via\": \"category\",\n",
    "    \"condicao_metereologica\": \"category\",\n",
    "    \"tipo_pista\": \"category\",\n",
    "    \"tracado_via\": \"category\",\n",
    "    \"uso_solo\": \"category\",\n",
    "    \"pessoas\": \"Int64\",\n",
    "    \"mortos\": \"Int64\",\n",
    "    \"feridos_leves\": \"Int64\",\n",
    "    \"feridos_graves\": \"Int64\",\n",
    "    \"ilesos\": \"Int64\",\n",
    "    \"ignorados\": \"Int64\",\n",
    "    \"feridos\": \"Int64\",\n",
    "    \"veiculos\": \"Int64\",\n",
    "    \"latitude\": \"float64\",\n",
    "    \"longitude\": \"float64\",\n",
    "    \"regional\": \"category\",\n",
    "    \"delegacia\": \"category\",\n",
    "    \"uop\": \"category\",\n",
    "    \"ano\": \"Int64\",\n",
    "    \"dia\": \"Int64\",\n",
    "    \"mes\": \"Int64\",\n",
    "    \"hora\": \"Int64\",\n",
    "    \"minuto\": \"Int64\",\n",
    "}\n",
    "\n",
    "df = pd.read_csv(file)\n",
    "df = df.astype(dtypes)\n",
    "\n",
    "described = df.describe(include=\"all\")\n",
    "described.loc[\"nan\"] = df.isnull().mean() * 100\n",
    "described"
   ]
  },
  {
   "cell_type": "code",
   "execution_count": 100,
   "metadata": {},
   "outputs": [
    {
     "data": {
      "text/html": [
       "<div>\n",
       "<style scoped>\n",
       "    .dataframe tbody tr th:only-of-type {\n",
       "        vertical-align: middle;\n",
       "    }\n",
       "\n",
       "    .dataframe tbody tr th {\n",
       "        vertical-align: top;\n",
       "    }\n",
       "\n",
       "    .dataframe thead th {\n",
       "        text-align: right;\n",
       "    }\n",
       "</style>\n",
       "<table border=\"1\" class=\"dataframe\">\n",
       "  <thead>\n",
       "    <tr style=\"text-align: right;\">\n",
       "      <th></th>\n",
       "      <th>dia_semana</th>\n",
       "      <th>uf</th>\n",
       "      <th>br</th>\n",
       "      <th>km</th>\n",
       "      <th>municipio</th>\n",
       "      <th>causa_acidente</th>\n",
       "      <th>tipo_acidente</th>\n",
       "      <th>classificacao_acidente</th>\n",
       "      <th>fase_dia</th>\n",
       "      <th>sentido_via</th>\n",
       "      <th>condicao_metereologica</th>\n",
       "      <th>tipo_pista</th>\n",
       "      <th>tracado_via</th>\n",
       "      <th>uso_solo</th>\n",
       "      <th>pessoas</th>\n",
       "      <th>mortos</th>\n",
       "      <th>feridos_leves</th>\n",
       "      <th>feridos_graves</th>\n",
       "      <th>ilesos</th>\n",
       "      <th>ignorados</th>\n",
       "      <th>feridos</th>\n",
       "      <th>veiculos</th>\n",
       "      <th>latitude</th>\n",
       "      <th>longitude</th>\n",
       "      <th>regional</th>\n",
       "      <th>delegacia</th>\n",
       "      <th>uop</th>\n",
       "      <th>ano</th>\n",
       "      <th>mes</th>\n",
       "      <th>dia</th>\n",
       "      <th>hora</th>\n",
       "      <th>minuto</th>\n",
       "      <th>cluster</th>\n",
       "    </tr>\n",
       "  </thead>\n",
       "  <tbody>\n",
       "    <tr>\n",
       "      <th>0</th>\n",
       "      <td>sexta-feira</td>\n",
       "      <td>PR</td>\n",
       "      <td>277.0</td>\n",
       "      <td>51.3</td>\n",
       "      <td>SAO JOSE DOS PINHAIS</td>\n",
       "      <td>Pista Escorregadia</td>\n",
       "      <td>Saída de leito carroçável</td>\n",
       "      <td>&lt;NA&gt;</td>\n",
       "      <td>Pleno dia</td>\n",
       "      <td>Decrescente</td>\n",
       "      <td>Garoa/Chuvisco</td>\n",
       "      <td>Dupla</td>\n",
       "      <td>Curva</td>\n",
       "      <td>Não</td>\n",
       "      <td>4</td>\n",
       "      <td>0</td>\n",
       "      <td>1</td>\n",
       "      <td>0</td>\n",
       "      <td>3</td>\n",
       "      <td>0</td>\n",
       "      <td>1</td>\n",
       "      <td>3</td>\n",
       "      <td>-25.595160</td>\n",
       "      <td>-48.907008</td>\n",
       "      <td>SPRF-PR</td>\n",
       "      <td>DEL01-PR</td>\n",
       "      <td>UOP05-DEL01-PR</td>\n",
       "      <td>2021</td>\n",
       "      <td>1</td>\n",
       "      <td>1</td>\n",
       "      <td>15</td>\n",
       "      <td>45</td>\n",
       "      <td>0</td>\n",
       "    </tr>\n",
       "    <tr>\n",
       "      <th>1</th>\n",
       "      <td>sexta-feira</td>\n",
       "      <td>SC</td>\n",
       "      <td>470.0</td>\n",
       "      <td>79.1</td>\n",
       "      <td>INDAIAL</td>\n",
       "      <td>Transitar na contramão</td>\n",
       "      <td>Colisão frontal</td>\n",
       "      <td>&lt;NA&gt;</td>\n",
       "      <td>Pleno dia</td>\n",
       "      <td>Crescente</td>\n",
       "      <td>Nublado</td>\n",
       "      <td>Simples</td>\n",
       "      <td>Reta</td>\n",
       "      <td>Não</td>\n",
       "      <td>9</td>\n",
       "      <td>2</td>\n",
       "      <td>5</td>\n",
       "      <td>1</td>\n",
       "      <td>0</td>\n",
       "      <td>1</td>\n",
       "      <td>6</td>\n",
       "      <td>3</td>\n",
       "      <td>-26.951565</td>\n",
       "      <td>-49.306534</td>\n",
       "      <td>SPRF-SC</td>\n",
       "      <td>DEL04-SC</td>\n",
       "      <td>UOP01-DEL04-SC</td>\n",
       "      <td>2021</td>\n",
       "      <td>1</td>\n",
       "      <td>1</td>\n",
       "      <td>17</td>\n",
       "      <td>10</td>\n",
       "      <td>1</td>\n",
       "    </tr>\n",
       "    <tr>\n",
       "      <th>2</th>\n",
       "      <td>sexta-feira</td>\n",
       "      <td>SC</td>\n",
       "      <td>470.0</td>\n",
       "      <td>130.0</td>\n",
       "      <td>LONTRAS</td>\n",
       "      <td>Acessar a via sem observar a presença dos outr...</td>\n",
       "      <td>Colisão transversal</td>\n",
       "      <td>&lt;NA&gt;</td>\n",
       "      <td>Plena Noite</td>\n",
       "      <td>Decrescente</td>\n",
       "      <td>Nublado</td>\n",
       "      <td>Simples</td>\n",
       "      <td>Não Informado</td>\n",
       "      <td>Sim</td>\n",
       "      <td>4</td>\n",
       "      <td>0</td>\n",
       "      <td>0</td>\n",
       "      <td>2</td>\n",
       "      <td>2</td>\n",
       "      <td>0</td>\n",
       "      <td>2</td>\n",
       "      <td>2</td>\n",
       "      <td>-27.160376</td>\n",
       "      <td>-49.556580</td>\n",
       "      <td>SPRF-SC</td>\n",
       "      <td>DEL04-SC</td>\n",
       "      <td>UOP02-DEL04-SC</td>\n",
       "      <td>2021</td>\n",
       "      <td>1</td>\n",
       "      <td>1</td>\n",
       "      <td>19</td>\n",
       "      <td>50</td>\n",
       "      <td>1</td>\n",
       "    </tr>\n",
       "    <tr>\n",
       "      <th>3</th>\n",
       "      <td>sexta-feira</td>\n",
       "      <td>PR</td>\n",
       "      <td>116.0</td>\n",
       "      <td>59.0</td>\n",
       "      <td>CAMPINA GRANDE DO SUL</td>\n",
       "      <td>Entrada inopinada do pedestre</td>\n",
       "      <td>Atropelamento de Pedestre</td>\n",
       "      <td>&lt;NA&gt;</td>\n",
       "      <td>Plena Noite</td>\n",
       "      <td>Crescente</td>\n",
       "      <td>Chuva</td>\n",
       "      <td>Dupla</td>\n",
       "      <td>Não Informado</td>\n",
       "      <td>Sim</td>\n",
       "      <td>2</td>\n",
       "      <td>1</td>\n",
       "      <td>0</td>\n",
       "      <td>0</td>\n",
       "      <td>1</td>\n",
       "      <td>0</td>\n",
       "      <td>0</td>\n",
       "      <td>1</td>\n",
       "      <td>-25.303357</td>\n",
       "      <td>-48.943789</td>\n",
       "      <td>SPRF-PR</td>\n",
       "      <td>DEL01-PR</td>\n",
       "      <td>UOP02-DEL01-PR</td>\n",
       "      <td>2021</td>\n",
       "      <td>1</td>\n",
       "      <td>1</td>\n",
       "      <td>20</td>\n",
       "      <td>40</td>\n",
       "      <td>2</td>\n",
       "    </tr>\n",
       "    <tr>\n",
       "      <th>4</th>\n",
       "      <td>sábado</td>\n",
       "      <td>SC</td>\n",
       "      <td>101.0</td>\n",
       "      <td>112.0</td>\n",
       "      <td>ITAJAI</td>\n",
       "      <td>Trafegar com motocicleta (ou similar) entre as...</td>\n",
       "      <td>Colisão traseira</td>\n",
       "      <td>&lt;NA&gt;</td>\n",
       "      <td>Pleno dia</td>\n",
       "      <td>Decrescente</td>\n",
       "      <td>Sol</td>\n",
       "      <td>Dupla</td>\n",
       "      <td>Não Informado</td>\n",
       "      <td>Não</td>\n",
       "      <td>4</td>\n",
       "      <td>0</td>\n",
       "      <td>1</td>\n",
       "      <td>1</td>\n",
       "      <td>2</td>\n",
       "      <td>0</td>\n",
       "      <td>2</td>\n",
       "      <td>3</td>\n",
       "      <td>-26.845890</td>\n",
       "      <td>-48.721313</td>\n",
       "      <td>SPRF-SC</td>\n",
       "      <td>DEL04-SC</td>\n",
       "      <td>UOP04-DEL04-SC</td>\n",
       "      <td>2021</td>\n",
       "      <td>1</td>\n",
       "      <td>2</td>\n",
       "      <td>9</td>\n",
       "      <td>25</td>\n",
       "      <td>3</td>\n",
       "    </tr>\n",
       "  </tbody>\n",
       "</table>\n",
       "</div>"
      ],
      "text/plain": [
       "    dia_semana  uf     br     km              municipio  \\\n",
       "0  sexta-feira  PR  277.0   51.3   SAO JOSE DOS PINHAIS   \n",
       "1  sexta-feira  SC  470.0   79.1                INDAIAL   \n",
       "2  sexta-feira  SC  470.0  130.0                LONTRAS   \n",
       "3  sexta-feira  PR  116.0   59.0  CAMPINA GRANDE DO SUL   \n",
       "4       sábado  SC  101.0  112.0                 ITAJAI   \n",
       "\n",
       "                                      causa_acidente  \\\n",
       "0                                 Pista Escorregadia   \n",
       "1                             Transitar na contramão   \n",
       "2  Acessar a via sem observar a presença dos outr...   \n",
       "3                      Entrada inopinada do pedestre   \n",
       "4  Trafegar com motocicleta (ou similar) entre as...   \n",
       "\n",
       "               tipo_acidente  classificacao_acidente     fase_dia  \\\n",
       "0  Saída de leito carroçável                    <NA>    Pleno dia   \n",
       "1            Colisão frontal                    <NA>    Pleno dia   \n",
       "2        Colisão transversal                    <NA>  Plena Noite   \n",
       "3  Atropelamento de Pedestre                    <NA>  Plena Noite   \n",
       "4           Colisão traseira                    <NA>    Pleno dia   \n",
       "\n",
       "   sentido_via condicao_metereologica tipo_pista    tracado_via uso_solo  \\\n",
       "0  Decrescente         Garoa/Chuvisco      Dupla          Curva      Não   \n",
       "1    Crescente                Nublado    Simples           Reta      Não   \n",
       "2  Decrescente                Nublado    Simples  Não Informado      Sim   \n",
       "3    Crescente                  Chuva      Dupla  Não Informado      Sim   \n",
       "4  Decrescente                    Sol      Dupla  Não Informado      Não   \n",
       "\n",
       "   pessoas  mortos  feridos_leves  feridos_graves  ilesos  ignorados  feridos  \\\n",
       "0        4       0              1               0       3          0        1   \n",
       "1        9       2              5               1       0          1        6   \n",
       "2        4       0              0               2       2          0        2   \n",
       "3        2       1              0               0       1          0        0   \n",
       "4        4       0              1               1       2          0        2   \n",
       "\n",
       "   veiculos   latitude  longitude regional delegacia             uop   ano  \\\n",
       "0         3 -25.595160 -48.907008  SPRF-PR  DEL01-PR  UOP05-DEL01-PR  2021   \n",
       "1         3 -26.951565 -49.306534  SPRF-SC  DEL04-SC  UOP01-DEL04-SC  2021   \n",
       "2         2 -27.160376 -49.556580  SPRF-SC  DEL04-SC  UOP02-DEL04-SC  2021   \n",
       "3         1 -25.303357 -48.943789  SPRF-PR  DEL01-PR  UOP02-DEL01-PR  2021   \n",
       "4         3 -26.845890 -48.721313  SPRF-SC  DEL04-SC  UOP04-DEL04-SC  2021   \n",
       "\n",
       "   mes  dia  hora  minuto  cluster  \n",
       "0    1    1    15      45        0  \n",
       "1    1    1    17      10        1  \n",
       "2    1    1    19      50        1  \n",
       "3    1    1    20      40        2  \n",
       "4    1    2     9      25        3  "
      ]
     },
     "execution_count": 100,
     "metadata": {},
     "output_type": "execute_result"
    }
   ],
   "source": [
    "df.head()"
   ]
  },
  {
   "cell_type": "code",
   "execution_count": 104,
   "metadata": {},
   "outputs": [],
   "source": [
    "tmp = {\n",
    "    \"Sem Vítimas\": 0,\n",
    "    \"Com Vítimas Feridas\": 1,\n",
    "    \"Com Vítimas Fatais\": 2\n",
    "}\n",
    "\n",
    "df.classificacao_acidente = df.classificacao_acidente.map(tmp).astype(\"Int64\")"
   ]
  },
  {
   "cell_type": "code",
   "execution_count": 115,
   "metadata": {},
   "outputs": [],
   "source": [
    "# Compute cluster metrics\n",
    "# --------------------------------------------------------------------------------------\n",
    "\n",
    "# Separate columns by data type\n",
    "numericals = df._get_numeric_data().columns\n",
    "categoricals = set(df.columns) - set(numericals)\n",
    "\n",
    "# Define aggregation functions based on column type\n",
    "aggregation = {col: \"mean\" for col in numericals if col != \"cluster\"}\n",
    "aggregation.update({col: lambda x: x.mode().iloc[0] for col in categoricals})\n",
    "\n",
    "# Apply aggregation functions\n",
    "grouped = df.groupby(\"cluster\")\n",
    "metrics = grouped.agg(aggregation).reset_index()\n",
    "\n",
    "metrics[\"n_acidentes\"] = grouped.size().reset_index(name=\"n_acidentes\")[\"n_acidentes\"]\n",
    "metrics[\"n_mortos\"] = grouped.mortos.sum()\n",
    "metrics[\"n_acidentes_fatais\"] = grouped.mortos.apply(lambda x: (x != 0).sum())\n",
    "metrics[\"classificacao_acidente\"] = grouped.classificacao_acidente.sum()\n",
    "\n",
    "to_drop = [\"latitude\", \"longitude\", \"ano\", \"km\", \"br\", \"municipio\", \"sentido_via\", \"uso_solo\", \"regional\", \"delegacia\", \"uop\"]\n",
    "metrics = metrics.drop(columns=to_drop)"
   ]
  },
  {
   "cell_type": "code",
   "execution_count": 107,
   "metadata": {},
   "outputs": [
    {
     "data": {
      "text/html": [
       "<div>\n",
       "<style scoped>\n",
       "    .dataframe tbody tr th:only-of-type {\n",
       "        vertical-align: middle;\n",
       "    }\n",
       "\n",
       "    .dataframe tbody tr th {\n",
       "        vertical-align: top;\n",
       "    }\n",
       "\n",
       "    .dataframe thead th {\n",
       "        text-align: right;\n",
       "    }\n",
       "</style>\n",
       "<table border=\"1\" class=\"dataframe\">\n",
       "  <thead>\n",
       "    <tr style=\"text-align: right;\">\n",
       "      <th></th>\n",
       "      <th>cluster</th>\n",
       "      <th>classificacao_acidente</th>\n",
       "      <th>pessoas</th>\n",
       "      <th>mortos</th>\n",
       "      <th>feridos_leves</th>\n",
       "      <th>feridos_graves</th>\n",
       "      <th>ilesos</th>\n",
       "      <th>ignorados</th>\n",
       "      <th>feridos</th>\n",
       "      <th>veiculos</th>\n",
       "      <th>mes</th>\n",
       "      <th>dia</th>\n",
       "      <th>hora</th>\n",
       "      <th>minuto</th>\n",
       "      <th>condicao_metereologica</th>\n",
       "      <th>uf</th>\n",
       "      <th>causa_acidente</th>\n",
       "      <th>fase_dia</th>\n",
       "      <th>dia_semana</th>\n",
       "      <th>tracado_via</th>\n",
       "      <th>tipo_acidente</th>\n",
       "      <th>tipo_pista</th>\n",
       "      <th>n_acidentes</th>\n",
       "      <th>n_mortos</th>\n",
       "      <th>n_acidentes_fatais</th>\n",
       "    </tr>\n",
       "  </thead>\n",
       "  <tbody>\n",
       "    <tr>\n",
       "      <th>0</th>\n",
       "      <td>-1</td>\n",
       "      <td>119</td>\n",
       "      <td>2.357456</td>\n",
       "      <td>0.126462</td>\n",
       "      <td>0.885965</td>\n",
       "      <td>0.300439</td>\n",
       "      <td>0.903509</td>\n",
       "      <td>0.141082</td>\n",
       "      <td>1.186404</td>\n",
       "      <td>1.590643</td>\n",
       "      <td>6.522661</td>\n",
       "      <td>16.15424</td>\n",
       "      <td>13.17617</td>\n",
       "      <td>24.763158</td>\n",
       "      <td>Céu Claro</td>\n",
       "      <td>RS</td>\n",
       "      <td>Velocidade Incompatível</td>\n",
       "      <td>Pleno dia</td>\n",
       "      <td>sábado</td>\n",
       "      <td>Reta</td>\n",
       "      <td>Saída de leito carroçável</td>\n",
       "      <td>Simples</td>\n",
       "      <td>1368</td>\n",
       "      <td>7</td>\n",
       "      <td>7.0</td>\n",
       "    </tr>\n",
       "    <tr>\n",
       "      <th>1</th>\n",
       "      <td>0</td>\n",
       "      <td>477</td>\n",
       "      <td>2.175676</td>\n",
       "      <td>0.047297</td>\n",
       "      <td>0.736486</td>\n",
       "      <td>0.222973</td>\n",
       "      <td>0.939189</td>\n",
       "      <td>0.22973</td>\n",
       "      <td>0.959459</td>\n",
       "      <td>1.655405</td>\n",
       "      <td>6.641892</td>\n",
       "      <td>14.905405</td>\n",
       "      <td>12.304054</td>\n",
       "      <td>25.398649</td>\n",
       "      <td>Céu Claro</td>\n",
       "      <td>PR</td>\n",
       "      <td>Velocidade Incompatível</td>\n",
       "      <td>Pleno dia</td>\n",
       "      <td>sexta-feira</td>\n",
       "      <td>Reta</td>\n",
       "      <td>Colisão traseira</td>\n",
       "      <td>Dupla</td>\n",
       "      <td>148</td>\n",
       "      <td>26</td>\n",
       "      <td>22.0</td>\n",
       "    </tr>\n",
       "    <tr>\n",
       "      <th>2</th>\n",
       "      <td>1</td>\n",
       "      <td>590</td>\n",
       "      <td>2.213178</td>\n",
       "      <td>0.050388</td>\n",
       "      <td>0.906977</td>\n",
       "      <td>0.30814</td>\n",
       "      <td>0.813953</td>\n",
       "      <td>0.133721</td>\n",
       "      <td>1.215116</td>\n",
       "      <td>1.724806</td>\n",
       "      <td>6.354651</td>\n",
       "      <td>15.416667</td>\n",
       "      <td>13.356589</td>\n",
       "      <td>26.306202</td>\n",
       "      <td>Céu Claro</td>\n",
       "      <td>SC</td>\n",
       "      <td>Velocidade Incompatível</td>\n",
       "      <td>Pleno dia</td>\n",
       "      <td>sábado</td>\n",
       "      <td>Reta</td>\n",
       "      <td>Colisão transversal</td>\n",
       "      <td>Simples</td>\n",
       "      <td>516</td>\n",
       "      <td>26</td>\n",
       "      <td>23.0</td>\n",
       "    </tr>\n",
       "    <tr>\n",
       "      <th>3</th>\n",
       "      <td>2</td>\n",
       "      <td>1833</td>\n",
       "      <td>2.238411</td>\n",
       "      <td>0.034437</td>\n",
       "      <td>0.851656</td>\n",
       "      <td>0.148344</td>\n",
       "      <td>1.086093</td>\n",
       "      <td>0.117881</td>\n",
       "      <td>1.0</td>\n",
       "      <td>1.602649</td>\n",
       "      <td>6.500662</td>\n",
       "      <td>15.613245</td>\n",
       "      <td>13.022517</td>\n",
       "      <td>24.876821</td>\n",
       "      <td>Céu Claro</td>\n",
       "      <td>PR</td>\n",
       "      <td>Velocidade Incompatível</td>\n",
       "      <td>Pleno dia</td>\n",
       "      <td>sexta-feira</td>\n",
       "      <td>Reta</td>\n",
       "      <td>Colisão traseira</td>\n",
       "      <td>Dupla</td>\n",
       "      <td>755</td>\n",
       "      <td>65</td>\n",
       "      <td>60.0</td>\n",
       "    </tr>\n",
       "    <tr>\n",
       "      <th>4</th>\n",
       "      <td>3</td>\n",
       "      <td>465</td>\n",
       "      <td>2.239673</td>\n",
       "      <td>0.03122</td>\n",
       "      <td>0.879923</td>\n",
       "      <td>0.201729</td>\n",
       "      <td>1.007685</td>\n",
       "      <td>0.119116</td>\n",
       "      <td>1.081652</td>\n",
       "      <td>1.741114</td>\n",
       "      <td>6.571085</td>\n",
       "      <td>15.434198</td>\n",
       "      <td>12.771374</td>\n",
       "      <td>25.82805</td>\n",
       "      <td>Céu Claro</td>\n",
       "      <td>SC</td>\n",
       "      <td>Reação tardia ou ineficiente do condutor</td>\n",
       "      <td>Pleno dia</td>\n",
       "      <td>sábado</td>\n",
       "      <td>Reta</td>\n",
       "      <td>Colisão traseira</td>\n",
       "      <td>Dupla</td>\n",
       "      <td>2082</td>\n",
       "      <td>25</td>\n",
       "      <td>23.0</td>\n",
       "    </tr>\n",
       "  </tbody>\n",
       "</table>\n",
       "</div>"
      ],
      "text/plain": [
       "   cluster  classificacao_acidente   pessoas    mortos  feridos_leves  \\\n",
       "0       -1                     119  2.357456  0.126462       0.885965   \n",
       "1        0                     477  2.175676  0.047297       0.736486   \n",
       "2        1                     590  2.213178  0.050388       0.906977   \n",
       "3        2                    1833  2.238411  0.034437       0.851656   \n",
       "4        3                     465  2.239673   0.03122       0.879923   \n",
       "\n",
       "   feridos_graves    ilesos  ignorados   feridos  veiculos       mes  \\\n",
       "0        0.300439  0.903509   0.141082  1.186404  1.590643  6.522661   \n",
       "1        0.222973  0.939189    0.22973  0.959459  1.655405  6.641892   \n",
       "2         0.30814  0.813953   0.133721  1.215116  1.724806  6.354651   \n",
       "3        0.148344  1.086093   0.117881       1.0  1.602649  6.500662   \n",
       "4        0.201729  1.007685   0.119116  1.081652  1.741114  6.571085   \n",
       "\n",
       "         dia       hora     minuto condicao_metereologica  uf  \\\n",
       "0   16.15424   13.17617  24.763158              Céu Claro  RS   \n",
       "1  14.905405  12.304054  25.398649              Céu Claro  PR   \n",
       "2  15.416667  13.356589  26.306202              Céu Claro  SC   \n",
       "3  15.613245  13.022517  24.876821              Céu Claro  PR   \n",
       "4  15.434198  12.771374   25.82805              Céu Claro  SC   \n",
       "\n",
       "                             causa_acidente   fase_dia   dia_semana  \\\n",
       "0                   Velocidade Incompatível  Pleno dia       sábado   \n",
       "1                   Velocidade Incompatível  Pleno dia  sexta-feira   \n",
       "2                   Velocidade Incompatível  Pleno dia       sábado   \n",
       "3                   Velocidade Incompatível  Pleno dia  sexta-feira   \n",
       "4  Reação tardia ou ineficiente do condutor  Pleno dia       sábado   \n",
       "\n",
       "  tracado_via              tipo_acidente tipo_pista  n_acidentes  n_mortos  \\\n",
       "0        Reta  Saída de leito carroçável    Simples         1368         7   \n",
       "1        Reta           Colisão traseira      Dupla          148        26   \n",
       "2        Reta        Colisão transversal    Simples          516        26   \n",
       "3        Reta           Colisão traseira      Dupla          755        65   \n",
       "4        Reta           Colisão traseira      Dupla         2082        25   \n",
       "\n",
       "   n_acidentes_fatais  \n",
       "0                 7.0  \n",
       "1                22.0  \n",
       "2                23.0  \n",
       "3                60.0  \n",
       "4                23.0  "
      ]
     },
     "execution_count": 107,
     "metadata": {},
     "output_type": "execute_result"
    }
   ],
   "source": [
    "metrics.head()"
   ]
  },
  {
   "cell_type": "code",
   "execution_count": 152,
   "metadata": {},
   "outputs": [
    {
     "data": {
      "text/html": [
       "<div>\n",
       "<style scoped>\n",
       "    .dataframe tbody tr th:only-of-type {\n",
       "        vertical-align: middle;\n",
       "    }\n",
       "\n",
       "    .dataframe tbody tr th {\n",
       "        vertical-align: top;\n",
       "    }\n",
       "\n",
       "    .dataframe thead th {\n",
       "        text-align: right;\n",
       "    }\n",
       "</style>\n",
       "<table border=\"1\" class=\"dataframe\">\n",
       "  <thead>\n",
       "    <tr style=\"text-align: right;\">\n",
       "      <th></th>\n",
       "      <th>cluster</th>\n",
       "      <th>classificacao_acidente</th>\n",
       "      <th>pessoas</th>\n",
       "      <th>mortos</th>\n",
       "      <th>feridos_leves</th>\n",
       "      <th>feridos_graves</th>\n",
       "      <th>ilesos</th>\n",
       "      <th>ignorados</th>\n",
       "      <th>feridos</th>\n",
       "      <th>veiculos</th>\n",
       "      <th>mes</th>\n",
       "      <th>dia</th>\n",
       "      <th>hora</th>\n",
       "      <th>minuto</th>\n",
       "      <th>n_acidentes</th>\n",
       "      <th>n_mortos</th>\n",
       "      <th>n_acidentes_fatais</th>\n",
       "      <th>ratio</th>\n",
       "      <th>condicao_metereologica</th>\n",
       "      <th>causa_acidente</th>\n",
       "      <th>uf</th>\n",
       "      <th>fase_dia</th>\n",
       "      <th>dia_semana</th>\n",
       "      <th>tracado_via</th>\n",
       "      <th>tipo_acidente</th>\n",
       "      <th>tipo_pista</th>\n",
       "    </tr>\n",
       "  </thead>\n",
       "  <tbody>\n",
       "    <tr>\n",
       "      <th>16</th>\n",
       "      <td>15</td>\n",
       "      <td>767</td>\n",
       "      <td>2.304</td>\n",
       "      <td>0.08</td>\n",
       "      <td>0.832</td>\n",
       "      <td>0.288</td>\n",
       "      <td>0.984</td>\n",
       "      <td>0.12</td>\n",
       "      <td>1.12</td>\n",
       "      <td>1.744</td>\n",
       "      <td>6.76</td>\n",
       "      <td>15.336</td>\n",
       "      <td>13.488</td>\n",
       "      <td>24.232</td>\n",
       "      <td>125</td>\n",
       "      <td>51</td>\n",
       "      <td>47.0</td>\n",
       "      <td>6.136</td>\n",
       "      <td>Céu Claro</td>\n",
       "      <td>Acessar a via sem observar a presença dos outr...</td>\n",
       "      <td>SC</td>\n",
       "      <td>Pleno dia</td>\n",
       "      <td>domingo</td>\n",
       "      <td>Reta</td>\n",
       "      <td>Colisão transversal</td>\n",
       "      <td>Simples</td>\n",
       "    </tr>\n",
       "    <tr>\n",
       "      <th>8</th>\n",
       "      <td>7</td>\n",
       "      <td>294</td>\n",
       "      <td>2.320755</td>\n",
       "      <td>0.018868</td>\n",
       "      <td>0.90566</td>\n",
       "      <td>0.358491</td>\n",
       "      <td>0.830189</td>\n",
       "      <td>0.207547</td>\n",
       "      <td>1.264151</td>\n",
       "      <td>1.660377</td>\n",
       "      <td>7.528302</td>\n",
       "      <td>13.754717</td>\n",
       "      <td>12.301887</td>\n",
       "      <td>29.075472</td>\n",
       "      <td>53</td>\n",
       "      <td>11</td>\n",
       "      <td>11.0</td>\n",
       "      <td>5.54717</td>\n",
       "      <td>Céu Claro</td>\n",
       "      <td>Ultrapassagem Indevida</td>\n",
       "      <td>SC</td>\n",
       "      <td>Pleno dia</td>\n",
       "      <td>sábado</td>\n",
       "      <td>Não Informado</td>\n",
       "      <td>Saída de leito carroçável</td>\n",
       "      <td>Simples</td>\n",
       "    </tr>\n",
       "    <tr>\n",
       "      <th>13</th>\n",
       "      <td>12</td>\n",
       "      <td>570</td>\n",
       "      <td>2.694915</td>\n",
       "      <td>0.245763</td>\n",
       "      <td>0.991525</td>\n",
       "      <td>0.347458</td>\n",
       "      <td>1.050847</td>\n",
       "      <td>0.059322</td>\n",
       "      <td>1.338983</td>\n",
       "      <td>1.525424</td>\n",
       "      <td>6.440678</td>\n",
       "      <td>16.779661</td>\n",
       "      <td>12.576271</td>\n",
       "      <td>24.033898</td>\n",
       "      <td>118</td>\n",
       "      <td>14</td>\n",
       "      <td>12.0</td>\n",
       "      <td>4.830508</td>\n",
       "      <td>Céu Claro</td>\n",
       "      <td>Velocidade Incompatível</td>\n",
       "      <td>PR</td>\n",
       "      <td>Pleno dia</td>\n",
       "      <td>sábado</td>\n",
       "      <td>Reta</td>\n",
       "      <td>Saída de leito carroçável</td>\n",
       "      <td>Dupla</td>\n",
       "    </tr>\n",
       "    <tr>\n",
       "      <th>38</th>\n",
       "      <td>37</td>\n",
       "      <td>753</td>\n",
       "      <td>2.274038</td>\n",
       "      <td>0.0625</td>\n",
       "      <td>0.975962</td>\n",
       "      <td>0.168269</td>\n",
       "      <td>0.966346</td>\n",
       "      <td>0.100962</td>\n",
       "      <td>1.144231</td>\n",
       "      <td>1.610577</td>\n",
       "      <td>6.807692</td>\n",
       "      <td>16.254808</td>\n",
       "      <td>12.596154</td>\n",
       "      <td>26.538462</td>\n",
       "      <td>208</td>\n",
       "      <td>39</td>\n",
       "      <td>35.0</td>\n",
       "      <td>3.620192</td>\n",
       "      <td>Céu Claro</td>\n",
       "      <td>Ausência de reação do condutor</td>\n",
       "      <td>RS</td>\n",
       "      <td>Pleno dia</td>\n",
       "      <td>sexta-feira</td>\n",
       "      <td>Reta</td>\n",
       "      <td>Saída de leito carroçável</td>\n",
       "      <td>Dupla</td>\n",
       "    </tr>\n",
       "    <tr>\n",
       "      <th>1</th>\n",
       "      <td>0</td>\n",
       "      <td>477</td>\n",
       "      <td>2.175676</td>\n",
       "      <td>0.047297</td>\n",
       "      <td>0.736486</td>\n",
       "      <td>0.222973</td>\n",
       "      <td>0.939189</td>\n",
       "      <td>0.22973</td>\n",
       "      <td>0.959459</td>\n",
       "      <td>1.655405</td>\n",
       "      <td>6.641892</td>\n",
       "      <td>14.905405</td>\n",
       "      <td>12.304054</td>\n",
       "      <td>25.398649</td>\n",
       "      <td>148</td>\n",
       "      <td>26</td>\n",
       "      <td>22.0</td>\n",
       "      <td>3.222973</td>\n",
       "      <td>Céu Claro</td>\n",
       "      <td>Velocidade Incompatível</td>\n",
       "      <td>PR</td>\n",
       "      <td>Pleno dia</td>\n",
       "      <td>sexta-feira</td>\n",
       "      <td>Reta</td>\n",
       "      <td>Colisão traseira</td>\n",
       "      <td>Dupla</td>\n",
       "    </tr>\n",
       "    <tr>\n",
       "      <th>19</th>\n",
       "      <td>18</td>\n",
       "      <td>181</td>\n",
       "      <td>2.1</td>\n",
       "      <td>0.033333</td>\n",
       "      <td>0.716667</td>\n",
       "      <td>0.216667</td>\n",
       "      <td>1.0</td>\n",
       "      <td>0.133333</td>\n",
       "      <td>0.933333</td>\n",
       "      <td>1.3</td>\n",
       "      <td>6.466667</td>\n",
       "      <td>15.233333</td>\n",
       "      <td>11.766667</td>\n",
       "      <td>28.433333</td>\n",
       "      <td>60</td>\n",
       "      <td>24</td>\n",
       "      <td>18.0</td>\n",
       "      <td>3.016667</td>\n",
       "      <td>Céu Claro</td>\n",
       "      <td>Reação tardia ou ineficiente do condutor</td>\n",
       "      <td>RS</td>\n",
       "      <td>Pleno dia</td>\n",
       "      <td>sábado</td>\n",
       "      <td>Reta</td>\n",
       "      <td>Saída de leito carroçável</td>\n",
       "      <td>Dupla</td>\n",
       "    </tr>\n",
       "  </tbody>\n",
       "</table>\n",
       "</div>"
      ],
      "text/plain": [
       "    cluster  classificacao_acidente   pessoas    mortos  feridos_leves  \\\n",
       "16       15                     767     2.304      0.08          0.832   \n",
       "8         7                     294  2.320755  0.018868        0.90566   \n",
       "13       12                     570  2.694915  0.245763       0.991525   \n",
       "38       37                     753  2.274038    0.0625       0.975962   \n",
       "1         0                     477  2.175676  0.047297       0.736486   \n",
       "19       18                     181       2.1  0.033333       0.716667   \n",
       "\n",
       "    feridos_graves    ilesos  ignorados   feridos  veiculos       mes  \\\n",
       "16           0.288     0.984       0.12      1.12     1.744      6.76   \n",
       "8         0.358491  0.830189   0.207547  1.264151  1.660377  7.528302   \n",
       "13        0.347458  1.050847   0.059322  1.338983  1.525424  6.440678   \n",
       "38        0.168269  0.966346   0.100962  1.144231  1.610577  6.807692   \n",
       "1         0.222973  0.939189    0.22973  0.959459  1.655405  6.641892   \n",
       "19        0.216667       1.0   0.133333  0.933333       1.3  6.466667   \n",
       "\n",
       "          dia       hora     minuto  n_acidentes  n_mortos  \\\n",
       "16     15.336     13.488     24.232          125        51   \n",
       "8   13.754717  12.301887  29.075472           53        11   \n",
       "13  16.779661  12.576271  24.033898          118        14   \n",
       "38  16.254808  12.596154  26.538462          208        39   \n",
       "1   14.905405  12.304054  25.398649          148        26   \n",
       "19  15.233333  11.766667  28.433333           60        24   \n",
       "\n",
       "    n_acidentes_fatais     ratio condicao_metereologica  \\\n",
       "16                47.0     6.136              Céu Claro   \n",
       "8                 11.0   5.54717              Céu Claro   \n",
       "13                12.0  4.830508              Céu Claro   \n",
       "38                35.0  3.620192              Céu Claro   \n",
       "1                 22.0  3.222973              Céu Claro   \n",
       "19                18.0  3.016667              Céu Claro   \n",
       "\n",
       "                                       causa_acidente  uf   fase_dia  \\\n",
       "16  Acessar a via sem observar a presença dos outr...  SC  Pleno dia   \n",
       "8                              Ultrapassagem Indevida  SC  Pleno dia   \n",
       "13                            Velocidade Incompatível  PR  Pleno dia   \n",
       "38                     Ausência de reação do condutor  RS  Pleno dia   \n",
       "1                             Velocidade Incompatível  PR  Pleno dia   \n",
       "19           Reação tardia ou ineficiente do condutor  RS  Pleno dia   \n",
       "\n",
       "     dia_semana    tracado_via              tipo_acidente tipo_pista  \n",
       "16      domingo           Reta        Colisão transversal    Simples  \n",
       "8        sábado  Não Informado  Saída de leito carroçável    Simples  \n",
       "13       sábado           Reta  Saída de leito carroçável      Dupla  \n",
       "38  sexta-feira           Reta  Saída de leito carroçável      Dupla  \n",
       "1   sexta-feira           Reta           Colisão traseira      Dupla  \n",
       "19       sábado           Reta  Saída de leito carroçável      Dupla  "
      ]
     },
     "execution_count": 152,
     "metadata": {},
     "output_type": "execute_result"
    }
   ],
   "source": [
    "# Organize cluster metrics\n",
    "# --------------------------------------------------------------------------------------\n",
    "\n",
    "# Sort by a column\n",
    "# metrics = metrics.sort_values(by=\"n_acidentes\", ascending=False)\n",
    "# metrics = metrics.sort_values(by=[\"n_mortos\", \"n_acidentes\"], ascending=[False, False])\n",
    "\n",
    "# Sort by a ration\n",
    "# metrics = metrics.assign(ratio=lambda x: x['n_mortos'] / x['n_acidentes'])\n",
    "# metrics = metrics.assign(ratio=lambda x: x['n_acidentes_fatais'] / x['n_acidentes'])\n",
    "metrics = metrics.assign(ratio=lambda x: x['classificacao_acidente'] / x['n_acidentes'])\n",
    "metrics = metrics.sort_values(by='ratio', ascending=False)\n",
    "\n",
    "metrics.head()\n",
    "\n",
    "# Separate numerical and categorical columns\n",
    "numericals = metrics._get_numeric_data().columns\n",
    "categoricals = set(metrics.columns) - set(numericals)\n",
    "\n",
    "# Sort the columns and concatenate them\n",
    "sorted_columns = list(numericals) + list(categoricals)\n",
    "metrics = metrics[sorted_columns]\n",
    "\n",
    "top3 = metrics.cluster.head(3).to_list()\n",
    "top6 = metrics.cluster.head(6).to_list()\n",
    "\n",
    "metrics.head(6)"
   ]
  },
  {
   "cell_type": "code",
   "execution_count": 161,
   "metadata": {},
   "outputs": [
    {
     "data": {
      "application/vnd.plotly.v1+json": {
       "config": {
        "plotlyServerURL": "https://plot.ly"
       },
       "data": [
        {
         "lat": [
          -26.145535,
          -26.75450918,
          -26.54745004,
          -26.13073161,
          -26.75568818,
          -26.40644298,
          -26.13073161,
          -26.37933149,
          -26.35635207,
          -26.17933291,
          -26.17877859,
          -26.742656,
          -26.15196176,
          -26.14644691,
          -26.36355729,
          -26.33118709,
          -26.14094396,
          -26.38145129,
          -26.18419881,
          -26.38296807,
          -26.46036818,
          -26.17957843,
          -26.75095005,
          -26.75241268,
          -26.14094396,
          -26.13554917,
          -26.742656,
          -26.37798337,
          -26.30563681,
          -26.44247501,
          -26.75568818,
          -26.49609399,
          -26.1927121,
          -26.16297778,
          -26.2574752,
          -26.72522599,
          -26.3932492,
          -26.38910178,
          -26.49609399,
          -26.75568818,
          -26.12391791,
          -26.14644691,
          -26.33588885,
          -26.16031076,
          -26.14094396,
          -26.70415545,
          -26.75095005,
          -26.47804399,
          -26.742656,
          -26.15196176,
          -26.46909494,
          -26.37756818,
          -26.46036818,
          -26.13554917,
          -26.3323522,
          -26.17877859,
          -26.44247501,
          -26.75095005,
          -26.39008273,
          -26.34149288,
          -26.13073161,
          -26.15234663,
          -26.17982876,
          -26.38296807,
          -26.41544499,
          -26.15308817,
          -26.15196176,
          -26.43345701,
          -26.42445099,
          -26.16297778,
          -26.32428725,
          -26.14094396,
          -26.46036818,
          -26.17288662,
          -26.7520839,
          -26.14094396,
          -26.50510886,
          -26.37925985,
          -26.46036818,
          -26.11852913,
          -26.13554917,
          -26.36355729,
          -26.7337591,
          -26.38233554,
          -26.33660064,
          -26.108942,
          -26.3932492,
          -26.13554917,
          -26.17985765,
          -26.17627262,
          -26.31187517,
          -26.22553498,
          -26.63695731,
          -26.14094396,
          -26.29228969,
          -26.41544499,
          -26.14094396,
          -26.46909494,
          -26.39008273,
          -26.41544499,
          -26.47804399,
          -26.13554917,
          -26.13915213,
          -26.32647869,
          -26.31708989,
          -26.75568818,
          -26.14094396,
          -26.1528763,
          -26.14094396,
          -26.15258739,
          -26.14094396,
          -26.108942,
          -26.25543902,
          -26.742656,
          -26.14644691,
          -26.75568818,
          -26.22553498,
          -26.13904317,
          -26.13073161,
          -26.108942,
          -26.14094396,
          -26.108942,
          -26.46114145,
          -26.17627262,
          -26.14094396
         ],
         "lon": [
          -49.821787,
          -50.32007217,
          -50.22398538,
          -49.79922442,
          -50.32812388,
          -50.22649816,
          -49.79922442,
          -50.20775008,
          -50.11354592,
          -49.87123489,
          -49.86720998,
          -50.31436699,
          -49.83102416,
          -49.82305806,
          -50.11956966,
          -49.99664695,
          -49.81508303,
          -50.13486385,
          -49.87404087,
          -50.21675059,
          -50.22889671,
          -49.87103105,
          -50.31749478,
          -50.32493591,
          -49.81508303,
          -49.8072652,
          -50.31436699,
          -50.13162356,
          -49.95562916,
          -50.2284382,
          -50.32812388,
          -50.23312331,
          -49.87729374,
          -49.84696715,
          -49.91194265,
          -50.31042602,
          -50.15515026,
          -50.22468567,
          -50.23312331,
          -50.32812388,
          -49.79303212,
          -49.82305806,
          -50.00519808,
          -49.84301805,
          -49.81508303,
          -50.29253483,
          -50.31749478,
          -50.23238915,
          -50.31436699,
          -49.83102416,
          -50.23134921,
          -50.19634008,
          -50.22889671,
          -49.8072652,
          -49.9988029,
          -49.86720998,
          -50.2284382,
          -50.31749478,
          -50.14576709,
          -50.05296894,
          -49.79922442,
          -49.83170986,
          -49.87119198,
          -50.21675059,
          -50.22732716,
          -49.83291149,
          -49.83102416,
          -50.22890485,
          -50.2281171,
          -49.84696715,
          -49.98408079,
          -49.81508303,
          -50.22889671,
          -49.85509872,
          -50.33425198,
          -49.81508303,
          -50.23328349,
          -50.20614624,
          -50.22889671,
          -49.78842974,
          -49.8072652,
          -50.11956966,
          -50.31370975,
          -50.21575928,
          -50.08635342,
          -49.784187,
          -50.15515026,
          -49.8072652,
          -49.87127781,
          -49.8580203,
          -49.96286886,
          -49.89348004,
          -50.25471279,
          -49.81508303,
          -49.94234725,
          -50.22732716,
          -49.81508303,
          -50.23134921,
          -50.14576709,
          -50.22732716,
          -50.23238915,
          -49.8072652,
          -49.81263399,
          -49.98810017,
          -49.97099106,
          -50.32812388,
          -49.81508303,
          -49.83188152,
          -49.81508303,
          -49.83175278,
          -49.81508303,
          -49.784187,
          -49.91079748,
          -50.31436699,
          -49.82305806,
          -50.32812388,
          -49.89348004,
          -49.81262903,
          -49.79922442,
          -49.784187,
          -49.81508303,
          -49.784187,
          -50.22928834,
          -49.8580203,
          -49.81508303
         ],
         "marker": {
          "color": "hsl(0.0,50%,50%)",
          "size": 7.5
         },
         "mode": "markers",
         "showlegend": false,
         "text": "15",
         "type": "scattermapbox"
        },
        {
         "lat": [
          -26.870565,
          -26.59023103,
          -26.62425308,
          -26.61510958,
          -26.84425606,
          -26.8059407,
          -26.87748,
          -26.60730301,
          -26.82899985,
          -26.939083,
          -27.0172725,
          -26.54289607,
          -26.877952,
          -26.90676315,
          -26.59023103,
          -26.61594101,
          -26.58507318,
          -26.60730301,
          -27.03315906,
          -26.65911819,
          -26.60730301,
          -26.96422931,
          -26.83499985,
          -26.64162493,
          -26.86046001,
          -26.54327198,
          -26.9491578,
          -26.329211,
          -26.63288211,
          -26.95689224,
          -26.320844,
          -26.40859094,
          -26.65911819,
          -26.58233094,
          -26.60220765,
          -26.42763486,
          -26.99551347,
          -26.63357262,
          -26.53391703,
          -26.64162493,
          -26.87195078,
          -26.83661705,
          -26.867246,
          -26.8761434,
          -26.33696105,
          -26.63150107,
          -26.42169886,
          -26.69161825,
          -26.376165,
          -26.86046001,
          -26.36827905,
          -26.37430012,
          -26.6327579
         ],
         "lon": [
          -53.162023,
          -53.51574204,
          -53.51596135,
          -53.51938248,
          -53.17106511,
          -53.18140453,
          -53.16833,
          -53.51704391,
          -53.18089264,
          -53.204106,
          -53.2293434,
          -53.52035746,
          -53.169978,
          -53.18721771,
          -53.51574204,
          -53.51942819,
          -53.51843834,
          -53.51704391,
          -53.23463028,
          -53.51816757,
          -53.51704391,
          -53.21073532,
          -53.17651754,
          -53.51842645,
          -53.16404912,
          -53.5202837,
          -53.20464134,
          -53.544462,
          -53.51861,
          -53.20372671,
          -53.550503,
          -53.52285862,
          -53.51816757,
          -53.51749809,
          -53.51660371,
          -53.52078795,
          -53.21502686,
          -53.51895332,
          -53.52174016,
          -53.51842645,
          -53.1625325,
          -53.17563409,
          -53.163855,
          -53.16696167,
          -53.54629684,
          -53.51783752,
          -53.52568081,
          -53.51476908,
          -53.5287321,
          -53.16404912,
          -53.53348015,
          -53.52974653,
          -53.51856923
         ],
         "marker": {
          "color": "hsl(72.0,50%,50%)",
          "size": 7.5
         },
         "mode": "markers",
         "showlegend": false,
         "text": "7",
         "type": "scattermapbox"
        },
        {
         "lat": [
          -25.96596616,
          -25.85455838,
          -25.885323,
          -25.885323,
          -25.864159,
          -25.89358488,
          -25.8516758,
          -25.95050276,
          -25.85455838,
          -25.9126011,
          -25.86649659,
          -25.90718723,
          -25.86649659,
          -25.90092097,
          -25.97334162,
          -25.89358488,
          -25.85455838,
          -25.90851198,
          -25.90092097,
          -25.95050276,
          -25.864159,
          -25.85455838,
          -25.86649659,
          -25.8912119,
          -25.91744399,
          -25.85455838,
          -25.9253011022,
          -25.85455838,
          -25.95815,
          -25.864159,
          -25.95050276,
          -25.885323,
          -25.86037408,
          -25.89358488,
          -25.89358488,
          -25.885323,
          -25.9253011,
          -25.95050276,
          -25.864159,
          -25.86037408,
          -25.864119,
          -25.86649659,
          -25.864159,
          -25.885323,
          -25.86649659,
          -25.86037408,
          -25.9253011,
          -25.86649659,
          -25.90092097,
          -25.91744399,
          -25.864159,
          -25.86649659,
          -25.85455838,
          -25.885323,
          -25.90851198,
          -25.90851198,
          -25.85455838,
          -25.859679,
          -25.90851198,
          -25.885323,
          -25.91744399,
          -25.86649659,
          -25.90851198,
          -25.90851198,
          -25.95050276,
          -25.86649659,
          -25.877273,
          -25.94235196,
          -25.85321576,
          -25.87689214,
          -25.885323,
          -25.85455838,
          -25.85455838,
          -25.97311818,
          -25.89844608,
          -25.885323,
          -25.9253011,
          -25.864159,
          -25.864159,
          -25.90851198,
          -25.95050276,
          -25.85321576,
          -25.86037408,
          -25.85455838,
          -25.95050276,
          -25.85999816,
          -25.95050276,
          -25.91744399,
          -25.95050276,
          -25.864159,
          -25.85455838,
          -25.86958174,
          -25.95687087,
          -25.86037408,
          -25.85455838,
          -25.90851198,
          -25.86037408,
          -25.864159,
          -25.97311818,
          -25.91759979,
          -25.86037408,
          -25.85455838,
          -25.96596616,
          -25.85455838,
          -25.885323,
          -25.85455838,
          -25.86146339,
          -25.95050276,
          -25.86174269,
          -25.864159,
          -25.86037408,
          -25.87689214,
          -25.980609,
          -25.86037408,
          -25.86649659,
          -25.9253011,
          -25.86037408,
          -25.85455838
         ],
         "lon": [
          -48.89663319,
          -48.95670808,
          -48.935154,
          -48.935154,
          -48.937538,
          -48.93146782,
          -49.00332398,
          -48.90514477,
          -48.95670808,
          -48.92018795,
          -48.94666822,
          -48.92098188,
          -48.94666822,
          -48.92572096,
          -48.64581436,
          -48.93146782,
          -48.95670808,
          -48.92070682,
          -48.92572096,
          -48.90514477,
          -48.937538,
          -48.95670808,
          -48.94666822,
          -48.93316803,
          -48.91940295,
          -48.95670808,
          -48.9146531294,
          -48.95670808,
          -48.900978,
          -48.937538,
          -48.90514477,
          -48.935154,
          -48.95087256,
          -48.93146782,
          -48.93146782,
          -48.935154,
          -48.91465313,
          -48.90514477,
          -48.937538,
          -48.95087256,
          -48.950326,
          -48.94666822,
          -48.937538,
          -48.935154,
          -48.94666822,
          -48.95087256,
          -48.91465313,
          -48.94666822,
          -48.92572096,
          -48.91940295,
          -48.937538,
          -48.94666822,
          -48.95670808,
          -48.935154,
          -48.92070682,
          -48.92070682,
          -48.95670808,
          -48.937718,
          -48.92070682,
          -48.935154,
          -48.91940295,
          -48.94666822,
          -48.92070682,
          -48.92070682,
          -48.90514477,
          -48.94666822,
          -48.935568,
          -48.90906594,
          -48.96608688,
          -48.93585725,
          -48.935154,
          -48.95670808,
          -48.95670808,
          -48.89058063,
          -48.91776713,
          -48.935154,
          -48.91465313,
          -48.937538,
          -48.937538,
          -48.92070682,
          -48.90514477,
          -48.96608688,
          -48.95087256,
          -48.95670808,
          -48.90514477,
          -48.94993704,
          -48.90514477,
          -48.91940295,
          -48.90514477,
          -48.937538,
          -48.95670808,
          -48.93464712,
          -48.90099028,
          -48.95087256,
          -48.95670808,
          -48.92070682,
          -48.95087256,
          -48.937538,
          -48.89058063,
          -48.91971588,
          -48.95087256,
          -48.95670808,
          -48.89663319,
          -48.95670808,
          -48.935154,
          -48.95670808,
          -48.9362812,
          -48.90514477,
          -48.95069286,
          -48.937538,
          -48.95087256,
          -48.93585725,
          -48.88724,
          -48.95087256,
          -48.94666822,
          -48.91465313,
          -48.95087256,
          -48.95670808
         ],
         "marker": {
          "color": "hsl(144.0,50%,50%)",
          "size": 7.5
         },
         "mode": "markers",
         "showlegend": false,
         "text": "12",
         "type": "scattermapbox"
        },
        {
         "lat": [
          -29.991756,
          -29.881359,
          -29.99082791,
          -29.970839,
          -29.968319,
          -29.969055,
          -29.988646,
          -29.973856,
          -29.886322,
          -29.968319,
          -29.86529419,
          -29.967892,
          -29.867395,
          -29.967921,
          -29.967838,
          -29.88893206,
          -29.86499,
          -29.992107,
          -29.970839,
          -29.98799415,
          -29.971916,
          -29.987228,
          -29.991756,
          -29.968319,
          -29.968319,
          -29.971916,
          -29.987228,
          -29.883719,
          -29.99020997,
          -29.884756,
          -29.867395,
          -29.98438538,
          -29.88022,
          -29.87875,
          -29.971916,
          -29.887197,
          -29.888767,
          -29.95343,
          -29.968412,
          -29.997789,
          -29.967838,
          -29.994816,
          -29.968412,
          -29.971916,
          -29.884407,
          -29.968412,
          -29.971916,
          -29.969055,
          -29.884756,
          -29.991756,
          -29.887197,
          -29.985779,
          -29.967892,
          -29.967531,
          -29.992107,
          -29.971916,
          -29.997789,
          -29.885714,
          -29.982832,
          -29.967838,
          -29.885529,
          -29.971916,
          -29.971916,
          -29.885197,
          -29.8861,
          -29.886535,
          -29.884407,
          -29.883583,
          -29.98552943,
          -29.97137074,
          -29.871126,
          -29.971916,
          -29.969055,
          -29.880203,
          -29.967531,
          -29.88625,
          -29.969055,
          -29.88050774,
          -29.970839,
          -29.967892,
          -29.884407,
          -29.99240759,
          -29.973856,
          -29.99115196,
          -29.887197,
          -29.99017,
          -29.959141,
          -29.988646,
          -29.867395,
          -29.971916,
          -29.882362,
          -29.884407,
          -29.987228,
          -29.97144769,
          -29.968412,
          -29.973856,
          -29.88487173,
          -29.88389732,
          -29.882647,
          -29.883911,
          -29.967838,
          -29.98794725,
          -29.883143,
          -29.98783364,
          -29.883583,
          -29.968412,
          -29.987228,
          -29.885357,
          -29.971916,
          -29.973856,
          -29.973856,
          -29.885529,
          -29.886311,
          -29.991756,
          -29.973856,
          -29.994816,
          -29.973856,
          -29.96991803,
          -29.867801,
          -29.883427,
          -29.987228,
          -29.969055,
          -29.997789,
          -29.97791077,
          -29.886262,
          -29.886494,
          -29.884407,
          -29.882519,
          -29.971916,
          -29.967936,
          -29.882015,
          -29.967838,
          -29.889786,
          -29.967531,
          -29.971916,
          -29.971916,
          -29.967838,
          -29.991756,
          -29.968319,
          -29.881359,
          -29.971916,
          -29.969055,
          -29.969055,
          -29.881359,
          -29.967936,
          -29.885437,
          -29.968319,
          -29.969055,
          -29.994816,
          -29.9922647,
          -29.967838,
          -29.988646,
          -29.968412,
          -29.959141,
          -29.869128,
          -29.968412,
          -29.96859655,
          -29.967531,
          -29.886173,
          -29.967531,
          -29.997789,
          -29.967668,
          -29.969055,
          -29.994816,
          -29.968412,
          -29.968412,
          -29.968412,
          -29.9716983,
          -29.973856,
          -29.969055,
          -29.973856,
          -29.881359,
          -29.971916,
          -29.967936,
          -29.992107,
          -29.994816,
          -29.992107,
          -29.994816,
          -29.967838,
          -29.992107,
          -29.969055,
          -29.86499,
          -29.967531,
          -29.973856,
          -29.971916,
          -29.987228,
          -29.967531,
          -29.968412,
          -29.993122,
          -29.880135,
          -29.96961785,
          -29.973856,
          -29.967838,
          -29.968319,
          -29.880203,
          -29.967892,
          -29.971916,
          -29.968891,
          -29.887197,
          -29.880135,
          -29.889786,
          -29.967936,
          -29.970839,
          -29.884407,
          -29.971916,
          -29.969055,
          -29.98644185,
          -29.98919918
         ],
         "lon": [
          -51.22699,
          -50.524544,
          -51.26585484,
          -51.187725,
          -51.157398,
          -51.167439,
          -51.236553,
          -51.197853,
          -50.637886,
          -51.157398,
          -50.40495526,
          -51.147331,
          -50.401199,
          -51.125803,
          -51.127197,
          -50.65682173,
          -50.410789,
          -51.204525,
          -51.187725,
          -51.20831307,
          -51.176838,
          -51.25613,
          -51.22699,
          -51.157398,
          -51.157398,
          -51.176838,
          -51.25613,
          -50.548499,
          -51.22445971,
          -50.61729,
          -50.401199,
          -51.20198792,
          -50.509884,
          -50.512439,
          -51.176838,
          -50.668839,
          -50.679028,
          -51.058449,
          -51.117138,
          -51.20779,
          -51.127197,
          -51.217403,
          -51.117138,
          -51.176838,
          -50.444893,
          -51.117138,
          -51.176838,
          -51.167439,
          -50.61729,
          -51.22699,
          -50.668839,
          -51.246201,
          -51.147331,
          -51.137264,
          -51.204525,
          -51.176838,
          -51.20779,
          -50.448848,
          -51.201572,
          -51.127197,
          -50.62759,
          -51.176838,
          -51.176838,
          -50.446372,
          -50.591786,
          -50.451436,
          -50.444893,
          -50.555428,
          -51.20226385,
          -51.19205707,
          -50.418049,
          -51.176838,
          -51.167439,
          -50.503971,
          -51.137264,
          -50.648232,
          -51.167439,
          -50.50287768,
          -51.187725,
          -51.147331,
          -50.444893,
          -51.27113342,
          -51.197853,
          -51.2688407,
          -50.668839,
          -51.265766,
          -51.088791,
          -51.236553,
          -50.401199,
          -51.176838,
          -50.531228,
          -50.444893,
          -51.25613,
          -51.19450613,
          -51.117138,
          -51.197853,
          -50.44189632,
          -50.48855871,
          -50.534782,
          -50.565765,
          -51.127197,
          -51.20796204,
          -50.536584,
          -51.23792323,
          -50.555428,
          -51.117138,
          -51.25613,
          -50.484364,
          -51.176838,
          -51.197853,
          -51.197853,
          -50.62759,
          -50.635484,
          -51.22699,
          -51.197853,
          -51.217403,
          -51.197853,
          -51.11749649,
          -50.400866,
          -50.548154,
          -51.25613,
          -51.167439,
          -51.20779,
          -51.2003231,
          -50.657795,
          -50.662855,
          -50.444893,
          -50.390564,
          -51.176838,
          -51.106873,
          -50.493973,
          -51.127197,
          -50.464596,
          -51.137264,
          -51.176838,
          -51.176838,
          -51.127197,
          -51.22699,
          -51.157398,
          -50.524544,
          -51.176838,
          -51.167439,
          -51.167439,
          -50.524544,
          -51.106873,
          -50.485053,
          -51.157398,
          -51.167439,
          -51.217403,
          -51.2264704,
          -51.127197,
          -51.236553,
          -51.117138,
          -51.088791,
          -50.41562,
          -51.117138,
          -51.1200805,
          -51.137264,
          -50.658577,
          -51.137264,
          -51.20779,
          -51.129705,
          -51.167439,
          -51.217403,
          -51.117138,
          -51.117138,
          -51.117138,
          -51.1798436,
          -51.197853,
          -51.167439,
          -51.197853,
          -50.524544,
          -51.176838,
          -51.106873,
          -51.204525,
          -51.217403,
          -51.204525,
          -51.217403,
          -51.127197,
          -51.204525,
          -51.167439,
          -50.410789,
          -51.137264,
          -51.197853,
          -51.176838,
          -51.25613,
          -51.137264,
          -51.117138,
          -51.275398,
          -50.514297,
          -51.16963327,
          -51.197853,
          -51.127197,
          -51.157398,
          -50.503971,
          -51.147331,
          -51.176838,
          -51.11841,
          -50.668839,
          -50.514297,
          -50.464596,
          -51.106873,
          -51.187725,
          -50.444893,
          -51.176838,
          -51.167439,
          -51.20451808,
          -51.20355248
         ],
         "marker": {
          "color": "hsl(216.0,50%,50%)",
          "size": 7.5
         },
         "mode": "markers",
         "showlegend": false,
         "text": "37",
         "type": "scattermapbox"
        },
        {
         "lat": [
          -25.59515989,
          -25.57289907,
          -25.56895101,
          -25.51726115,
          -25.51123792,
          -25.54908791,
          -25.5208544,
          -25.5477502,
          -25.56498129,
          -25.52522628,
          -25.58612344,
          -25.53317957,
          -25.50497945,
          -25.5591678,
          -25.56895101,
          -25.552601,
          -25.53317957,
          -25.53715243,
          -25.53715243,
          -25.503549,
          -25.52137536,
          -25.51327981,
          -25.48225385,
          -25.52124342,
          -25.56100984,
          -25.51122823,
          -25.51726115,
          -25.51327981,
          -25.59515989,
          -25.56100984,
          -25.59515989,
          -25.52920381,
          -25.51327981,
          -25.59515989,
          -25.51327981,
          -25.51327981,
          -25.53317957,
          -25.51327981,
          -25.51726115,
          -25.507594,
          -25.51327981,
          -25.51327981,
          -25.53317957,
          -25.568939,
          -25.52522628,
          -25.51726115,
          -25.53715243,
          -25.54112281,
          -25.58612344,
          -25.53715243,
          -25.568939,
          -25.51726115,
          -25.52920381,
          -25.51327981,
          -25.51327981,
          -25.51327981,
          -25.51327981,
          -25.49472764,
          -25.52920381,
          -25.54112281,
          -25.51347462,
          -25.516441,
          -25.490585,
          -25.50805224,
          -25.5530337,
          -25.51327981,
          -25.54112281,
          -25.51327981,
          -25.57488091,
          -25.52522628,
          -25.52522628,
          -25.52124342,
          -25.52124342,
          -25.54511074,
          -25.53715243,
          -25.52522628,
          -25.47061,
          -25.51211905,
          -25.53317957,
          -25.52920381,
          -25.54112281,
          -25.51350792,
          -25.52124342,
          -25.54112281,
          -25.53715243,
          -25.52522628,
          -25.51327981,
          -25.52522628,
          -25.51133565,
          -25.51316477,
          -25.495737,
          -25.51327981,
          -25.51726115,
          -25.53317957,
          -25.51726115,
          -25.50557335,
          -25.52124342,
          -25.487525,
          -25.50557335,
          -25.48195947,
          -25.49221504,
          -25.51327981,
          -25.5119791,
          -25.54511074,
          -25.52522628,
          -25.5106279,
          -25.5530337,
          -25.52124342,
          -25.50895485,
          -25.52522628,
          -25.51031805,
          -25.5919376,
          -25.54511074,
          -25.54112281,
          -25.48756118,
          -25.53317957,
          -25.51874184,
          -25.55978725,
          -25.53317957,
          -25.50166489,
          -25.53317957,
          -25.56100984,
          -25.5919376,
          -25.48729001,
          -25.4959672,
          -25.53317957,
          -25.51327981,
          -25.52191755,
          -25.525225,
          -25.53317957,
          -25.51327981,
          -25.48945936,
          -25.50421482,
          -25.53715243,
          -25.49687547,
          -25.52522628,
          -25.591842,
          -25.50176319,
          -25.5003,
          -25.52522628,
          -25.51726115,
          -25.48371342,
          -25.52124342,
          -25.54908791,
          -25.57289907,
          -25.525225,
          -25.51327981,
          -25.48967834
         ],
         "lon": [
          -48.90700787,
          -48.99037703,
          -48.99932401,
          -49.11540707,
          -49.12843466,
          -49.04398096,
          -49.1073499,
          -49.0465182,
          -49.00825813,
          -49.09755612,
          -48.95485311,
          -49.07969781,
          -49.14668441,
          -49.02168274,
          -48.99932401,
          -49.036456,
          -49.07969781,
          -49.07076619,
          -49.07076619,
          -49.146121,
          -49.10785675,
          -49.12433291,
          -49.19403076,
          -49.10648119,
          -49.01719293,
          -49.12888527,
          -49.11540707,
          -49.12433291,
          -48.90700787,
          -49.01719293,
          -48.90700787,
          -49.08862791,
          -49.12433291,
          -48.90700787,
          -49.12433291,
          -49.12433291,
          -49.07969781,
          -49.12433291,
          -49.11540707,
          -49.136625,
          -49.12433291,
          -49.12433291,
          -49.07969781,
          -49.181978,
          -49.09755612,
          -49.11540707,
          -49.07076619,
          -49.06183391,
          -48.95485311,
          -49.07076619,
          -49.181978,
          -49.11540707,
          -49.08862791,
          -49.12433291,
          -49.12433291,
          -49.12433291,
          -49.12433291,
          -49.16519165,
          -49.08862791,
          -49.06183391,
          -49.12399292,
          -49.11703,
          -49.174795,
          -49.13772583,
          -49.03504085,
          -49.12433291,
          -49.06183391,
          -49.12433291,
          -48.980886,
          -49.09755612,
          -49.09755612,
          -49.10648119,
          -49.10648119,
          -49.05291088,
          -49.07076619,
          -49.09755612,
          -49.212362,
          -49.12523746,
          -49.07969781,
          -49.08862791,
          -49.06183391,
          -49.12344106,
          -49.10648119,
          -49.06183391,
          -49.07076619,
          -49.09755612,
          -49.12433291,
          -49.09755612,
          -49.125502,
          -49.12442207,
          -49.168208,
          -49.12433291,
          -49.11540707,
          -49.07969781,
          -49.11540707,
          -49.14390564,
          -49.10648119,
          -49.182141,
          -49.14390564,
          -49.1944991,
          -49.17148411,
          -49.12433291,
          -49.12706489,
          -49.05291088,
          -49.09755612,
          -49.12982941,
          -49.03504085,
          -49.10648119,
          -49.1335916,
          -49.09755612,
          -49.13117051,
          -48.91592194,
          -49.05291088,
          -49.06183391,
          -49.18175697,
          -49.07969781,
          -49.11189079,
          -49.01790619,
          -49.07969781,
          -49.15004253,
          -49.07969781,
          -49.01719293,
          -48.91592194,
          -49.18321609,
          -49.16278839,
          -49.07969781,
          -49.12433291,
          -49.10416603,
          -49.097244,
          -49.07969781,
          -49.12433291,
          -49.17789459,
          -49.14470142,
          -49.07076619,
          -49.16064262,
          -49.09755612,
          -48.92584,
          -49.14919424,
          -49.153382,
          -49.09755612,
          -49.11540707,
          -49.19037759,
          -49.10648119,
          -49.04398096,
          -48.99037703,
          -49.097244,
          -49.12433291,
          -49.17722095
         ],
         "marker": {
          "color": "hsl(288.0,50%,50%)",
          "size": 7.5
         },
         "mode": "markers",
         "showlegend": false,
         "text": "0",
         "type": "scattermapbox"
        },
        {
         "lat": [
          -29.723881,
          -29.8754149,
          -29.69621105,
          -29.69184792,
          -29.86832721,
          -29.8754149,
          -29.724619,
          -29.75,
          -29.8754149,
          -29.8263459,
          -29.8754149,
          -29.81058704,
          -29.819419,
          -29.8263459,
          -29.721962,
          -29.87781,
          -29.879417,
          -29.885011,
          -29.70445551,
          -29.69621105,
          -29.72504,
          -29.76213,
          -29.860072,
          -29.759604,
          -29.83475603,
          -29.84322488,
          -29.748863,
          -29.676002,
          -29.88149021,
          -29.793781,
          -29.89157883,
          -29.7653103,
          -29.686133,
          -29.66374619,
          -29.78050987,
          -29.84322488,
          -29.78748091,
          -29.883221,
          -29.78748091,
          -29.829181,
          -29.88149021,
          -29.66374619,
          -29.70091773,
          -29.759604,
          -29.764879,
          -29.784359,
          -29.69184792,
          -29.84322488,
          -29.85169301,
          -29.890028,
          -29.759604,
          -29.79575708,
          -29.81058704,
          -29.759604,
          -29.750034,
          -29.76314247,
          -29.69621105,
          -29.78050987,
          -29.66374619,
          -29.8263459
         ],
         "lon": [
          -50.197732,
          -50.25734711,
          -50.16781159,
          -50.15876509,
          -50.2517237,
          -50.25734711,
          -50.198845,
          -50.2122,
          -50.25734711,
          -50.2482636,
          -50.25734711,
          -50.24122892,
          -50.245871,
          -50.2482636,
          -50.198347,
          -50.259799,
          -50.260942,
          -50.270759,
          -50.19584656,
          -50.16781159,
          -50.199377,
          -50.169421,
          -50.24883801,
          -50.21723,
          -50.24628662,
          -50.24558869,
          -50.212245,
          -50.142523,
          -50.26433789,
          -50.230806,
          -50.28118556,
          -50.21740458,
          -50.150704,
          -50.13510373,
          -50.22493416,
          -50.24558869,
          -50.23072015,
          -50.26708,
          -50.23072015,
          -50.247632,
          -50.26433789,
          -50.13510373,
          -50.17594859,
          -50.21723,
          -50.169738,
          -50.228235,
          -50.15876509,
          -50.24558869,
          -50.24642896,
          -50.278638,
          -50.21723,
          -50.23116587,
          -50.24122892,
          -50.21723,
          -50.21252,
          -50.21814477,
          -50.16781159,
          -50.22493416,
          -50.13510373,
          -50.2482636
         ],
         "marker": {
          "color": "hsl(360.0,50%,50%)",
          "size": 7.5
         },
         "mode": "markers",
         "showlegend": false,
         "text": "18",
         "type": "scattermapbox"
        }
       ],
       "layout": {
        "mapbox": {
         "center": {
          "lat": -28,
          "lon": -52
         },
         "style": "open-street-map",
         "zoom": 4.5
        },
        "margin": {
         "b": 0,
         "l": 0,
         "r": 0,
         "t": 0
        },
        "template": {
         "data": {
          "bar": [
           {
            "error_x": {
             "color": "#2a3f5f"
            },
            "error_y": {
             "color": "#2a3f5f"
            },
            "marker": {
             "line": {
              "color": "#E5ECF6",
              "width": 0.5
             },
             "pattern": {
              "fillmode": "overlay",
              "size": 10,
              "solidity": 0.2
             }
            },
            "type": "bar"
           }
          ],
          "barpolar": [
           {
            "marker": {
             "line": {
              "color": "#E5ECF6",
              "width": 0.5
             },
             "pattern": {
              "fillmode": "overlay",
              "size": 10,
              "solidity": 0.2
             }
            },
            "type": "barpolar"
           }
          ],
          "carpet": [
           {
            "aaxis": {
             "endlinecolor": "#2a3f5f",
             "gridcolor": "white",
             "linecolor": "white",
             "minorgridcolor": "white",
             "startlinecolor": "#2a3f5f"
            },
            "baxis": {
             "endlinecolor": "#2a3f5f",
             "gridcolor": "white",
             "linecolor": "white",
             "minorgridcolor": "white",
             "startlinecolor": "#2a3f5f"
            },
            "type": "carpet"
           }
          ],
          "choropleth": [
           {
            "colorbar": {
             "outlinewidth": 0,
             "ticks": ""
            },
            "type": "choropleth"
           }
          ],
          "contour": [
           {
            "colorbar": {
             "outlinewidth": 0,
             "ticks": ""
            },
            "colorscale": [
             [
              0,
              "#0d0887"
             ],
             [
              0.1111111111111111,
              "#46039f"
             ],
             [
              0.2222222222222222,
              "#7201a8"
             ],
             [
              0.3333333333333333,
              "#9c179e"
             ],
             [
              0.4444444444444444,
              "#bd3786"
             ],
             [
              0.5555555555555556,
              "#d8576b"
             ],
             [
              0.6666666666666666,
              "#ed7953"
             ],
             [
              0.7777777777777778,
              "#fb9f3a"
             ],
             [
              0.8888888888888888,
              "#fdca26"
             ],
             [
              1,
              "#f0f921"
             ]
            ],
            "type": "contour"
           }
          ],
          "contourcarpet": [
           {
            "colorbar": {
             "outlinewidth": 0,
             "ticks": ""
            },
            "type": "contourcarpet"
           }
          ],
          "heatmap": [
           {
            "colorbar": {
             "outlinewidth": 0,
             "ticks": ""
            },
            "colorscale": [
             [
              0,
              "#0d0887"
             ],
             [
              0.1111111111111111,
              "#46039f"
             ],
             [
              0.2222222222222222,
              "#7201a8"
             ],
             [
              0.3333333333333333,
              "#9c179e"
             ],
             [
              0.4444444444444444,
              "#bd3786"
             ],
             [
              0.5555555555555556,
              "#d8576b"
             ],
             [
              0.6666666666666666,
              "#ed7953"
             ],
             [
              0.7777777777777778,
              "#fb9f3a"
             ],
             [
              0.8888888888888888,
              "#fdca26"
             ],
             [
              1,
              "#f0f921"
             ]
            ],
            "type": "heatmap"
           }
          ],
          "heatmapgl": [
           {
            "colorbar": {
             "outlinewidth": 0,
             "ticks": ""
            },
            "colorscale": [
             [
              0,
              "#0d0887"
             ],
             [
              0.1111111111111111,
              "#46039f"
             ],
             [
              0.2222222222222222,
              "#7201a8"
             ],
             [
              0.3333333333333333,
              "#9c179e"
             ],
             [
              0.4444444444444444,
              "#bd3786"
             ],
             [
              0.5555555555555556,
              "#d8576b"
             ],
             [
              0.6666666666666666,
              "#ed7953"
             ],
             [
              0.7777777777777778,
              "#fb9f3a"
             ],
             [
              0.8888888888888888,
              "#fdca26"
             ],
             [
              1,
              "#f0f921"
             ]
            ],
            "type": "heatmapgl"
           }
          ],
          "histogram": [
           {
            "marker": {
             "pattern": {
              "fillmode": "overlay",
              "size": 10,
              "solidity": 0.2
             }
            },
            "type": "histogram"
           }
          ],
          "histogram2d": [
           {
            "colorbar": {
             "outlinewidth": 0,
             "ticks": ""
            },
            "colorscale": [
             [
              0,
              "#0d0887"
             ],
             [
              0.1111111111111111,
              "#46039f"
             ],
             [
              0.2222222222222222,
              "#7201a8"
             ],
             [
              0.3333333333333333,
              "#9c179e"
             ],
             [
              0.4444444444444444,
              "#bd3786"
             ],
             [
              0.5555555555555556,
              "#d8576b"
             ],
             [
              0.6666666666666666,
              "#ed7953"
             ],
             [
              0.7777777777777778,
              "#fb9f3a"
             ],
             [
              0.8888888888888888,
              "#fdca26"
             ],
             [
              1,
              "#f0f921"
             ]
            ],
            "type": "histogram2d"
           }
          ],
          "histogram2dcontour": [
           {
            "colorbar": {
             "outlinewidth": 0,
             "ticks": ""
            },
            "colorscale": [
             [
              0,
              "#0d0887"
             ],
             [
              0.1111111111111111,
              "#46039f"
             ],
             [
              0.2222222222222222,
              "#7201a8"
             ],
             [
              0.3333333333333333,
              "#9c179e"
             ],
             [
              0.4444444444444444,
              "#bd3786"
             ],
             [
              0.5555555555555556,
              "#d8576b"
             ],
             [
              0.6666666666666666,
              "#ed7953"
             ],
             [
              0.7777777777777778,
              "#fb9f3a"
             ],
             [
              0.8888888888888888,
              "#fdca26"
             ],
             [
              1,
              "#f0f921"
             ]
            ],
            "type": "histogram2dcontour"
           }
          ],
          "mesh3d": [
           {
            "colorbar": {
             "outlinewidth": 0,
             "ticks": ""
            },
            "type": "mesh3d"
           }
          ],
          "parcoords": [
           {
            "line": {
             "colorbar": {
              "outlinewidth": 0,
              "ticks": ""
             }
            },
            "type": "parcoords"
           }
          ],
          "pie": [
           {
            "automargin": true,
            "type": "pie"
           }
          ],
          "scatter": [
           {
            "fillpattern": {
             "fillmode": "overlay",
             "size": 10,
             "solidity": 0.2
            },
            "type": "scatter"
           }
          ],
          "scatter3d": [
           {
            "line": {
             "colorbar": {
              "outlinewidth": 0,
              "ticks": ""
             }
            },
            "marker": {
             "colorbar": {
              "outlinewidth": 0,
              "ticks": ""
             }
            },
            "type": "scatter3d"
           }
          ],
          "scattercarpet": [
           {
            "marker": {
             "colorbar": {
              "outlinewidth": 0,
              "ticks": ""
             }
            },
            "type": "scattercarpet"
           }
          ],
          "scattergeo": [
           {
            "marker": {
             "colorbar": {
              "outlinewidth": 0,
              "ticks": ""
             }
            },
            "type": "scattergeo"
           }
          ],
          "scattergl": [
           {
            "marker": {
             "colorbar": {
              "outlinewidth": 0,
              "ticks": ""
             }
            },
            "type": "scattergl"
           }
          ],
          "scattermapbox": [
           {
            "marker": {
             "colorbar": {
              "outlinewidth": 0,
              "ticks": ""
             }
            },
            "type": "scattermapbox"
           }
          ],
          "scatterpolar": [
           {
            "marker": {
             "colorbar": {
              "outlinewidth": 0,
              "ticks": ""
             }
            },
            "type": "scatterpolar"
           }
          ],
          "scatterpolargl": [
           {
            "marker": {
             "colorbar": {
              "outlinewidth": 0,
              "ticks": ""
             }
            },
            "type": "scatterpolargl"
           }
          ],
          "scatterternary": [
           {
            "marker": {
             "colorbar": {
              "outlinewidth": 0,
              "ticks": ""
             }
            },
            "type": "scatterternary"
           }
          ],
          "surface": [
           {
            "colorbar": {
             "outlinewidth": 0,
             "ticks": ""
            },
            "colorscale": [
             [
              0,
              "#0d0887"
             ],
             [
              0.1111111111111111,
              "#46039f"
             ],
             [
              0.2222222222222222,
              "#7201a8"
             ],
             [
              0.3333333333333333,
              "#9c179e"
             ],
             [
              0.4444444444444444,
              "#bd3786"
             ],
             [
              0.5555555555555556,
              "#d8576b"
             ],
             [
              0.6666666666666666,
              "#ed7953"
             ],
             [
              0.7777777777777778,
              "#fb9f3a"
             ],
             [
              0.8888888888888888,
              "#fdca26"
             ],
             [
              1,
              "#f0f921"
             ]
            ],
            "type": "surface"
           }
          ],
          "table": [
           {
            "cells": {
             "fill": {
              "color": "#EBF0F8"
             },
             "line": {
              "color": "white"
             }
            },
            "header": {
             "fill": {
              "color": "#C8D4E3"
             },
             "line": {
              "color": "white"
             }
            },
            "type": "table"
           }
          ]
         },
         "layout": {
          "annotationdefaults": {
           "arrowcolor": "#2a3f5f",
           "arrowhead": 0,
           "arrowwidth": 1
          },
          "autotypenumbers": "strict",
          "coloraxis": {
           "colorbar": {
            "outlinewidth": 0,
            "ticks": ""
           }
          },
          "colorscale": {
           "diverging": [
            [
             0,
             "#8e0152"
            ],
            [
             0.1,
             "#c51b7d"
            ],
            [
             0.2,
             "#de77ae"
            ],
            [
             0.3,
             "#f1b6da"
            ],
            [
             0.4,
             "#fde0ef"
            ],
            [
             0.5,
             "#f7f7f7"
            ],
            [
             0.6,
             "#e6f5d0"
            ],
            [
             0.7,
             "#b8e186"
            ],
            [
             0.8,
             "#7fbc41"
            ],
            [
             0.9,
             "#4d9221"
            ],
            [
             1,
             "#276419"
            ]
           ],
           "sequential": [
            [
             0,
             "#0d0887"
            ],
            [
             0.1111111111111111,
             "#46039f"
            ],
            [
             0.2222222222222222,
             "#7201a8"
            ],
            [
             0.3333333333333333,
             "#9c179e"
            ],
            [
             0.4444444444444444,
             "#bd3786"
            ],
            [
             0.5555555555555556,
             "#d8576b"
            ],
            [
             0.6666666666666666,
             "#ed7953"
            ],
            [
             0.7777777777777778,
             "#fb9f3a"
            ],
            [
             0.8888888888888888,
             "#fdca26"
            ],
            [
             1,
             "#f0f921"
            ]
           ],
           "sequentialminus": [
            [
             0,
             "#0d0887"
            ],
            [
             0.1111111111111111,
             "#46039f"
            ],
            [
             0.2222222222222222,
             "#7201a8"
            ],
            [
             0.3333333333333333,
             "#9c179e"
            ],
            [
             0.4444444444444444,
             "#bd3786"
            ],
            [
             0.5555555555555556,
             "#d8576b"
            ],
            [
             0.6666666666666666,
             "#ed7953"
            ],
            [
             0.7777777777777778,
             "#fb9f3a"
            ],
            [
             0.8888888888888888,
             "#fdca26"
            ],
            [
             1,
             "#f0f921"
            ]
           ]
          },
          "colorway": [
           "#636efa",
           "#EF553B",
           "#00cc96",
           "#ab63fa",
           "#FFA15A",
           "#19d3f3",
           "#FF6692",
           "#B6E880",
           "#FF97FF",
           "#FECB52"
          ],
          "font": {
           "color": "#2a3f5f"
          },
          "geo": {
           "bgcolor": "white",
           "lakecolor": "white",
           "landcolor": "#E5ECF6",
           "showlakes": true,
           "showland": true,
           "subunitcolor": "white"
          },
          "hoverlabel": {
           "align": "left"
          },
          "hovermode": "closest",
          "mapbox": {
           "style": "light"
          },
          "paper_bgcolor": "white",
          "plot_bgcolor": "#E5ECF6",
          "polar": {
           "angularaxis": {
            "gridcolor": "white",
            "linecolor": "white",
            "ticks": ""
           },
           "bgcolor": "#E5ECF6",
           "radialaxis": {
            "gridcolor": "white",
            "linecolor": "white",
            "ticks": ""
           }
          },
          "scene": {
           "xaxis": {
            "backgroundcolor": "#E5ECF6",
            "gridcolor": "white",
            "gridwidth": 2,
            "linecolor": "white",
            "showbackground": true,
            "ticks": "",
            "zerolinecolor": "white"
           },
           "yaxis": {
            "backgroundcolor": "#E5ECF6",
            "gridcolor": "white",
            "gridwidth": 2,
            "linecolor": "white",
            "showbackground": true,
            "ticks": "",
            "zerolinecolor": "white"
           },
           "zaxis": {
            "backgroundcolor": "#E5ECF6",
            "gridcolor": "white",
            "gridwidth": 2,
            "linecolor": "white",
            "showbackground": true,
            "ticks": "",
            "zerolinecolor": "white"
           }
          },
          "shapedefaults": {
           "line": {
            "color": "#2a3f5f"
           }
          },
          "ternary": {
           "aaxis": {
            "gridcolor": "white",
            "linecolor": "white",
            "ticks": ""
           },
           "baxis": {
            "gridcolor": "white",
            "linecolor": "white",
            "ticks": ""
           },
           "bgcolor": "#E5ECF6",
           "caxis": {
            "gridcolor": "white",
            "linecolor": "white",
            "ticks": ""
           }
          },
          "title": {
           "x": 0.05
          },
          "xaxis": {
           "automargin": true,
           "gridcolor": "white",
           "linecolor": "white",
           "ticks": "",
           "title": {
            "standoff": 15
           },
           "zerolinecolor": "white",
           "zerolinewidth": 2
          },
          "yaxis": {
           "automargin": true,
           "gridcolor": "white",
           "linecolor": "white",
           "ticks": "",
           "title": {
            "standoff": 15
           },
           "zerolinecolor": "white",
           "zerolinewidth": 2
          }
         }
        }
       }
      }
     },
     "metadata": {},
     "output_type": "display_data"
    }
   ],
   "source": [
    "# Plotting clusters on a map\n",
    "# --------------------------------------------------------------------------------------\n",
    "\n",
    "import plotly.graph_objects as go\n",
    "\n",
    "cluster_labels = top6\n",
    "num_clusters = len(cluster_labels)\n",
    "\n",
    "labels = df.cluster\n",
    "color_scale = [\"hsl(\" + str(h) + \",50%\" + \",50%)\" for h in np.linspace(0, 360, num_clusters)]\n",
    "fig = go.Figure()\n",
    "\n",
    "for cluster_label, color in zip(cluster_labels, color_scale):\n",
    "    # Skip noise\n",
    "    if cluster_label == -1:\n",
    "        continue\n",
    "\n",
    "    cluster_mask = labels == cluster_label\n",
    "    cluster_data = df[cluster_mask]\n",
    "\n",
    "    scatter = go.Scattermapbox(\n",
    "        lat=cluster_data.latitude,\n",
    "        lon=cluster_data.longitude,\n",
    "        mode=\"markers\",\n",
    "        marker=dict(size=7.5, color=color),\n",
    "        # text=f\"({cluster_label}) {cluster_data.causa_acidente}\",\n",
    "        text=f\"{cluster_label}\",\n",
    "        showlegend=False,\n",
    "    )\n",
    "\n",
    "    fig.add_trace(scatter)\n",
    "\n",
    "fig.update_layout(\n",
    "    mapbox_style=\"open-street-map\",\n",
    "    mapbox=dict(center=dict(lat=-28, lon=-52), zoom=4.5),\n",
    "    margin={\"l\": 0, \"r\": 0, \"t\": 0, \"b\": 0},\n",
    ")\n",
    "\n",
    "fig.show()"
   ]
  },
  {
   "cell_type": "code",
   "execution_count": 166,
   "metadata": {},
   "outputs": [
    {
     "data": {
      "application/vnd.plotly.v1+json": {
       "config": {
        "plotlyServerURL": "https://plot.ly"
       },
       "data": [
        {
         "colorscale": [
          [
           0,
           "#440154"
          ],
          [
           0.1111111111111111,
           "#482878"
          ],
          [
           0.2222222222222222,
           "#3e4989"
          ],
          [
           0.3333333333333333,
           "#31688e"
          ],
          [
           0.4444444444444444,
           "#26828e"
          ],
          [
           0.5555555555555556,
           "#1f9e89"
          ],
          [
           0.6666666666666666,
           "#35b779"
          ],
          [
           0.7777777777777778,
           "#6ece58"
          ],
          [
           0.8888888888888888,
           "#b5de2b"
          ],
          [
           1,
           "#fde725"
          ]
         ],
         "text": [
          [
           3,
           1,
           1,
           0,
           1,
           0,
           0
          ],
          [
           1,
           5,
           2,
           0,
           0,
           0,
           0
          ],
          [
           4,
           22,
           2,
           1,
           14,
           0,
           1
          ],
          [
           4,
           45,
           1,
           0,
           10,
           7,
           0
          ]
         ],
         "type": "heatmap",
         "x": [
          "Chuva",
          "Céu Claro",
          "Garoa/Chuvisco",
          "Nevoeiro/Neblina",
          "Nublado",
          "Sol",
          "Vento"
         ],
         "xaxis": "x",
         "y": [
          "Amanhecer",
          "Anoitecer",
          "Plena Noite",
          "Pleno dia"
         ],
         "yaxis": "y",
         "z": [
          [
           3,
           1,
           1,
           0,
           1,
           0,
           0
          ],
          [
           1,
           5,
           2,
           0,
           0,
           0,
           0
          ],
          [
           4,
           22,
           2,
           1,
           14,
           0,
           1
          ],
          [
           4,
           45,
           1,
           0,
           10,
           7,
           0
          ]
         ]
        },
        {
         "colorscale": [
          [
           0,
           "#440154"
          ],
          [
           0.1111111111111111,
           "#482878"
          ],
          [
           0.2222222222222222,
           "#3e4989"
          ],
          [
           0.3333333333333333,
           "#31688e"
          ],
          [
           0.4444444444444444,
           "#26828e"
          ],
          [
           0.5555555555555556,
           "#1f9e89"
          ],
          [
           0.6666666666666666,
           "#35b779"
          ],
          [
           0.7777777777777778,
           "#6ece58"
          ],
          [
           0.8888888888888888,
           "#b5de2b"
          ],
          [
           1,
           "#fde725"
          ]
         ],
         "text": [
          [
           0,
           3,
           0,
           0
          ],
          [
           1,
           2,
           0,
           0
          ],
          [
           0,
           15,
           2,
           0
          ],
          [
           5,
           19,
           2,
           4
          ]
         ],
         "type": "heatmap",
         "x": [
          "Chuva",
          "Céu Claro",
          "Nublado",
          "Sol"
         ],
         "xaxis": "x2",
         "y": [
          "Amanhecer",
          "Anoitecer",
          "Plena Noite",
          "Pleno dia"
         ],
         "yaxis": "y2",
         "z": [
          [
           0,
           3,
           0,
           0
          ],
          [
           1,
           2,
           0,
           0
          ],
          [
           0,
           15,
           2,
           0
          ],
          [
           5,
           19,
           2,
           4
          ]
         ]
        },
        {
         "colorscale": [
          [
           0,
           "#440154"
          ],
          [
           0.1111111111111111,
           "#482878"
          ],
          [
           0.2222222222222222,
           "#3e4989"
          ],
          [
           0.3333333333333333,
           "#31688e"
          ],
          [
           0.4444444444444444,
           "#26828e"
          ],
          [
           0.5555555555555556,
           "#1f9e89"
          ],
          [
           0.6666666666666666,
           "#35b779"
          ],
          [
           0.7777777777777778,
           "#6ece58"
          ],
          [
           0.8888888888888888,
           "#b5de2b"
          ],
          [
           1,
           "#fde725"
          ]
         ],
         "text": [
          [
           1,
           1,
           1,
           0,
           3,
           0,
           0
          ],
          [
           1,
           0,
           2,
           0,
           0,
           0,
           0
          ],
          [
           8,
           11,
           9,
           0,
           5,
           0,
           2
          ],
          [
           9,
           27,
           12,
           1,
           21,
           4,
           0
          ]
         ],
         "type": "heatmap",
         "x": [
          "Chuva",
          "Céu Claro",
          "Garoa/Chuvisco",
          "Nevoeiro/Neblina",
          "Nublado",
          "Sol",
          "Vento"
         ],
         "xaxis": "x3",
         "y": [
          "Amanhecer",
          "Anoitecer",
          "Plena Noite",
          "Pleno dia"
         ],
         "yaxis": "y3",
         "z": [
          [
           1,
           1,
           1,
           0,
           3,
           0,
           0
          ],
          [
           1,
           0,
           2,
           0,
           0,
           0,
           0
          ],
          [
           8,
           11,
           9,
           0,
           5,
           0,
           2
          ],
          [
           9,
           27,
           12,
           1,
           21,
           4,
           0
          ]
         ]
        },
        {
         "colorscale": [
          [
           0,
           "#440154"
          ],
          [
           0.1111111111111111,
           "#482878"
          ],
          [
           0.2222222222222222,
           "#3e4989"
          ],
          [
           0.3333333333333333,
           "#31688e"
          ],
          [
           0.4444444444444444,
           "#26828e"
          ],
          [
           0.5555555555555556,
           "#1f9e89"
          ],
          [
           0.6666666666666666,
           "#35b779"
          ],
          [
           0.7777777777777778,
           "#6ece58"
          ],
          [
           0.8888888888888888,
           "#b5de2b"
          ],
          [
           1,
           "#fde725"
          ]
         ],
         "text": [
          [
           0,
           7,
           1,
           0,
           0,
           1,
           0
          ],
          [
           1,
           6,
           0,
           0,
           0,
           1,
           1
          ],
          [
           10,
           44,
           1,
           4,
           1,
           9,
           0
          ],
          [
           8,
           81,
           2,
           0,
           0,
           18,
           12
          ]
         ],
         "type": "heatmap",
         "x": [
          "Chuva",
          "Céu Claro",
          "Garoa/Chuvisco",
          "Ignorado",
          "Nevoeiro/Neblina",
          "Nublado",
          "Sol"
         ],
         "xaxis": "x4",
         "y": [
          "Amanhecer",
          "Anoitecer",
          "Plena Noite",
          "Pleno dia"
         ],
         "yaxis": "y4",
         "z": [
          [
           0,
           7,
           1,
           0,
           0,
           1,
           0
          ],
          [
           1,
           6,
           0,
           0,
           0,
           1,
           1
          ],
          [
           10,
           44,
           1,
           4,
           1,
           9,
           0
          ],
          [
           8,
           81,
           2,
           0,
           0,
           18,
           12
          ]
         ]
        },
        {
         "colorscale": [
          [
           0,
           "#440154"
          ],
          [
           0.1111111111111111,
           "#482878"
          ],
          [
           0.2222222222222222,
           "#3e4989"
          ],
          [
           0.3333333333333333,
           "#31688e"
          ],
          [
           0.4444444444444444,
           "#26828e"
          ],
          [
           0.5555555555555556,
           "#1f9e89"
          ],
          [
           0.6666666666666666,
           "#35b779"
          ],
          [
           0.7777777777777778,
           "#6ece58"
          ],
          [
           0.8888888888888888,
           "#b5de2b"
          ],
          [
           1,
           "#fde725"
          ]
         ],
         "text": [
          [
           1,
           4,
           0,
           0,
           1,
           1,
           0
          ],
          [
           1,
           5,
           2,
           0,
           0,
           0,
           0
          ],
          [
           5,
           27,
           11,
           0,
           2,
           16,
           0
          ],
          [
           3,
           29,
           4,
           1,
           1,
           25,
           9
          ]
         ],
         "type": "heatmap",
         "x": [
          "Chuva",
          "Céu Claro",
          "Garoa/Chuvisco",
          "Granizo",
          "Nevoeiro/Neblina",
          "Nublado",
          "Sol"
         ],
         "xaxis": "x5",
         "y": [
          "Amanhecer",
          "Anoitecer",
          "Plena Noite",
          "Pleno dia"
         ],
         "yaxis": "y5",
         "z": [
          [
           1,
           4,
           0,
           0,
           1,
           1,
           0
          ],
          [
           1,
           5,
           2,
           0,
           0,
           0,
           0
          ],
          [
           5,
           27,
           11,
           0,
           2,
           16,
           0
          ],
          [
           3,
           29,
           4,
           1,
           1,
           25,
           9
          ]
         ]
        },
        {
         "colorscale": [
          [
           0,
           "#440154"
          ],
          [
           0.1111111111111111,
           "#482878"
          ],
          [
           0.2222222222222222,
           "#3e4989"
          ],
          [
           0.3333333333333333,
           "#31688e"
          ],
          [
           0.4444444444444444,
           "#26828e"
          ],
          [
           0.5555555555555556,
           "#1f9e89"
          ],
          [
           0.6666666666666666,
           "#35b779"
          ],
          [
           0.7777777777777778,
           "#6ece58"
          ],
          [
           0.8888888888888888,
           "#b5de2b"
          ],
          [
           1,
           "#fde725"
          ]
         ],
         "text": [
          [
           0,
           3,
           0,
           2,
           0
          ],
          [
           1,
           0,
           0,
           2,
           0
          ],
          [
           2,
           11,
           0,
           5,
           0
          ],
          [
           3,
           18,
           1,
           6,
           6
          ]
         ],
         "type": "heatmap",
         "x": [
          "Chuva",
          "Céu Claro",
          "Garoa/Chuvisco",
          "Nublado",
          "Sol"
         ],
         "xaxis": "x6",
         "y": [
          "Amanhecer",
          "Anoitecer",
          "Plena Noite",
          "Pleno dia"
         ],
         "yaxis": "y6",
         "z": [
          [
           0,
           3,
           0,
           2,
           0
          ],
          [
           1,
           0,
           0,
           2,
           0
          ],
          [
           2,
           11,
           0,
           5,
           0
          ],
          [
           3,
           18,
           1,
           6,
           6
          ]
         ]
        }
       ],
       "layout": {
        "annotations": [
         {
          "font": {
           "size": 16
          },
          "showarrow": false,
          "text": "Cluster 15",
          "x": 0.14444444444444446,
          "xanchor": "center",
          "xref": "paper",
          "y": 1,
          "yanchor": "bottom",
          "yref": "paper"
         },
         {
          "font": {
           "size": 16
          },
          "showarrow": false,
          "text": "Cluster 7",
          "x": 0.5,
          "xanchor": "center",
          "xref": "paper",
          "y": 1,
          "yanchor": "bottom",
          "yref": "paper"
         },
         {
          "font": {
           "size": 16
          },
          "showarrow": false,
          "text": "Cluster 12",
          "x": 0.8555555555555556,
          "xanchor": "center",
          "xref": "paper",
          "y": 1,
          "yanchor": "bottom",
          "yref": "paper"
         },
         {
          "font": {
           "size": 16
          },
          "showarrow": false,
          "text": "Cluster 37",
          "x": 0.14444444444444446,
          "xanchor": "center",
          "xref": "paper",
          "y": 0.325,
          "yanchor": "bottom",
          "yref": "paper"
         },
         {
          "font": {
           "size": 16
          },
          "showarrow": false,
          "text": "Cluster 0",
          "x": 0.5,
          "xanchor": "center",
          "xref": "paper",
          "y": 0.325,
          "yanchor": "bottom",
          "yref": "paper"
         },
         {
          "font": {
           "size": 16
          },
          "showarrow": false,
          "text": "Cluster 18",
          "x": 0.8555555555555556,
          "xanchor": "center",
          "xref": "paper",
          "y": 0.325,
          "yanchor": "bottom",
          "yref": "paper"
         }
        ],
        "showlegend": false,
        "template": {
         "data": {
          "bar": [
           {
            "error_x": {
             "color": "#2a3f5f"
            },
            "error_y": {
             "color": "#2a3f5f"
            },
            "marker": {
             "line": {
              "color": "#E5ECF6",
              "width": 0.5
             },
             "pattern": {
              "fillmode": "overlay",
              "size": 10,
              "solidity": 0.2
             }
            },
            "type": "bar"
           }
          ],
          "barpolar": [
           {
            "marker": {
             "line": {
              "color": "#E5ECF6",
              "width": 0.5
             },
             "pattern": {
              "fillmode": "overlay",
              "size": 10,
              "solidity": 0.2
             }
            },
            "type": "barpolar"
           }
          ],
          "carpet": [
           {
            "aaxis": {
             "endlinecolor": "#2a3f5f",
             "gridcolor": "white",
             "linecolor": "white",
             "minorgridcolor": "white",
             "startlinecolor": "#2a3f5f"
            },
            "baxis": {
             "endlinecolor": "#2a3f5f",
             "gridcolor": "white",
             "linecolor": "white",
             "minorgridcolor": "white",
             "startlinecolor": "#2a3f5f"
            },
            "type": "carpet"
           }
          ],
          "choropleth": [
           {
            "colorbar": {
             "outlinewidth": 0,
             "ticks": ""
            },
            "type": "choropleth"
           }
          ],
          "contour": [
           {
            "colorbar": {
             "outlinewidth": 0,
             "ticks": ""
            },
            "colorscale": [
             [
              0,
              "#0d0887"
             ],
             [
              0.1111111111111111,
              "#46039f"
             ],
             [
              0.2222222222222222,
              "#7201a8"
             ],
             [
              0.3333333333333333,
              "#9c179e"
             ],
             [
              0.4444444444444444,
              "#bd3786"
             ],
             [
              0.5555555555555556,
              "#d8576b"
             ],
             [
              0.6666666666666666,
              "#ed7953"
             ],
             [
              0.7777777777777778,
              "#fb9f3a"
             ],
             [
              0.8888888888888888,
              "#fdca26"
             ],
             [
              1,
              "#f0f921"
             ]
            ],
            "type": "contour"
           }
          ],
          "contourcarpet": [
           {
            "colorbar": {
             "outlinewidth": 0,
             "ticks": ""
            },
            "type": "contourcarpet"
           }
          ],
          "heatmap": [
           {
            "colorbar": {
             "outlinewidth": 0,
             "ticks": ""
            },
            "colorscale": [
             [
              0,
              "#0d0887"
             ],
             [
              0.1111111111111111,
              "#46039f"
             ],
             [
              0.2222222222222222,
              "#7201a8"
             ],
             [
              0.3333333333333333,
              "#9c179e"
             ],
             [
              0.4444444444444444,
              "#bd3786"
             ],
             [
              0.5555555555555556,
              "#d8576b"
             ],
             [
              0.6666666666666666,
              "#ed7953"
             ],
             [
              0.7777777777777778,
              "#fb9f3a"
             ],
             [
              0.8888888888888888,
              "#fdca26"
             ],
             [
              1,
              "#f0f921"
             ]
            ],
            "type": "heatmap"
           }
          ],
          "heatmapgl": [
           {
            "colorbar": {
             "outlinewidth": 0,
             "ticks": ""
            },
            "colorscale": [
             [
              0,
              "#0d0887"
             ],
             [
              0.1111111111111111,
              "#46039f"
             ],
             [
              0.2222222222222222,
              "#7201a8"
             ],
             [
              0.3333333333333333,
              "#9c179e"
             ],
             [
              0.4444444444444444,
              "#bd3786"
             ],
             [
              0.5555555555555556,
              "#d8576b"
             ],
             [
              0.6666666666666666,
              "#ed7953"
             ],
             [
              0.7777777777777778,
              "#fb9f3a"
             ],
             [
              0.8888888888888888,
              "#fdca26"
             ],
             [
              1,
              "#f0f921"
             ]
            ],
            "type": "heatmapgl"
           }
          ],
          "histogram": [
           {
            "marker": {
             "pattern": {
              "fillmode": "overlay",
              "size": 10,
              "solidity": 0.2
             }
            },
            "type": "histogram"
           }
          ],
          "histogram2d": [
           {
            "colorbar": {
             "outlinewidth": 0,
             "ticks": ""
            },
            "colorscale": [
             [
              0,
              "#0d0887"
             ],
             [
              0.1111111111111111,
              "#46039f"
             ],
             [
              0.2222222222222222,
              "#7201a8"
             ],
             [
              0.3333333333333333,
              "#9c179e"
             ],
             [
              0.4444444444444444,
              "#bd3786"
             ],
             [
              0.5555555555555556,
              "#d8576b"
             ],
             [
              0.6666666666666666,
              "#ed7953"
             ],
             [
              0.7777777777777778,
              "#fb9f3a"
             ],
             [
              0.8888888888888888,
              "#fdca26"
             ],
             [
              1,
              "#f0f921"
             ]
            ],
            "type": "histogram2d"
           }
          ],
          "histogram2dcontour": [
           {
            "colorbar": {
             "outlinewidth": 0,
             "ticks": ""
            },
            "colorscale": [
             [
              0,
              "#0d0887"
             ],
             [
              0.1111111111111111,
              "#46039f"
             ],
             [
              0.2222222222222222,
              "#7201a8"
             ],
             [
              0.3333333333333333,
              "#9c179e"
             ],
             [
              0.4444444444444444,
              "#bd3786"
             ],
             [
              0.5555555555555556,
              "#d8576b"
             ],
             [
              0.6666666666666666,
              "#ed7953"
             ],
             [
              0.7777777777777778,
              "#fb9f3a"
             ],
             [
              0.8888888888888888,
              "#fdca26"
             ],
             [
              1,
              "#f0f921"
             ]
            ],
            "type": "histogram2dcontour"
           }
          ],
          "mesh3d": [
           {
            "colorbar": {
             "outlinewidth": 0,
             "ticks": ""
            },
            "type": "mesh3d"
           }
          ],
          "parcoords": [
           {
            "line": {
             "colorbar": {
              "outlinewidth": 0,
              "ticks": ""
             }
            },
            "type": "parcoords"
           }
          ],
          "pie": [
           {
            "automargin": true,
            "type": "pie"
           }
          ],
          "scatter": [
           {
            "fillpattern": {
             "fillmode": "overlay",
             "size": 10,
             "solidity": 0.2
            },
            "type": "scatter"
           }
          ],
          "scatter3d": [
           {
            "line": {
             "colorbar": {
              "outlinewidth": 0,
              "ticks": ""
             }
            },
            "marker": {
             "colorbar": {
              "outlinewidth": 0,
              "ticks": ""
             }
            },
            "type": "scatter3d"
           }
          ],
          "scattercarpet": [
           {
            "marker": {
             "colorbar": {
              "outlinewidth": 0,
              "ticks": ""
             }
            },
            "type": "scattercarpet"
           }
          ],
          "scattergeo": [
           {
            "marker": {
             "colorbar": {
              "outlinewidth": 0,
              "ticks": ""
             }
            },
            "type": "scattergeo"
           }
          ],
          "scattergl": [
           {
            "marker": {
             "colorbar": {
              "outlinewidth": 0,
              "ticks": ""
             }
            },
            "type": "scattergl"
           }
          ],
          "scattermapbox": [
           {
            "marker": {
             "colorbar": {
              "outlinewidth": 0,
              "ticks": ""
             }
            },
            "type": "scattermapbox"
           }
          ],
          "scatterpolar": [
           {
            "marker": {
             "colorbar": {
              "outlinewidth": 0,
              "ticks": ""
             }
            },
            "type": "scatterpolar"
           }
          ],
          "scatterpolargl": [
           {
            "marker": {
             "colorbar": {
              "outlinewidth": 0,
              "ticks": ""
             }
            },
            "type": "scatterpolargl"
           }
          ],
          "scatterternary": [
           {
            "marker": {
             "colorbar": {
              "outlinewidth": 0,
              "ticks": ""
             }
            },
            "type": "scatterternary"
           }
          ],
          "surface": [
           {
            "colorbar": {
             "outlinewidth": 0,
             "ticks": ""
            },
            "colorscale": [
             [
              0,
              "#0d0887"
             ],
             [
              0.1111111111111111,
              "#46039f"
             ],
             [
              0.2222222222222222,
              "#7201a8"
             ],
             [
              0.3333333333333333,
              "#9c179e"
             ],
             [
              0.4444444444444444,
              "#bd3786"
             ],
             [
              0.5555555555555556,
              "#d8576b"
             ],
             [
              0.6666666666666666,
              "#ed7953"
             ],
             [
              0.7777777777777778,
              "#fb9f3a"
             ],
             [
              0.8888888888888888,
              "#fdca26"
             ],
             [
              1,
              "#f0f921"
             ]
            ],
            "type": "surface"
           }
          ],
          "table": [
           {
            "cells": {
             "fill": {
              "color": "#EBF0F8"
             },
             "line": {
              "color": "white"
             }
            },
            "header": {
             "fill": {
              "color": "#C8D4E3"
             },
             "line": {
              "color": "white"
             }
            },
            "type": "table"
           }
          ]
         },
         "layout": {
          "annotationdefaults": {
           "arrowcolor": "#2a3f5f",
           "arrowhead": 0,
           "arrowwidth": 1
          },
          "autotypenumbers": "strict",
          "coloraxis": {
           "colorbar": {
            "outlinewidth": 0,
            "ticks": ""
           }
          },
          "colorscale": {
           "diverging": [
            [
             0,
             "#8e0152"
            ],
            [
             0.1,
             "#c51b7d"
            ],
            [
             0.2,
             "#de77ae"
            ],
            [
             0.3,
             "#f1b6da"
            ],
            [
             0.4,
             "#fde0ef"
            ],
            [
             0.5,
             "#f7f7f7"
            ],
            [
             0.6,
             "#e6f5d0"
            ],
            [
             0.7,
             "#b8e186"
            ],
            [
             0.8,
             "#7fbc41"
            ],
            [
             0.9,
             "#4d9221"
            ],
            [
             1,
             "#276419"
            ]
           ],
           "sequential": [
            [
             0,
             "#0d0887"
            ],
            [
             0.1111111111111111,
             "#46039f"
            ],
            [
             0.2222222222222222,
             "#7201a8"
            ],
            [
             0.3333333333333333,
             "#9c179e"
            ],
            [
             0.4444444444444444,
             "#bd3786"
            ],
            [
             0.5555555555555556,
             "#d8576b"
            ],
            [
             0.6666666666666666,
             "#ed7953"
            ],
            [
             0.7777777777777778,
             "#fb9f3a"
            ],
            [
             0.8888888888888888,
             "#fdca26"
            ],
            [
             1,
             "#f0f921"
            ]
           ],
           "sequentialminus": [
            [
             0,
             "#0d0887"
            ],
            [
             0.1111111111111111,
             "#46039f"
            ],
            [
             0.2222222222222222,
             "#7201a8"
            ],
            [
             0.3333333333333333,
             "#9c179e"
            ],
            [
             0.4444444444444444,
             "#bd3786"
            ],
            [
             0.5555555555555556,
             "#d8576b"
            ],
            [
             0.6666666666666666,
             "#ed7953"
            ],
            [
             0.7777777777777778,
             "#fb9f3a"
            ],
            [
             0.8888888888888888,
             "#fdca26"
            ],
            [
             1,
             "#f0f921"
            ]
           ]
          },
          "colorway": [
           "#636efa",
           "#EF553B",
           "#00cc96",
           "#ab63fa",
           "#FFA15A",
           "#19d3f3",
           "#FF6692",
           "#B6E880",
           "#FF97FF",
           "#FECB52"
          ],
          "font": {
           "color": "#2a3f5f"
          },
          "geo": {
           "bgcolor": "white",
           "lakecolor": "white",
           "landcolor": "#E5ECF6",
           "showlakes": true,
           "showland": true,
           "subunitcolor": "white"
          },
          "hoverlabel": {
           "align": "left"
          },
          "hovermode": "closest",
          "mapbox": {
           "style": "light"
          },
          "paper_bgcolor": "white",
          "plot_bgcolor": "#E5ECF6",
          "polar": {
           "angularaxis": {
            "gridcolor": "white",
            "linecolor": "white",
            "ticks": ""
           },
           "bgcolor": "#E5ECF6",
           "radialaxis": {
            "gridcolor": "white",
            "linecolor": "white",
            "ticks": ""
           }
          },
          "scene": {
           "xaxis": {
            "backgroundcolor": "#E5ECF6",
            "gridcolor": "white",
            "gridwidth": 2,
            "linecolor": "white",
            "showbackground": true,
            "ticks": "",
            "zerolinecolor": "white"
           },
           "yaxis": {
            "backgroundcolor": "#E5ECF6",
            "gridcolor": "white",
            "gridwidth": 2,
            "linecolor": "white",
            "showbackground": true,
            "ticks": "",
            "zerolinecolor": "white"
           },
           "zaxis": {
            "backgroundcolor": "#E5ECF6",
            "gridcolor": "white",
            "gridwidth": 2,
            "linecolor": "white",
            "showbackground": true,
            "ticks": "",
            "zerolinecolor": "white"
           }
          },
          "shapedefaults": {
           "line": {
            "color": "#2a3f5f"
           }
          },
          "ternary": {
           "aaxis": {
            "gridcolor": "white",
            "linecolor": "white",
            "ticks": ""
           },
           "baxis": {
            "gridcolor": "white",
            "linecolor": "white",
            "ticks": ""
           },
           "bgcolor": "#E5ECF6",
           "caxis": {
            "gridcolor": "white",
            "linecolor": "white",
            "ticks": ""
           }
          },
          "title": {
           "x": 0.05
          },
          "xaxis": {
           "automargin": true,
           "gridcolor": "white",
           "linecolor": "white",
           "ticks": "",
           "title": {
            "standoff": 15
           },
           "zerolinecolor": "white",
           "zerolinewidth": 2
          },
          "yaxis": {
           "automargin": true,
           "gridcolor": "white",
           "linecolor": "white",
           "ticks": "",
           "title": {
            "standoff": 15
           },
           "zerolinecolor": "white",
           "zerolinewidth": 2
          }
         }
        },
        "title": {
         "text": "Crosstabulation Heatmaps"
        },
        "xaxis": {
         "anchor": "y",
         "domain": [
          0,
          0.2888888888888889
         ]
        },
        "xaxis2": {
         "anchor": "y2",
         "domain": [
          0.35555555555555557,
          0.6444444444444445
         ]
        },
        "xaxis3": {
         "anchor": "y3",
         "domain": [
          0.7111111111111111,
          1
         ]
        },
        "xaxis4": {
         "anchor": "y4",
         "domain": [
          0,
          0.2888888888888889
         ]
        },
        "xaxis5": {
         "anchor": "y5",
         "domain": [
          0.35555555555555557,
          0.6444444444444445
         ]
        },
        "xaxis6": {
         "anchor": "y6",
         "domain": [
          0.7111111111111111,
          1
         ]
        },
        "yaxis": {
         "anchor": "x",
         "domain": [
          0.675,
          1
         ]
        },
        "yaxis2": {
         "anchor": "x2",
         "domain": [
          0.675,
          1
         ]
        },
        "yaxis3": {
         "anchor": "x3",
         "domain": [
          0.675,
          1
         ]
        },
        "yaxis4": {
         "anchor": "x4",
         "domain": [
          0,
          0.325
         ]
        },
        "yaxis5": {
         "anchor": "x5",
         "domain": [
          0,
          0.325
         ]
        },
        "yaxis6": {
         "anchor": "x6",
         "domain": [
          0,
          0.325
         ]
        }
       }
      }
     },
     "metadata": {},
     "output_type": "display_data"
    }
   ],
   "source": [
    "import plotly.graph_objects as go\n",
    "from plotly.subplots import make_subplots\n",
    "\n",
    "tops = top6\n",
    "\n",
    "titles = [f\"Cluster {cluster_num}\" for cluster_num in tops]\n",
    "fig = make_subplots(rows=2, cols=3, subplot_titles=titles, vertical_spacing = 0.35)\n",
    "\n",
    "for i, cluster_num in enumerate(tops):\n",
    "    cluster = df[df.cluster == cluster_num]\n",
    "    crosstab = pd.crosstab(cluster.fase_dia, cluster.condicao_metereologica)\n",
    "    \n",
    "    heatmap = go.Heatmap(\n",
    "        z=crosstab.values,\n",
    "        x=crosstab.columns,\n",
    "        y=crosstab.index,\n",
    "        text=crosstab.values,\n",
    "        colorscale='Viridis'\n",
    "    )\n",
    "    \n",
    "    fig.add_trace(heatmap, row=(i // 3) + 1, col=(i % 3) + 1)\n",
    "\n",
    "fig.update_layout(\n",
    "    title=\"Crosstabulation Heatmaps\",\n",
    "    # xaxis=dict(title=\"condicao_metereologica\"),\n",
    "    # yaxis=dict(title=\"fase_dia\"),\n",
    "    showlegend=False,\n",
    ")\n",
    "\n",
    "fig.show()\n"
   ]
  },
  {
   "cell_type": "code",
   "execution_count": 167,
   "metadata": {},
   "outputs": [
    {
     "data": {
      "application/vnd.plotly.v1+json": {
       "config": {
        "plotlyServerURL": "https://plot.ly"
       },
       "data": [
        {
         "marker": {
          "color": "rgb(31, 119, 180)"
         },
         "text": [
          36,
          17,
          17,
          12,
          11
         ],
         "type": "bar",
         "x": [
          "Colisão transversal",
          "Colisão frontal",
          "Saída de leito carroçável",
          "Colisão traseira",
          "Tombamento"
         ],
         "xaxis": "x",
         "y": [
          36,
          17,
          17,
          12,
          11
         ],
         "yaxis": "y"
        },
        {
         "marker": {
          "color": "rgb(31, 119, 180)"
         },
         "text": [
          14,
          12,
          7,
          6,
          5
         ],
         "type": "bar",
         "x": [
          "Saída de leito carroçável",
          "Colisão frontal",
          "Colisão transversal",
          "Colisão traseira",
          "Tombamento"
         ],
         "xaxis": "x2",
         "y": [
          14,
          12,
          7,
          6,
          5
         ],
         "yaxis": "y2"
        },
        {
         "marker": {
          "color": "rgb(31, 119, 180)"
         },
         "text": [
          24,
          23,
          16,
          15,
          14
         ],
         "type": "bar",
         "x": [
          "Saída de leito carroçável",
          "Colisão traseira",
          "Colisão com objeto",
          "Incêndio",
          "Tombamento"
         ],
         "xaxis": "x3",
         "y": [
          24,
          23,
          16,
          15,
          14
         ],
         "yaxis": "y3"
        },
        {
         "marker": {
          "color": "rgb(31, 119, 180)"
         },
         "text": [
          56,
          55,
          22,
          19,
          18
         ],
         "type": "bar",
         "x": [
          "Saída de leito carroçável",
          "Colisão traseira",
          "Colisão lateral mesmo sentido",
          "Tombamento",
          "Colisão com objeto"
         ],
         "xaxis": "x4",
         "y": [
          56,
          55,
          22,
          19,
          18
         ],
         "yaxis": "y4"
        },
        {
         "marker": {
          "color": "rgb(31, 119, 180)"
         },
         "text": [
          44,
          33,
          17,
          16,
          9
         ],
         "type": "bar",
         "x": [
          "Colisão traseira",
          "Saída de leito carroçável",
          "Colisão lateral mesmo sentido",
          "Queda de ocupante de veículo",
          "Colisão com objeto"
         ],
         "xaxis": "x5",
         "y": [
          44,
          33,
          17,
          16,
          9
         ],
         "yaxis": "y5"
        },
        {
         "marker": {
          "color": "rgb(31, 119, 180)"
         },
         "text": [
          26,
          6,
          5,
          5,
          4
         ],
         "type": "bar",
         "x": [
          "Saída de leito carroçável",
          "Colisão traseira",
          "Colisão transversal",
          "Tombamento",
          "Atropelamento de Pedestre"
         ],
         "xaxis": "x6",
         "y": [
          26,
          6,
          5,
          5,
          4
         ],
         "yaxis": "y6"
        }
       ],
       "layout": {
        "annotations": [
         {
          "font": {
           "size": 16
          },
          "showarrow": false,
          "text": "Cluster 15",
          "x": 0.14444444444444446,
          "xanchor": "center",
          "xref": "paper",
          "y": 1,
          "yanchor": "bottom",
          "yref": "paper"
         },
         {
          "font": {
           "size": 16
          },
          "showarrow": false,
          "text": "Cluster 7",
          "x": 0.5,
          "xanchor": "center",
          "xref": "paper",
          "y": 1,
          "yanchor": "bottom",
          "yref": "paper"
         },
         {
          "font": {
           "size": 16
          },
          "showarrow": false,
          "text": "Cluster 12",
          "x": 0.8555555555555556,
          "xanchor": "center",
          "xref": "paper",
          "y": 1,
          "yanchor": "bottom",
          "yref": "paper"
         },
         {
          "font": {
           "size": 16
          },
          "showarrow": false,
          "text": "Cluster 37",
          "x": 0.14444444444444446,
          "xanchor": "center",
          "xref": "paper",
          "y": 0.25,
          "yanchor": "bottom",
          "yref": "paper"
         },
         {
          "font": {
           "size": 16
          },
          "showarrow": false,
          "text": "Cluster 0",
          "x": 0.5,
          "xanchor": "center",
          "xref": "paper",
          "y": 0.25,
          "yanchor": "bottom",
          "yref": "paper"
         },
         {
          "font": {
           "size": 16
          },
          "showarrow": false,
          "text": "Cluster 18",
          "x": 0.8555555555555556,
          "xanchor": "center",
          "xref": "paper",
          "y": 0.25,
          "yanchor": "bottom",
          "yref": "paper"
         }
        ],
        "showlegend": false,
        "template": {
         "data": {
          "bar": [
           {
            "error_x": {
             "color": "#2a3f5f"
            },
            "error_y": {
             "color": "#2a3f5f"
            },
            "marker": {
             "line": {
              "color": "#E5ECF6",
              "width": 0.5
             },
             "pattern": {
              "fillmode": "overlay",
              "size": 10,
              "solidity": 0.2
             }
            },
            "type": "bar"
           }
          ],
          "barpolar": [
           {
            "marker": {
             "line": {
              "color": "#E5ECF6",
              "width": 0.5
             },
             "pattern": {
              "fillmode": "overlay",
              "size": 10,
              "solidity": 0.2
             }
            },
            "type": "barpolar"
           }
          ],
          "carpet": [
           {
            "aaxis": {
             "endlinecolor": "#2a3f5f",
             "gridcolor": "white",
             "linecolor": "white",
             "minorgridcolor": "white",
             "startlinecolor": "#2a3f5f"
            },
            "baxis": {
             "endlinecolor": "#2a3f5f",
             "gridcolor": "white",
             "linecolor": "white",
             "minorgridcolor": "white",
             "startlinecolor": "#2a3f5f"
            },
            "type": "carpet"
           }
          ],
          "choropleth": [
           {
            "colorbar": {
             "outlinewidth": 0,
             "ticks": ""
            },
            "type": "choropleth"
           }
          ],
          "contour": [
           {
            "colorbar": {
             "outlinewidth": 0,
             "ticks": ""
            },
            "colorscale": [
             [
              0,
              "#0d0887"
             ],
             [
              0.1111111111111111,
              "#46039f"
             ],
             [
              0.2222222222222222,
              "#7201a8"
             ],
             [
              0.3333333333333333,
              "#9c179e"
             ],
             [
              0.4444444444444444,
              "#bd3786"
             ],
             [
              0.5555555555555556,
              "#d8576b"
             ],
             [
              0.6666666666666666,
              "#ed7953"
             ],
             [
              0.7777777777777778,
              "#fb9f3a"
             ],
             [
              0.8888888888888888,
              "#fdca26"
             ],
             [
              1,
              "#f0f921"
             ]
            ],
            "type": "contour"
           }
          ],
          "contourcarpet": [
           {
            "colorbar": {
             "outlinewidth": 0,
             "ticks": ""
            },
            "type": "contourcarpet"
           }
          ],
          "heatmap": [
           {
            "colorbar": {
             "outlinewidth": 0,
             "ticks": ""
            },
            "colorscale": [
             [
              0,
              "#0d0887"
             ],
             [
              0.1111111111111111,
              "#46039f"
             ],
             [
              0.2222222222222222,
              "#7201a8"
             ],
             [
              0.3333333333333333,
              "#9c179e"
             ],
             [
              0.4444444444444444,
              "#bd3786"
             ],
             [
              0.5555555555555556,
              "#d8576b"
             ],
             [
              0.6666666666666666,
              "#ed7953"
             ],
             [
              0.7777777777777778,
              "#fb9f3a"
             ],
             [
              0.8888888888888888,
              "#fdca26"
             ],
             [
              1,
              "#f0f921"
             ]
            ],
            "type": "heatmap"
           }
          ],
          "heatmapgl": [
           {
            "colorbar": {
             "outlinewidth": 0,
             "ticks": ""
            },
            "colorscale": [
             [
              0,
              "#0d0887"
             ],
             [
              0.1111111111111111,
              "#46039f"
             ],
             [
              0.2222222222222222,
              "#7201a8"
             ],
             [
              0.3333333333333333,
              "#9c179e"
             ],
             [
              0.4444444444444444,
              "#bd3786"
             ],
             [
              0.5555555555555556,
              "#d8576b"
             ],
             [
              0.6666666666666666,
              "#ed7953"
             ],
             [
              0.7777777777777778,
              "#fb9f3a"
             ],
             [
              0.8888888888888888,
              "#fdca26"
             ],
             [
              1,
              "#f0f921"
             ]
            ],
            "type": "heatmapgl"
           }
          ],
          "histogram": [
           {
            "marker": {
             "pattern": {
              "fillmode": "overlay",
              "size": 10,
              "solidity": 0.2
             }
            },
            "type": "histogram"
           }
          ],
          "histogram2d": [
           {
            "colorbar": {
             "outlinewidth": 0,
             "ticks": ""
            },
            "colorscale": [
             [
              0,
              "#0d0887"
             ],
             [
              0.1111111111111111,
              "#46039f"
             ],
             [
              0.2222222222222222,
              "#7201a8"
             ],
             [
              0.3333333333333333,
              "#9c179e"
             ],
             [
              0.4444444444444444,
              "#bd3786"
             ],
             [
              0.5555555555555556,
              "#d8576b"
             ],
             [
              0.6666666666666666,
              "#ed7953"
             ],
             [
              0.7777777777777778,
              "#fb9f3a"
             ],
             [
              0.8888888888888888,
              "#fdca26"
             ],
             [
              1,
              "#f0f921"
             ]
            ],
            "type": "histogram2d"
           }
          ],
          "histogram2dcontour": [
           {
            "colorbar": {
             "outlinewidth": 0,
             "ticks": ""
            },
            "colorscale": [
             [
              0,
              "#0d0887"
             ],
             [
              0.1111111111111111,
              "#46039f"
             ],
             [
              0.2222222222222222,
              "#7201a8"
             ],
             [
              0.3333333333333333,
              "#9c179e"
             ],
             [
              0.4444444444444444,
              "#bd3786"
             ],
             [
              0.5555555555555556,
              "#d8576b"
             ],
             [
              0.6666666666666666,
              "#ed7953"
             ],
             [
              0.7777777777777778,
              "#fb9f3a"
             ],
             [
              0.8888888888888888,
              "#fdca26"
             ],
             [
              1,
              "#f0f921"
             ]
            ],
            "type": "histogram2dcontour"
           }
          ],
          "mesh3d": [
           {
            "colorbar": {
             "outlinewidth": 0,
             "ticks": ""
            },
            "type": "mesh3d"
           }
          ],
          "parcoords": [
           {
            "line": {
             "colorbar": {
              "outlinewidth": 0,
              "ticks": ""
             }
            },
            "type": "parcoords"
           }
          ],
          "pie": [
           {
            "automargin": true,
            "type": "pie"
           }
          ],
          "scatter": [
           {
            "fillpattern": {
             "fillmode": "overlay",
             "size": 10,
             "solidity": 0.2
            },
            "type": "scatter"
           }
          ],
          "scatter3d": [
           {
            "line": {
             "colorbar": {
              "outlinewidth": 0,
              "ticks": ""
             }
            },
            "marker": {
             "colorbar": {
              "outlinewidth": 0,
              "ticks": ""
             }
            },
            "type": "scatter3d"
           }
          ],
          "scattercarpet": [
           {
            "marker": {
             "colorbar": {
              "outlinewidth": 0,
              "ticks": ""
             }
            },
            "type": "scattercarpet"
           }
          ],
          "scattergeo": [
           {
            "marker": {
             "colorbar": {
              "outlinewidth": 0,
              "ticks": ""
             }
            },
            "type": "scattergeo"
           }
          ],
          "scattergl": [
           {
            "marker": {
             "colorbar": {
              "outlinewidth": 0,
              "ticks": ""
             }
            },
            "type": "scattergl"
           }
          ],
          "scattermapbox": [
           {
            "marker": {
             "colorbar": {
              "outlinewidth": 0,
              "ticks": ""
             }
            },
            "type": "scattermapbox"
           }
          ],
          "scatterpolar": [
           {
            "marker": {
             "colorbar": {
              "outlinewidth": 0,
              "ticks": ""
             }
            },
            "type": "scatterpolar"
           }
          ],
          "scatterpolargl": [
           {
            "marker": {
             "colorbar": {
              "outlinewidth": 0,
              "ticks": ""
             }
            },
            "type": "scatterpolargl"
           }
          ],
          "scatterternary": [
           {
            "marker": {
             "colorbar": {
              "outlinewidth": 0,
              "ticks": ""
             }
            },
            "type": "scatterternary"
           }
          ],
          "surface": [
           {
            "colorbar": {
             "outlinewidth": 0,
             "ticks": ""
            },
            "colorscale": [
             [
              0,
              "#0d0887"
             ],
             [
              0.1111111111111111,
              "#46039f"
             ],
             [
              0.2222222222222222,
              "#7201a8"
             ],
             [
              0.3333333333333333,
              "#9c179e"
             ],
             [
              0.4444444444444444,
              "#bd3786"
             ],
             [
              0.5555555555555556,
              "#d8576b"
             ],
             [
              0.6666666666666666,
              "#ed7953"
             ],
             [
              0.7777777777777778,
              "#fb9f3a"
             ],
             [
              0.8888888888888888,
              "#fdca26"
             ],
             [
              1,
              "#f0f921"
             ]
            ],
            "type": "surface"
           }
          ],
          "table": [
           {
            "cells": {
             "fill": {
              "color": "#EBF0F8"
             },
             "line": {
              "color": "white"
             }
            },
            "header": {
             "fill": {
              "color": "#C8D4E3"
             },
             "line": {
              "color": "white"
             }
            },
            "type": "table"
           }
          ]
         },
         "layout": {
          "annotationdefaults": {
           "arrowcolor": "#2a3f5f",
           "arrowhead": 0,
           "arrowwidth": 1
          },
          "autotypenumbers": "strict",
          "coloraxis": {
           "colorbar": {
            "outlinewidth": 0,
            "ticks": ""
           }
          },
          "colorscale": {
           "diverging": [
            [
             0,
             "#8e0152"
            ],
            [
             0.1,
             "#c51b7d"
            ],
            [
             0.2,
             "#de77ae"
            ],
            [
             0.3,
             "#f1b6da"
            ],
            [
             0.4,
             "#fde0ef"
            ],
            [
             0.5,
             "#f7f7f7"
            ],
            [
             0.6,
             "#e6f5d0"
            ],
            [
             0.7,
             "#b8e186"
            ],
            [
             0.8,
             "#7fbc41"
            ],
            [
             0.9,
             "#4d9221"
            ],
            [
             1,
             "#276419"
            ]
           ],
           "sequential": [
            [
             0,
             "#0d0887"
            ],
            [
             0.1111111111111111,
             "#46039f"
            ],
            [
             0.2222222222222222,
             "#7201a8"
            ],
            [
             0.3333333333333333,
             "#9c179e"
            ],
            [
             0.4444444444444444,
             "#bd3786"
            ],
            [
             0.5555555555555556,
             "#d8576b"
            ],
            [
             0.6666666666666666,
             "#ed7953"
            ],
            [
             0.7777777777777778,
             "#fb9f3a"
            ],
            [
             0.8888888888888888,
             "#fdca26"
            ],
            [
             1,
             "#f0f921"
            ]
           ],
           "sequentialminus": [
            [
             0,
             "#0d0887"
            ],
            [
             0.1111111111111111,
             "#46039f"
            ],
            [
             0.2222222222222222,
             "#7201a8"
            ],
            [
             0.3333333333333333,
             "#9c179e"
            ],
            [
             0.4444444444444444,
             "#bd3786"
            ],
            [
             0.5555555555555556,
             "#d8576b"
            ],
            [
             0.6666666666666666,
             "#ed7953"
            ],
            [
             0.7777777777777778,
             "#fb9f3a"
            ],
            [
             0.8888888888888888,
             "#fdca26"
            ],
            [
             1,
             "#f0f921"
            ]
           ]
          },
          "colorway": [
           "#636efa",
           "#EF553B",
           "#00cc96",
           "#ab63fa",
           "#FFA15A",
           "#19d3f3",
           "#FF6692",
           "#B6E880",
           "#FF97FF",
           "#FECB52"
          ],
          "font": {
           "color": "#2a3f5f"
          },
          "geo": {
           "bgcolor": "white",
           "lakecolor": "white",
           "landcolor": "#E5ECF6",
           "showlakes": true,
           "showland": true,
           "subunitcolor": "white"
          },
          "hoverlabel": {
           "align": "left"
          },
          "hovermode": "closest",
          "mapbox": {
           "style": "light"
          },
          "paper_bgcolor": "white",
          "plot_bgcolor": "#E5ECF6",
          "polar": {
           "angularaxis": {
            "gridcolor": "white",
            "linecolor": "white",
            "ticks": ""
           },
           "bgcolor": "#E5ECF6",
           "radialaxis": {
            "gridcolor": "white",
            "linecolor": "white",
            "ticks": ""
           }
          },
          "scene": {
           "xaxis": {
            "backgroundcolor": "#E5ECF6",
            "gridcolor": "white",
            "gridwidth": 2,
            "linecolor": "white",
            "showbackground": true,
            "ticks": "",
            "zerolinecolor": "white"
           },
           "yaxis": {
            "backgroundcolor": "#E5ECF6",
            "gridcolor": "white",
            "gridwidth": 2,
            "linecolor": "white",
            "showbackground": true,
            "ticks": "",
            "zerolinecolor": "white"
           },
           "zaxis": {
            "backgroundcolor": "#E5ECF6",
            "gridcolor": "white",
            "gridwidth": 2,
            "linecolor": "white",
            "showbackground": true,
            "ticks": "",
            "zerolinecolor": "white"
           }
          },
          "shapedefaults": {
           "line": {
            "color": "#2a3f5f"
           }
          },
          "ternary": {
           "aaxis": {
            "gridcolor": "white",
            "linecolor": "white",
            "ticks": ""
           },
           "baxis": {
            "gridcolor": "white",
            "linecolor": "white",
            "ticks": ""
           },
           "bgcolor": "#E5ECF6",
           "caxis": {
            "gridcolor": "white",
            "linecolor": "white",
            "ticks": ""
           }
          },
          "title": {
           "x": 0.05
          },
          "xaxis": {
           "automargin": true,
           "gridcolor": "white",
           "linecolor": "white",
           "ticks": "",
           "title": {
            "standoff": 15
           },
           "zerolinecolor": "white",
           "zerolinewidth": 2
          },
          "yaxis": {
           "automargin": true,
           "gridcolor": "white",
           "linecolor": "white",
           "ticks": "",
           "title": {
            "standoff": 15
           },
           "zerolinecolor": "white",
           "zerolinewidth": 2
          }
         }
        },
        "xaxis": {
         "anchor": "y",
         "domain": [
          0,
          0.2888888888888889
         ]
        },
        "xaxis2": {
         "anchor": "y2",
         "domain": [
          0.35555555555555557,
          0.6444444444444445
         ]
        },
        "xaxis3": {
         "anchor": "y3",
         "domain": [
          0.7111111111111111,
          1
         ]
        },
        "xaxis4": {
         "anchor": "y4",
         "domain": [
          0,
          0.2888888888888889
         ]
        },
        "xaxis5": {
         "anchor": "y5",
         "domain": [
          0.35555555555555557,
          0.6444444444444445
         ]
        },
        "xaxis6": {
         "anchor": "y6",
         "domain": [
          0.7111111111111111,
          1
         ]
        },
        "yaxis": {
         "anchor": "x",
         "domain": [
          0.75,
          1
         ]
        },
        "yaxis2": {
         "anchor": "x2",
         "domain": [
          0.75,
          1
         ]
        },
        "yaxis3": {
         "anchor": "x3",
         "domain": [
          0.75,
          1
         ]
        },
        "yaxis4": {
         "anchor": "x4",
         "domain": [
          0,
          0.25
         ]
        },
        "yaxis5": {
         "anchor": "x5",
         "domain": [
          0,
          0.25
         ]
        },
        "yaxis6": {
         "anchor": "x6",
         "domain": [
          0,
          0.25
         ]
        }
       }
      }
     },
     "metadata": {},
     "output_type": "display_data"
    }
   ],
   "source": [
    "titles = [f\"Cluster {cluster_num}\" for cluster_num in tops]\n",
    "fig = make_subplots(rows=2, cols=3, subplot_titles=titles, vertical_spacing = 0.5)\n",
    "\n",
    "color = \"rgb(31, 119, 180)\"\n",
    "\n",
    "for i, cluster_num in enumerate(tops):\n",
    "    cluster = df[df.cluster == cluster_num]\n",
    "    top_acidentes = cluster['tipo_acidente'].value_counts().head(5)  # Get top 5 types of accidents\n",
    "    \n",
    "    bar_plot = go.Bar(\n",
    "        x=top_acidentes.index,\n",
    "        y=top_acidentes.values,\n",
    "        text=top_acidentes.values,\n",
    "        marker_color=color,\n",
    "    )\n",
    "    \n",
    "    fig.add_trace(bar_plot, row=(i // 3) + 1, col=(i % 3) + 1)\n",
    "\n",
    "fig.update_layout(\n",
    "    # title=\"Top 5 Tipo de Acidente\",\n",
    "    # xaxis=dict(title=\"Tipo de Acidente\"),\n",
    "    # yaxis=dict(title=\"Número de Ocorrências\"),\n",
    "    showlegend=False,\n",
    ")\n",
    "\n",
    "fig.show()"
   ]
  },
  {
   "cell_type": "code",
   "execution_count": 55,
   "metadata": {},
   "outputs": [
    {
     "data": {
      "application/vnd.plotly.v1+json": {
       "config": {
        "plotlyServerURL": "https://plot.ly"
       },
       "data": [
        {
         "dimensions": [
          {
           "label": "sepal_length",
           "values": [
            5.1,
            4.9,
            4.7,
            4.6,
            5,
            5.4,
            4.6,
            5,
            4.4,
            4.9,
            5.4,
            4.8,
            4.8,
            4.3,
            5.8,
            5.7,
            5.4,
            5.1,
            5.7,
            5.1,
            5.4,
            5.1,
            4.6,
            5.1,
            4.8,
            5,
            5,
            5.2,
            5.2,
            4.7,
            4.8,
            5.4,
            5.2,
            5.5,
            4.9,
            5,
            5.5,
            4.9,
            4.4,
            5.1,
            5,
            4.5,
            4.4,
            5,
            5.1,
            4.8,
            5.1,
            4.6,
            5.3,
            5,
            7,
            6.4,
            6.9,
            5.5,
            6.5,
            5.7,
            6.3,
            4.9,
            6.6,
            5.2,
            5,
            5.9,
            6,
            6.1,
            5.6,
            6.7,
            5.6,
            5.8,
            6.2,
            5.6,
            5.9,
            6.1,
            6.3,
            6.1,
            6.4,
            6.6,
            6.8,
            6.7,
            6,
            5.7,
            5.5,
            5.5,
            5.8,
            6,
            5.4,
            6,
            6.7,
            6.3,
            5.6,
            5.5,
            5.5,
            6.1,
            5.8,
            5,
            5.6,
            5.7,
            5.7,
            6.2,
            5.1,
            5.7,
            6.3,
            5.8,
            7.1,
            6.3,
            6.5,
            7.6,
            4.9,
            7.3,
            6.7,
            7.2,
            6.5,
            6.4,
            6.8,
            5.7,
            5.8,
            6.4,
            6.5,
            7.7,
            7.7,
            6,
            6.9,
            5.6,
            7.7,
            6.3,
            6.7,
            7.2,
            6.2,
            6.1,
            6.4,
            7.2,
            7.4,
            7.9,
            6.4,
            6.3,
            6.1,
            7.7,
            6.3,
            6.4,
            6,
            6.9,
            6.7,
            6.9,
            5.8,
            6.8,
            6.7,
            6.7,
            6.3,
            6.5,
            6.2,
            5.9
           ]
          },
          {
           "label": "sepal_width",
           "values": [
            3.5,
            3,
            3.2,
            3.1,
            3.6,
            3.9,
            3.4,
            3.4,
            2.9,
            3.1,
            3.7,
            3.4,
            3,
            3,
            4,
            4.4,
            3.9,
            3.5,
            3.8,
            3.8,
            3.4,
            3.7,
            3.6,
            3.3,
            3.4,
            3,
            3.4,
            3.5,
            3.4,
            3.2,
            3.1,
            3.4,
            4.1,
            4.2,
            3.1,
            3.2,
            3.5,
            3.1,
            3,
            3.4,
            3.5,
            2.3,
            3.2,
            3.5,
            3.8,
            3,
            3.8,
            3.2,
            3.7,
            3.3,
            3.2,
            3.2,
            3.1,
            2.3,
            2.8,
            2.8,
            3.3,
            2.4,
            2.9,
            2.7,
            2,
            3,
            2.2,
            2.9,
            2.9,
            3.1,
            3,
            2.7,
            2.2,
            2.5,
            3.2,
            2.8,
            2.5,
            2.8,
            2.9,
            3,
            2.8,
            3,
            2.9,
            2.6,
            2.4,
            2.4,
            2.7,
            2.7,
            3,
            3.4,
            3.1,
            2.3,
            3,
            2.5,
            2.6,
            3,
            2.6,
            2.3,
            2.7,
            3,
            2.9,
            2.9,
            2.5,
            2.8,
            3.3,
            2.7,
            3,
            2.9,
            3,
            3,
            2.5,
            2.9,
            2.5,
            3.6,
            3.2,
            2.7,
            3,
            2.5,
            2.8,
            3.2,
            3,
            3.8,
            2.6,
            2.2,
            3.2,
            2.8,
            2.8,
            2.7,
            3.3,
            3.2,
            2.8,
            3,
            2.8,
            3,
            2.8,
            3.8,
            2.8,
            2.8,
            2.6,
            3,
            3.4,
            3.1,
            3,
            3.1,
            3.1,
            3.1,
            2.7,
            3.2,
            3.3,
            3,
            2.5,
            3,
            3.4,
            3
           ]
          },
          {
           "label": "petal_length",
           "values": [
            1.4,
            1.4,
            1.3,
            1.5,
            1.4,
            1.7,
            1.4,
            1.5,
            1.4,
            1.5,
            1.5,
            1.6,
            1.4,
            1.1,
            1.2,
            1.5,
            1.3,
            1.4,
            1.7,
            1.5,
            1.7,
            1.5,
            1,
            1.7,
            1.9,
            1.6,
            1.6,
            1.5,
            1.4,
            1.6,
            1.6,
            1.5,
            1.5,
            1.4,
            1.5,
            1.2,
            1.3,
            1.5,
            1.3,
            1.5,
            1.3,
            1.3,
            1.3,
            1.6,
            1.9,
            1.4,
            1.6,
            1.4,
            1.5,
            1.4,
            4.7,
            4.5,
            4.9,
            4,
            4.6,
            4.5,
            4.7,
            3.3,
            4.6,
            3.9,
            3.5,
            4.2,
            4,
            4.7,
            3.6,
            4.4,
            4.5,
            4.1,
            4.5,
            3.9,
            4.8,
            4,
            4.9,
            4.7,
            4.3,
            4.4,
            4.8,
            5,
            4.5,
            3.5,
            3.8,
            3.7,
            3.9,
            5.1,
            4.5,
            4.5,
            4.7,
            4.4,
            4.1,
            4,
            4.4,
            4.6,
            4,
            3.3,
            4.2,
            4.2,
            4.2,
            4.3,
            3,
            4.1,
            6,
            5.1,
            5.9,
            5.6,
            5.8,
            6.6,
            4.5,
            6.3,
            5.8,
            6.1,
            5.1,
            5.3,
            5.5,
            5,
            5.1,
            5.3,
            5.5,
            6.7,
            6.9,
            5,
            5.7,
            4.9,
            6.7,
            4.9,
            5.7,
            6,
            4.8,
            4.9,
            5.6,
            5.8,
            6.1,
            6.4,
            5.6,
            5.1,
            5.6,
            6.1,
            5.6,
            5.5,
            4.8,
            5.4,
            5.6,
            5.1,
            5.1,
            5.9,
            5.7,
            5.2,
            5,
            5.2,
            5.4,
            5.1
           ]
          },
          {
           "label": "petal_width",
           "values": [
            0.2,
            0.2,
            0.2,
            0.2,
            0.2,
            0.4,
            0.3,
            0.2,
            0.2,
            0.1,
            0.2,
            0.2,
            0.1,
            0.1,
            0.2,
            0.4,
            0.4,
            0.3,
            0.3,
            0.3,
            0.2,
            0.4,
            0.2,
            0.5,
            0.2,
            0.2,
            0.4,
            0.2,
            0.2,
            0.2,
            0.2,
            0.4,
            0.1,
            0.2,
            0.1,
            0.2,
            0.2,
            0.1,
            0.2,
            0.2,
            0.3,
            0.3,
            0.2,
            0.6,
            0.4,
            0.3,
            0.2,
            0.2,
            0.2,
            0.2,
            1.4,
            1.5,
            1.5,
            1.3,
            1.5,
            1.3,
            1.6,
            1,
            1.3,
            1.4,
            1,
            1.5,
            1,
            1.4,
            1.3,
            1.4,
            1.5,
            1,
            1.5,
            1.1,
            1.8,
            1.3,
            1.5,
            1.2,
            1.3,
            1.4,
            1.4,
            1.7,
            1.5,
            1,
            1.1,
            1,
            1.2,
            1.6,
            1.5,
            1.6,
            1.5,
            1.3,
            1.3,
            1.3,
            1.2,
            1.4,
            1.2,
            1,
            1.3,
            1.2,
            1.3,
            1.3,
            1.1,
            1.3,
            2.5,
            1.9,
            2.1,
            1.8,
            2.2,
            2.1,
            1.7,
            1.8,
            1.8,
            2.5,
            2,
            1.9,
            2.1,
            2,
            2.4,
            2.3,
            1.8,
            2.2,
            2.3,
            1.5,
            2.3,
            2,
            2,
            1.8,
            2.1,
            1.8,
            1.8,
            1.8,
            2.1,
            1.6,
            1.9,
            2,
            2.2,
            1.5,
            1.4,
            2.3,
            2.4,
            1.8,
            1.8,
            2.1,
            2.4,
            2.3,
            1.9,
            2.3,
            2.5,
            2.3,
            1.9,
            2,
            2.3,
            1.8
           ]
          },
          {
           "label": "species_id",
           "values": [
            1,
            1,
            1,
            1,
            1,
            1,
            1,
            1,
            1,
            1,
            1,
            1,
            1,
            1,
            1,
            1,
            1,
            1,
            1,
            1,
            1,
            1,
            1,
            1,
            1,
            1,
            1,
            1,
            1,
            1,
            1,
            1,
            1,
            1,
            1,
            1,
            1,
            1,
            1,
            1,
            1,
            1,
            1,
            1,
            1,
            1,
            1,
            1,
            1,
            1,
            2,
            2,
            2,
            2,
            2,
            2,
            2,
            2,
            2,
            2,
            2,
            2,
            2,
            2,
            2,
            2,
            2,
            2,
            2,
            2,
            2,
            2,
            2,
            2,
            2,
            2,
            2,
            2,
            2,
            2,
            2,
            2,
            2,
            2,
            2,
            2,
            2,
            2,
            2,
            2,
            2,
            2,
            2,
            2,
            2,
            2,
            2,
            2,
            2,
            2,
            3,
            3,
            3,
            3,
            3,
            3,
            3,
            3,
            3,
            3,
            3,
            3,
            3,
            3,
            3,
            3,
            3,
            3,
            3,
            3,
            3,
            3,
            3,
            3,
            3,
            3,
            3,
            3,
            3,
            3,
            3,
            3,
            3,
            3,
            3,
            3,
            3,
            3,
            3,
            3,
            3,
            3,
            3,
            3,
            3,
            3,
            3,
            3,
            3,
            3
           ]
          }
         ],
         "domain": {
          "x": [
           0,
           1
          ],
          "y": [
           0,
           1
          ]
         },
         "line": {
          "color": [
           1,
           1,
           1,
           1,
           1,
           1,
           1,
           1,
           1,
           1,
           1,
           1,
           1,
           1,
           1,
           1,
           1,
           1,
           1,
           1,
           1,
           1,
           1,
           1,
           1,
           1,
           1,
           1,
           1,
           1,
           1,
           1,
           1,
           1,
           1,
           1,
           1,
           1,
           1,
           1,
           1,
           1,
           1,
           1,
           1,
           1,
           1,
           1,
           1,
           1,
           2,
           2,
           2,
           2,
           2,
           2,
           2,
           2,
           2,
           2,
           2,
           2,
           2,
           2,
           2,
           2,
           2,
           2,
           2,
           2,
           2,
           2,
           2,
           2,
           2,
           2,
           2,
           2,
           2,
           2,
           2,
           2,
           2,
           2,
           2,
           2,
           2,
           2,
           2,
           2,
           2,
           2,
           2,
           2,
           2,
           2,
           2,
           2,
           2,
           2,
           3,
           3,
           3,
           3,
           3,
           3,
           3,
           3,
           3,
           3,
           3,
           3,
           3,
           3,
           3,
           3,
           3,
           3,
           3,
           3,
           3,
           3,
           3,
           3,
           3,
           3,
           3,
           3,
           3,
           3,
           3,
           3,
           3,
           3,
           3,
           3,
           3,
           3,
           3,
           3,
           3,
           3,
           3,
           3,
           3,
           3,
           3,
           3,
           3,
           3
          ],
          "coloraxis": "coloraxis"
         },
         "name": "",
         "type": "parcoords"
        }
       ],
       "layout": {
        "coloraxis": {
         "colorbar": {
          "title": {
           "text": "species_id"
          }
         },
         "colorscale": [
          [
           0,
           "red"
          ],
          [
           0.33,
           "red"
          ],
          [
           0.33,
           "green"
          ],
          [
           0.66,
           "green"
          ],
          [
           0.66,
           "blue"
          ],
          [
           1,
           "blue"
          ]
         ]
        },
        "legend": {
         "tracegroupgap": 0
        },
        "margin": {
         "t": 60
        },
        "template": {
         "data": {
          "bar": [
           {
            "error_x": {
             "color": "#2a3f5f"
            },
            "error_y": {
             "color": "#2a3f5f"
            },
            "marker": {
             "line": {
              "color": "#E5ECF6",
              "width": 0.5
             },
             "pattern": {
              "fillmode": "overlay",
              "size": 10,
              "solidity": 0.2
             }
            },
            "type": "bar"
           }
          ],
          "barpolar": [
           {
            "marker": {
             "line": {
              "color": "#E5ECF6",
              "width": 0.5
             },
             "pattern": {
              "fillmode": "overlay",
              "size": 10,
              "solidity": 0.2
             }
            },
            "type": "barpolar"
           }
          ],
          "carpet": [
           {
            "aaxis": {
             "endlinecolor": "#2a3f5f",
             "gridcolor": "white",
             "linecolor": "white",
             "minorgridcolor": "white",
             "startlinecolor": "#2a3f5f"
            },
            "baxis": {
             "endlinecolor": "#2a3f5f",
             "gridcolor": "white",
             "linecolor": "white",
             "minorgridcolor": "white",
             "startlinecolor": "#2a3f5f"
            },
            "type": "carpet"
           }
          ],
          "choropleth": [
           {
            "colorbar": {
             "outlinewidth": 0,
             "ticks": ""
            },
            "type": "choropleth"
           }
          ],
          "contour": [
           {
            "colorbar": {
             "outlinewidth": 0,
             "ticks": ""
            },
            "colorscale": [
             [
              0,
              "#0d0887"
             ],
             [
              0.1111111111111111,
              "#46039f"
             ],
             [
              0.2222222222222222,
              "#7201a8"
             ],
             [
              0.3333333333333333,
              "#9c179e"
             ],
             [
              0.4444444444444444,
              "#bd3786"
             ],
             [
              0.5555555555555556,
              "#d8576b"
             ],
             [
              0.6666666666666666,
              "#ed7953"
             ],
             [
              0.7777777777777778,
              "#fb9f3a"
             ],
             [
              0.8888888888888888,
              "#fdca26"
             ],
             [
              1,
              "#f0f921"
             ]
            ],
            "type": "contour"
           }
          ],
          "contourcarpet": [
           {
            "colorbar": {
             "outlinewidth": 0,
             "ticks": ""
            },
            "type": "contourcarpet"
           }
          ],
          "heatmap": [
           {
            "colorbar": {
             "outlinewidth": 0,
             "ticks": ""
            },
            "colorscale": [
             [
              0,
              "#0d0887"
             ],
             [
              0.1111111111111111,
              "#46039f"
             ],
             [
              0.2222222222222222,
              "#7201a8"
             ],
             [
              0.3333333333333333,
              "#9c179e"
             ],
             [
              0.4444444444444444,
              "#bd3786"
             ],
             [
              0.5555555555555556,
              "#d8576b"
             ],
             [
              0.6666666666666666,
              "#ed7953"
             ],
             [
              0.7777777777777778,
              "#fb9f3a"
             ],
             [
              0.8888888888888888,
              "#fdca26"
             ],
             [
              1,
              "#f0f921"
             ]
            ],
            "type": "heatmap"
           }
          ],
          "heatmapgl": [
           {
            "colorbar": {
             "outlinewidth": 0,
             "ticks": ""
            },
            "colorscale": [
             [
              0,
              "#0d0887"
             ],
             [
              0.1111111111111111,
              "#46039f"
             ],
             [
              0.2222222222222222,
              "#7201a8"
             ],
             [
              0.3333333333333333,
              "#9c179e"
             ],
             [
              0.4444444444444444,
              "#bd3786"
             ],
             [
              0.5555555555555556,
              "#d8576b"
             ],
             [
              0.6666666666666666,
              "#ed7953"
             ],
             [
              0.7777777777777778,
              "#fb9f3a"
             ],
             [
              0.8888888888888888,
              "#fdca26"
             ],
             [
              1,
              "#f0f921"
             ]
            ],
            "type": "heatmapgl"
           }
          ],
          "histogram": [
           {
            "marker": {
             "pattern": {
              "fillmode": "overlay",
              "size": 10,
              "solidity": 0.2
             }
            },
            "type": "histogram"
           }
          ],
          "histogram2d": [
           {
            "colorbar": {
             "outlinewidth": 0,
             "ticks": ""
            },
            "colorscale": [
             [
              0,
              "#0d0887"
             ],
             [
              0.1111111111111111,
              "#46039f"
             ],
             [
              0.2222222222222222,
              "#7201a8"
             ],
             [
              0.3333333333333333,
              "#9c179e"
             ],
             [
              0.4444444444444444,
              "#bd3786"
             ],
             [
              0.5555555555555556,
              "#d8576b"
             ],
             [
              0.6666666666666666,
              "#ed7953"
             ],
             [
              0.7777777777777778,
              "#fb9f3a"
             ],
             [
              0.8888888888888888,
              "#fdca26"
             ],
             [
              1,
              "#f0f921"
             ]
            ],
            "type": "histogram2d"
           }
          ],
          "histogram2dcontour": [
           {
            "colorbar": {
             "outlinewidth": 0,
             "ticks": ""
            },
            "colorscale": [
             [
              0,
              "#0d0887"
             ],
             [
              0.1111111111111111,
              "#46039f"
             ],
             [
              0.2222222222222222,
              "#7201a8"
             ],
             [
              0.3333333333333333,
              "#9c179e"
             ],
             [
              0.4444444444444444,
              "#bd3786"
             ],
             [
              0.5555555555555556,
              "#d8576b"
             ],
             [
              0.6666666666666666,
              "#ed7953"
             ],
             [
              0.7777777777777778,
              "#fb9f3a"
             ],
             [
              0.8888888888888888,
              "#fdca26"
             ],
             [
              1,
              "#f0f921"
             ]
            ],
            "type": "histogram2dcontour"
           }
          ],
          "mesh3d": [
           {
            "colorbar": {
             "outlinewidth": 0,
             "ticks": ""
            },
            "type": "mesh3d"
           }
          ],
          "parcoords": [
           {
            "line": {
             "colorbar": {
              "outlinewidth": 0,
              "ticks": ""
             }
            },
            "type": "parcoords"
           }
          ],
          "pie": [
           {
            "automargin": true,
            "type": "pie"
           }
          ],
          "scatter": [
           {
            "fillpattern": {
             "fillmode": "overlay",
             "size": 10,
             "solidity": 0.2
            },
            "type": "scatter"
           }
          ],
          "scatter3d": [
           {
            "line": {
             "colorbar": {
              "outlinewidth": 0,
              "ticks": ""
             }
            },
            "marker": {
             "colorbar": {
              "outlinewidth": 0,
              "ticks": ""
             }
            },
            "type": "scatter3d"
           }
          ],
          "scattercarpet": [
           {
            "marker": {
             "colorbar": {
              "outlinewidth": 0,
              "ticks": ""
             }
            },
            "type": "scattercarpet"
           }
          ],
          "scattergeo": [
           {
            "marker": {
             "colorbar": {
              "outlinewidth": 0,
              "ticks": ""
             }
            },
            "type": "scattergeo"
           }
          ],
          "scattergl": [
           {
            "marker": {
             "colorbar": {
              "outlinewidth": 0,
              "ticks": ""
             }
            },
            "type": "scattergl"
           }
          ],
          "scattermapbox": [
           {
            "marker": {
             "colorbar": {
              "outlinewidth": 0,
              "ticks": ""
             }
            },
            "type": "scattermapbox"
           }
          ],
          "scatterpolar": [
           {
            "marker": {
             "colorbar": {
              "outlinewidth": 0,
              "ticks": ""
             }
            },
            "type": "scatterpolar"
           }
          ],
          "scatterpolargl": [
           {
            "marker": {
             "colorbar": {
              "outlinewidth": 0,
              "ticks": ""
             }
            },
            "type": "scatterpolargl"
           }
          ],
          "scatterternary": [
           {
            "marker": {
             "colorbar": {
              "outlinewidth": 0,
              "ticks": ""
             }
            },
            "type": "scatterternary"
           }
          ],
          "surface": [
           {
            "colorbar": {
             "outlinewidth": 0,
             "ticks": ""
            },
            "colorscale": [
             [
              0,
              "#0d0887"
             ],
             [
              0.1111111111111111,
              "#46039f"
             ],
             [
              0.2222222222222222,
              "#7201a8"
             ],
             [
              0.3333333333333333,
              "#9c179e"
             ],
             [
              0.4444444444444444,
              "#bd3786"
             ],
             [
              0.5555555555555556,
              "#d8576b"
             ],
             [
              0.6666666666666666,
              "#ed7953"
             ],
             [
              0.7777777777777778,
              "#fb9f3a"
             ],
             [
              0.8888888888888888,
              "#fdca26"
             ],
             [
              1,
              "#f0f921"
             ]
            ],
            "type": "surface"
           }
          ],
          "table": [
           {
            "cells": {
             "fill": {
              "color": "#EBF0F8"
             },
             "line": {
              "color": "white"
             }
            },
            "header": {
             "fill": {
              "color": "#C8D4E3"
             },
             "line": {
              "color": "white"
             }
            },
            "type": "table"
           }
          ]
         },
         "layout": {
          "annotationdefaults": {
           "arrowcolor": "#2a3f5f",
           "arrowhead": 0,
           "arrowwidth": 1
          },
          "autotypenumbers": "strict",
          "coloraxis": {
           "colorbar": {
            "outlinewidth": 0,
            "ticks": ""
           }
          },
          "colorscale": {
           "diverging": [
            [
             0,
             "#8e0152"
            ],
            [
             0.1,
             "#c51b7d"
            ],
            [
             0.2,
             "#de77ae"
            ],
            [
             0.3,
             "#f1b6da"
            ],
            [
             0.4,
             "#fde0ef"
            ],
            [
             0.5,
             "#f7f7f7"
            ],
            [
             0.6,
             "#e6f5d0"
            ],
            [
             0.7,
             "#b8e186"
            ],
            [
             0.8,
             "#7fbc41"
            ],
            [
             0.9,
             "#4d9221"
            ],
            [
             1,
             "#276419"
            ]
           ],
           "sequential": [
            [
             0,
             "#0d0887"
            ],
            [
             0.1111111111111111,
             "#46039f"
            ],
            [
             0.2222222222222222,
             "#7201a8"
            ],
            [
             0.3333333333333333,
             "#9c179e"
            ],
            [
             0.4444444444444444,
             "#bd3786"
            ],
            [
             0.5555555555555556,
             "#d8576b"
            ],
            [
             0.6666666666666666,
             "#ed7953"
            ],
            [
             0.7777777777777778,
             "#fb9f3a"
            ],
            [
             0.8888888888888888,
             "#fdca26"
            ],
            [
             1,
             "#f0f921"
            ]
           ],
           "sequentialminus": [
            [
             0,
             "#0d0887"
            ],
            [
             0.1111111111111111,
             "#46039f"
            ],
            [
             0.2222222222222222,
             "#7201a8"
            ],
            [
             0.3333333333333333,
             "#9c179e"
            ],
            [
             0.4444444444444444,
             "#bd3786"
            ],
            [
             0.5555555555555556,
             "#d8576b"
            ],
            [
             0.6666666666666666,
             "#ed7953"
            ],
            [
             0.7777777777777778,
             "#fb9f3a"
            ],
            [
             0.8888888888888888,
             "#fdca26"
            ],
            [
             1,
             "#f0f921"
            ]
           ]
          },
          "colorway": [
           "#636efa",
           "#EF553B",
           "#00cc96",
           "#ab63fa",
           "#FFA15A",
           "#19d3f3",
           "#FF6692",
           "#B6E880",
           "#FF97FF",
           "#FECB52"
          ],
          "font": {
           "color": "#2a3f5f"
          },
          "geo": {
           "bgcolor": "white",
           "lakecolor": "white",
           "landcolor": "#E5ECF6",
           "showlakes": true,
           "showland": true,
           "subunitcolor": "white"
          },
          "hoverlabel": {
           "align": "left"
          },
          "hovermode": "closest",
          "mapbox": {
           "style": "light"
          },
          "paper_bgcolor": "white",
          "plot_bgcolor": "#E5ECF6",
          "polar": {
           "angularaxis": {
            "gridcolor": "white",
            "linecolor": "white",
            "ticks": ""
           },
           "bgcolor": "#E5ECF6",
           "radialaxis": {
            "gridcolor": "white",
            "linecolor": "white",
            "ticks": ""
           }
          },
          "scene": {
           "xaxis": {
            "backgroundcolor": "#E5ECF6",
            "gridcolor": "white",
            "gridwidth": 2,
            "linecolor": "white",
            "showbackground": true,
            "ticks": "",
            "zerolinecolor": "white"
           },
           "yaxis": {
            "backgroundcolor": "#E5ECF6",
            "gridcolor": "white",
            "gridwidth": 2,
            "linecolor": "white",
            "showbackground": true,
            "ticks": "",
            "zerolinecolor": "white"
           },
           "zaxis": {
            "backgroundcolor": "#E5ECF6",
            "gridcolor": "white",
            "gridwidth": 2,
            "linecolor": "white",
            "showbackground": true,
            "ticks": "",
            "zerolinecolor": "white"
           }
          },
          "shapedefaults": {
           "line": {
            "color": "#2a3f5f"
           }
          },
          "ternary": {
           "aaxis": {
            "gridcolor": "white",
            "linecolor": "white",
            "ticks": ""
           },
           "baxis": {
            "gridcolor": "white",
            "linecolor": "white",
            "ticks": ""
           },
           "bgcolor": "#E5ECF6",
           "caxis": {
            "gridcolor": "white",
            "linecolor": "white",
            "ticks": ""
           }
          },
          "title": {
           "x": 0.05
          },
          "xaxis": {
           "automargin": true,
           "gridcolor": "white",
           "linecolor": "white",
           "ticks": "",
           "title": {
            "standoff": 15
           },
           "zerolinecolor": "white",
           "zerolinewidth": 2
          },
          "yaxis": {
           "automargin": true,
           "gridcolor": "white",
           "linecolor": "white",
           "ticks": "",
           "title": {
            "standoff": 15
           },
           "zerolinecolor": "white",
           "zerolinewidth": 2
          }
         }
        }
       }
      }
     },
     "metadata": {},
     "output_type": "display_data"
    }
   ],
   "source": [
    "# Later\n",
    "# --------------------------------------------------------------------------------------\n",
    "\n",
    "# https://plotly.com/python/colorscales/\n",
    "\n",
    "import plotly.express as px\n",
    "df = px.data.iris()\n",
    "fig = px.parallel_coordinates(df, color=\"species_id\",\n",
    "                             color_continuous_scale=[(0.00, \"red\"),   (0.33, \"red\"),\n",
    "                                                     (0.33, \"green\"), (0.66, \"green\"),\n",
    "                                                     (0.66, \"blue\"),  (1.00, \"blue\")])\n",
    "fig.show()"
   ]
  }
 ],
 "metadata": {
  "kernelspec": {
   "display_name": ".venv",
   "language": "python",
   "name": "python3"
  },
  "language_info": {
   "codemirror_mode": {
    "name": "ipython",
    "version": 3
   },
   "file_extension": ".py",
   "mimetype": "text/x-python",
   "name": "python",
   "nbconvert_exporter": "python",
   "pygments_lexer": "ipython3",
   "version": "3.10.12"
  },
  "orig_nbformat": 4
 },
 "nbformat": 4,
 "nbformat_minor": 2
}
